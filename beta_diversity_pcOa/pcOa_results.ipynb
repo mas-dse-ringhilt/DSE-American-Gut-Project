{
 "cells": [
  {
   "cell_type": "markdown",
   "metadata": {},
   "source": [
    "Read in the beta diversity distance matrix and run pcOA on the results, export the final results"
   ]
  },
  {
   "cell_type": "markdown",
   "metadata": {},
   "source": [
    "note: only ~3000 samples used since any bigger and the library would freeze up when trying to calculate beta diversity matrix (see beta_diversity notebook as prereq to this notebook)"
   ]
  },
  {
   "cell_type": "code",
   "execution_count": 29,
   "metadata": {
    "hideCode": false,
    "hidePrompt": false
   },
   "outputs": [],
   "source": [
    "import qiime2\n",
    "import numpy as np\n",
    "from qiime2.plugins import feature_table, diversity, emperor\n",
    "import pandas as pd\n",
    "import biom\n",
    "from biom import load_table\n",
    "\n",
    "from io import StringIO\n",
    "import skbio\n",
    "from skbio import TreeNode\n",
    "from skbio.diversity.beta import unweighted_unifrac"
   ]
  },
  {
   "cell_type": "code",
   "execution_count": 18,
   "metadata": {},
   "outputs": [],
   "source": [
    "a = pd.read_csv('unifrac_dist/distance-matrix.tsv', delimiter='\\t')"
   ]
  },
  {
   "cell_type": "code",
   "execution_count": 19,
   "metadata": {},
   "outputs": [
    {
     "data": {
      "text/plain": [
       "(2863, 2864)"
      ]
     },
     "execution_count": 19,
     "metadata": {},
     "output_type": "execute_result"
    }
   ],
   "source": [
    "a.shape"
   ]
  },
  {
   "cell_type": "code",
   "execution_count": 20,
   "metadata": {},
   "outputs": [
    {
     "data": {
      "text/html": [
       "<div>\n",
       "<style scoped>\n",
       "    .dataframe tbody tr th:only-of-type {\n",
       "        vertical-align: middle;\n",
       "    }\n",
       "\n",
       "    .dataframe tbody tr th {\n",
       "        vertical-align: top;\n",
       "    }\n",
       "\n",
       "    .dataframe thead th {\n",
       "        text-align: right;\n",
       "    }\n",
       "</style>\n",
       "<table border=\"1\" class=\"dataframe\">\n",
       "  <thead>\n",
       "    <tr style=\"text-align: right;\">\n",
       "      <th></th>\n",
       "      <th>Unnamed: 0</th>\n",
       "      <th>10317.000067883.26479</th>\n",
       "      <th>10317.000011941.2911</th>\n",
       "      <th>10317.000032619.4016</th>\n",
       "      <th>10317.000002787.2919</th>\n",
       "      <th>10317.000058599.25862</th>\n",
       "      <th>10317.000018419.2988</th>\n",
       "      <th>10317.000006733.2905</th>\n",
       "      <th>10317.000021988.3020</th>\n",
       "      <th>10317.000068096.26479</th>\n",
       "      <th>...</th>\n",
       "      <th>10317.000011979.2913</th>\n",
       "      <th>10317.000035165.30606</th>\n",
       "      <th>10317.000012434.26485</th>\n",
       "      <th>10317.000012434.26483</th>\n",
       "      <th>10317.000049125.30606</th>\n",
       "      <th>10317.000002088.2960</th>\n",
       "      <th>10317.000068855.26480</th>\n",
       "      <th>10317.000015060.2919</th>\n",
       "      <th>10317.000093118.54638</th>\n",
       "      <th>10317.000005654.2960</th>\n",
       "    </tr>\n",
       "  </thead>\n",
       "  <tbody>\n",
       "    <tr>\n",
       "      <th>0</th>\n",
       "      <td>10317.000067883.26479</td>\n",
       "      <td>0.000000</td>\n",
       "      <td>0.651134</td>\n",
       "      <td>0.661687</td>\n",
       "      <td>0.647765</td>\n",
       "      <td>0.609036</td>\n",
       "      <td>0.709530</td>\n",
       "      <td>0.733251</td>\n",
       "      <td>0.663015</td>\n",
       "      <td>0.616619</td>\n",
       "      <td>...</td>\n",
       "      <td>0.788255</td>\n",
       "      <td>0.843020</td>\n",
       "      <td>0.862765</td>\n",
       "      <td>0.856541</td>\n",
       "      <td>0.751028</td>\n",
       "      <td>0.839383</td>\n",
       "      <td>0.862149</td>\n",
       "      <td>0.769258</td>\n",
       "      <td>0.841178</td>\n",
       "      <td>0.811394</td>\n",
       "    </tr>\n",
       "    <tr>\n",
       "      <th>1</th>\n",
       "      <td>10317.000011941.2911</td>\n",
       "      <td>0.651134</td>\n",
       "      <td>0.000000</td>\n",
       "      <td>0.708033</td>\n",
       "      <td>0.652922</td>\n",
       "      <td>0.656517</td>\n",
       "      <td>0.671324</td>\n",
       "      <td>0.715518</td>\n",
       "      <td>0.688263</td>\n",
       "      <td>0.621517</td>\n",
       "      <td>...</td>\n",
       "      <td>0.810320</td>\n",
       "      <td>0.866450</td>\n",
       "      <td>0.831546</td>\n",
       "      <td>0.827118</td>\n",
       "      <td>0.789599</td>\n",
       "      <td>0.857858</td>\n",
       "      <td>0.869223</td>\n",
       "      <td>0.741545</td>\n",
       "      <td>0.867771</td>\n",
       "      <td>0.840347</td>\n",
       "    </tr>\n",
       "    <tr>\n",
       "      <th>2</th>\n",
       "      <td>10317.000032619.4016</td>\n",
       "      <td>0.661687</td>\n",
       "      <td>0.708033</td>\n",
       "      <td>0.000000</td>\n",
       "      <td>0.678303</td>\n",
       "      <td>0.643158</td>\n",
       "      <td>0.703279</td>\n",
       "      <td>0.708103</td>\n",
       "      <td>0.709304</td>\n",
       "      <td>0.654571</td>\n",
       "      <td>...</td>\n",
       "      <td>0.791818</td>\n",
       "      <td>0.815666</td>\n",
       "      <td>0.842135</td>\n",
       "      <td>0.834454</td>\n",
       "      <td>0.746639</td>\n",
       "      <td>0.832764</td>\n",
       "      <td>0.856452</td>\n",
       "      <td>0.752673</td>\n",
       "      <td>0.815882</td>\n",
       "      <td>0.787683</td>\n",
       "    </tr>\n",
       "    <tr>\n",
       "      <th>3</th>\n",
       "      <td>10317.000002787.2919</td>\n",
       "      <td>0.647765</td>\n",
       "      <td>0.652922</td>\n",
       "      <td>0.678303</td>\n",
       "      <td>0.000000</td>\n",
       "      <td>0.562385</td>\n",
       "      <td>0.633243</td>\n",
       "      <td>0.745395</td>\n",
       "      <td>0.649367</td>\n",
       "      <td>0.613787</td>\n",
       "      <td>...</td>\n",
       "      <td>0.798856</td>\n",
       "      <td>0.853860</td>\n",
       "      <td>0.841964</td>\n",
       "      <td>0.835654</td>\n",
       "      <td>0.754230</td>\n",
       "      <td>0.842124</td>\n",
       "      <td>0.874360</td>\n",
       "      <td>0.780163</td>\n",
       "      <td>0.864602</td>\n",
       "      <td>0.837886</td>\n",
       "    </tr>\n",
       "    <tr>\n",
       "      <th>4</th>\n",
       "      <td>10317.000058599.25862</td>\n",
       "      <td>0.609036</td>\n",
       "      <td>0.656517</td>\n",
       "      <td>0.643158</td>\n",
       "      <td>0.562385</td>\n",
       "      <td>0.000000</td>\n",
       "      <td>0.648609</td>\n",
       "      <td>0.735684</td>\n",
       "      <td>0.611598</td>\n",
       "      <td>0.566774</td>\n",
       "      <td>...</td>\n",
       "      <td>0.789884</td>\n",
       "      <td>0.830734</td>\n",
       "      <td>0.841026</td>\n",
       "      <td>0.823522</td>\n",
       "      <td>0.725963</td>\n",
       "      <td>0.828518</td>\n",
       "      <td>0.847033</td>\n",
       "      <td>0.778957</td>\n",
       "      <td>0.847052</td>\n",
       "      <td>0.817085</td>\n",
       "    </tr>\n",
       "  </tbody>\n",
       "</table>\n",
       "<p>5 rows × 2864 columns</p>\n",
       "</div>"
      ],
      "text/plain": [
       "              Unnamed: 0  10317.000067883.26479  10317.000011941.2911  \\\n",
       "0  10317.000067883.26479               0.000000              0.651134   \n",
       "1   10317.000011941.2911               0.651134              0.000000   \n",
       "2   10317.000032619.4016               0.661687              0.708033   \n",
       "3   10317.000002787.2919               0.647765              0.652922   \n",
       "4  10317.000058599.25862               0.609036              0.656517   \n",
       "\n",
       "   10317.000032619.4016  10317.000002787.2919  10317.000058599.25862  \\\n",
       "0              0.661687              0.647765               0.609036   \n",
       "1              0.708033              0.652922               0.656517   \n",
       "2              0.000000              0.678303               0.643158   \n",
       "3              0.678303              0.000000               0.562385   \n",
       "4              0.643158              0.562385               0.000000   \n",
       "\n",
       "   10317.000018419.2988  10317.000006733.2905  10317.000021988.3020  \\\n",
       "0              0.709530              0.733251              0.663015   \n",
       "1              0.671324              0.715518              0.688263   \n",
       "2              0.703279              0.708103              0.709304   \n",
       "3              0.633243              0.745395              0.649367   \n",
       "4              0.648609              0.735684              0.611598   \n",
       "\n",
       "   10317.000068096.26479          ...           10317.000011979.2913  \\\n",
       "0               0.616619          ...                       0.788255   \n",
       "1               0.621517          ...                       0.810320   \n",
       "2               0.654571          ...                       0.791818   \n",
       "3               0.613787          ...                       0.798856   \n",
       "4               0.566774          ...                       0.789884   \n",
       "\n",
       "   10317.000035165.30606  10317.000012434.26485  10317.000012434.26483  \\\n",
       "0               0.843020               0.862765               0.856541   \n",
       "1               0.866450               0.831546               0.827118   \n",
       "2               0.815666               0.842135               0.834454   \n",
       "3               0.853860               0.841964               0.835654   \n",
       "4               0.830734               0.841026               0.823522   \n",
       "\n",
       "   10317.000049125.30606  10317.000002088.2960  10317.000068855.26480  \\\n",
       "0               0.751028              0.839383               0.862149   \n",
       "1               0.789599              0.857858               0.869223   \n",
       "2               0.746639              0.832764               0.856452   \n",
       "3               0.754230              0.842124               0.874360   \n",
       "4               0.725963              0.828518               0.847033   \n",
       "\n",
       "   10317.000015060.2919  10317.000093118.54638  10317.000005654.2960  \n",
       "0              0.769258               0.841178              0.811394  \n",
       "1              0.741545               0.867771              0.840347  \n",
       "2              0.752673               0.815882              0.787683  \n",
       "3              0.780163               0.864602              0.837886  \n",
       "4              0.778957               0.847052              0.817085  \n",
       "\n",
       "[5 rows x 2864 columns]"
      ]
     },
     "execution_count": 20,
     "metadata": {},
     "output_type": "execute_result"
    }
   ],
   "source": [
    "a.head()"
   ]
  },
  {
   "cell_type": "code",
   "execution_count": 21,
   "metadata": {},
   "outputs": [],
   "source": [
    "del a['Unnamed: 0']"
   ]
  },
  {
   "cell_type": "code",
   "execution_count": 22,
   "metadata": {},
   "outputs": [],
   "source": [
    "matrix = a.as_matrix()"
   ]
  },
  {
   "cell_type": "code",
   "execution_count": 23,
   "metadata": {},
   "outputs": [
    {
     "data": {
      "text/plain": [
       "2863"
      ]
     },
     "execution_count": 23,
     "metadata": {},
     "output_type": "execute_result"
    }
   ],
   "source": [
    "len(a.columns)"
   ]
  },
  {
   "cell_type": "code",
   "execution_count": 24,
   "metadata": {},
   "outputs": [],
   "source": [
    "skbio_matrix = skbio.DistanceMatrix(matrix, ids=a.columns)"
   ]
  },
  {
   "cell_type": "code",
   "execution_count": 25,
   "metadata": {},
   "outputs": [
    {
     "name": "stderr",
     "output_type": "stream",
     "text": [
      "//anaconda/envs/qiime2-2018.11/lib/python3.5/site-packages/skbio/stats/ordination/_principal_coordinate_analysis.py:152: RuntimeWarning:\n",
      "\n",
      "The result contains negative eigenvalues. Please compare their magnitude with the magnitude of some of the largest positive eigenvalues. If the negative ones are smaller, it's probably safe to ignore them, but if they are large in magnitude, the results won't be useful. See the Notes section for more details. The smallest eigenvalue is -0.24135110257108355 and the largest is 164.07559729740683.\n",
      "\n"
     ]
    }
   ],
   "source": [
    "pcoa_results = skbio.stats.ordination.pcoa(skbio_matrix, method='eigh')"
   ]
  },
  {
   "cell_type": "code",
   "execution_count": 26,
   "metadata": {},
   "outputs": [],
   "source": [
    "#pcoa_results.write?"
   ]
  },
  {
   "cell_type": "code",
   "execution_count": 27,
   "metadata": {},
   "outputs": [],
   "source": [
    "pcoa_results.samples.reset_index().to_csv('sample3000_pcoa_results.csv', index=False)"
   ]
  },
  {
   "cell_type": "code",
   "execution_count": 28,
   "metadata": {},
   "outputs": [
    {
     "data": {
      "text/plain": [
       "(2863, 2863)"
      ]
     },
     "execution_count": 28,
     "metadata": {},
     "output_type": "execute_result"
    }
   ],
   "source": [
    "pcoa_results.samples.shape"
   ]
  }
 ],
 "metadata": {
  "hide_code_all_hidden": false,
  "kernelspec": {
   "display_name": "qiim2-2018.11",
   "language": "python",
   "name": "qiim2-2018.11"
  },
  "language_info": {
   "codemirror_mode": {
    "name": "ipython",
    "version": 3
   },
   "file_extension": ".py",
   "mimetype": "text/x-python",
   "name": "python",
   "nbconvert_exporter": "python",
   "pygments_lexer": "ipython3",
   "version": "3.5.5"
  }
 },
 "nbformat": 4,
 "nbformat_minor": 2
}
