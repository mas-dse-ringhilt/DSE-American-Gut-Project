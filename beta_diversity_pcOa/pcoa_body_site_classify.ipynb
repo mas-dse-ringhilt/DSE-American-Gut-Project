{
 "cells": [
  {
   "cell_type": "code",
   "execution_count": 1,
   "metadata": {},
   "outputs": [],
   "source": [
    "import pandas as pd\n",
    "import numpy as np"
   ]
  },
  {
   "cell_type": "markdown",
   "metadata": {},
   "source": [
    "first read in and data clean, joinable on metadata so get body site"
   ]
  },
  {
   "cell_type": "code",
   "execution_count": 2,
   "metadata": {},
   "outputs": [
    {
     "name": "stdout",
     "output_type": "stream",
     "text": [
      "(2863, 2864)\n"
     ]
    }
   ],
   "source": [
    "pca_df = pd.read_csv('sample3000_pcoa_results.csv')\n",
    "print(pca_df.shape)"
   ]
  },
  {
   "cell_type": "code",
   "execution_count": 3,
   "metadata": {},
   "outputs": [
    {
     "data": {
      "text/html": [
       "<div>\n",
       "<style scoped>\n",
       "    .dataframe tbody tr th:only-of-type {\n",
       "        vertical-align: middle;\n",
       "    }\n",
       "\n",
       "    .dataframe tbody tr th {\n",
       "        vertical-align: top;\n",
       "    }\n",
       "\n",
       "    .dataframe thead th {\n",
       "        text-align: right;\n",
       "    }\n",
       "</style>\n",
       "<table border=\"1\" class=\"dataframe\">\n",
       "  <thead>\n",
       "    <tr style=\"text-align: right;\">\n",
       "      <th></th>\n",
       "      <th>index</th>\n",
       "      <th>PC1</th>\n",
       "      <th>PC2</th>\n",
       "      <th>PC3</th>\n",
       "      <th>PC4</th>\n",
       "      <th>PC5</th>\n",
       "      <th>PC6</th>\n",
       "      <th>PC7</th>\n",
       "      <th>PC8</th>\n",
       "      <th>PC9</th>\n",
       "      <th>...</th>\n",
       "      <th>PC2854</th>\n",
       "      <th>PC2855</th>\n",
       "      <th>PC2856</th>\n",
       "      <th>PC2857</th>\n",
       "      <th>PC2858</th>\n",
       "      <th>PC2859</th>\n",
       "      <th>PC2860</th>\n",
       "      <th>PC2861</th>\n",
       "      <th>PC2862</th>\n",
       "      <th>PC2863</th>\n",
       "    </tr>\n",
       "  </thead>\n",
       "  <tbody>\n",
       "    <tr>\n",
       "      <th>0</th>\n",
       "      <td>10317.000067883.26479</td>\n",
       "      <td>-0.300431</td>\n",
       "      <td>-0.089162</td>\n",
       "      <td>-0.006487</td>\n",
       "      <td>0.046056</td>\n",
       "      <td>0.015653</td>\n",
       "      <td>0.020709</td>\n",
       "      <td>-0.034481</td>\n",
       "      <td>0.020000</td>\n",
       "      <td>-0.016833</td>\n",
       "      <td>...</td>\n",
       "      <td>0.0</td>\n",
       "      <td>0.0</td>\n",
       "      <td>0.0</td>\n",
       "      <td>0.0</td>\n",
       "      <td>0.0</td>\n",
       "      <td>0.0</td>\n",
       "      <td>0.0</td>\n",
       "      <td>0.0</td>\n",
       "      <td>0.0</td>\n",
       "      <td>0.0</td>\n",
       "    </tr>\n",
       "    <tr>\n",
       "      <th>1</th>\n",
       "      <td>10317.000011941.2911</td>\n",
       "      <td>-0.377379</td>\n",
       "      <td>-0.017649</td>\n",
       "      <td>-0.028726</td>\n",
       "      <td>-0.025529</td>\n",
       "      <td>-0.119759</td>\n",
       "      <td>0.044928</td>\n",
       "      <td>-0.029181</td>\n",
       "      <td>0.024563</td>\n",
       "      <td>0.052632</td>\n",
       "      <td>...</td>\n",
       "      <td>0.0</td>\n",
       "      <td>0.0</td>\n",
       "      <td>0.0</td>\n",
       "      <td>0.0</td>\n",
       "      <td>0.0</td>\n",
       "      <td>0.0</td>\n",
       "      <td>0.0</td>\n",
       "      <td>0.0</td>\n",
       "      <td>0.0</td>\n",
       "      <td>0.0</td>\n",
       "    </tr>\n",
       "    <tr>\n",
       "      <th>2</th>\n",
       "      <td>10317.000032619.4016</td>\n",
       "      <td>-0.241194</td>\n",
       "      <td>-0.054584</td>\n",
       "      <td>-0.045798</td>\n",
       "      <td>0.122745</td>\n",
       "      <td>0.109676</td>\n",
       "      <td>0.045970</td>\n",
       "      <td>0.091546</td>\n",
       "      <td>0.067077</td>\n",
       "      <td>0.073541</td>\n",
       "      <td>...</td>\n",
       "      <td>0.0</td>\n",
       "      <td>0.0</td>\n",
       "      <td>0.0</td>\n",
       "      <td>0.0</td>\n",
       "      <td>0.0</td>\n",
       "      <td>0.0</td>\n",
       "      <td>0.0</td>\n",
       "      <td>0.0</td>\n",
       "      <td>0.0</td>\n",
       "      <td>0.0</td>\n",
       "    </tr>\n",
       "    <tr>\n",
       "      <th>3</th>\n",
       "      <td>10317.000002787.2919</td>\n",
       "      <td>-0.341264</td>\n",
       "      <td>-0.065164</td>\n",
       "      <td>0.049948</td>\n",
       "      <td>0.066130</td>\n",
       "      <td>-0.010392</td>\n",
       "      <td>-0.110999</td>\n",
       "      <td>-0.006665</td>\n",
       "      <td>-0.025091</td>\n",
       "      <td>0.024109</td>\n",
       "      <td>...</td>\n",
       "      <td>0.0</td>\n",
       "      <td>0.0</td>\n",
       "      <td>0.0</td>\n",
       "      <td>0.0</td>\n",
       "      <td>0.0</td>\n",
       "      <td>0.0</td>\n",
       "      <td>0.0</td>\n",
       "      <td>0.0</td>\n",
       "      <td>0.0</td>\n",
       "      <td>0.0</td>\n",
       "    </tr>\n",
       "    <tr>\n",
       "      <th>4</th>\n",
       "      <td>10317.000058599.25862</td>\n",
       "      <td>-0.301319</td>\n",
       "      <td>-0.095065</td>\n",
       "      <td>0.090588</td>\n",
       "      <td>0.090163</td>\n",
       "      <td>0.007951</td>\n",
       "      <td>-0.123560</td>\n",
       "      <td>0.018356</td>\n",
       "      <td>0.062150</td>\n",
       "      <td>0.116950</td>\n",
       "      <td>...</td>\n",
       "      <td>0.0</td>\n",
       "      <td>0.0</td>\n",
       "      <td>0.0</td>\n",
       "      <td>0.0</td>\n",
       "      <td>0.0</td>\n",
       "      <td>0.0</td>\n",
       "      <td>0.0</td>\n",
       "      <td>0.0</td>\n",
       "      <td>0.0</td>\n",
       "      <td>0.0</td>\n",
       "    </tr>\n",
       "  </tbody>\n",
       "</table>\n",
       "<p>5 rows × 2864 columns</p>\n",
       "</div>"
      ],
      "text/plain": [
       "                   index       PC1       PC2       PC3       PC4       PC5  \\\n",
       "0  10317.000067883.26479 -0.300431 -0.089162 -0.006487  0.046056  0.015653   \n",
       "1   10317.000011941.2911 -0.377379 -0.017649 -0.028726 -0.025529 -0.119759   \n",
       "2   10317.000032619.4016 -0.241194 -0.054584 -0.045798  0.122745  0.109676   \n",
       "3   10317.000002787.2919 -0.341264 -0.065164  0.049948  0.066130 -0.010392   \n",
       "4  10317.000058599.25862 -0.301319 -0.095065  0.090588  0.090163  0.007951   \n",
       "\n",
       "        PC6       PC7       PC8       PC9  ...  PC2854  PC2855  PC2856  \\\n",
       "0  0.020709 -0.034481  0.020000 -0.016833  ...     0.0     0.0     0.0   \n",
       "1  0.044928 -0.029181  0.024563  0.052632  ...     0.0     0.0     0.0   \n",
       "2  0.045970  0.091546  0.067077  0.073541  ...     0.0     0.0     0.0   \n",
       "3 -0.110999 -0.006665 -0.025091  0.024109  ...     0.0     0.0     0.0   \n",
       "4 -0.123560  0.018356  0.062150  0.116950  ...     0.0     0.0     0.0   \n",
       "\n",
       "   PC2857  PC2858  PC2859  PC2860  PC2861  PC2862  PC2863  \n",
       "0     0.0     0.0     0.0     0.0     0.0     0.0     0.0  \n",
       "1     0.0     0.0     0.0     0.0     0.0     0.0     0.0  \n",
       "2     0.0     0.0     0.0     0.0     0.0     0.0     0.0  \n",
       "3     0.0     0.0     0.0     0.0     0.0     0.0     0.0  \n",
       "4     0.0     0.0     0.0     0.0     0.0     0.0     0.0  \n",
       "\n",
       "[5 rows x 2864 columns]"
      ]
     },
     "execution_count": 3,
     "metadata": {},
     "output_type": "execute_result"
    }
   ],
   "source": [
    "pca_df.head()"
   ]
  },
  {
   "cell_type": "code",
   "execution_count": 4,
   "metadata": {},
   "outputs": [],
   "source": [
    "pca_df = pca_df[['index', 'PC1', 'PC2', 'PC3']]"
   ]
  },
  {
   "cell_type": "code",
   "execution_count": 5,
   "metadata": {},
   "outputs": [
    {
     "data": {
      "text/html": [
       "<div>\n",
       "<style scoped>\n",
       "    .dataframe tbody tr th:only-of-type {\n",
       "        vertical-align: middle;\n",
       "    }\n",
       "\n",
       "    .dataframe tbody tr th {\n",
       "        vertical-align: top;\n",
       "    }\n",
       "\n",
       "    .dataframe thead th {\n",
       "        text-align: right;\n",
       "    }\n",
       "</style>\n",
       "<table border=\"1\" class=\"dataframe\">\n",
       "  <thead>\n",
       "    <tr style=\"text-align: right;\">\n",
       "      <th></th>\n",
       "      <th>index</th>\n",
       "      <th>PC1</th>\n",
       "      <th>PC2</th>\n",
       "      <th>PC3</th>\n",
       "    </tr>\n",
       "  </thead>\n",
       "  <tbody>\n",
       "    <tr>\n",
       "      <th>0</th>\n",
       "      <td>10317.000067883.26479</td>\n",
       "      <td>-0.300431</td>\n",
       "      <td>-0.089162</td>\n",
       "      <td>-0.006487</td>\n",
       "    </tr>\n",
       "    <tr>\n",
       "      <th>1</th>\n",
       "      <td>10317.000011941.2911</td>\n",
       "      <td>-0.377379</td>\n",
       "      <td>-0.017649</td>\n",
       "      <td>-0.028726</td>\n",
       "    </tr>\n",
       "  </tbody>\n",
       "</table>\n",
       "</div>"
      ],
      "text/plain": [
       "                   index       PC1       PC2       PC3\n",
       "0  10317.000067883.26479 -0.300431 -0.089162 -0.006487\n",
       "1   10317.000011941.2911 -0.377379 -0.017649 -0.028726"
      ]
     },
     "execution_count": 5,
     "metadata": {},
     "output_type": "execute_result"
    }
   ],
   "source": [
    "pca_df.head(2)"
   ]
  },
  {
   "cell_type": "code",
   "execution_count": 6,
   "metadata": {},
   "outputs": [],
   "source": [
    "pca_df.columns = ['sample_name', 'PC1', 'PC2', 'PC3']"
   ]
  },
  {
   "cell_type": "code",
   "execution_count": 7,
   "metadata": {},
   "outputs": [],
   "source": [
    "def meta_df_id_clean(meta_df):\n",
    "    meta_df['sample_id'] = meta_df['sample_name'].apply(lambda x: x.split('.')[1])\n",
    "    meta_df['sample_id'] = pd.to_numeric(meta_df['sample_id'], errors='coerce', downcast='integer')\n",
    "    meta_df_clean = meta_df.dropna(subset=['sample_id']).reset_index()\n",
    "    meta_df_clean['sample_id'] = meta_df_clean['sample_id'].apply(lambda x: int(x))\n",
    "    return meta_df_clean"
   ]
  },
  {
   "cell_type": "code",
   "execution_count": 8,
   "metadata": {},
   "outputs": [],
   "source": [
    "def biom_id_clean(biom_df):\n",
    "    biom_df['sample_id'] = biom_df['sample_name'].apply(lambda x: x.split('.')[1])\n",
    "    biom_df['sample_id'] = pd.to_numeric(biom_df['sample_id'], errors='coerce', downcast='integer')\n",
    "    biom_join_df = biom_df.dropna(subset=['sample_id'])\n",
    "    biom_join_df['sample_id'] = biom_join_df['sample_id'].apply(lambda x: int(x))\n",
    "    return biom_join_df"
   ]
  },
  {
   "cell_type": "code",
   "execution_count": 9,
   "metadata": {},
   "outputs": [],
   "source": [
    "pca_df = biom_id_clean(pca_df)"
   ]
  },
  {
   "cell_type": "code",
   "execution_count": 10,
   "metadata": {},
   "outputs": [
    {
     "data": {
      "text/html": [
       "<div>\n",
       "<style scoped>\n",
       "    .dataframe tbody tr th:only-of-type {\n",
       "        vertical-align: middle;\n",
       "    }\n",
       "\n",
       "    .dataframe tbody tr th {\n",
       "        vertical-align: top;\n",
       "    }\n",
       "\n",
       "    .dataframe thead th {\n",
       "        text-align: right;\n",
       "    }\n",
       "</style>\n",
       "<table border=\"1\" class=\"dataframe\">\n",
       "  <thead>\n",
       "    <tr style=\"text-align: right;\">\n",
       "      <th></th>\n",
       "      <th>sample_name</th>\n",
       "      <th>PC1</th>\n",
       "      <th>PC2</th>\n",
       "      <th>PC3</th>\n",
       "      <th>sample_id</th>\n",
       "    </tr>\n",
       "  </thead>\n",
       "  <tbody>\n",
       "    <tr>\n",
       "      <th>0</th>\n",
       "      <td>10317.000067883.26479</td>\n",
       "      <td>-0.300431</td>\n",
       "      <td>-0.089162</td>\n",
       "      <td>-0.006487</td>\n",
       "      <td>67883</td>\n",
       "    </tr>\n",
       "    <tr>\n",
       "      <th>1</th>\n",
       "      <td>10317.000011941.2911</td>\n",
       "      <td>-0.377379</td>\n",
       "      <td>-0.017649</td>\n",
       "      <td>-0.028726</td>\n",
       "      <td>11941</td>\n",
       "    </tr>\n",
       "  </tbody>\n",
       "</table>\n",
       "</div>"
      ],
      "text/plain": [
       "             sample_name       PC1       PC2       PC3  sample_id\n",
       "0  10317.000067883.26479 -0.300431 -0.089162 -0.006487      67883\n",
       "1   10317.000011941.2911 -0.377379 -0.017649 -0.028726      11941"
      ]
     },
     "execution_count": 10,
     "metadata": {},
     "output_type": "execute_result"
    }
   ],
   "source": [
    "pca_df.head(2)"
   ]
  },
  {
   "cell_type": "code",
   "execution_count": 11,
   "metadata": {},
   "outputs": [
    {
     "data": {
      "text/plain": [
       "(2863, 5)"
      ]
     },
     "execution_count": 11,
     "metadata": {},
     "output_type": "execute_result"
    }
   ],
   "source": [
    "pca_df.shape"
   ]
  },
  {
   "cell_type": "code",
   "execution_count": 12,
   "metadata": {},
   "outputs": [],
   "source": [
    "meta_df = pd.read_csv('all_body_4.16.agp_only_meta.csv', low_memory=False)"
   ]
  },
  {
   "cell_type": "code",
   "execution_count": 13,
   "metadata": {},
   "outputs": [
    {
     "name": "stdout",
     "output_type": "stream",
     "text": [
      "(22807, 326)\n"
     ]
    }
   ],
   "source": [
    "print(meta_df.shape)"
   ]
  },
  {
   "cell_type": "code",
   "execution_count": 14,
   "metadata": {},
   "outputs": [],
   "source": [
    "#meta_df.head()"
   ]
  },
  {
   "cell_type": "code",
   "execution_count": 15,
   "metadata": {},
   "outputs": [],
   "source": [
    "meta_df = meta_df[['sample_id', 'env_material']]"
   ]
  },
  {
   "cell_type": "code",
   "execution_count": 16,
   "metadata": {},
   "outputs": [
    {
     "name": "stdout",
     "output_type": "stream",
     "text": [
      "(2863, 6)\n"
     ]
    }
   ],
   "source": [
    "PC2_df = pd.merge(pca_df, meta_df, on='sample_id')\n",
    "print(PC2_df.shape)"
   ]
  },
  {
   "cell_type": "code",
   "execution_count": 17,
   "metadata": {},
   "outputs": [
    {
     "data": {
      "text/plain": [
       "sebum     1004\n",
       "saliva     967\n",
       "feces      892\n",
       "Name: env_material, dtype: int64"
      ]
     },
     "execution_count": 17,
     "metadata": {},
     "output_type": "execute_result"
    }
   ],
   "source": [
    "PC2_df.env_material.value_counts()"
   ]
  },
  {
   "cell_type": "code",
   "execution_count": 18,
   "metadata": {},
   "outputs": [
    {
     "data": {
      "text/html": [
       "<div>\n",
       "<style scoped>\n",
       "    .dataframe tbody tr th:only-of-type {\n",
       "        vertical-align: middle;\n",
       "    }\n",
       "\n",
       "    .dataframe tbody tr th {\n",
       "        vertical-align: top;\n",
       "    }\n",
       "\n",
       "    .dataframe thead th {\n",
       "        text-align: right;\n",
       "    }\n",
       "</style>\n",
       "<table border=\"1\" class=\"dataframe\">\n",
       "  <thead>\n",
       "    <tr style=\"text-align: right;\">\n",
       "      <th></th>\n",
       "      <th>sample_name</th>\n",
       "      <th>PC1</th>\n",
       "      <th>PC2</th>\n",
       "      <th>PC3</th>\n",
       "      <th>sample_id</th>\n",
       "      <th>env_material</th>\n",
       "    </tr>\n",
       "  </thead>\n",
       "  <tbody>\n",
       "    <tr>\n",
       "      <th>0</th>\n",
       "      <td>10317.000067883.26479</td>\n",
       "      <td>-0.300431</td>\n",
       "      <td>-0.089162</td>\n",
       "      <td>-0.006487</td>\n",
       "      <td>67883</td>\n",
       "      <td>feces</td>\n",
       "    </tr>\n",
       "    <tr>\n",
       "      <th>1</th>\n",
       "      <td>10317.000011941.2911</td>\n",
       "      <td>-0.377379</td>\n",
       "      <td>-0.017649</td>\n",
       "      <td>-0.028726</td>\n",
       "      <td>11941</td>\n",
       "      <td>feces</td>\n",
       "    </tr>\n",
       "    <tr>\n",
       "      <th>2</th>\n",
       "      <td>10317.000032619.4016</td>\n",
       "      <td>-0.241194</td>\n",
       "      <td>-0.054584</td>\n",
       "      <td>-0.045798</td>\n",
       "      <td>32619</td>\n",
       "      <td>feces</td>\n",
       "    </tr>\n",
       "    <tr>\n",
       "      <th>3</th>\n",
       "      <td>10317.000002787.2919</td>\n",
       "      <td>-0.341264</td>\n",
       "      <td>-0.065164</td>\n",
       "      <td>0.049948</td>\n",
       "      <td>2787</td>\n",
       "      <td>feces</td>\n",
       "    </tr>\n",
       "    <tr>\n",
       "      <th>4</th>\n",
       "      <td>10317.000058599.25862</td>\n",
       "      <td>-0.301319</td>\n",
       "      <td>-0.095065</td>\n",
       "      <td>0.090588</td>\n",
       "      <td>58599</td>\n",
       "      <td>feces</td>\n",
       "    </tr>\n",
       "  </tbody>\n",
       "</table>\n",
       "</div>"
      ],
      "text/plain": [
       "             sample_name       PC1       PC2       PC3  sample_id env_material\n",
       "0  10317.000067883.26479 -0.300431 -0.089162 -0.006487      67883        feces\n",
       "1   10317.000011941.2911 -0.377379 -0.017649 -0.028726      11941        feces\n",
       "2   10317.000032619.4016 -0.241194 -0.054584 -0.045798      32619        feces\n",
       "3   10317.000002787.2919 -0.341264 -0.065164  0.049948       2787        feces\n",
       "4  10317.000058599.25862 -0.301319 -0.095065  0.090588      58599        feces"
      ]
     },
     "execution_count": 18,
     "metadata": {},
     "output_type": "execute_result"
    }
   ],
   "source": [
    "PC2_df.head()"
   ]
  },
  {
   "cell_type": "code",
   "execution_count": 19,
   "metadata": {},
   "outputs": [],
   "source": [
    "PC2_df = PC2_df[['sample_id', 'PC1', 'PC2', 'PC3', 'env_material']]"
   ]
  },
  {
   "cell_type": "code",
   "execution_count": 20,
   "metadata": {},
   "outputs": [],
   "source": [
    "PC2_df.columns = ['sample_id', 'PC1', 'PC2', 'PC3', 'label']"
   ]
  },
  {
   "cell_type": "code",
   "execution_count": 21,
   "metadata": {},
   "outputs": [
    {
     "data": {
      "text/plain": [
       "sebum     1004\n",
       "saliva     967\n",
       "feces      892\n",
       "Name: label, dtype: int64"
      ]
     },
     "execution_count": 21,
     "metadata": {},
     "output_type": "execute_result"
    }
   ],
   "source": [
    "PC2_df.label.value_counts()"
   ]
  },
  {
   "cell_type": "code",
   "execution_count": 101,
   "metadata": {},
   "outputs": [],
   "source": [
    "PC2_df.to_csv('../../data/6.2.19.pca.data/output_data/beta_pcoa_3000sample.csv')"
   ]
  },
  {
   "cell_type": "markdown",
   "metadata": {},
   "source": [
    "basic logistic regression body site classification"
   ]
  },
  {
   "cell_type": "code",
   "execution_count": 35,
   "metadata": {},
   "outputs": [],
   "source": [
    "from sklearn.model_selection import train_test_split\n",
    "from sklearn.linear_model import LogisticRegression\n",
    "from sklearn.metrics import f1_score"
   ]
  },
  {
   "cell_type": "code",
   "execution_count": 27,
   "metadata": {},
   "outputs": [],
   "source": [
    "X = PC2_df[['PC1', 'PC2', 'PC3']]\n",
    "y = PC2_df['label'].values\n",
    "X_train, X_test, y_train, y_test = train_test_split(X, y, test_size=0.2, random_state=42)"
   ]
  },
  {
   "cell_type": "code",
   "execution_count": 29,
   "metadata": {},
   "outputs": [],
   "source": [
    "clf = LogisticRegression(random_state=0, solver='lbfgs', multi_class='multinomial').fit(X_train, y_train)"
   ]
  },
  {
   "cell_type": "code",
   "execution_count": 33,
   "metadata": {},
   "outputs": [
    {
     "data": {
      "text/plain": [
       "<bound method ClassifierMixin.score of LogisticRegression(C=1.0, class_weight=None, dual=False, fit_intercept=True,\n",
       "          intercept_scaling=1, max_iter=100, multi_class='multinomial',\n",
       "          n_jobs=1, penalty='l2', random_state=0, solver='lbfgs',\n",
       "          tol=0.0001, verbose=0, warm_start=False)>"
      ]
     },
     "execution_count": 33,
     "metadata": {},
     "output_type": "execute_result"
    }
   ],
   "source": [
    "clf.score"
   ]
  },
  {
   "cell_type": "code",
   "execution_count": 34,
   "metadata": {},
   "outputs": [],
   "source": [
    "train_predict = clf.predict(X_train)\n",
    "test_predict = clf.predict(X_test)"
   ]
  },
  {
   "cell_type": "code",
   "execution_count": 37,
   "metadata": {},
   "outputs": [
    {
     "data": {
      "text/plain": [
       "0.955375615637975"
      ]
     },
     "execution_count": 37,
     "metadata": {},
     "output_type": "execute_result"
    }
   ],
   "source": [
    "f1_score(y_train, train_predict, average='weighted') "
   ]
  },
  {
   "cell_type": "code",
   "execution_count": 38,
   "metadata": {},
   "outputs": [
    {
     "data": {
      "text/plain": [
       "0.9581281732924142"
      ]
     },
     "execution_count": 38,
     "metadata": {},
     "output_type": "execute_result"
    }
   ],
   "source": [
    "f1_score(y_test, test_predict, average='weighted') "
   ]
  },
  {
   "cell_type": "code",
   "execution_count": null,
   "metadata": {},
   "outputs": [],
   "source": []
  }
 ],
 "metadata": {
  "kernelspec": {
   "display_name": "Python 3",
   "language": "python",
   "name": "python3"
  },
  "language_info": {
   "codemirror_mode": {
    "name": "ipython",
    "version": 3
   },
   "file_extension": ".py",
   "mimetype": "text/x-python",
   "name": "python",
   "nbconvert_exporter": "python",
   "pygments_lexer": "ipython3",
   "version": "3.6.8"
  }
 },
 "nbformat": 4,
 "nbformat_minor": 2
}
