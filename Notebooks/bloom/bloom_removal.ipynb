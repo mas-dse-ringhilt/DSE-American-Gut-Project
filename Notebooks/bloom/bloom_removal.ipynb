{
 "cells": [
  {
   "cell_type": "markdown",
   "metadata": {},
   "source": [
    "## Ryan Inghilterra - Bloom Removal"
   ]
  },
  {
   "cell_type": "code",
   "execution_count": 1,
   "metadata": {},
   "outputs": [],
   "source": [
    "from biom import load_table\n",
    "import skbio\n",
    "import qiime2"
   ]
  },
  {
   "cell_type": "markdown",
   "metadata": {},
   "source": [
    "read in the saved full_otu deblur biom table"
   ]
  },
  {
   "cell_type": "markdown",
   "metadata": {},
   "source": [
    "btable contains all of the sOTUs for all of our AGP samples, from deblur context 'Deblur-Illumina-16S-V4-100nt-fbc5b2'"
   ]
  },
  {
   "cell_type": "code",
   "execution_count": 2,
   "metadata": {},
   "outputs": [],
   "source": [
    "btable = load_table('../../3.4.ryan_i_greengenes/full_otus/feature-table.biom')"
   ]
  },
  {
   "cell_type": "code",
   "execution_count": 3,
   "metadata": {},
   "outputs": [
    {
     "data": {
      "text/plain": [
       "34114 x 21238 <class 'biom.table.Table'> with 9262753 nonzero entries (1% dense)"
      ]
     },
     "execution_count": 3,
     "metadata": {},
     "output_type": "execute_result"
    }
   ],
   "source": [
    "btable"
   ]
  },
  {
   "cell_type": "code",
   "execution_count": 4,
   "metadata": {},
   "outputs": [],
   "source": [
    "seqs_file = 'newbloom.all.fna'"
   ]
  },
  {
   "cell_type": "code",
   "execution_count": 5,
   "metadata": {},
   "outputs": [],
   "source": [
    "seqs = skbio.read(seqs_file, format='fasta')"
   ]
  },
  {
   "cell_type": "code",
   "execution_count": 6,
   "metadata": {},
   "outputs": [],
   "source": [
    "seqs = skbio.read(seqs_file, format='fasta')\n",
    "filter_seqs = {str(s) for s in seqs}"
   ]
  },
  {
   "cell_type": "code",
   "execution_count": 7,
   "metadata": {},
   "outputs": [],
   "source": [
    "bloom_list = list(filter_seqs)"
   ]
  },
  {
   "cell_type": "code",
   "execution_count": 8,
   "metadata": {},
   "outputs": [
    {
     "name": "stdout",
     "output_type": "stream",
     "text": [
      "20\n"
     ]
    }
   ],
   "source": [
    "print(len(bloom_list))"
   ]
  },
  {
   "cell_type": "markdown",
   "metadata": {},
   "source": [
    "20 blooms to filter for, we need to trim each to 100 length dna seq"
   ]
  },
  {
   "cell_type": "code",
   "execution_count": 9,
   "metadata": {},
   "outputs": [],
   "source": [
    "bloom_list_trim = [bloom[:100] for bloom in bloom_list]"
   ]
  },
  {
   "cell_type": "code",
   "execution_count": 10,
   "metadata": {},
   "outputs": [
    {
     "data": {
      "text/plain": [
       "100"
      ]
     },
     "execution_count": 10,
     "metadata": {},
     "output_type": "execute_result"
    }
   ],
   "source": [
    "len(bloom_list_trim[0])"
   ]
  },
  {
   "cell_type": "code",
   "execution_count": 16,
   "metadata": {},
   "outputs": [
    {
     "data": {
      "text/plain": [
       "5 x 5 <class 'biom.table.Table'> with 2 nonzero entries (8% dense)"
      ]
     },
     "execution_count": 16,
     "metadata": {},
     "output_type": "execute_result"
    }
   ],
   "source": [
    "btable.head()"
   ]
  },
  {
   "cell_type": "code",
   "execution_count": 11,
   "metadata": {},
   "outputs": [],
   "source": [
    "otu_seqs = btable.ids(axis='observation')"
   ]
  },
  {
   "cell_type": "code",
   "execution_count": 15,
   "metadata": {},
   "outputs": [
    {
     "data": {
      "text/plain": [
       "array(['4386973', '243204', '539581', ..., '233009', '1015502', '253863'], dtype=object)"
      ]
     },
     "execution_count": 15,
     "metadata": {},
     "output_type": "execute_result"
    }
   ],
   "source": [
    "otu_seqs"
   ]
  },
  {
   "cell_type": "markdown",
   "metadata": {},
   "source": [
    "this is a manual way to look at which sOTUs out of 426648 which had a bloom seq match"
   ]
  },
  {
   "cell_type": "code",
   "execution_count": 14,
   "metadata": {},
   "outputs": [],
   "source": [
    "i = 0\n",
    "for otu in otu_seqs:\n",
    "    if otu in set(bloom_list_trim):\n",
    "        print(i, otu)    \n",
    "    i = i+1"
   ]
  },
  {
   "cell_type": "markdown",
   "metadata": {},
   "source": [
    "below we actually remove the filters, borrowing code from https://github.com/knightlab-analyses/bloom-analyses/blob/master/ipynb/bloom_example.ipynb"
   ]
  },
  {
   "cell_type": "code",
   "execution_count": 13,
   "metadata": {},
   "outputs": [],
   "source": [
    "import skbio\n",
    "import biom\n",
    "import argparse\n",
    "import sys\n",
    "\n",
    "__version__='1.0'\n",
    "\n",
    "\n",
    "def trim_seqs(seqs, seqlength=100):\n",
    "    \"\"\"\n",
    "    Trims the sequences to a given length\n",
    "\n",
    "    Parameters\n",
    "    ----------\n",
    "    seqs: generator of skbio.Sequence objects\n",
    "\n",
    "    Returns\n",
    "    -------\n",
    "    generator of skbio.Sequence objects\n",
    "        trimmed sequences\n",
    "    \"\"\"\n",
    "\n",
    "    for seq in seqs:\n",
    "\n",
    "        if len(seq) < seqlength:\n",
    "            raise ValueError('sequence length is shorter than %d' % seqlength)\n",
    "\n",
    "        yield seq[:seqlength]\n",
    "\n",
    "\n",
    "def remove_seqs(table, seqs):\n",
    "    \"\"\"\n",
    "    Parameters\n",
    "    ----------\n",
    "    table : biom.Table\n",
    "       Input biom table\n",
    "    seqs : generator, skbio.Sequence\n",
    "       Iterator of sequence objects to be removed from the biom table.\n",
    "\n",
    "    Return\n",
    "    ------\n",
    "    biom.Table\n",
    "    \"\"\"\n",
    "    filter_seqs = {str(s) for s in seqs}\n",
    "    _filter = lambda v, i, m: i not in filter_seqs\n",
    "    return table.filter(_filter, axis='observation', inplace=False)"
   ]
  },
  {
   "cell_type": "code",
   "execution_count": 14,
   "metadata": {},
   "outputs": [],
   "source": [
    "btable = load_table('../full_otus/feature-table.biom')\n",
    "seqs_file = 'newbloom.all.fna'"
   ]
  },
  {
   "cell_type": "code",
   "execution_count": 15,
   "metadata": {},
   "outputs": [],
   "source": [
    "seqs = skbio.read(seqs_file, format='fasta')"
   ]
  },
  {
   "cell_type": "code",
   "execution_count": 16,
   "metadata": {},
   "outputs": [
    {
     "data": {
      "text/plain": [
       "426648 x 19231 <class 'biom.table.Table'> with 3606467 nonzero entries (0% dense)"
      ]
     },
     "execution_count": 16,
     "metadata": {},
     "output_type": "execute_result"
    }
   ],
   "source": [
    "btable"
   ]
  },
  {
   "cell_type": "code",
   "execution_count": 17,
   "metadata": {},
   "outputs": [],
   "source": [
    "length = min(map(len, btable.ids(axis='observation')))\n",
    "seqs = trim_seqs(seqs, seqlength=length)"
   ]
  },
  {
   "cell_type": "code",
   "execution_count": 18,
   "metadata": {},
   "outputs": [],
   "source": [
    "outtable = remove_seqs(btable, seqs)"
   ]
  },
  {
   "cell_type": "code",
   "execution_count": 19,
   "metadata": {},
   "outputs": [
    {
     "data": {
      "text/plain": [
       "426633 x 19231 <class 'biom.table.Table'> with 3540437 nonzero entries (0% dense)"
      ]
     },
     "execution_count": 19,
     "metadata": {},
     "output_type": "execute_result"
    }
   ],
   "source": [
    "outtable"
   ]
  },
  {
   "cell_type": "code",
   "execution_count": 20,
   "metadata": {},
   "outputs": [],
   "source": [
    "table_ar = qiime2.Artifact.import_data('FeatureTable[Frequency]', outtable)"
   ]
  },
  {
   "cell_type": "code",
   "execution_count": 21,
   "metadata": {},
   "outputs": [],
   "source": [
    "table_ar.export_data('no_bloom_full_otus')"
   ]
  },
  {
   "cell_type": "code",
   "execution_count": 22,
   "metadata": {},
   "outputs": [],
   "source": [
    "nobtable = load_table('no_bloom_full_otus/feature-table.biom')"
   ]
  },
  {
   "cell_type": "code",
   "execution_count": 23,
   "metadata": {},
   "outputs": [
    {
     "data": {
      "text/plain": [
       "426633 x 19231 <class 'biom.table.Table'> with 3540437 nonzero entries (0% dense)"
      ]
     },
     "execution_count": 23,
     "metadata": {},
     "output_type": "execute_result"
    }
   ],
   "source": [
    "nobtable"
   ]
  },
  {
   "cell_type": "markdown",
   "metadata": {},
   "source": [
    "removing blooms only removed 15 SOTUs (426648 to 426633)"
   ]
  },
  {
   "cell_type": "code",
   "execution_count": null,
   "metadata": {},
   "outputs": [],
   "source": []
  }
 ],
 "metadata": {
  "kernelspec": {
   "display_name": "qiim2-2018.11",
   "language": "python",
   "name": "qiim2-2018.11"
  },
  "language_info": {
   "codemirror_mode": {
    "name": "ipython",
    "version": 3
   },
   "file_extension": ".py",
   "mimetype": "text/x-python",
   "name": "python",
   "nbconvert_exporter": "python",
   "pygments_lexer": "ipython3",
   "version": "3.5.5"
  }
 },
 "nbformat": 4,
 "nbformat_minor": 2
}
