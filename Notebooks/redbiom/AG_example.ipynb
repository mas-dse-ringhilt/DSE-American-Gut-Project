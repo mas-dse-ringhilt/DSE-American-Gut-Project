{
 "cells": [
  {
   "cell_type": "markdown",
   "metadata": {},
   "source": [
    "This notebook contains an example of using `redbiom` through it's Python API to extract a subset of American Gut Project samples. These data are then loaded into QIIME 2 for a mini beta-diversity analysis using UniFrac. This assumes we're using a QIIME 2 2018.11 environment that additionally has `redbiom` 0.3.0 installed. The exact commands I ran to install it are:\n",
    "\n",
    "```\n",
    "$ conda install nltk\n",
    "$ pip install https://github.com/biocore/redbiom/archive/0.3.0.zip\n",
    "```"
   ]
  },
  {
   "cell_type": "code",
   "execution_count": 3,
   "metadata": {},
   "outputs": [],
   "source": [
    "import redbiom.summarize\n",
    "import redbiom.search\n",
    "import redbiom.fetch\n",
    "import qiime2"
   ]
  },
  {
   "cell_type": "markdown",
   "metadata": {},
   "source": [
    "The first thing we're going to do is gather the `redbiom` contexts. A context is roughly a set of consistent technical parameters. For example, the specific sequenced gene, the variable region within the gene, the length of the read, and how the operational taxonomic units were assessed.\n",
    "\n",
    "The reason `redbiom` partitions data into contexts is because these technical details can lead to massive technical bias. The intention is to facilitate comparing \"apples\" to \"apples\". \n",
    "\n",
    "The context summarization returns a pandas `DataFrame` so it should be pretty friendly to manipulate."
   ]
  },
  {
   "cell_type": "code",
   "execution_count": 4,
   "metadata": {},
   "outputs": [],
   "source": [
    "contexts = redbiom.summarize.contexts()"
   ]
  },
  {
   "cell_type": "code",
   "execution_count": 5,
   "metadata": {},
   "outputs": [
    {
     "data": {
      "text/html": [
       "<div>\n",
       "<style scoped>\n",
       "    .dataframe tbody tr th:only-of-type {\n",
       "        vertical-align: middle;\n",
       "    }\n",
       "\n",
       "    .dataframe tbody tr th {\n",
       "        vertical-align: top;\n",
       "    }\n",
       "\n",
       "    .dataframe thead th {\n",
       "        text-align: right;\n",
       "    }\n",
       "</style>\n",
       "<table border=\"1\" class=\"dataframe\">\n",
       "  <thead>\n",
       "    <tr style=\"text-align: right;\">\n",
       "      <th></th>\n",
       "      <th>ContextName</th>\n",
       "      <th>SamplesWithData</th>\n",
       "      <th>FeaturesWithData</th>\n",
       "      <th>Description</th>\n",
       "    </tr>\n",
       "  </thead>\n",
       "  <tbody>\n",
       "    <tr>\n",
       "      <th>0</th>\n",
       "      <td>Pick_closed-reference_OTUs-Greengenes-ls454-16...</td>\n",
       "      <td>114</td>\n",
       "      <td>2868</td>\n",
       "      <td>Qiita context</td>\n",
       "    </tr>\n",
       "    <tr>\n",
       "      <th>1</th>\n",
       "      <td>Pick_closed-reference_OTUs-Greengenes-ls454-16...</td>\n",
       "      <td>3595</td>\n",
       "      <td>7921</td>\n",
       "      <td>Qiita context</td>\n",
       "    </tr>\n",
       "    <tr>\n",
       "      <th>2</th>\n",
       "      <td>Pick_closed-reference_OTUs-Greengenes-ls454-16...</td>\n",
       "      <td>50</td>\n",
       "      <td>331</td>\n",
       "      <td>Qiita context</td>\n",
       "    </tr>\n",
       "    <tr>\n",
       "      <th>3</th>\n",
       "      <td>Pick_closed-reference_OTUs-Greengenes-titanium...</td>\n",
       "      <td>339</td>\n",
       "      <td>9059</td>\n",
       "      <td>Qiita context</td>\n",
       "    </tr>\n",
       "    <tr>\n",
       "      <th>4</th>\n",
       "      <td>Pick_closed-reference_OTUs-Greengenes-ls454-16...</td>\n",
       "      <td>609</td>\n",
       "      <td>14847</td>\n",
       "      <td>Qiita context</td>\n",
       "    </tr>\n",
       "  </tbody>\n",
       "</table>\n",
       "</div>"
      ],
      "text/plain": [
       "                                         ContextName  SamplesWithData  \\\n",
       "0  Pick_closed-reference_OTUs-Greengenes-ls454-16...              114   \n",
       "1  Pick_closed-reference_OTUs-Greengenes-ls454-16...             3595   \n",
       "2  Pick_closed-reference_OTUs-Greengenes-ls454-16...               50   \n",
       "3  Pick_closed-reference_OTUs-Greengenes-titanium...              339   \n",
       "4  Pick_closed-reference_OTUs-Greengenes-ls454-16...              609   \n",
       "\n",
       "   FeaturesWithData    Description  \n",
       "0              2868  Qiita context  \n",
       "1              7921  Qiita context  \n",
       "2               331  Qiita context  \n",
       "3              9059  Qiita context  \n",
       "4             14847  Qiita context  "
      ]
     },
     "execution_count": 5,
     "metadata": {},
     "output_type": "execute_result"
    }
   ],
   "source": [
    "contexts.head()"
   ]
  },
  {
   "cell_type": "markdown",
   "metadata": {},
   "source": [
    "At the present time, determining the context to use is a bit manual and requires some strung munging. Additional development is needed.\n",
    "\n",
    "Let's take a look at the larger contexts."
   ]
  },
  {
   "cell_type": "code",
   "execution_count": 6,
   "metadata": {},
   "outputs": [
    {
     "data": {
      "text/html": [
       "<div>\n",
       "<style scoped>\n",
       "    .dataframe tbody tr th:only-of-type {\n",
       "        vertical-align: middle;\n",
       "    }\n",
       "\n",
       "    .dataframe tbody tr th {\n",
       "        vertical-align: top;\n",
       "    }\n",
       "\n",
       "    .dataframe thead th {\n",
       "        text-align: right;\n",
       "    }\n",
       "</style>\n",
       "<table border=\"1\" class=\"dataframe\">\n",
       "  <thead>\n",
       "    <tr style=\"text-align: right;\">\n",
       "      <th></th>\n",
       "      <th>ContextName</th>\n",
       "      <th>SamplesWithData</th>\n",
       "      <th>FeaturesWithData</th>\n",
       "      <th>Description</th>\n",
       "    </tr>\n",
       "  </thead>\n",
       "  <tbody>\n",
       "    <tr>\n",
       "      <th>38</th>\n",
       "      <td>Pick_closed-reference_OTUs-Greengenes-illumina...</td>\n",
       "      <td>129596</td>\n",
       "      <td>74983</td>\n",
       "      <td>Qiita context</td>\n",
       "    </tr>\n",
       "    <tr>\n",
       "      <th>98</th>\n",
       "      <td>Pick_closed-reference_OTUs-Greengenes-illumina...</td>\n",
       "      <td>128222</td>\n",
       "      <td>82492</td>\n",
       "      <td>Qiita context</td>\n",
       "    </tr>\n",
       "    <tr>\n",
       "      <th>25</th>\n",
       "      <td>Pick_closed-reference_OTUs-Greengenes-illumina...</td>\n",
       "      <td>125354</td>\n",
       "      <td>73083</td>\n",
       "      <td>Qiita context</td>\n",
       "    </tr>\n",
       "    <tr>\n",
       "      <th>73</th>\n",
       "      <td>Deblur-NA-illumina-16S-v4-100nt-fbc5b2</td>\n",
       "      <td>123127</td>\n",
       "      <td>5587560</td>\n",
       "      <td>Qiita context</td>\n",
       "    </tr>\n",
       "    <tr>\n",
       "      <th>7</th>\n",
       "      <td>Deblur-NA-illumina-16S-v4-90nt-99d1d8</td>\n",
       "      <td>119538</td>\n",
       "      <td>4460311</td>\n",
       "      <td>Qiita context</td>\n",
       "    </tr>\n",
       "  </tbody>\n",
       "</table>\n",
       "</div>"
      ],
      "text/plain": [
       "                                          ContextName  SamplesWithData  \\\n",
       "38  Pick_closed-reference_OTUs-Greengenes-illumina...           129596   \n",
       "98  Pick_closed-reference_OTUs-Greengenes-illumina...           128222   \n",
       "25  Pick_closed-reference_OTUs-Greengenes-illumina...           125354   \n",
       "73             Deblur-NA-illumina-16S-v4-100nt-fbc5b2           123127   \n",
       "7               Deblur-NA-illumina-16S-v4-90nt-99d1d8           119538   \n",
       "\n",
       "    FeaturesWithData    Description  \n",
       "38             74983  Qiita context  \n",
       "98             82492  Qiita context  \n",
       "25             73083  Qiita context  \n",
       "73           5587560  Qiita context  \n",
       "7            4460311  Qiita context  "
      ]
     },
     "execution_count": 6,
     "metadata": {},
     "output_type": "execute_result"
    }
   ],
   "source": [
    "contexts.sort_values('SamplesWithData', ascending=False).head()"
   ]
  },
  {
   "cell_type": "markdown",
   "metadata": {},
   "source": [
    "For simplicity sake, let's take the first context. It's large, and the phylogeny associated with the operational taxonomic units is easy to get. We'll break down the meaning of the context name in a moment. In practice, you will _most likely_ want to use the Deblur data, however producing a reasonable tree from those data requies a slightly computationally expensive step, and I'm on my laptop right now with limited battery quite literally in the middle of nowhere on a bus in the Czech Republic."
   ]
  },
  {
   "cell_type": "code",
   "execution_count": 9,
   "metadata": {},
   "outputs": [],
   "source": [
    "ctx = contexts.sort_values('SamplesWithData', ascending=False).iloc[0]['ContextName']"
   ]
  },
  {
   "cell_type": "code",
   "execution_count": 10,
   "metadata": {},
   "outputs": [
    {
     "data": {
      "text/plain": [
       "'Pick_closed-reference_OTUs-Greengenes-illumina-16S-v4-100nt-a243a1'"
      ]
     },
     "execution_count": 10,
     "metadata": {},
     "output_type": "execute_result"
    }
   ],
   "source": [
    "ctx"
   ]
  },
  {
   "cell_type": "markdown",
   "metadata": {},
   "source": [
    "Breaking this name into its constiuent pieces, this is a closed reference context meaning that operational taxonomic units were assessed against a reference database and sequences which did not recruit to the reference were discarded. The reference used is Greengenes, a common 16S reference database. The gene represented by the data is the 16S SSU rRNA gene, and specifically the V4 region of the gene. Finally, the fragments represented are truncated to 100 nucleotides. (Don't worry if this is all a lot of jargon. It is a lot of jargon. Please ask questions :)\n",
    "\n",
    "So cool, we have a \"context\". What can we do now? Let's search for some sample identifiers based off of the metadata (i.e., variables) associated with the samples. Specifically, let's get some skin, oral and fecal samples. Be forewarned, the metadata search uses Python's `ast` module behind the scenes, so malformed queries at present produce tracebacks."
   ]
  },
  {
   "cell_type": "code",
   "execution_count": 18,
   "metadata": {},
   "outputs": [],
   "source": [
    "study_id = 10317  # the Qiita study ID of the American Gut Project is 10317\n",
    "results = {}\n",
    "for site in ['sebum', 'saliva', 'feces']:\n",
    "    query = \"where qiita_study_id==%d and env_material=='%s'\" % (study_id, site)\n",
    "    results[site] = redbiom.search.metadata_full(query)"
   ]
  },
  {
   "cell_type": "code",
   "execution_count": 19,
   "metadata": {},
   "outputs": [
    {
     "name": "stdout",
     "output_type": "stream",
     "text": [
      "feces 16207\n",
      "saliva 1257\n",
      "sebum 1136\n"
     ]
    }
   ],
   "source": [
    "for k, v in results.items():\n",
    "    print(k, len(v))"
   ]
  },
  {
   "cell_type": "markdown",
   "metadata": {},
   "source": [
    "As you can see, the sample sets are not very balanced. For the purposes of the mini-analysis, let's just grab the first 100 from each sample type."
   ]
  },
  {
   "cell_type": "code",
   "execution_count": 20,
   "metadata": {},
   "outputs": [],
   "source": [
    "to_keep = []\n",
    "for k, v in results.items():\n",
    "    to_keep.extend(list(v)[:100])"
   ]
  },
  {
   "cell_type": "code",
   "execution_count": 21,
   "metadata": {},
   "outputs": [
    {
     "data": {
      "text/plain": [
       "['10317.000068373',\n",
       " '10317.000069792',\n",
       " '10317.000039986',\n",
       " '10317.000063077',\n",
       " '10317.000020031']"
      ]
     },
     "execution_count": 21,
     "metadata": {},
     "output_type": "execute_result"
    }
   ],
   "source": [
    "to_keep[:5]"
   ]
  },
  {
   "cell_type": "markdown",
   "metadata": {},
   "source": [
    "The last output cell shows what these IDs look like. These are Qiita sample IDs.\n",
    "\n",
    "Now that we have some samples, let's get some data! What we're going to do is ask `redbiom` to obtain the sample data, for our `to_keep` samples, from the context we previously selected. What's happening behind the scenes is that the API is pulling out sparse vectors corresponding to the number of individual sequences observed for each operational taxonomic unit per sample, and additionally unmunging the names (as `redbiom` normalizes sample and feature identifiers). The output is then aggregated into what's called a BIOM `Table`, which is really just a rich object wrapped around a `scipy.sparse` matrix. \n",
    "\n",
    "You may noice two outputs on the return. The one we're ignoring represents \"ambiguous\" samples. Some sample identifiers are associated with multiple sequenced samples. This is because some samples may \"fail\" sequencing, where they didn't yield sufficient sequence data, and were rerun. These \"failures\" are still represented in Qiita, but are differentiated by the actual sequencing run they were on. This doesn't matter for the moment though."
   ]
  },
  {
   "cell_type": "code",
   "execution_count": 25,
   "metadata": {},
   "outputs": [],
   "source": [
    "biom_table, _ = redbiom.fetch.data_from_samples(ctx, to_keep)"
   ]
  },
  {
   "cell_type": "code",
   "execution_count": 26,
   "metadata": {},
   "outputs": [
    {
     "data": {
      "text/plain": [
       "13509 x 244 <class 'biom.table.Table'> with 109450 nonzero entries (3% dense)"
      ]
     },
     "execution_count": 26,
     "metadata": {},
     "output_type": "execute_result"
    }
   ],
   "source": [
    "biom_table"
   ]
  },
  {
   "cell_type": "markdown",
   "metadata": {},
   "source": [
    "The `repr` output shows that we have roughly 13k OTUs (operational taxonomic units), and only 244 samples. What gives? We were supposed to get 300! Just because a sample has metadata does not mean it has sequence data. It is also possible that some of the samples haven't been run through the same bioinformatic processing (e.g., closed reference at 100nt).\n",
    "\n",
    "More information on `biom` can be found [here](http://biom-format.org/). \n",
    "\n",
    "Let's play with the object for just a moment for familiarity."
   ]
  },
  {
   "cell_type": "code",
   "execution_count": 27,
   "metadata": {},
   "outputs": [
    {
     "data": {
      "text/plain": [
       "5 x 5 <class 'biom.table.Table'> with 1 nonzero entries (4% dense)"
      ]
     },
     "execution_count": 27,
     "metadata": {},
     "output_type": "execute_result"
    }
   ],
   "source": [
    "biom_table.head()"
   ]
  },
  {
   "cell_type": "code",
   "execution_count": 28,
   "metadata": {},
   "outputs": [
    {
     "name": "stdout",
     "output_type": "stream",
     "text": [
      "# Constructed from biom file\n",
      "#OTU ID\t10317.000007200.48059\t10317.000004286.47973\t10317.000009072.47981\t10317.000009081.47989\t10317.000007370.48059\n",
      "4410270\t0.0\t0.0\t0.0\t0.0\t0.0\n",
      "1126194\t0.0\t0.0\t0.0\t0.0\t0.0\n",
      "4331360\t0.0\t108.0\t0.0\t0.0\t0.0\n",
      "1043665\t0.0\t0.0\t0.0\t0.0\t0.0\n",
      "353085\t0.0\t0.0\t0.0\t0.0\t0.0\n"
     ]
    }
   ],
   "source": [
    "print(biom_table.head())"
   ]
  },
  {
   "cell_type": "markdown",
   "metadata": {},
   "source": [
    "When we print the table, it implicitly casts it to a dense matrix representation. One thing to note: the sample IDs look different than before, right? The way that the individual sequencing runs are denoted is the last number -- the sample ID is represented by \"qiita_study_id.the_actual_id.the_sequencing_run_id\". This is to ensure the identifier is \"globally\" unique.\n",
    "\n",
    "The identifiers on the rows are the \"Greengenes\" IDs. Also called OTU IDs. Or Feature IDs."
   ]
  },
  {
   "cell_type": "markdown",
   "metadata": {},
   "source": [
    "So we have a table. Now let's get the sample metadata. This will come down as a pandas `DataFrame`."
   ]
  },
  {
   "cell_type": "code",
   "execution_count": 30,
   "metadata": {},
   "outputs": [],
   "source": [
    "md, _ = redbiom.fetch.sample_metadata(to_keep, context=ctx)"
   ]
  },
  {
   "cell_type": "code",
   "execution_count": 32,
   "metadata": {},
   "outputs": [
    {
     "data": {
      "text/html": [
       "<div>\n",
       "<style scoped>\n",
       "    .dataframe tbody tr th:only-of-type {\n",
       "        vertical-align: middle;\n",
       "    }\n",
       "\n",
       "    .dataframe tbody tr th {\n",
       "        vertical-align: top;\n",
       "    }\n",
       "\n",
       "    .dataframe thead th {\n",
       "        text-align: right;\n",
       "    }\n",
       "</style>\n",
       "<table border=\"1\" class=\"dataframe\">\n",
       "  <thead>\n",
       "    <tr style=\"text-align: right;\">\n",
       "      <th></th>\n",
       "      <th>#SampleID</th>\n",
       "      <th>alcohol_types_beercider</th>\n",
       "      <th>alcohol_types_red_wine</th>\n",
       "      <th>alcohol_types_sour_beers</th>\n",
       "      <th>alcohol_types_spiritshard_alcohol</th>\n",
       "      <th>alcohol_types_unspecified</th>\n",
       "      <th>alcohol_types_white_wine</th>\n",
       "      <th>allergic_to_i_have_no_food_allergies_that_i_know_of</th>\n",
       "      <th>allergic_to_other</th>\n",
       "      <th>allergic_to_peanuts</th>\n",
       "      <th>...</th>\n",
       "      <th>subset_age</th>\n",
       "      <th>subset_antibiotic_history</th>\n",
       "      <th>subset_bmi</th>\n",
       "      <th>subset_diabetes</th>\n",
       "      <th>subset_healthy</th>\n",
       "      <th>subset_ibd</th>\n",
       "      <th>survey_id</th>\n",
       "      <th>taxon_id</th>\n",
       "      <th>title</th>\n",
       "      <th>weight_units</th>\n",
       "    </tr>\n",
       "  </thead>\n",
       "  <tbody>\n",
       "    <tr>\n",
       "      <th>47970_10317.000007776</th>\n",
       "      <td>10317.000007776.47970</td>\n",
       "      <td>false</td>\n",
       "      <td>false</td>\n",
       "      <td>false</td>\n",
       "      <td>false</td>\n",
       "      <td>true</td>\n",
       "      <td>false</td>\n",
       "      <td>false</td>\n",
       "      <td>false</td>\n",
       "      <td>false</td>\n",
       "      <td>...</td>\n",
       "      <td>false</td>\n",
       "      <td>false</td>\n",
       "      <td>false</td>\n",
       "      <td>true</td>\n",
       "      <td>false</td>\n",
       "      <td>true</td>\n",
       "      <td>63858372b3359691</td>\n",
       "      <td>539655</td>\n",
       "      <td>American Gut Project</td>\n",
       "      <td>kilograms</td>\n",
       "    </tr>\n",
       "    <tr>\n",
       "      <th>47970_10317.000007831</th>\n",
       "      <td>10317.000007831.47970</td>\n",
       "      <td>false</td>\n",
       "      <td>false</td>\n",
       "      <td>false</td>\n",
       "      <td>false</td>\n",
       "      <td>true</td>\n",
       "      <td>false</td>\n",
       "      <td>false</td>\n",
       "      <td>false</td>\n",
       "      <td>false</td>\n",
       "      <td>...</td>\n",
       "      <td>true</td>\n",
       "      <td>true</td>\n",
       "      <td>false</td>\n",
       "      <td>true</td>\n",
       "      <td>false</td>\n",
       "      <td>true</td>\n",
       "      <td>9aa4aa6f19982163</td>\n",
       "      <td>539655</td>\n",
       "      <td>American Gut Project</td>\n",
       "      <td>kilograms</td>\n",
       "    </tr>\n",
       "    <tr>\n",
       "      <th>47970_10317.000007835</th>\n",
       "      <td>10317.000007835.47970</td>\n",
       "      <td>false</td>\n",
       "      <td>false</td>\n",
       "      <td>false</td>\n",
       "      <td>false</td>\n",
       "      <td>true</td>\n",
       "      <td>false</td>\n",
       "      <td>false</td>\n",
       "      <td>false</td>\n",
       "      <td>false</td>\n",
       "      <td>...</td>\n",
       "      <td>false</td>\n",
       "      <td>false</td>\n",
       "      <td>false</td>\n",
       "      <td>true</td>\n",
       "      <td>false</td>\n",
       "      <td>true</td>\n",
       "      <td>63858372b3359691</td>\n",
       "      <td>447426</td>\n",
       "      <td>American Gut Project</td>\n",
       "      <td>kilograms</td>\n",
       "    </tr>\n",
       "    <tr>\n",
       "      <th>47970_10317.000007838</th>\n",
       "      <td>10317.000007838.47970</td>\n",
       "      <td>false</td>\n",
       "      <td>false</td>\n",
       "      <td>false</td>\n",
       "      <td>false</td>\n",
       "      <td>true</td>\n",
       "      <td>false</td>\n",
       "      <td>false</td>\n",
       "      <td>false</td>\n",
       "      <td>false</td>\n",
       "      <td>...</td>\n",
       "      <td>false</td>\n",
       "      <td>false</td>\n",
       "      <td>false</td>\n",
       "      <td>true</td>\n",
       "      <td>false</td>\n",
       "      <td>true</td>\n",
       "      <td>63858372b3359691</td>\n",
       "      <td>539655</td>\n",
       "      <td>American Gut Project</td>\n",
       "      <td>kilograms</td>\n",
       "    </tr>\n",
       "    <tr>\n",
       "      <th>47970_10317.000007847</th>\n",
       "      <td>10317.000007847.47970</td>\n",
       "      <td>false</td>\n",
       "      <td>false</td>\n",
       "      <td>false</td>\n",
       "      <td>false</td>\n",
       "      <td>true</td>\n",
       "      <td>false</td>\n",
       "      <td>false</td>\n",
       "      <td>false</td>\n",
       "      <td>false</td>\n",
       "      <td>...</td>\n",
       "      <td>true</td>\n",
       "      <td>true</td>\n",
       "      <td>false</td>\n",
       "      <td>true</td>\n",
       "      <td>false</td>\n",
       "      <td>true</td>\n",
       "      <td>9aa4aa6f19982163</td>\n",
       "      <td>539655</td>\n",
       "      <td>American Gut Project</td>\n",
       "      <td>kilograms</td>\n",
       "    </tr>\n",
       "  </tbody>\n",
       "</table>\n",
       "<p>5 rows × 75 columns</p>\n",
       "</div>"
      ],
      "text/plain": [
       "                                   #SampleID alcohol_types_beercider  \\\n",
       "47970_10317.000007776  10317.000007776.47970                   false   \n",
       "47970_10317.000007831  10317.000007831.47970                   false   \n",
       "47970_10317.000007835  10317.000007835.47970                   false   \n",
       "47970_10317.000007838  10317.000007838.47970                   false   \n",
       "47970_10317.000007847  10317.000007847.47970                   false   \n",
       "\n",
       "                      alcohol_types_red_wine alcohol_types_sour_beers  \\\n",
       "47970_10317.000007776                  false                    false   \n",
       "47970_10317.000007831                  false                    false   \n",
       "47970_10317.000007835                  false                    false   \n",
       "47970_10317.000007838                  false                    false   \n",
       "47970_10317.000007847                  false                    false   \n",
       "\n",
       "                      alcohol_types_spiritshard_alcohol  \\\n",
       "47970_10317.000007776                             false   \n",
       "47970_10317.000007831                             false   \n",
       "47970_10317.000007835                             false   \n",
       "47970_10317.000007838                             false   \n",
       "47970_10317.000007847                             false   \n",
       "\n",
       "                      alcohol_types_unspecified alcohol_types_white_wine  \\\n",
       "47970_10317.000007776                      true                    false   \n",
       "47970_10317.000007831                      true                    false   \n",
       "47970_10317.000007835                      true                    false   \n",
       "47970_10317.000007838                      true                    false   \n",
       "47970_10317.000007847                      true                    false   \n",
       "\n",
       "                      allergic_to_i_have_no_food_allergies_that_i_know_of  \\\n",
       "47970_10317.000007776                                              false    \n",
       "47970_10317.000007831                                              false    \n",
       "47970_10317.000007835                                              false    \n",
       "47970_10317.000007838                                              false    \n",
       "47970_10317.000007847                                              false    \n",
       "\n",
       "                      allergic_to_other allergic_to_peanuts     ...       \\\n",
       "47970_10317.000007776             false               false     ...        \n",
       "47970_10317.000007831             false               false     ...        \n",
       "47970_10317.000007835             false               false     ...        \n",
       "47970_10317.000007838             false               false     ...        \n",
       "47970_10317.000007847             false               false     ...        \n",
       "\n",
       "                      subset_age subset_antibiotic_history subset_bmi  \\\n",
       "47970_10317.000007776      false                     false      false   \n",
       "47970_10317.000007831       true                      true      false   \n",
       "47970_10317.000007835      false                     false      false   \n",
       "47970_10317.000007838      false                     false      false   \n",
       "47970_10317.000007847       true                      true      false   \n",
       "\n",
       "                      subset_diabetes subset_healthy subset_ibd  \\\n",
       "47970_10317.000007776            true          false       true   \n",
       "47970_10317.000007831            true          false       true   \n",
       "47970_10317.000007835            true          false       true   \n",
       "47970_10317.000007838            true          false       true   \n",
       "47970_10317.000007847            true          false       true   \n",
       "\n",
       "                              survey_id taxon_id                 title  \\\n",
       "47970_10317.000007776  63858372b3359691   539655  American Gut Project   \n",
       "47970_10317.000007831  9aa4aa6f19982163   539655  American Gut Project   \n",
       "47970_10317.000007835  63858372b3359691   447426  American Gut Project   \n",
       "47970_10317.000007838  63858372b3359691   539655  American Gut Project   \n",
       "47970_10317.000007847  9aa4aa6f19982163   539655  American Gut Project   \n",
       "\n",
       "                      weight_units  \n",
       "47970_10317.000007776    kilograms  \n",
       "47970_10317.000007831    kilograms  \n",
       "47970_10317.000007835    kilograms  \n",
       "47970_10317.000007838    kilograms  \n",
       "47970_10317.000007847    kilograms  \n",
       "\n",
       "[5 rows x 75 columns]"
      ]
     },
     "execution_count": 32,
     "metadata": {},
     "output_type": "execute_result"
    }
   ],
   "source": [
    "md.head()"
   ]
  },
  {
   "cell_type": "code",
   "execution_count": 33,
   "metadata": {},
   "outputs": [
    {
     "data": {
      "text/plain": [
       "Mouth         78\n",
       "Stool         75\n",
       "Right Hand    31\n",
       "Forehead      28\n",
       "Left Hand     20\n",
       "Torso         10\n",
       "Left leg       1\n",
       "Hair           1\n",
       "Name: sample_type, dtype: int64"
      ]
     },
     "execution_count": 33,
     "metadata": {},
     "output_type": "execute_result"
    }
   ],
   "source": [
    "md.sample_type.value_counts()"
   ]
  },
  {
   "cell_type": "markdown",
   "metadata": {},
   "source": [
    "Great! So we have a bunch of sample data, and some study variables! Now for the QIIMEing. What we'll need to do is pacakge these data into types that QIIME 2 understands. And in particular, we need to use the semantic type system. This is well documented on the QIIME 2 website, and I recommend reviewing there."
   ]
  },
  {
   "cell_type": "code",
   "execution_count": 35,
   "metadata": {},
   "outputs": [],
   "source": [
    "table_ar = qiime2.Artifact.import_data('FeatureTable[Frequency]', biom_table)\n",
    "md_ar = qiime2.Metadata(md.set_index('#SampleID'))"
   ]
  },
  {
   "cell_type": "markdown",
   "metadata": {},
   "source": [
    "Ah! We need a tree! Since we're using Greengenes, we can just rely on the existing prebuilt tree from the reference. Let's get that."
   ]
  },
  {
   "cell_type": "code",
   "execution_count": 36,
   "metadata": {},
   "outputs": [
    {
     "name": "stdout",
     "output_type": "stream",
     "text": [
      "--2019-01-07 02:25:28--  ftp://ftp.microbio.me/greengenes_release/gg_13_8_otus/trees/97_otus.tree\n",
      "           => '97_otus.tree'\n",
      "Resolving ftp.microbio.me... 169.228.46.98\n",
      "Connecting to ftp.microbio.me|169.228.46.98|:21... connected.\n",
      "Logging in as anonymous ... Logged in!\n",
      "==> SYST ... done.    ==> PWD ... done.\n",
      "==> TYPE I ... done.  ==> CWD (1) /greengenes_release/gg_13_8_otus/trees ... done.\n",
      "==> SIZE 97_otus.tree ... 2542738\n",
      "==> PASV ... done.    ==> RETR 97_otus.tree ... done.\n",
      "Length: 2542738 (2.4M) (unauthoritative)\n",
      "\n",
      "97_otus.tree        100%[===================>]   2.42M   172KB/s    in 17s     \n",
      "\n",
      "2019-01-07 02:25:49 (150 KB/s) - '97_otus.tree' saved [2542738]\n",
      "\n"
     ]
    }
   ],
   "source": [
    "!wget ftp://ftp.microbio.me/greengenes_release/gg_13_8_otus/trees/97_otus.tree"
   ]
  },
  {
   "cell_type": "code",
   "execution_count": 37,
   "metadata": {},
   "outputs": [],
   "source": [
    "tree_ar = qiime2.Artifact.import_data('Phylogeny[Rooted]', '97_otus.tree')"
   ]
  },
  {
   "cell_type": "markdown",
   "metadata": {},
   "source": [
    "Excellent. So next up, we need to rarefy these data. Rarefaction is a just randomly subsampling the samples without replacement in order to normalize for sequencing effort. There are a lot of ways to do this type of normalization. Rarefaction is dirty as you through out data, but it's pragmatic and tends to work pretty well. The issue rarefaction helps to ameliorate is that, the more you sequence the more life you'll observe. So if you don't do something to normalize sequencing effort across samples, you'll have a bad time.\n",
    "\n",
    "Let's import all the plugins we'll be using."
   ]
  },
  {
   "cell_type": "code",
   "execution_count": 40,
   "metadata": {},
   "outputs": [],
   "source": [
    "from qiime2.plugins import feature_table, diversity, emperor"
   ]
  },
  {
   "cell_type": "code",
   "execution_count": 45,
   "metadata": {},
   "outputs": [],
   "source": [
    "# rarefy to 1000 sequences per sample (yes, it's arbitrary)\n",
    "rare_ar, = feature_table.actions.rarefy(table=table_ar, sampling_depth=1000)"
   ]
  },
  {
   "cell_type": "code",
   "execution_count": 46,
   "metadata": {},
   "outputs": [],
   "source": [
    "unweighted_unifrac_ar, = diversity.actions.beta_phylogenetic(table=rare_ar, \n",
    "                                                             phylogeny=tree_ar, \n",
    "                                                             metric='unweighted_unifrac')"
   ]
  },
  {
   "cell_type": "markdown",
   "metadata": {},
   "source": [
    "So before we move on, we should discuss what this voodoo just did. Beta diversity is what ecologists call comparing how similar (or dissimilar) two samples are. For example, how similar is a forest in the Pacific Northwest to a forest in Maine? (i.e., beta diversity is a function which takes two vectors and returns a scaler). We perform this calculation over all pairs of samples though so that we can examine all of the sample relationships. This distance matrix gets large quick: in our case, it's already 244 by 244. \n",
    "\n",
    "Visualizing that matrix would suck. So, one thing we often do is principal *coordinates* analysis. It's very similar to principal *components* analysis, except that we can pass in our distance matrix."
   ]
  },
  {
   "cell_type": "code",
   "execution_count": 47,
   "metadata": {},
   "outputs": [
    {
     "name": "stderr",
     "output_type": "stream",
     "text": [
      "/Users/dtmcdonald/miniconda3/envs/qiime2-2018.11/lib/python3.5/site-packages/skbio/stats/ordination/_principal_coordinate_analysis.py:152: RuntimeWarning: The result contains negative eigenvalues. Please compare their magnitude with the magnitude of some of the largest positive eigenvalues. If the negative ones are smaller, it's probably safe to ignore them, but if they are large in magnitude, the results won't be useful. See the Notes section for more details. The smallest eigenvalue is -0.023874671034204868 and the largest is 13.456602547170576.\n",
      "  RuntimeWarning\n"
     ]
    }
   ],
   "source": [
    "unweighted_unifrac_pcoa_ar, = diversity.actions.pcoa(unweighted_unifrac_ar)"
   ]
  },
  {
   "cell_type": "markdown",
   "metadata": {},
   "source": [
    "Finally, let's actually view the coordinates. It's much more interesting to use the metadata as well :) Hint: color by body site."
   ]
  },
  {
   "cell_type": "code",
   "execution_count": 50,
   "metadata": {},
   "outputs": [],
   "source": [
    "viz, = emperor.actions.plot(unweighted_unifrac_pcoa_ar, md_ar)"
   ]
  },
  {
   "cell_type": "code",
   "execution_count": 51,
   "metadata": {},
   "outputs": [
    {
     "data": {
      "text/html": [
       "<div><img onload=\"(function(div, url){\n",
       "if (typeof require !== 'undefined') {\n",
       "    var baseURL = require.toUrl('').split('/').slice(0, -2).join('/');\n",
       "} else {\n",
       "    var baseURL = JSON.parse(\n",
       "        document.getElementById('jupyter-config-data').innerHTML\n",
       "    ).baseUrl.slice(0, -1);\n",
       "}\n",
       "url = baseURL + url;\n",
       "fetch(url).then(function(res) {\n",
       "    if (res.status === 404) {\n",
       "        div.innerHTML = 'Install QIIME 2 Jupyter extension with:<br />' +\n",
       "                        '<code>jupyter serverextension enable --py qiime2' +\n",
       "                        ' --sys-prefix</code><br />then restart your server.' +\n",
       "                        '<br /><br />(Interactive output not available on ' +\n",
       "                        'static notebook viewer services like nbviewer.)';\n",
       "    } else if (res.status === 409) {\n",
       "        div.innerHTML = 'Visualization no longer in scope. Re-run this cell' +\n",
       "                        ' to see the visualization.';\n",
       "    } else if (res.ok) {\n",
       "        url = res.url;\n",
       "        div.innerHTML = '<iframe src=\\'' + url + '\\' style=\\'' +\n",
       "                        'width: 100%; height: 700px; border: 0;\\'>' +\n",
       "                        '</iframe><hr />Open in a: <a href=\\'' + url + '\\'' +\n",
       "                        ' target=\\'_blank\\'>new window</a>'\n",
       "    } else {\n",
       "        div.innerHTML = 'Something has gone wrong. Check notebook server for' +\n",
       "                        ' errors.';\n",
       "    }\n",
       "});\n",
       "})(this.parentElement, '/qiime2/redirect?location=/var/folders/sd/22c1hgy962l30x645l86_vqr0000gp/T/qiime2-archive-a4b5cc92')\" src=\"data:image/gif;base64,R0lGODlhAQABAIAAAP///wAAACH5BAEAAAAALAAAAAABAAEAAAICRAEAOw==\" /></div>"
      ],
      "text/plain": [
       "<visualization: Visualization uuid: d5ea7621-7d93-403e-afe2-1fd118b89507>"
      ]
     },
     "execution_count": 51,
     "metadata": {},
     "output_type": "execute_result"
    }
   ],
   "source": [
    "viz"
   ]
  },
  {
   "cell_type": "code",
   "execution_count": null,
   "metadata": {},
   "outputs": [],
   "source": []
  }
 ],
 "metadata": {
  "kernelspec": {
   "display_name": "Python 3",
   "language": "python",
   "name": "python3"
  },
  "language_info": {
   "codemirror_mode": {
    "name": "ipython",
    "version": 3
   },
   "file_extension": ".py",
   "mimetype": "text/x-python",
   "name": "python",
   "nbconvert_exporter": "python",
   "pygments_lexer": "ipython3",
   "version": "3.5.5"
  }
 },
 "nbformat": 4,
 "nbformat_minor": 2
}
