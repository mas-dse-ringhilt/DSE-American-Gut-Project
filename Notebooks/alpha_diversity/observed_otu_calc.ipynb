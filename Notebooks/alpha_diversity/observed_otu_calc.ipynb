{
 "cells": [
  {
   "cell_type": "markdown",
   "metadata": {},
   "source": [
    "## author: Ryan Inghilterra"
   ]
  },
  {
   "cell_type": "markdown",
   "metadata": {},
   "source": [
    "basic observed_otu alpha diversity calculation from cleaned biom dataset"
   ]
  },
  {
   "cell_type": "code",
   "execution_count": 6,
   "metadata": {},
   "outputs": [],
   "source": [
    "import pandas as pd\n",
    "from skbio.diversity import alpha\n",
    "import numpy as np"
   ]
  },
  {
   "cell_type": "code",
   "execution_count": 25,
   "metadata": {},
   "outputs": [],
   "source": [
    "# gather microbiome data \n",
    "biom = pd.read_pickle('../join_wflow_output_data/2.21.rar1000_clean_biom.pkl')\n",
    "biom = biom.fillna(0)"
   ]
  },
  {
   "cell_type": "code",
   "execution_count": 26,
   "metadata": {},
   "outputs": [
    {
     "data": {
      "text/plain": [
       "(18273, 112015)"
      ]
     },
     "execution_count": 26,
     "metadata": {},
     "output_type": "execute_result"
    }
   ],
   "source": [
    "biom.shape"
   ]
  },
  {
   "cell_type": "code",
   "execution_count": 29,
   "metadata": {},
   "outputs": [],
   "source": [
    "# calculate alpha diversity for each observation\n",
    "\n",
    "sample_ids = pd.DataFrame(biom['sample_id'])\n",
    "biom = biom.drop(columns = ['sample_name', 'sample_id'])\n",
    "biom = biom.values\n",
    "\n",
    "alpha_diversities = []\n",
    "\n",
    "for sample in range(len(biom)):\n",
    "    alpha_diversities.append(alpha.observed_otus(biom[sample, :]))"
   ]
  },
  {
   "cell_type": "code",
   "execution_count": 32,
   "metadata": {},
   "outputs": [],
   "source": [
    "sample_id_list = list(sample_ids.sample_id.values)\n",
    "\n",
    "final_df = pd.DataFrame()\n",
    "\n",
    "final_df['sample_id'] = sample_id_list\n",
    "\n",
    "final_df['otu_count'] = alpha_diversities\n",
    "\n",
    "print(final_df.shape)\n",
    "final_df.head()"
   ]
  },
  {
   "cell_type": "code",
   "execution_count": 41,
   "metadata": {},
   "outputs": [],
   "source": [
    "final_df.to_csv('2.21.rar1000.obs_otus_alpha.csv', index=False)"
   ]
  },
  {
   "cell_type": "code",
   "execution_count": null,
   "metadata": {},
   "outputs": [],
   "source": []
  }
 ],
 "metadata": {
  "kernelspec": {
   "display_name": "qiim2-2018.11",
   "language": "python",
   "name": "qiim2-2018.11"
  },
  "language_info": {
   "codemirror_mode": {
    "name": "ipython",
    "version": 3
   },
   "file_extension": ".py",
   "mimetype": "text/x-python",
   "name": "python",
   "nbconvert_exporter": "python",
   "pygments_lexer": "ipython3",
   "version": "3.5.5"
  }
 },
 "nbformat": 4,
 "nbformat_minor": 2
}
