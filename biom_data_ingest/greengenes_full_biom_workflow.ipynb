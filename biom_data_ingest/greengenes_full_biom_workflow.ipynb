{
 "cells": [
  {
   "cell_type": "markdown",
   "metadata": {},
   "source": [
    "This notebook contains an example of using `redbiom` through it's Python API to extract a subset of American Gut Project samples. These data are then loaded into QIIME 2 for a mini beta-diversity analysis using UniFrac. This assumes we're using a QIIME 2 2018.11 environment that additionally has `redbiom` 0.3.0 installed. The exact commands I ran to install it are:\n",
    "\n",
    "```\n",
    "$ conda install nltk\n",
    "$ pip install https://github.com/biocore/redbiom/archive/0.3.0.zip\n",
    "```"
   ]
  },
  {
   "cell_type": "code",
   "execution_count": 55,
   "metadata": {},
   "outputs": [],
   "source": [
    "import redbiom.summarize\n",
    "import redbiom.search\n",
    "import redbiom.fetch\n",
    "import qiime2\n",
    "from qiime2.plugins import feature_table\n",
    "import pandas as pd"
   ]
  },
  {
   "cell_type": "markdown",
   "metadata": {},
   "source": [
    "The first thing we're going to do is gather the `redbiom` contexts. A context is roughly a set of consistent technical parameters. For example, the specific sequenced gene, the variable region within the gene, the length of the read, and how the operational taxonomic units were assessed.\n",
    "\n",
    "The reason `redbiom` partitions data into contexts is because these technical details can lead to massive technical bias. The intention is to facilitate comparing \"apples\" to \"apples\". \n",
    "\n",
    "The context summarization returns a pandas `DataFrame` so it should be pretty friendly to manipulate."
   ]
  },
  {
   "cell_type": "code",
   "execution_count": 2,
   "metadata": {},
   "outputs": [],
   "source": [
    "contexts = redbiom.summarize.contexts()"
   ]
  },
  {
   "cell_type": "code",
   "execution_count": 3,
   "metadata": {},
   "outputs": [
    {
     "data": {
      "text/html": [
       "<div>\n",
       "<style scoped>\n",
       "    .dataframe tbody tr th:only-of-type {\n",
       "        vertical-align: middle;\n",
       "    }\n",
       "\n",
       "    .dataframe tbody tr th {\n",
       "        vertical-align: top;\n",
       "    }\n",
       "\n",
       "    .dataframe thead th {\n",
       "        text-align: right;\n",
       "    }\n",
       "</style>\n",
       "<table border=\"1\" class=\"dataframe\">\n",
       "  <thead>\n",
       "    <tr style=\"text-align: right;\">\n",
       "      <th></th>\n",
       "      <th>ContextName</th>\n",
       "      <th>SamplesWithData</th>\n",
       "      <th>FeaturesWithData</th>\n",
       "      <th>Description</th>\n",
       "    </tr>\n",
       "  </thead>\n",
       "  <tbody>\n",
       "    <tr>\n",
       "      <th>0</th>\n",
       "      <td>Pick_closed-reference_OTUs-Greengenes-Illumina...</td>\n",
       "      <td>206</td>\n",
       "      <td>309</td>\n",
       "      <td>Qiita context</td>\n",
       "    </tr>\n",
       "    <tr>\n",
       "      <th>1</th>\n",
       "      <td>Deblur-Illumina-16S-V1-2-150nt-780653</td>\n",
       "      <td>27</td>\n",
       "      <td>1613</td>\n",
       "      <td>Deblur (Reference phylogeny for SEPP: Greengen...</td>\n",
       "    </tr>\n",
       "    <tr>\n",
       "      <th>2</th>\n",
       "      <td>Pick_closed-reference_OTUs-Greengenes-Titanium...</td>\n",
       "      <td>215</td>\n",
       "      <td>4811</td>\n",
       "      <td>Qiita context</td>\n",
       "    </tr>\n",
       "    <tr>\n",
       "      <th>3</th>\n",
       "      <td>Pick_closed-reference_OTUs-Greengenes-Titanium...</td>\n",
       "      <td>976</td>\n",
       "      <td>11836</td>\n",
       "      <td>Qiita context</td>\n",
       "    </tr>\n",
       "    <tr>\n",
       "      <th>4</th>\n",
       "      <td>Pick_closed-reference_OTUs-Greengenes-FASTA-16...</td>\n",
       "      <td>18</td>\n",
       "      <td>1706</td>\n",
       "      <td>Qiita context</td>\n",
       "    </tr>\n",
       "  </tbody>\n",
       "</table>\n",
       "</div>"
      ],
      "text/plain": [
       "                                         ContextName  SamplesWithData  \\\n",
       "0  Pick_closed-reference_OTUs-Greengenes-Illumina...              206   \n",
       "1              Deblur-Illumina-16S-V1-2-150nt-780653               27   \n",
       "2  Pick_closed-reference_OTUs-Greengenes-Titanium...              215   \n",
       "3  Pick_closed-reference_OTUs-Greengenes-Titanium...              976   \n",
       "4  Pick_closed-reference_OTUs-Greengenes-FASTA-16...               18   \n",
       "\n",
       "   FeaturesWithData                                        Description  \n",
       "0               309                                      Qiita context  \n",
       "1              1613  Deblur (Reference phylogeny for SEPP: Greengen...  \n",
       "2              4811                                      Qiita context  \n",
       "3             11836                                      Qiita context  \n",
       "4              1706                                      Qiita context  "
      ]
     },
     "execution_count": 3,
     "metadata": {},
     "output_type": "execute_result"
    }
   ],
   "source": [
    "contexts.head()"
   ]
  },
  {
   "cell_type": "markdown",
   "metadata": {},
   "source": [
    "At the present time, determining the context to use is a bit manual and requires some strung munging. Additional development is needed.\n",
    "\n",
    "Let's take a look at the larger contexts."
   ]
  },
  {
   "cell_type": "code",
   "execution_count": 4,
   "metadata": {},
   "outputs": [
    {
     "data": {
      "text/html": [
       "<div>\n",
       "<style scoped>\n",
       "    .dataframe tbody tr th:only-of-type {\n",
       "        vertical-align: middle;\n",
       "    }\n",
       "\n",
       "    .dataframe tbody tr th {\n",
       "        vertical-align: top;\n",
       "    }\n",
       "\n",
       "    .dataframe thead th {\n",
       "        text-align: right;\n",
       "    }\n",
       "</style>\n",
       "<table border=\"1\" class=\"dataframe\">\n",
       "  <thead>\n",
       "    <tr style=\"text-align: right;\">\n",
       "      <th></th>\n",
       "      <th>ContextName</th>\n",
       "      <th>SamplesWithData</th>\n",
       "      <th>FeaturesWithData</th>\n",
       "      <th>Description</th>\n",
       "    </tr>\n",
       "  </thead>\n",
       "  <tbody>\n",
       "    <tr>\n",
       "      <th>9</th>\n",
       "      <td>Pick_closed-reference_OTUs-Greengenes-Illumina...</td>\n",
       "      <td>156761</td>\n",
       "      <td>83309</td>\n",
       "      <td>Qiita context</td>\n",
       "    </tr>\n",
       "    <tr>\n",
       "      <th>97</th>\n",
       "      <td>Pick_closed-reference_OTUs-Greengenes-Illumina...</td>\n",
       "      <td>145669</td>\n",
       "      <td>74959</td>\n",
       "      <td>Qiita context</td>\n",
       "    </tr>\n",
       "    <tr>\n",
       "      <th>92</th>\n",
       "      <td>Deblur-Illumina-16S-V4-100nt-fbc5b2</td>\n",
       "      <td>141809</td>\n",
       "      <td>5698310</td>\n",
       "      <td>Deblur (Reference phylogeny for SEPP: Greengen...</td>\n",
       "    </tr>\n",
       "    <tr>\n",
       "      <th>102</th>\n",
       "      <td>Pick_closed-reference_OTUs-Greengenes-Illumina...</td>\n",
       "      <td>141380</td>\n",
       "      <td>72999</td>\n",
       "      <td>Qiita context</td>\n",
       "    </tr>\n",
       "    <tr>\n",
       "      <th>75</th>\n",
       "      <td>Deblur-Illumina-16S-V4-90nt-99d1d8</td>\n",
       "      <td>137678</td>\n",
       "      <td>4576516</td>\n",
       "      <td>Deblur (Reference phylogeny for SEPP: Greengen...</td>\n",
       "    </tr>\n",
       "  </tbody>\n",
       "</table>\n",
       "</div>"
      ],
      "text/plain": [
       "                                           ContextName  SamplesWithData  \\\n",
       "9    Pick_closed-reference_OTUs-Greengenes-Illumina...           156761   \n",
       "97   Pick_closed-reference_OTUs-Greengenes-Illumina...           145669   \n",
       "92                 Deblur-Illumina-16S-V4-100nt-fbc5b2           141809   \n",
       "102  Pick_closed-reference_OTUs-Greengenes-Illumina...           141380   \n",
       "75                  Deblur-Illumina-16S-V4-90nt-99d1d8           137678   \n",
       "\n",
       "     FeaturesWithData                                        Description  \n",
       "9               83309                                      Qiita context  \n",
       "97              74959                                      Qiita context  \n",
       "92            5698310  Deblur (Reference phylogeny for SEPP: Greengen...  \n",
       "102             72999                                      Qiita context  \n",
       "75            4576516  Deblur (Reference phylogeny for SEPP: Greengen...  "
      ]
     },
     "execution_count": 4,
     "metadata": {},
     "output_type": "execute_result"
    }
   ],
   "source": [
    "contexts.sort_values('SamplesWithData', ascending=False).head()"
   ]
  },
  {
   "cell_type": "code",
   "execution_count": 5,
   "metadata": {},
   "outputs": [],
   "source": [
    "ctx = contexts.sort_values('SamplesWithData', ascending=False).iloc[0]['ContextName']"
   ]
  },
  {
   "cell_type": "code",
   "execution_count": 6,
   "metadata": {},
   "outputs": [
    {
     "data": {
      "text/plain": [
       "'Pick_closed-reference_OTUs-Greengenes-Illumina-16S-V4-5c6506'"
      ]
     },
     "execution_count": 6,
     "metadata": {},
     "output_type": "execute_result"
    }
   ],
   "source": [
    "ctx"
   ]
  },
  {
   "cell_type": "code",
   "execution_count": 7,
   "metadata": {},
   "outputs": [],
   "source": [
    "study_id = 10317  # the Qiita study ID of the American Gut Project is 10317\n",
    "results = {}\n",
    "for site in ['sebum', 'saliva', 'feces']:\n",
    "    query = \"where qiita_study_id==%d and env_material=='%s'\" % (study_id, site)\n",
    "    results[site] = redbiom.search.metadata_full(query)"
   ]
  },
  {
   "cell_type": "code",
   "execution_count": 8,
   "metadata": {},
   "outputs": [
    {
     "name": "stdout",
     "output_type": "stream",
     "text": [
      "saliva 1406\n",
      "sebum 1289\n",
      "feces 18659\n"
     ]
    }
   ],
   "source": [
    "for k, v in results.items():\n",
    "    print(k, len(v))"
   ]
  },
  {
   "cell_type": "code",
   "execution_count": 9,
   "metadata": {},
   "outputs": [],
   "source": [
    "to_keep = []\n",
    "for k, v in results.items():\n",
    "    to_keep.extend(list(v))"
   ]
  },
  {
   "cell_type": "code",
   "execution_count": 10,
   "metadata": {},
   "outputs": [
    {
     "data": {
      "text/plain": [
       "['10317.000030115',\n",
       " '10317.000017317',\n",
       " '10317.000028264',\n",
       " '10317.000009458',\n",
       " '10317.000027738']"
      ]
     },
     "execution_count": 10,
     "metadata": {},
     "output_type": "execute_result"
    }
   ],
   "source": [
    "to_keep[:5]"
   ]
  },
  {
   "cell_type": "markdown",
   "metadata": {},
   "source": [
    "The last output cell shows what these IDs look like. These are Qiita sample IDs.\n",
    "\n",
    "Now that we have some samples, let's get some data! What we're going to do is ask `redbiom` to obtain the sample data, for our `to_keep` samples, from the context we previously selected. What's happening behind the scenes is that the API is pulling out sparse vectors corresponding to the number of individual sequences observed for each operational taxonomic unit per sample, and additionally unmunging the names (as `redbiom` normalizes sample and feature identifiers). The output is then aggregated into what's called a BIOM `Table`, which is really just a rich object wrapped around a `scipy.sparse` matrix. \n",
    "\n",
    "You may noice two outputs on the return. The one we're ignoring represents \"ambiguous\" samples. Some sample identifiers are associated with multiple sequenced samples. This is because some samples may \"fail\" sequencing, where they didn't yield sufficient sequence data, and were rerun. These \"failures\" are still represented in Qiita, but are differentiated by the actual sequencing run they were on. This doesn't matter for the moment though."
   ]
  },
  {
   "cell_type": "code",
   "execution_count": 11,
   "metadata": {},
   "outputs": [],
   "source": [
    "biom_table, _ = redbiom.fetch.data_from_samples(ctx, to_keep)"
   ]
  },
  {
   "cell_type": "code",
   "execution_count": 12,
   "metadata": {},
   "outputs": [
    {
     "data": {
      "text/plain": [
       "34114 x 21238 <class 'biom.table.Table'> with 9262753 nonzero entries (1% dense)"
      ]
     },
     "execution_count": 12,
     "metadata": {},
     "output_type": "execute_result"
    }
   ],
   "source": [
    "biom_table"
   ]
  },
  {
   "cell_type": "markdown",
   "metadata": {},
   "source": [
    "The `repr` output shows that we have roughly 13k OTUs (operational taxonomic units), and only 244 samples. What gives? We were supposed to get 300! Just because a sample has metadata does not mean it has sequence data. It is also possible that some of the samples haven't been run through the same bioinformatic processing (e.g., closed reference at 100nt).\n",
    "\n",
    "More information on `biom` can be found [here](http://biom-format.org/). \n",
    "\n",
    "Let's play with the object for just a moment for familiarity."
   ]
  },
  {
   "cell_type": "code",
   "execution_count": 13,
   "metadata": {},
   "outputs": [
    {
     "data": {
      "text/plain": [
       "5 x 5 <class 'biom.table.Table'> with 0 nonzero entries (0% dense)"
      ]
     },
     "execution_count": 13,
     "metadata": {},
     "output_type": "execute_result"
    }
   ],
   "source": [
    "biom_table.head()"
   ]
  },
  {
   "cell_type": "code",
   "execution_count": 14,
   "metadata": {},
   "outputs": [
    {
     "name": "stdout",
     "output_type": "stream",
     "text": [
      "# Constructed from biom file\n",
      "#OTU ID\t10317.000023681.3099\t10317.000028593.3022\t10317.000041303.26484\t10317.000022953.3018\t10317.000003894.2946\n",
      "4391034\t0.0\t0.0\t0.0\t0.0\t0.0\n",
      "804828\t0.0\t0.0\t0.0\t0.0\t0.0\n",
      "633535\t0.0\t0.0\t0.0\t0.0\t0.0\n",
      "789411\t0.0\t0.0\t0.0\t0.0\t0.0\n",
      "4469492\t0.0\t0.0\t0.0\t0.0\t0.0\n"
     ]
    }
   ],
   "source": [
    "print(biom_table.head())"
   ]
  },
  {
   "cell_type": "markdown",
   "metadata": {},
   "source": [
    "Ah! We need a tree! Since we're using Greengenes, we can just rely on the existing prebuilt tree from the reference. Let's get that."
   ]
  },
  {
   "cell_type": "code",
   "execution_count": 15,
   "metadata": {},
   "outputs": [
    {
     "name": "stdout",
     "output_type": "stream",
     "text": [
      "--2019-06-02 15:18:56--  ftp://ftp.microbio.me/greengenes_release/gg_13_8_otus/\n",
      "           => '.listing'\n",
      "Resolving ftp.microbio.me... 169.228.46.98\n",
      "Connecting to ftp.microbio.me|169.228.46.98|:21... connected.\n",
      "Logging in as anonymous ... Logged in!\n",
      "==> SYST ... done.    ==> PWD ... done.\n",
      "==> TYPE I ... done.  ==> CWD (1) /greengenes_release/gg_13_8_otus ... done.\n",
      "==> PASV ... done.    ==> LIST ... done.\n",
      "\n",
      ".listing                [ <=>                ]     511  --.-KB/s    in 0s      \n",
      "\n",
      "2019-06-02 15:18:56 (32.5 MB/s) - '.listing' saved [511]\n",
      "\n",
      "Removed '.listing'.\n",
      "Wrote HTML-ized index to 'index.html' [1018].\n"
     ]
    }
   ],
   "source": [
    "!wget ftp://ftp.microbio.me/greengenes_release/gg_13_8_otus/"
   ]
  },
  {
   "cell_type": "code",
   "execution_count": 18,
   "metadata": {},
   "outputs": [
    {
     "name": "stdout",
     "output_type": "stream",
     "text": [
      "--2019-06-02 15:19:49--  ftp://ftp.microbio.me/greengenes_release/gg_13_8_otus/trees/97_otus.tree\n",
      "           => '97_otus.tree'\n",
      "Resolving ftp.microbio.me... 169.228.46.98\n",
      "Connecting to ftp.microbio.me|169.228.46.98|:21... connected.\n",
      "Logging in as anonymous ... Logged in!\n",
      "==> SYST ... done.    ==> PWD ... done.\n",
      "==> TYPE I ... done.  ==> CWD (1) /greengenes_release/gg_13_8_otus/trees ... done.\n",
      "==> SIZE 97_otus.tree ... 2542738\n",
      "==> PASV ... done.    ==> RETR 97_otus.tree ... done.\n",
      "Length: 2542738 (2.4M) (unauthoritative)\n",
      "\n",
      "97_otus.tree        100%[===================>]   2.42M  2.99MB/s    in 0.8s    \n",
      "\n",
      "2019-06-02 15:19:54 (2.99 MB/s) - '97_otus.tree' saved [2542738]\n",
      "\n"
     ]
    }
   ],
   "source": [
    "!wget ftp://ftp.microbio.me/greengenes_release/gg_13_8_otus/trees/97_otus.tree"
   ]
  },
  {
   "cell_type": "code",
   "execution_count": 19,
   "metadata": {},
   "outputs": [],
   "source": [
    "tree_ar = qiime2.Artifact.import_data('Phylogeny[Rooted]', '97_otus.tree')"
   ]
  },
  {
   "cell_type": "markdown",
   "metadata": {},
   "source": [
    "## Export full_otu table so dont have to reload everything later"
   ]
  },
  {
   "cell_type": "code",
   "execution_count": 20,
   "metadata": {},
   "outputs": [],
   "source": [
    "from biom import load_table"
   ]
  },
  {
   "cell_type": "code",
   "execution_count": 23,
   "metadata": {},
   "outputs": [],
   "source": [
    "table_ar = qiime2.Artifact.import_data('FeatureTable[Frequency]', biom_table)"
   ]
  },
  {
   "cell_type": "code",
   "execution_count": 24,
   "metadata": {},
   "outputs": [],
   "source": [
    "table_ar.export_data('full_otus_greengenes')"
   ]
  },
  {
   "cell_type": "code",
   "execution_count": 26,
   "metadata": {},
   "outputs": [
    {
     "name": "stdout",
     "output_type": "stream",
     "text": [
      "feature-table.biom\r\n"
     ]
    }
   ],
   "source": [
    "!ls full_otus_greengenes"
   ]
  },
  {
   "cell_type": "code",
   "execution_count": 27,
   "metadata": {},
   "outputs": [],
   "source": [
    "btable = load_table('full_otus_greengenes/feature-table.biom')"
   ]
  },
  {
   "cell_type": "code",
   "execution_count": 28,
   "metadata": {},
   "outputs": [
    {
     "data": {
      "text/plain": [
       "34114 x 21238 <class 'biom.table.Table'> with 9262753 nonzero entries (1% dense)"
      ]
     },
     "execution_count": 28,
     "metadata": {},
     "output_type": "execute_result"
    }
   ],
   "source": [
    "btable"
   ]
  },
  {
   "cell_type": "code",
   "execution_count": 29,
   "metadata": {},
   "outputs": [],
   "source": [
    "import skbio\n",
    "import biom\n",
    "import argparse\n",
    "import sys\n",
    "\n",
    "__version__='1.0'\n",
    "\n",
    "\n",
    "def trim_seqs(seqs, seqlength=100):\n",
    "    \"\"\"\n",
    "    Trims the sequences to a given length\n",
    "\n",
    "    Parameters\n",
    "    ----------\n",
    "    seqs: generator of skbio.Sequence objects\n",
    "\n",
    "    Returns\n",
    "    -------\n",
    "    generator of skbio.Sequence objects\n",
    "        trimmed sequences\n",
    "    \"\"\"\n",
    "\n",
    "    for seq in seqs:\n",
    "\n",
    "        if len(seq) < seqlength:\n",
    "            raise ValueError('sequence length is shorter than %d' % seqlength)\n",
    "\n",
    "        yield seq[:seqlength]\n",
    "\n",
    "\n",
    "def remove_seqs(table, seqs):\n",
    "    \"\"\"\n",
    "    Parameters\n",
    "    ----------\n",
    "    table : biom.Table\n",
    "       Input biom table\n",
    "    seqs : generator, skbio.Sequence\n",
    "       Iterator of sequence objects to be removed from the biom table.\n",
    "\n",
    "    Return\n",
    "    ------\n",
    "    biom.Table\n",
    "    \"\"\"\n",
    "    filter_seqs = {str(s) for s in seqs}\n",
    "    _filter = lambda v, i, m: i not in filter_seqs\n",
    "    return table.filter(_filter, axis='observation', inplace=False)"
   ]
  },
  {
   "cell_type": "code",
   "execution_count": 34,
   "metadata": {},
   "outputs": [],
   "source": [
    "table = load_table('full_otus_greengenes/feature-table.biom')\n",
    "seqs_file = 'newbloom.all.fna'"
   ]
  },
  {
   "cell_type": "code",
   "execution_count": 35,
   "metadata": {},
   "outputs": [
    {
     "data": {
      "text/plain": [
       "34114 x 21238 <class 'biom.table.Table'> with 9262753 nonzero entries (1% dense)"
      ]
     },
     "execution_count": 35,
     "metadata": {},
     "output_type": "execute_result"
    }
   ],
   "source": [
    "table"
   ]
  },
  {
   "cell_type": "code",
   "execution_count": 36,
   "metadata": {},
   "outputs": [],
   "source": [
    "seqs = skbio.read(seqs_file, format='fasta')"
   ]
  },
  {
   "cell_type": "code",
   "execution_count": 37,
   "metadata": {},
   "outputs": [],
   "source": [
    "length = min(map(len, table.ids(axis='observation')))\n",
    "seqs = trim_seqs(seqs, seqlength=length)"
   ]
  },
  {
   "cell_type": "code",
   "execution_count": 38,
   "metadata": {},
   "outputs": [],
   "source": [
    "outtable = remove_seqs(table, seqs)"
   ]
  },
  {
   "cell_type": "code",
   "execution_count": 39,
   "metadata": {},
   "outputs": [
    {
     "data": {
      "text/plain": [
       "34114 x 21238 <class 'biom.table.Table'> with 9262753 nonzero entries (1% dense)"
      ]
     },
     "execution_count": 39,
     "metadata": {},
     "output_type": "execute_result"
    }
   ],
   "source": [
    "outtable"
   ]
  },
  {
   "cell_type": "code",
   "execution_count": 40,
   "metadata": {},
   "outputs": [],
   "source": [
    "table_ar = qiime2.Artifact.import_data('FeatureTable[Frequency]', outtable)"
   ]
  },
  {
   "cell_type": "markdown",
   "metadata": {},
   "source": [
    "## Rarification"
   ]
  },
  {
   "cell_type": "code",
   "execution_count": 45,
   "metadata": {},
   "outputs": [],
   "source": [
    "sampling_depth=1000"
   ]
  },
  {
   "cell_type": "code",
   "execution_count": 47,
   "metadata": {},
   "outputs": [],
   "source": [
    "# rarefy to 1000 sequences per sample (yes, it's arbitrary)\n",
    "rare_ar, = feature_table.actions.rarefy(table=table_ar, sampling_depth=sampling_depth)"
   ]
  },
  {
   "cell_type": "code",
   "execution_count": 48,
   "metadata": {},
   "outputs": [],
   "source": [
    "biom_table_rar = rare_ar.view(biom.Table)"
   ]
  },
  {
   "cell_type": "code",
   "execution_count": 49,
   "metadata": {},
   "outputs": [
    {
     "data": {
      "text/plain": [
       "19134 x 20304 <class 'biom.table.Table'> with 2519259 nonzero entries (0% dense)"
      ]
     },
     "execution_count": 49,
     "metadata": {},
     "output_type": "execute_result"
    }
   ],
   "source": [
    "biom_table_rar"
   ]
  },
  {
   "cell_type": "code",
   "execution_count": 50,
   "metadata": {},
   "outputs": [
    {
     "name": "stdout",
     "output_type": "stream",
     "text": [
      "# Constructed from biom file\n",
      "#OTU ID\t10317.000023681.3099\t10317.000028593.3022\t10317.000041303.26484\t10317.000022953.3018\t10317.000015004.2917\n",
      "4391034\t0.0\t0.0\t0.0\t0.0\t0.0\n",
      "789411\t0.0\t0.0\t0.0\t0.0\t0.0\n",
      "4469492\t0.0\t0.0\t0.0\t0.0\t0.0\n"
     ]
    }
   ],
   "source": [
    "print(biom_table_rar.head(3))"
   ]
  },
  {
   "cell_type": "code",
   "execution_count": 69,
   "metadata": {},
   "outputs": [],
   "source": [
    "rare_ar.export_data('rar1000_greengenes')"
   ]
  },
  {
   "cell_type": "code",
   "execution_count": null,
   "metadata": {},
   "outputs": [],
   "source": []
  },
  {
   "cell_type": "markdown",
   "metadata": {},
   "source": [
    "## converting to sparse dataframe format"
   ]
  },
  {
   "cell_type": "code",
   "execution_count": 51,
   "metadata": {},
   "outputs": [],
   "source": [
    "c = biom_table_rar.matrix_data"
   ]
  },
  {
   "cell_type": "code",
   "execution_count": 52,
   "metadata": {},
   "outputs": [],
   "source": [
    "c = c.transpose()"
   ]
  },
  {
   "cell_type": "code",
   "execution_count": 53,
   "metadata": {},
   "outputs": [
    {
     "data": {
      "text/plain": [
       "<20304x19134 sparse matrix of type '<class 'numpy.float64'>'\n",
       "\twith 2519259 stored elements in Compressed Sparse Column format>"
      ]
     },
     "execution_count": 53,
     "metadata": {},
     "output_type": "execute_result"
    }
   ],
   "source": [
    "c"
   ]
  },
  {
   "cell_type": "code",
   "execution_count": 56,
   "metadata": {},
   "outputs": [],
   "source": [
    "cdf = pd.SparseDataFrame(c)"
   ]
  },
  {
   "cell_type": "code",
   "execution_count": 57,
   "metadata": {},
   "outputs": [
    {
     "name": "stdout",
     "output_type": "stream",
     "text": [
      "(20304, 19134)\n"
     ]
    }
   ],
   "source": [
    "print(cdf.shape)"
   ]
  },
  {
   "cell_type": "code",
   "execution_count": 58,
   "metadata": {},
   "outputs": [],
   "source": [
    "cdf['sample_name'] = biom_table_rar.ids()"
   ]
  },
  {
   "cell_type": "code",
   "execution_count": 59,
   "metadata": {},
   "outputs": [
    {
     "data": {
      "text/html": [
       "<div>\n",
       "<style scoped>\n",
       "    .dataframe tbody tr th:only-of-type {\n",
       "        vertical-align: middle;\n",
       "    }\n",
       "\n",
       "    .dataframe tbody tr th {\n",
       "        vertical-align: top;\n",
       "    }\n",
       "\n",
       "    .dataframe thead th {\n",
       "        text-align: right;\n",
       "    }\n",
       "</style>\n",
       "<table border=\"1\" class=\"dataframe\">\n",
       "  <thead>\n",
       "    <tr style=\"text-align: right;\">\n",
       "      <th></th>\n",
       "      <th>0</th>\n",
       "      <th>1</th>\n",
       "      <th>2</th>\n",
       "      <th>3</th>\n",
       "      <th>4</th>\n",
       "      <th>5</th>\n",
       "      <th>6</th>\n",
       "      <th>7</th>\n",
       "      <th>8</th>\n",
       "      <th>9</th>\n",
       "      <th>...</th>\n",
       "      <th>19125</th>\n",
       "      <th>19126</th>\n",
       "      <th>19127</th>\n",
       "      <th>19128</th>\n",
       "      <th>19129</th>\n",
       "      <th>19130</th>\n",
       "      <th>19131</th>\n",
       "      <th>19132</th>\n",
       "      <th>19133</th>\n",
       "      <th>sample_name</th>\n",
       "    </tr>\n",
       "  </thead>\n",
       "  <tbody>\n",
       "    <tr>\n",
       "      <th>0</th>\n",
       "      <td>NaN</td>\n",
       "      <td>NaN</td>\n",
       "      <td>NaN</td>\n",
       "      <td>NaN</td>\n",
       "      <td>NaN</td>\n",
       "      <td>NaN</td>\n",
       "      <td>NaN</td>\n",
       "      <td>NaN</td>\n",
       "      <td>NaN</td>\n",
       "      <td>NaN</td>\n",
       "      <td>...</td>\n",
       "      <td>NaN</td>\n",
       "      <td>NaN</td>\n",
       "      <td>NaN</td>\n",
       "      <td>NaN</td>\n",
       "      <td>NaN</td>\n",
       "      <td>NaN</td>\n",
       "      <td>NaN</td>\n",
       "      <td>NaN</td>\n",
       "      <td>NaN</td>\n",
       "      <td>10317.000023681.3099</td>\n",
       "    </tr>\n",
       "    <tr>\n",
       "      <th>1</th>\n",
       "      <td>NaN</td>\n",
       "      <td>NaN</td>\n",
       "      <td>NaN</td>\n",
       "      <td>NaN</td>\n",
       "      <td>NaN</td>\n",
       "      <td>NaN</td>\n",
       "      <td>NaN</td>\n",
       "      <td>NaN</td>\n",
       "      <td>NaN</td>\n",
       "      <td>NaN</td>\n",
       "      <td>...</td>\n",
       "      <td>NaN</td>\n",
       "      <td>NaN</td>\n",
       "      <td>NaN</td>\n",
       "      <td>NaN</td>\n",
       "      <td>NaN</td>\n",
       "      <td>NaN</td>\n",
       "      <td>NaN</td>\n",
       "      <td>NaN</td>\n",
       "      <td>NaN</td>\n",
       "      <td>10317.000028593.3022</td>\n",
       "    </tr>\n",
       "    <tr>\n",
       "      <th>2</th>\n",
       "      <td>NaN</td>\n",
       "      <td>NaN</td>\n",
       "      <td>NaN</td>\n",
       "      <td>NaN</td>\n",
       "      <td>NaN</td>\n",
       "      <td>NaN</td>\n",
       "      <td>NaN</td>\n",
       "      <td>NaN</td>\n",
       "      <td>NaN</td>\n",
       "      <td>NaN</td>\n",
       "      <td>...</td>\n",
       "      <td>NaN</td>\n",
       "      <td>NaN</td>\n",
       "      <td>NaN</td>\n",
       "      <td>NaN</td>\n",
       "      <td>NaN</td>\n",
       "      <td>NaN</td>\n",
       "      <td>NaN</td>\n",
       "      <td>NaN</td>\n",
       "      <td>NaN</td>\n",
       "      <td>10317.000041303.26484</td>\n",
       "    </tr>\n",
       "  </tbody>\n",
       "</table>\n",
       "<p>3 rows × 19135 columns</p>\n",
       "</div>"
      ],
      "text/plain": [
       "    0   1   2   3   4   5   6   7   8   9          ...            19125  \\\n",
       "0 NaN NaN NaN NaN NaN NaN NaN NaN NaN NaN          ...              NaN   \n",
       "1 NaN NaN NaN NaN NaN NaN NaN NaN NaN NaN          ...              NaN   \n",
       "2 NaN NaN NaN NaN NaN NaN NaN NaN NaN NaN          ...              NaN   \n",
       "\n",
       "   19126  19127  19128  19129  19130  19131  19132  19133  \\\n",
       "0    NaN    NaN    NaN    NaN    NaN    NaN    NaN    NaN   \n",
       "1    NaN    NaN    NaN    NaN    NaN    NaN    NaN    NaN   \n",
       "2    NaN    NaN    NaN    NaN    NaN    NaN    NaN    NaN   \n",
       "\n",
       "             sample_name  \n",
       "0   10317.000023681.3099  \n",
       "1   10317.000028593.3022  \n",
       "2  10317.000041303.26484  \n",
       "\n",
       "[3 rows x 19135 columns]"
      ]
     },
     "execution_count": 59,
     "metadata": {},
     "output_type": "execute_result"
    }
   ],
   "source": [
    "cdf.head(3)"
   ]
  },
  {
   "cell_type": "markdown",
   "metadata": {},
   "source": [
    "**write biom sparse dataframe to pickle file**"
   ]
  },
  {
   "cell_type": "code",
   "execution_count": 61,
   "metadata": {},
   "outputs": [],
   "source": [
    "cdf.to_pickle('greengenes_all_body_4.10.rar1000.biom_data.pkl')"
   ]
  },
  {
   "cell_type": "markdown",
   "metadata": {},
   "source": [
    "## create dna_seq lookup_id which matches the column in cdf"
   ]
  },
  {
   "cell_type": "code",
   "execution_count": 62,
   "metadata": {},
   "outputs": [],
   "source": [
    "otu_ids =   biom_table_rar.ids(axis='observation')"
   ]
  },
  {
   "cell_type": "code",
   "execution_count": 63,
   "metadata": {},
   "outputs": [],
   "source": [
    "otu_id_df = pd.DataFrame(otu_ids, columns=['dna_seq'])"
   ]
  },
  {
   "cell_type": "code",
   "execution_count": 64,
   "metadata": {},
   "outputs": [],
   "source": [
    "otu_id_df['lookup_id'] = range(len(otu_id_df)) "
   ]
  },
  {
   "cell_type": "code",
   "execution_count": 65,
   "metadata": {
    "scrolled": true
   },
   "outputs": [
    {
     "data": {
      "text/html": [
       "<div>\n",
       "<style scoped>\n",
       "    .dataframe tbody tr th:only-of-type {\n",
       "        vertical-align: middle;\n",
       "    }\n",
       "\n",
       "    .dataframe tbody tr th {\n",
       "        vertical-align: top;\n",
       "    }\n",
       "\n",
       "    .dataframe thead th {\n",
       "        text-align: right;\n",
       "    }\n",
       "</style>\n",
       "<table border=\"1\" class=\"dataframe\">\n",
       "  <thead>\n",
       "    <tr style=\"text-align: right;\">\n",
       "      <th></th>\n",
       "      <th>dna_seq</th>\n",
       "      <th>lookup_id</th>\n",
       "    </tr>\n",
       "  </thead>\n",
       "  <tbody>\n",
       "    <tr>\n",
       "      <th>0</th>\n",
       "      <td>4391034</td>\n",
       "      <td>0</td>\n",
       "    </tr>\n",
       "    <tr>\n",
       "      <th>1</th>\n",
       "      <td>789411</td>\n",
       "      <td>1</td>\n",
       "    </tr>\n",
       "    <tr>\n",
       "      <th>2</th>\n",
       "      <td>4469492</td>\n",
       "      <td>2</td>\n",
       "    </tr>\n",
       "    <tr>\n",
       "      <th>3</th>\n",
       "      <td>820091</td>\n",
       "      <td>3</td>\n",
       "    </tr>\n",
       "    <tr>\n",
       "      <th>4</th>\n",
       "      <td>104141</td>\n",
       "      <td>4</td>\n",
       "    </tr>\n",
       "  </tbody>\n",
       "</table>\n",
       "</div>"
      ],
      "text/plain": [
       "   dna_seq  lookup_id\n",
       "0  4391034          0\n",
       "1   789411          1\n",
       "2  4469492          2\n",
       "3   820091          3\n",
       "4   104141          4"
      ]
     },
     "execution_count": 65,
     "metadata": {},
     "output_type": "execute_result"
    }
   ],
   "source": [
    "otu_id_df.head()"
   ]
  },
  {
   "cell_type": "markdown",
   "metadata": {},
   "source": [
    "**write id lookup to csv file**"
   ]
  },
  {
   "cell_type": "code",
   "execution_count": 66,
   "metadata": {},
   "outputs": [],
   "source": [
    "otu_id_df.to_csv('greengenes_all_body_4.10.rar1000.biom_data.pkl', index=False)"
   ]
  }
 ],
 "metadata": {
  "kernelspec": {
   "display_name": "qiim2-2018.11",
   "language": "python",
   "name": "qiim2-2018.11"
  },
  "language_info": {
   "codemirror_mode": {
    "name": "ipython",
    "version": 3
   },
   "file_extension": ".py",
   "mimetype": "text/x-python",
   "name": "python",
   "nbconvert_exporter": "python",
   "pygments_lexer": "ipython3",
   "version": "3.5.5"
  }
 },
 "nbformat": 4,
 "nbformat_minor": 2
}
