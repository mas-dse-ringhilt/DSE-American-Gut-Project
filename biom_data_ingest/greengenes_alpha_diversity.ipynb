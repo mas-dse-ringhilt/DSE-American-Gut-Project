{
 "cells": [
  {
   "cell_type": "markdown",
   "metadata": {},
   "source": [
    "calculate phylogenic alpha diversity for rarified biom data, with greengenes97 tree"
   ]
  },
  {
   "cell_type": "code",
   "execution_count": 9,
   "metadata": {},
   "outputs": [],
   "source": [
    "import redbiom.summarize\n",
    "import redbiom.search\n",
    "import redbiom.fetch\n",
    "import qiime2\n",
    "from qiime2.plugins import feature_table, diversity\n",
    "import pandas as pd\n",
    "from biom import load_table"
   ]
  },
  {
   "cell_type": "code",
   "execution_count": 5,
   "metadata": {},
   "outputs": [],
   "source": [
    "btable = load_table('./rar1000_greengenes/feature-table.biom')"
   ]
  },
  {
   "cell_type": "code",
   "execution_count": 6,
   "metadata": {},
   "outputs": [
    {
     "data": {
      "text/plain": [
       "19134 x 20304 <class 'biom.table.Table'> with 2519259 nonzero entries (0% dense)"
      ]
     },
     "execution_count": 6,
     "metadata": {},
     "output_type": "execute_result"
    }
   ],
   "source": [
    "btable"
   ]
  },
  {
   "cell_type": "code",
   "execution_count": 11,
   "metadata": {},
   "outputs": [],
   "source": [
    "table_ar = qiime2.Artifact.import_data('FeatureTable[Frequency]', btable)"
   ]
  },
  {
   "cell_type": "markdown",
   "metadata": {},
   "source": [
    "## Skbio Grenegenes tree load"
   ]
  },
  {
   "cell_type": "markdown",
   "metadata": {},
   "source": [
    "fix tree issue - https://forum.qiime2.org/t/greengenes-tree-download-with-branch-lengths/3329/5"
   ]
  },
  {
   "cell_type": "code",
   "execution_count": 13,
   "metadata": {},
   "outputs": [],
   "source": [
    "import skbio\n",
    "\n",
    "t = skbio.TreeNode.read('97_otus.tree')\n",
    "\n",
    "for n in t.traverse():\n",
    "    if n.length is None:\n",
    "        n.length = 0.0\n",
    "\n",
    "\n",
    "# import qiime2\n",
    "ar = qiime2.Artifact.import_data('Phylogeny[Rooted]', t)\n",
    "# ar.save('97_otus.qza')"
   ]
  },
  {
   "cell_type": "markdown",
   "metadata": {},
   "source": [
    "calculate alpha diversity with qiime library"
   ]
  },
  {
   "cell_type": "code",
   "execution_count": 14,
   "metadata": {},
   "outputs": [],
   "source": [
    "alpha_div = diversity.actions.alpha_phylogenetic(table=table_ar, phylogeny=ar, metric='faith_pd')"
   ]
  },
  {
   "cell_type": "code",
   "execution_count": 15,
   "metadata": {},
   "outputs": [],
   "source": [
    "alpha_div.alpha_diversity.export_data('alpha_div')"
   ]
  },
  {
   "cell_type": "markdown",
   "metadata": {},
   "source": [
    "directly calculate alpha_div with skbio instead (I dont like biomTable structure, its confusing)"
   ]
  },
  {
   "cell_type": "code",
   "execution_count": 16,
   "metadata": {},
   "outputs": [],
   "source": [
    "counts = btable.matrix_data.toarray().astype(int).T"
   ]
  },
  {
   "cell_type": "code",
   "execution_count": 17,
   "metadata": {},
   "outputs": [],
   "source": [
    "sample_ids = btable.ids(axis='sample')\n",
    "feature_ids = btable.ids(axis='observation')"
   ]
  },
  {
   "cell_type": "code",
   "execution_count": 18,
   "metadata": {},
   "outputs": [],
   "source": [
    "result = skbio.diversity.alpha_diversity(metric='faith_pd',\n",
    "                                         counts=counts,\n",
    "                                         ids=sample_ids,\n",
    "                                         otu_ids=feature_ids,\n",
    "                                         tree=t)\n"
   ]
  },
  {
   "cell_type": "code",
   "execution_count": 19,
   "metadata": {},
   "outputs": [
    {
     "name": "stdout",
     "output_type": "stream",
     "text": [
      "20304\n"
     ]
    },
    {
     "data": {
      "text/plain": [
       "10317.000023681.3099     14.05699\n",
       "10317.000028593.3022     13.11953\n",
       "10317.000041303.26484    10.39727\n",
       "10317.000022953.3018     13.64948\n",
       "10317.000015004.2917      5.67176\n",
       "dtype: float64"
      ]
     },
     "execution_count": 19,
     "metadata": {},
     "output_type": "execute_result"
    }
   ],
   "source": [
    "print(len(result))\n",
    "result[:5]"
   ]
  },
  {
   "cell_type": "code",
   "execution_count": null,
   "metadata": {},
   "outputs": [],
   "source": []
  }
 ],
 "metadata": {
  "kernelspec": {
   "display_name": "qiim2-2018.11",
   "language": "python",
   "name": "qiim2-2018.11"
  },
  "language_info": {
   "codemirror_mode": {
    "name": "ipython",
    "version": 3
   },
   "file_extension": ".py",
   "mimetype": "text/x-python",
   "name": "python",
   "nbconvert_exporter": "python",
   "pygments_lexer": "ipython3",
   "version": "3.5.5"
  }
 },
 "nbformat": 4,
 "nbformat_minor": 2
}
