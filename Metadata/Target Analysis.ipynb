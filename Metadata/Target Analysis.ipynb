{
 "cells": [
  {
   "cell_type": "code",
   "execution_count": 52,
   "metadata": {},
   "outputs": [],
   "source": [
    "import pandas as pd\n",
    "import seaborn as sns\n",
    "\n",
    "from american_gut_project.persist import load_dataframe\n"
   ]
  },
  {
   "cell_type": "code",
   "execution_count": 53,
   "metadata": {},
   "outputs": [
    {
     "name": "stderr",
     "output_type": "stream",
     "text": [
      "/Users/srowan/.virtual_envs/agp/lib/python3.6/site-packages/IPython/core/interactiveshell.py:3185: DtypeWarning: Columns (25,28,29,30,31,63,71,75,92,93,94,95,96,97,98,99,100,101,102,103,104,105,106,107,108,109,110,111,112,113,114,115,116,117,119,120,121,122,123,124,125,126,127,128,129,130,131,132,133,134,135,136,137,138,139,140,141,142,143,144,145,146,147,148,149,150,151,152,153,154,155,156,157,158,159,160,161,162,163,164,167,168,169,170,171,172,173,174,175,176,182,187,190,191,192,204,225,235,238,248,249,250,262,284,285,286,287,288,289,292,293,294,295,296,297,298,299,300,301,302,303,309,316) have mixed types. Specify dtype option on import or set low_memory=False.\n",
      "  if (yield from self.run_code(code, result)):\n"
     ]
    }
   ],
   "source": [
    "df = load_dataframe('agp_only_meta.csv')"
   ]
  },
  {
   "cell_type": "code",
   "execution_count": 54,
   "metadata": {},
   "outputs": [
    {
     "data": {
      "text/plain": [
       "Index(['index', 'sample_name', 'acid_reflux', 'acne_medication',\n",
       "       'acne_medication_otc', 'add_adhd', 'age_cat', 'age_corrected',\n",
       "       'age_years', 'alcohol_consumption',\n",
       "       ...\n",
       "       'vitamin_b_supplement_frequency', 'vitamin_d_supplement_frequency',\n",
       "       'vivid_dreams', 'weight_cat', 'weight_change', 'weight_kg',\n",
       "       'weight_units', 'whole_eggs', 'whole_grain_frequency', 'sample_id'],\n",
       "      dtype='object', length=323)"
      ]
     },
     "execution_count": 54,
     "metadata": {},
     "output_type": "execute_result"
    }
   ],
   "source": [
    "df.columns"
   ]
  },
  {
   "cell_type": "code",
   "execution_count": 55,
   "metadata": {
    "scrolled": true
   },
   "outputs": [
    {
     "data": {
      "text/plain": [
       "I do not have this condition                                         14612\n",
       "Not provided                                                          5396\n",
       "Diagnosed by a medical professional (doctor, physician assistant)     2035\n",
       "Unspecified                                                            267\n",
       "Self-diagnosed                                                         154\n",
       "Diagnosed by an alternative medicine practitioner                       96\n",
       "not applicable                                                          10\n",
       "Not applicable                                                           1\n",
       "Name: autoimmune, dtype: int64"
      ]
     },
     "execution_count": 55,
     "metadata": {},
     "output_type": "execute_result"
    }
   ],
   "source": [
    "df['autoimmune'].value_counts()"
   ]
  },
  {
   "cell_type": "code",
   "execution_count": 56,
   "metadata": {},
   "outputs": [
    {
     "data": {
      "text/plain": [
       "I do not have this condition                                         11553\n",
       "Not provided                                                          9698\n",
       "Diagnosed by a medical professional (doctor, physician assistant)      928\n",
       "Unspecified                                                            378\n",
       "not applicable                                                          10\n",
       "Diagnosed by an alternative medicine practitioner                        3\n",
       "Not applicable                                                           1\n",
       "Name: cancer, dtype: int64"
      ]
     },
     "execution_count": 56,
     "metadata": {},
     "output_type": "execute_result"
    }
   ],
   "source": [
    "df['cancer'].value_counts()"
   ]
  },
  {
   "cell_type": "code",
   "execution_count": 57,
   "metadata": {},
   "outputs": [
    {
     "data": {
      "text/plain": [
       "I do not have this condition                                         21216\n",
       "Not provided                                                           691\n",
       "Diagnosed by a medical professional (doctor, physician assistant)      424\n",
       "Unspecified                                                            198\n",
       "Self-diagnosed                                                          22\n",
       "not applicable                                                          10\n",
       "Diagnosed by an alternative medicine practitioner                        9\n",
       "Name: diabetes, dtype: int64"
      ]
     },
     "execution_count": 57,
     "metadata": {},
     "output_type": "execute_result"
    }
   ],
   "source": [
    "df['diabetes'].value_counts()"
   ]
  },
  {
   "cell_type": "code",
   "execution_count": null,
   "metadata": {},
   "outputs": [],
   "source": [
    "# Find useful targets\n",
    "\n",
    "col_val_dict = {}\n",
    "for c in df.columns:\n",
    "    num_diagnosed = df[df[c] == 'Diagnosed by a medical professional (doctor, physician assistant)'][c].count()\n",
    "    col_val_dict[c] = num_diagnosed"
   ]
  },
  {
   "cell_type": "code",
   "execution_count": 59,
   "metadata": {},
   "outputs": [
    {
     "data": {
      "text/plain": [
       "skin_condition                                            4153\n",
       "clinical_condition                                        3355\n",
       "ibs                                                       2123\n",
       "lung_disease                                              2064\n",
       "autoimmune                                                2035\n",
       "migraine                                                  1925\n",
       "acid_reflux                                               1863\n",
       "thyroid                                                   1643\n",
       "cancer                                                     928\n",
       "ibd                                                        842\n",
       "fungal_overgrowth                                          785\n",
       "cardiovascular_disease                                     783\n",
       "add_adhd                                                   725\n",
       "depression_bipolar_schizophrenia                           597\n",
       "asd                                                        432\n",
       "diabetes                                                   424\n",
       "sibo                                                       380\n",
       "cdiff                                                      294\n",
       "liver_disease                                              287\n",
       "kidney_disease                                             279\n",
       "epilepsy_or_seizure_disorder                               207\n",
       "alzheimers                                                  20\n",
       "pku                                                         12\n",
       "fermented_consumed_sauerkraut                                0\n",
       "sample_id                                                    0\n",
       "fermented_consumed_sour_creamcreme_fraiche                   0\n",
       "fermented_consumed_tempeh                                    0\n",
       "fermented_consumed_unspecified                               0\n",
       "fermented_consumed_wine                                      0\n",
       "fermented_consumed_pickled_vegetables                        0\n",
       "                                                          ... \n",
       "non_food_allergies_pet_dander                                0\n",
       "non_food_allergies_sun                                       0\n",
       "last_travel                                                  0\n",
       "non_food_allergies_unspecified                               0\n",
       "olive_oil                                                    0\n",
       "one_liter_of_water_a_day_frequency                           0\n",
       "other_animals_free_text                                      0\n",
       "other_supplement_frequency                                   0\n",
       "pets_other                                                   0\n",
       "pets_other_freetext                                          0\n",
       "milk_substitute_frequency                                    0\n",
       "milk_cheese_frequency                                        0\n",
       "mental_illness_type_unspecified                              0\n",
       "mental_illness_type_substance_abuse                          0\n",
       "latitude                                                     0\n",
       "level_of_education                                           0\n",
       "living_status                                                0\n",
       "livingwith                                                   0\n",
       "longitude                                                    0\n",
       "lowgrain_diet_type                                           0\n",
       "meat_eggs_frequency                                          0\n",
       "mental_illness                                               0\n",
       "mental_illness_type                                          0\n",
       "mental_illness_type_anorexia_nervosa                         0\n",
       "mental_illness_type_bipolar_disorder                         0\n",
       "mental_illness_type_bulimia_nervosa                          0\n",
       "mental_illness_type_depression                               0\n",
       "mental_illness_type_ptsd_posttraumatic_stress_disorder       0\n",
       "mental_illness_type_schizophrenia                            0\n",
       "index                                                        0\n",
       "Length: 323, dtype: int64"
      ]
     },
     "execution_count": 59,
     "metadata": {},
     "output_type": "execute_result"
    }
   ],
   "source": [
    "targets = pd.Series(col_val_dict).sort_values(ascending=False)\n",
    "targets"
   ]
  },
  {
   "cell_type": "code",
   "execution_count": 60,
   "metadata": {},
   "outputs": [
    {
     "data": {
      "text/plain": [
       "22644"
      ]
     },
     "execution_count": 60,
     "metadata": {},
     "output_type": "execute_result"
    }
   ],
   "source": [
    "len(df)"
   ]
  },
  {
   "cell_type": "code",
   "execution_count": 61,
   "metadata": {},
   "outputs": [],
   "source": [
    "import matplotlib.pyplot as plt\n",
    "%matplotlib inline"
   ]
  },
  {
   "cell_type": "code",
   "execution_count": 62,
   "metadata": {},
   "outputs": [],
   "source": [
    "more_than_0 = targets[targets > 0]"
   ]
  },
  {
   "cell_type": "code",
   "execution_count": 63,
   "metadata": {},
   "outputs": [
    {
     "data": {
      "image/png": "[encoded data removed]",
      "text/plain": [
       "<Figure size 1728x864 with 1 Axes>"
      ]
     },
     "metadata": {
      "needs_background": "light"
     },
     "output_type": "display_data"
    }
   ],
   "source": [
    "fig, axs = plt.subplots(figsize=(24, 12))\n",
    "plt.xticks(rotation=-90)\n",
    "axs.bar(x, y)\n",
    "plt.show()"
   ]
  },
  {
   "cell_type": "code",
   "execution_count": null,
   "metadata": {},
   "outputs": [],
   "source": []
  }
 ],
 "metadata": {
  "kernelspec": {
   "display_name": "Python 3",
   "language": "python",
   "name": "python3"
  },
  "language_info": {
   "codemirror_mode": {
    "name": "ipython",
    "version": 3
   },
   "file_extension": ".py",
   "mimetype": "text/x-python",
   "name": "python",
   "nbconvert_exporter": "python",
   "pygments_lexer": "ipython3",
   "version": "3.6.8"
  }
 },
 "nbformat": 4,
 "nbformat_minor": 2
}
