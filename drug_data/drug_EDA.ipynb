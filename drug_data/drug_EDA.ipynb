{
 "cells": [
  {
   "cell_type": "markdown",
   "metadata": {},
   "source": [
    "# Exploratory Data Analysis: Drug Dataset\n",
    "\n",
    "This notebook will take a look at exploratory analysis of the drug dataset from the American Gut Project. Start by reading processed drug data and processed microbiome data."
   ]
  },
  {
   "cell_type": "code",
   "execution_count": 1,
   "metadata": {},
   "outputs": [],
   "source": [
    "import pandas as pd\n",
    "from skbio.diversity import alpha\n",
    "from scipy.stats import f_oneway, kruskal, bartlett\n",
    "from statsmodels.stats.multicomp import pairwise_tukeyhsd, MultiComparison\n",
    "import matplotlib.pyplot as plt\n",
    "import numpy as np\n",
    "\n",
    "# gather drug data\n",
    "drug = pd.read_csv(r'C:\\Users\\bwesterber\\Desktop\\Capstone\\DSE-American-Gut-Project\\drug_data\\drugbank_drug_data.csv')\n",
    "\n",
    "# gather microbiome data \n",
    "biom = pd.read_pickle(r'C:\\Users\\bwesterber\\Downloads\\cap_data_files\\id_clean_biom.pkl')\n",
    "biom = biom.fillna(0)"
   ]
  },
  {
   "cell_type": "markdown",
   "metadata": {},
   "source": [
    "For each sample we will calculate the alpha diversity of the sample. For this example we calculate alpha diversity as the total number of unique OTUs in a given sample. "
   ]
  },
  {
   "cell_type": "code",
   "execution_count": 2,
   "metadata": {},
   "outputs": [],
   "source": [
    "# calculate alpha diversity for each observation\n",
    "\n",
    "sample_ids = pd.DataFrame(biom['sample_id'])\n",
    "biom = biom.drop(columns = ['sample_name', 'sample_id'])\n",
    "biom = biom.values\n",
    "\n",
    "alpha_diversities = []\n",
    "\n",
    "for sample in range(len(biom)):\n",
    "    alpha_diversities.append(alpha.observed_otus(biom[sample, :]))\n",
    "\n",
    "del biom"
   ]
  },
  {
   "cell_type": "markdown",
   "metadata": {},
   "source": [
    "Join the alpha diversity calculations to the drug data set:"
   ]
  },
  {
   "cell_type": "code",
   "execution_count": 3,
   "metadata": {},
   "outputs": [],
   "source": [
    "sample_ids['alpha'] = alpha_diversities\n",
    "\n",
    "#join with drug data\n",
    "drug_alpha = sample_ids.merge(drug, how = 'inner', left_on = 'sample_id', right_on = 'sample_name')\n",
    "drug_alpha = drug_alpha.groupby(['sample_id', 'ATC1', 'Fecal'], as_index = False)['alpha'].mean()"
   ]
  },
  {
   "cell_type": "markdown",
   "metadata": {},
   "source": [
    "# Alpha Diversity By Level One ATC Class\n",
    "\n",
    "For each level one ATC class lets compare the distribution of alpha values and see if any of them significantly differ from the rest. Let's first check to make sure variances are equal to see if ANOVA can be used for comparison. "
   ]
  },
  {
   "cell_type": "code",
   "execution_count": 10,
   "metadata": {},
   "outputs": [
    {
     "name": "stdout",
     "output_type": "stream",
     "text": [
      "Bartlett Teset p value =  1.0452373283753758e-06\n"
     ]
    }
   ],
   "source": [
    "drug_classes = ['A', 'B', 'C', 'D', 'G', 'H', 'J', 'L', 'M', 'N', 'P', 'R', 'S', 'V']\n",
    "distributions = []\n",
    "\n",
    "for drug_class in drug_classes:\n",
    "    distributions.append(drug_alpha['alpha'][drug_alpha['ATC1'] == drug_class].values)\n",
    "\n",
    "statistic, p_value = bartlett(*[list(x) for x in distributions])\n",
    "print('Bartlett Teset p value = ', p_value)"
   ]
  },
  {
   "cell_type": "markdown",
   "metadata": {},
   "source": [
    "The Bartlett test tells us that the variances are not equivalent and we wont be able to use ANOVA for the comparison. Instead we will use Kruskal-Wallis H-test which is a non-parametric version of ANOVA. "
   ]
  },
  {
   "cell_type": "code",
   "execution_count": 11,
   "metadata": {},
   "outputs": [
    {
     "data": {
      "text/plain": [
       "Text(0.5, 0, 'Level One ATC Class')"
      ]
     },
     "execution_count": 11,
     "metadata": {},
     "output_type": "execute_result"
    },
    {
     "data": {
      "image/png": "[encoded data removed]",
      "text/plain": [
       "<Figure size 648x432 with 1 Axes>"
      ]
     },
     "metadata": {
      "needs_background": "light"
     },
     "output_type": "display_data"
    }
   ],
   "source": [
    "# determine if alpha diversity distributions are significnatly different using Kruskal-Wallis\n",
    "\n",
    "statistic, p_value = kruskal(*[list(x) for x in distributions])\n",
    "\n",
    "# plot\n",
    "fig = plt.figure(figsize = (9, 6))\n",
    "\n",
    "plt.boxplot(distributions, labels = drug_classes, showcaps = True, showbox = True)\n",
    "plt.title('Alpha Diversity by Level One ATC Class (p = {})'.format(p_value, 'E'))\n",
    "plt.ylabel('Alpha Diversity (Observed OTUs)')\n",
    "plt.xlabel('Level One ATC Class')"
   ]
  },
  {
   "cell_type": "markdown",
   "metadata": {},
   "source": [
    "With a low p-value we can conclude that at least one of these groups is significantly different than the others. Looking at the distributions classes P and J look to be slightly lower than average. The P and J classes represent 'Antiparasitic products, insecticides and repellents' and 'Antiinfectives for systemic use' respectively. This makes sense considering prior research has indicated that antibiotic use tends to be associated with lower alpha diversity. \n",
    "\n",
    "In order to determine which groups are different we will run Tukey HSD post hoc test."
   ]
  },
  {
   "cell_type": "code",
   "execution_count": 5,
   "metadata": {},
   "outputs": [
    {
     "name": "stdout",
     "output_type": "stream",
     "text": [
      "Multiple Comparison of Means - Tukey HSD,FWER=0.05\n",
      "==============================================\n",
      "group1 group2 meandiff  lower    upper  reject\n",
      "----------------------------------------------\n",
      "  A      B     0.6383  -14.1805  15.457 False \n",
      "  A      C    -1.2012  -13.2034 10.8011 False \n",
      "  A      D     4.3015  -10.2312 18.8342 False \n",
      "  A      G     8.5316  -5.0117  22.0749 False \n",
      "  A      H     5.4053  -9.8263   20.637 False \n",
      "  A      J    -7.4485  -19.294   4.397  False \n",
      "  A      L     4.7398  -17.6086 27.0883 False \n",
      "  A      M     9.0184  -5.3281  23.3649 False \n",
      "  A      N     0.143   -11.4413 11.7273 False \n",
      "  A      P    -43.184  -88.9955  2.6275 False \n",
      "  A      R     1.7986  -12.438  16.0353 False \n",
      "  A      S    -1.7245  -15.7836 12.3347 False \n",
      "  A      V    15.6539  -8.0693   39.377 False \n",
      "  B      C    -1.8394  -17.5358 13.8569 False \n",
      "  B      D     3.6632  -14.0432 21.3697 False \n",
      "  B      G     7.8934  -9.0105  24.7973 False \n",
      "  B      H     4.7671  -13.5174 23.0516 False \n",
      "  B      J    -8.0867  -23.6635   7.49  False \n",
      "  B      L     4.1016  -20.4295 28.6326 False \n",
      "  B      M     8.3801  -9.1739  25.9342 False \n",
      "  B      N    -0.4952  -15.8743 14.8838 False \n",
      "  B      P    -43.8223 -90.7372  3.0927 False \n",
      "  B      R     1.1604  -16.3039 18.6247 False \n",
      "  B      S    -2.3627  -19.6826 14.9572 False \n",
      "  B      V    15.0156  -10.7741 40.8053 False \n",
      "  C      D     5.5027  -9.9238  20.9292 False \n",
      "  C      G     9.7328  -4.7654  24.2311 False \n",
      "  C      H     6.6065  -9.4801  22.6932 False \n",
      "  C      J    -6.2473  -19.1738  6.6792 False \n",
      "  C      L     5.941   -16.9987 28.8807 False \n",
      "  C      M    10.2196  -5.0317  25.4708 False \n",
      "  C      N     1.3442  -11.3433 14.0317 False \n",
      "  C      P    -41.9828 -88.0856   4.12  False \n",
      "  C      R     2.9998  -12.1481 18.1477 False \n",
      "  C      S    -0.5233  -15.5045 14.4579 False \n",
      "  C      V    16.8551  -7.4259  41.1361 False \n",
      "  D      G     4.2301  -12.4235 20.8838 False \n",
      "  D      H     1.1039  -16.9495 19.1572 False \n",
      "  D      J     -11.75  -27.0548  3.5549 False \n",
      "  D      L     0.4383  -23.921  24.7976 False \n",
      "  D      M     4.7169  -12.5963 22.0301 False \n",
      "  D      N    -4.1585  -19.2621 10.9451 False \n",
      "  D      P    -47.4855 -94.3109 -0.6601  True \n",
      "  D      R    -2.5028  -19.725  14.7193 False \n",
      "  D      S     -6.026  -23.1017 11.0498 False \n",
      "  D      V    11.3524  -14.274  36.9788 False \n",
      "  G      H    -3.1263  -20.3932 14.1406 False \n",
      "  G      J    -15.9801 -30.3489 -1.6114  True \n",
      "  G      L    -3.7918  -27.5741 19.9905 False \n",
      "  G      M     0.4868  -16.0047 16.9782 False \n",
      "  G      N    -8.3886  -22.5428  5.7655 False \n",
      "  G      P    -51.7156 -98.2434 -5.1878  True \n",
      "  G      R     -6.733  -23.1289  9.6629 False \n",
      "  G      S    -10.2561 -26.4982  5.9859 False \n",
      "  G      V     7.1222  -17.9563 32.2008 False \n",
      "  H      J    -12.8538 -28.8239  3.1162 False \n",
      "  H      L    -0.6655  -25.4482 24.1171 False \n",
      "  H      M     3.613   -14.2908 21.5169 False \n",
      "  H      N    -5.2623  -21.0396 10.5149 False \n",
      "  H      P    -48.5894 -95.6363 -1.5424  True \n",
      "  H      R    -3.6067  -21.4226 14.2092 False \n",
      "  H      S    -7.1298  -24.8042 10.5446 False \n",
      "  H      V    10.2485  -15.7806 36.2776 False \n",
      "  J      L    12.1883  -10.6698 35.0464 False \n",
      "  J      M    16.4669   1.3387  31.5951  True \n",
      "  J      N     7.5915  -4.9479  20.1309 False \n",
      "  J      P    -35.7355 -81.7978 10.3267 False \n",
      "  J      R     9.2471  -5.7769  24.2712 False \n",
      "  J      S     5.724   -9.1319   20.58  False \n",
      "  J      V    23.1024  -1.1015  47.3063 False \n",
      "  L      M     4.2786  -19.9702 28.5273 False \n",
      "  L      N    -4.5968  -27.3207  18.127 False \n",
      "  L      P    -47.9238 -97.7321  1.8845 False \n",
      "  L      R    -2.9412  -27.125  21.2427 False \n",
      "  L      S    -6.4643  -30.5441 17.6155 False \n",
      "  L      V    10.9141  -19.8263 41.6544 False \n",
      "  M      N    -8.8754  -23.7999  6.0492 False \n",
      "  M      P    -52.2024 -98.9703 -5.4345  True \n",
      "  M      R    -7.2197  -24.2852  9.8457 False \n",
      "  M      S    -10.7429 -27.6605  6.1748 False \n",
      "  M      V     6.6355  -18.8858 32.1568 False \n",
      "  N      P    -43.327  -89.3228  2.6688 False \n",
      "  N      R     1.6556  -13.1633 16.4746 False \n",
      "  N      S    -1.8675  -16.516   12.781 False \n",
      "  N      V    15.5109  -8.5663   39.588 False \n",
      "  P      R    44.9827  -1.7517   91.717 False \n",
      "  P      S    41.4595   -5.221  88.1401 False \n",
      "  P      V    58.8379   8.3978  109.278  True \n",
      "  R      S    -3.5231  -20.3476 13.3014 False \n",
      "  R      V    13.8552  -11.6044 39.3149 False \n",
      "  S      V    17.3783  -7.9825  42.7392 False \n",
      "----------------------------------------------\n"
     ]
    }
   ],
   "source": [
    "# post hoc analysis\n",
    "\n",
    "mc = MultiComparison(drug_alpha['alpha'], drug_alpha['ATC1'])\n",
    "result = mc.tukeyhsd()\n",
    "print(result)"
   ]
  },
  {
   "cell_type": "markdown",
   "metadata": {},
   "source": [
    "As expected the P and J groups do have significant differences in alpha diversity with some of the other level one ATC classes. "
   ]
  },
  {
   "cell_type": "markdown",
   "metadata": {},
   "source": [
    "# Alpha Diversity by Drug Elimination Method\n",
    "\n",
    "The next hypothesis will test is whether or not drugs that are eliminated fecally are associated with lower alpha diversity."
   ]
  },
  {
   "cell_type": "code",
   "execution_count": 12,
   "metadata": {},
   "outputs": [
    {
     "data": {
      "text/plain": [
       "Text(0.5, 0, 'Drug Fecally Eliminated')"
      ]
     },
     "execution_count": 12,
     "metadata": {},
     "output_type": "execute_result"
    },
    {
     "data": {
      "image/png": "[encoded data removed]",
      "text/plain": [
       "<Figure size 648x432 with 1 Axes>"
      ]
     },
     "metadata": {
      "needs_background": "light"
     },
     "output_type": "display_data"
    }
   ],
   "source": [
    "fecal_true = drug_alpha['alpha'][drug_alpha['Fecal'] == True].values\n",
    "fecal_false =  drug_alpha['alpha'][drug_alpha['Fecal'] == False].values\n",
    "\n",
    "# test for significance\n",
    "statistic, p_value = f_oneway(fecal_true, fecal_false)\n",
    "\n",
    "# plot\n",
    "fig = plt.figure(figsize = (9, 6))\n",
    "\n",
    "plt.boxplot([fecal_false, fecal_true], labels = ['False', 'True'], showcaps = True, showbox = True)\n",
    "plt.title('Alpha Diversity by Drug Elimination (p = {})'.format(np.round(p_value, 4)))\n",
    "plt.ylabel('Alpha Diversity (Observed OTUs)')\n",
    "plt.xlabel('Drug Fecally Eliminated')"
   ]
  },
  {
   "cell_type": "markdown",
   "metadata": {},
   "source": [
    "There appears to be no difference. Fail to reject null hypothesis. "
   ]
  },
  {
   "cell_type": "code",
   "execution_count": null,
   "metadata": {},
   "outputs": [],
   "source": []
  }
 ],
 "metadata": {
  "kernelspec": {
   "display_name": "Python 3",
   "language": "python",
   "name": "python3"
  },
  "language_info": {
   "codemirror_mode": {
    "name": "ipython",
    "version": 3
   },
   "file_extension": ".py",
   "mimetype": "text/x-python",
   "name": "python",
   "nbconvert_exporter": "python",
   "pygments_lexer": "ipython3",
   "version": "3.7.1"
  }
 },
 "nbformat": 4,
 "nbformat_minor": 2
}
