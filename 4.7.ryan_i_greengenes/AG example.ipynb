{
 "cells": [
  {
   "cell_type": "markdown",
   "metadata": {},
   "source": [
    "This notebook contains an example of using `redbiom` through it's Python API to extract a subset of American Gut Project samples. These data are then loaded into QIIME 2 for a mini beta-diversity analysis using UniFrac. This assumes we're using a QIIME 2 2018.11 environment that additionally has `redbiom` 0.3.0 installed. The exact commands I ran to install it are:\n",
    "\n",
    "```\n",
    "$ conda install nltk\n",
    "$ pip install https://github.com/biocore/redbiom/archive/0.3.0.zip\n",
    "```"
   ]
  },
  {
   "cell_type": "code",
   "execution_count": 1,
   "metadata": {},
   "outputs": [],
   "source": [
    "import redbiom.summarize\n",
    "import redbiom.search\n",
    "import redbiom.fetch\n",
    "import qiime2"
   ]
  },
  {
   "cell_type": "markdown",
   "metadata": {},
   "source": [
    "The first thing we're going to do is gather the `redbiom` contexts. A context is roughly a set of consistent technical parameters. For example, the specific sequenced gene, the variable region within the gene, the length of the read, and how the operational taxonomic units were assessed.\n",
    "\n",
    "The reason `redbiom` partitions data into contexts is because these technical details can lead to massive technical bias. The intention is to facilitate comparing \"apples\" to \"apples\". \n",
    "\n",
    "The context summarization returns a pandas `DataFrame` so it should be pretty friendly to manipulate."
   ]
  },
  {
   "cell_type": "code",
   "execution_count": 2,
   "metadata": {},
   "outputs": [],
   "source": [
    "contexts = redbiom.summarize.contexts()"
   ]
  },
  {
   "cell_type": "code",
   "execution_count": 3,
   "metadata": {},
   "outputs": [
    {
     "data": {
      "text/html": [
       "<div>\n",
       "<style scoped>\n",
       "    .dataframe tbody tr th:only-of-type {\n",
       "        vertical-align: middle;\n",
       "    }\n",
       "\n",
       "    .dataframe tbody tr th {\n",
       "        vertical-align: top;\n",
       "    }\n",
       "\n",
       "    .dataframe thead th {\n",
       "        text-align: right;\n",
       "    }\n",
       "</style>\n",
       "<table border=\"1\" class=\"dataframe\">\n",
       "  <thead>\n",
       "    <tr style=\"text-align: right;\">\n",
       "      <th></th>\n",
       "      <th>ContextName</th>\n",
       "      <th>SamplesWithData</th>\n",
       "      <th>FeaturesWithData</th>\n",
       "      <th>Description</th>\n",
       "    </tr>\n",
       "  </thead>\n",
       "  <tbody>\n",
       "    <tr>\n",
       "      <th>0</th>\n",
       "      <td>Pick_closed-reference_OTUs-Greengenes-FLX-16S-...</td>\n",
       "      <td>20</td>\n",
       "      <td>21</td>\n",
       "      <td>Qiita context</td>\n",
       "    </tr>\n",
       "    <tr>\n",
       "      <th>1</th>\n",
       "      <td>Pick_closed-reference_OTUs-Greengenes-Illumina...</td>\n",
       "      <td>117725</td>\n",
       "      <td>70394</td>\n",
       "      <td>Qiita context</td>\n",
       "    </tr>\n",
       "    <tr>\n",
       "      <th>2</th>\n",
       "      <td>Deblur-Illumina-16S-V45-100nt-fbc5b2</td>\n",
       "      <td>213</td>\n",
       "      <td>76187</td>\n",
       "      <td>Deblur (Reference phylogeny for SEPP: Greengen...</td>\n",
       "    </tr>\n",
       "    <tr>\n",
       "      <th>3</th>\n",
       "      <td>Pick_closed-reference_OTUs-Greengenes-Titanium...</td>\n",
       "      <td>357</td>\n",
       "      <td>3736</td>\n",
       "      <td>Qiita context</td>\n",
       "    </tr>\n",
       "    <tr>\n",
       "      <th>4</th>\n",
       "      <td>Pick_closed-reference_OTUs-Greengenes-FLX-16S-...</td>\n",
       "      <td>58</td>\n",
       "      <td>1568</td>\n",
       "      <td>Qiita context</td>\n",
       "    </tr>\n",
       "  </tbody>\n",
       "</table>\n",
       "</div>"
      ],
      "text/plain": [
       "                                         ContextName  SamplesWithData  \\\n",
       "0  Pick_closed-reference_OTUs-Greengenes-FLX-16S-...               20   \n",
       "1  Pick_closed-reference_OTUs-Greengenes-Illumina...           117725   \n",
       "2               Deblur-Illumina-16S-V45-100nt-fbc5b2              213   \n",
       "3  Pick_closed-reference_OTUs-Greengenes-Titanium...              357   \n",
       "4  Pick_closed-reference_OTUs-Greengenes-FLX-16S-...               58   \n",
       "\n",
       "   FeaturesWithData                                        Description  \n",
       "0                21                                      Qiita context  \n",
       "1             70394                                      Qiita context  \n",
       "2             76187  Deblur (Reference phylogeny for SEPP: Greengen...  \n",
       "3              3736                                      Qiita context  \n",
       "4              1568                                      Qiita context  "
      ]
     },
     "execution_count": 3,
     "metadata": {},
     "output_type": "execute_result"
    }
   ],
   "source": [
    "contexts.head()"
   ]
  },
  {
   "cell_type": "markdown",
   "metadata": {},
   "source": [
    "At the present time, determining the context to use is a bit manual and requires some strung munging. Additional development is needed.\n",
    "\n",
    "Let's take a look at the larger contexts."
   ]
  },
  {
   "cell_type": "code",
   "execution_count": 4,
   "metadata": {},
   "outputs": [
    {
     "data": {
      "text/html": [
       "<div>\n",
       "<style scoped>\n",
       "    .dataframe tbody tr th:only-of-type {\n",
       "        vertical-align: middle;\n",
       "    }\n",
       "\n",
       "    .dataframe tbody tr th {\n",
       "        vertical-align: top;\n",
       "    }\n",
       "\n",
       "    .dataframe thead th {\n",
       "        text-align: right;\n",
       "    }\n",
       "</style>\n",
       "<table border=\"1\" class=\"dataframe\">\n",
       "  <thead>\n",
       "    <tr style=\"text-align: right;\">\n",
       "      <th></th>\n",
       "      <th>ContextName</th>\n",
       "      <th>SamplesWithData</th>\n",
       "      <th>FeaturesWithData</th>\n",
       "      <th>Description</th>\n",
       "    </tr>\n",
       "  </thead>\n",
       "  <tbody>\n",
       "    <tr>\n",
       "      <th>24</th>\n",
       "      <td>Pick_closed-reference_OTUs-Greengenes-Illumina...</td>\n",
       "      <td>156761</td>\n",
       "      <td>83309</td>\n",
       "      <td>Qiita context</td>\n",
       "    </tr>\n",
       "    <tr>\n",
       "      <th>15</th>\n",
       "      <td>Pick_closed-reference_OTUs-Greengenes-Illumina...</td>\n",
       "      <td>145669</td>\n",
       "      <td>74959</td>\n",
       "      <td>Qiita context</td>\n",
       "    </tr>\n",
       "    <tr>\n",
       "      <th>90</th>\n",
       "      <td>Deblur-Illumina-16S-V4-100nt-fbc5b2</td>\n",
       "      <td>141809</td>\n",
       "      <td>5698310</td>\n",
       "      <td>Deblur (Reference phylogeny for SEPP: Greengen...</td>\n",
       "    </tr>\n",
       "    <tr>\n",
       "      <th>17</th>\n",
       "      <td>Pick_closed-reference_OTUs-Greengenes-Illumina...</td>\n",
       "      <td>141380</td>\n",
       "      <td>72999</td>\n",
       "      <td>Qiita context</td>\n",
       "    </tr>\n",
       "    <tr>\n",
       "      <th>48</th>\n",
       "      <td>Deblur-Illumina-16S-V4-90nt-99d1d8</td>\n",
       "      <td>137678</td>\n",
       "      <td>4576516</td>\n",
       "      <td>Deblur (Reference phylogeny for SEPP: Greengen...</td>\n",
       "    </tr>\n",
       "  </tbody>\n",
       "</table>\n",
       "</div>"
      ],
      "text/plain": [
       "                                          ContextName  SamplesWithData  \\\n",
       "24  Pick_closed-reference_OTUs-Greengenes-Illumina...           156761   \n",
       "15  Pick_closed-reference_OTUs-Greengenes-Illumina...           145669   \n",
       "90                Deblur-Illumina-16S-V4-100nt-fbc5b2           141809   \n",
       "17  Pick_closed-reference_OTUs-Greengenes-Illumina...           141380   \n",
       "48                 Deblur-Illumina-16S-V4-90nt-99d1d8           137678   \n",
       "\n",
       "    FeaturesWithData                                        Description  \n",
       "24             83309                                      Qiita context  \n",
       "15             74959                                      Qiita context  \n",
       "90           5698310  Deblur (Reference phylogeny for SEPP: Greengen...  \n",
       "17             72999                                      Qiita context  \n",
       "48           4576516  Deblur (Reference phylogeny for SEPP: Greengen...  "
      ]
     },
     "execution_count": 4,
     "metadata": {},
     "output_type": "execute_result"
    }
   ],
   "source": [
    "contexts.sort_values('SamplesWithData', ascending=False).head()"
   ]
  },
  {
   "cell_type": "markdown",
   "metadata": {},
   "source": [
    "For simplicity sake, let's take the first context. It's large, and the phylogeny associated with the operational taxonomic units is easy to get. We'll break down the meaning of the context name in a moment. In practice, you will _most likely_ want to use the Deblur data, however producing a reasonable tree from those data requies a slightly computationally expensive step, and I'm on my laptop right now with limited battery quite literally in the middle of nowhere on a bus in the Czech Republic."
   ]
  },
  {
   "cell_type": "code",
   "execution_count": 5,
   "metadata": {},
   "outputs": [],
   "source": [
    "ctx = contexts.sort_values('SamplesWithData', ascending=False).iloc[0]['ContextName']"
   ]
  },
  {
   "cell_type": "code",
   "execution_count": 6,
   "metadata": {},
   "outputs": [
    {
     "data": {
      "text/plain": [
       "'Pick_closed-reference_OTUs-Greengenes-Illumina-16S-V4-5c6506'"
      ]
     },
     "execution_count": 6,
     "metadata": {},
     "output_type": "execute_result"
    }
   ],
   "source": [
    "ctx"
   ]
  },
  {
   "cell_type": "markdown",
   "metadata": {},
   "source": [
    "Breaking this name into its constiuent pieces, this is a closed reference context meaning that operational taxonomic units were assessed against a reference database and sequences which did not recruit to the reference were discarded. The reference used is Greengenes, a common 16S reference database. The gene represented by the data is the 16S SSU rRNA gene, and specifically the V4 region of the gene. Finally, the fragments represented are truncated to 100 nucleotides. (Don't worry if this is all a lot of jargon. It is a lot of jargon. Please ask questions :)\n",
    "\n",
    "So cool, we have a \"context\". What can we do now? Let's search for some sample identifiers based off of the metadata (i.e., variables) associated with the samples. Specifically, let's get some skin, oral and fecal samples. Be forewarned, the metadata search uses Python's `ast` module behind the scenes, so malformed queries at present produce tracebacks."
   ]
  },
  {
   "cell_type": "code",
   "execution_count": 7,
   "metadata": {},
   "outputs": [],
   "source": [
    "study_id = 10317  # the Qiita study ID of the American Gut Project is 10317\n",
    "results = {}\n",
    "for site in ['sebum', 'saliva', 'feces']:\n",
    "    query = \"where qiita_study_id==%d and env_material=='%s'\" % (study_id, site)\n",
    "    results[site] = redbiom.search.metadata_full(query)"
   ]
  },
  {
   "cell_type": "code",
   "execution_count": 8,
   "metadata": {},
   "outputs": [
    {
     "name": "stdout",
     "output_type": "stream",
     "text": [
      "feces 18659\n",
      "saliva 1406\n",
      "sebum 1289\n"
     ]
    }
   ],
   "source": [
    "for k, v in results.items():\n",
    "    print(k, len(v))"
   ]
  },
  {
   "cell_type": "markdown",
   "metadata": {},
   "source": [
    "As you can see, the sample sets are not very balanced. For the purposes of the mini-analysis, let's just grab the first 100 from each sample type."
   ]
  },
  {
   "cell_type": "code",
   "execution_count": 9,
   "metadata": {},
   "outputs": [],
   "source": [
    "to_keep = []\n",
    "for k, v in results.items():\n",
    "    to_keep.extend(list(v)[:100])"
   ]
  },
  {
   "cell_type": "code",
   "execution_count": 10,
   "metadata": {},
   "outputs": [
    {
     "data": {
      "text/plain": [
       "['10317.000010759',\n",
       " '10317.000098944',\n",
       " '10317.000009227',\n",
       " '10317.000040400',\n",
       " '10317.000050016']"
      ]
     },
     "execution_count": 10,
     "metadata": {},
     "output_type": "execute_result"
    }
   ],
   "source": [
    "to_keep[:5]"
   ]
  },
  {
   "cell_type": "markdown",
   "metadata": {},
   "source": [
    "The last output cell shows what these IDs look like. These are Qiita sample IDs.\n",
    "\n",
    "Now that we have some samples, let's get some data! What we're going to do is ask `redbiom` to obtain the sample data, for our `to_keep` samples, from the context we previously selected. What's happening behind the scenes is that the API is pulling out sparse vectors corresponding to the number of individual sequences observed for each operational taxonomic unit per sample, and additionally unmunging the names (as `redbiom` normalizes sample and feature identifiers). The output is then aggregated into what's called a BIOM `Table`, which is really just a rich object wrapped around a `scipy.sparse` matrix. \n",
    "\n",
    "You may noice two outputs on the return. The one we're ignoring represents \"ambiguous\" samples. Some sample identifiers are associated with multiple sequenced samples. This is because some samples may \"fail\" sequencing, where they didn't yield sufficient sequence data, and were rerun. These \"failures\" are still represented in Qiita, but are differentiated by the actual sequencing run they were on. This doesn't matter for the moment though."
   ]
  },
  {
   "cell_type": "code",
   "execution_count": 11,
   "metadata": {},
   "outputs": [],
   "source": [
    "biom_table, _ = redbiom.fetch.data_from_samples(ctx, to_keep)"
   ]
  },
  {
   "cell_type": "code",
   "execution_count": 12,
   "metadata": {},
   "outputs": [
    {
     "data": {
      "text/plain": [
       "15321 x 305 <class 'biom.table.Table'> with 122392 nonzero entries (2% dense)"
      ]
     },
     "execution_count": 12,
     "metadata": {},
     "output_type": "execute_result"
    }
   ],
   "source": [
    "biom_table"
   ]
  },
  {
   "cell_type": "markdown",
   "metadata": {},
   "source": [
    "The `repr` output shows that we have roughly 13k OTUs (operational taxonomic units), and only 244 samples. What gives? We were supposed to get 300! Just because a sample has metadata does not mean it has sequence data. It is also possible that some of the samples haven't been run through the same bioinformatic processing (e.g., closed reference at 100nt).\n",
    "\n",
    "More information on `biom` can be found [here](http://biom-format.org/). \n",
    "\n",
    "Let's play with the object for just a moment for familiarity."
   ]
  },
  {
   "cell_type": "code",
   "execution_count": 13,
   "metadata": {},
   "outputs": [
    {
     "data": {
      "text/plain": [
       "5 x 5 <class 'biom.table.Table'> with 1 nonzero entries (4% dense)"
      ]
     },
     "execution_count": 13,
     "metadata": {},
     "output_type": "execute_result"
    }
   ],
   "source": [
    "biom_table.head()"
   ]
  },
  {
   "cell_type": "code",
   "execution_count": 14,
   "metadata": {},
   "outputs": [
    {
     "name": "stdout",
     "output_type": "stream",
     "text": [
      "# Constructed from biom file\n",
      "#OTU ID\t10317.000013687.2926\t10317.000063464.33800\t10317.000050729.46739\t10317.000050928.46739\t10317.000052477.26481\n",
      "3711749\t0.0\t0.0\t0.0\t0.0\t0.0\n",
      "4363202\t0.0\t0.0\t0.0\t0.0\t0.0\n",
      "4446973\t0.0\t0.0\t0.0\t0.0\t4.0\n",
      "823745\t0.0\t0.0\t0.0\t0.0\t0.0\n",
      "691033\t0.0\t0.0\t0.0\t0.0\t0.0\n"
     ]
    }
   ],
   "source": [
    "print(biom_table.head())"
   ]
  },
  {
   "cell_type": "markdown",
   "metadata": {},
   "source": [
    "When we print the table, it implicitly casts it to a dense matrix representation. One thing to note: the sample IDs look different than before, right? The way that the individual sequencing runs are denoted is the last number -- the sample ID is represented by \"qiita_study_id.the_actual_id.the_sequencing_run_id\". This is to ensure the identifier is \"globally\" unique.\n",
    "\n",
    "The identifiers on the rows are the \"Greengenes\" IDs. Also called OTU IDs. Or Feature IDs."
   ]
  },
  {
   "cell_type": "markdown",
   "metadata": {},
   "source": [
    "So we have a table. Now let's get the sample metadata. This will come down as a pandas `DataFrame`."
   ]
  },
  {
   "cell_type": "code",
   "execution_count": 15,
   "metadata": {},
   "outputs": [],
   "source": [
    "md, _ = redbiom.fetch.sample_metadata(to_keep, context=ctx)"
   ]
  },
  {
   "cell_type": "code",
   "execution_count": 16,
   "metadata": {},
   "outputs": [
    {
     "data": {
      "text/html": [
       "<div>\n",
       "<style scoped>\n",
       "    .dataframe tbody tr th:only-of-type {\n",
       "        vertical-align: middle;\n",
       "    }\n",
       "\n",
       "    .dataframe tbody tr th {\n",
       "        vertical-align: top;\n",
       "    }\n",
       "\n",
       "    .dataframe thead th {\n",
       "        text-align: right;\n",
       "    }\n",
       "</style>\n",
       "<table border=\"1\" class=\"dataframe\">\n",
       "  <thead>\n",
       "    <tr style=\"text-align: right;\">\n",
       "      <th></th>\n",
       "      <th>#SampleID</th>\n",
       "      <th>anonymized_name</th>\n",
       "      <th>body_habitat</th>\n",
       "      <th>body_product</th>\n",
       "      <th>body_site</th>\n",
       "      <th>description</th>\n",
       "      <th>dna_extracted</th>\n",
       "      <th>env_biome</th>\n",
       "      <th>env_feature</th>\n",
       "      <th>env_material</th>\n",
       "      <th>env_package</th>\n",
       "      <th>host_common_name</th>\n",
       "      <th>host_subject_id</th>\n",
       "      <th>host_taxid</th>\n",
       "      <th>qiita_study_id</th>\n",
       "      <th>sample_type</th>\n",
       "      <th>scientific_name</th>\n",
       "      <th>taxon_id</th>\n",
       "    </tr>\n",
       "  </thead>\n",
       "  <tbody>\n",
       "    <tr>\n",
       "      <th>25370_10317.000030028</th>\n",
       "      <td>10317.000030028.25370</td>\n",
       "      <td>000030028</td>\n",
       "      <td>UBERON:feces</td>\n",
       "      <td>UBERON:feces</td>\n",
       "      <td>UBERON:feces</td>\n",
       "      <td>American Gut Project Stool Sample</td>\n",
       "      <td>true</td>\n",
       "      <td>dense settlement biome</td>\n",
       "      <td>human-associated habitat</td>\n",
       "      <td>feces</td>\n",
       "      <td>human-gut</td>\n",
       "      <td>human</td>\n",
       "      <td>d43a43a39a32200b0141edde91b6ddc0aca0a8a11a7c3a...</td>\n",
       "      <td>9606</td>\n",
       "      <td>10317</td>\n",
       "      <td>Stool</td>\n",
       "      <td>human gut metagenome</td>\n",
       "      <td>408170</td>\n",
       "    </tr>\n",
       "    <tr>\n",
       "      <th>25370_10317.000054127</th>\n",
       "      <td>10317.000054127.25370</td>\n",
       "      <td>000054127</td>\n",
       "      <td>UBERON:feces</td>\n",
       "      <td>UBERON:feces</td>\n",
       "      <td>UBERON:feces</td>\n",
       "      <td>American Gut Project Stool Sample</td>\n",
       "      <td>true</td>\n",
       "      <td>dense settlement biome</td>\n",
       "      <td>human-associated habitat</td>\n",
       "      <td>feces</td>\n",
       "      <td>human-gut</td>\n",
       "      <td>human</td>\n",
       "      <td>8b872a357655894fe9f5708f91e513772ac88cdb7d4300...</td>\n",
       "      <td>9606</td>\n",
       "      <td>10317</td>\n",
       "      <td>Stool</td>\n",
       "      <td>human gut metagenome</td>\n",
       "      <td>408170</td>\n",
       "    </tr>\n",
       "    <tr>\n",
       "      <th>25501_10317.000031007</th>\n",
       "      <td>10317.000031007.25501</td>\n",
       "      <td>000031007</td>\n",
       "      <td>UBERON:feces</td>\n",
       "      <td>UBERON:feces</td>\n",
       "      <td>UBERON:feces</td>\n",
       "      <td>American Gut Project Stool Sample</td>\n",
       "      <td>true</td>\n",
       "      <td>dense settlement biome</td>\n",
       "      <td>human-associated habitat</td>\n",
       "      <td>feces</td>\n",
       "      <td>human-gut</td>\n",
       "      <td>human</td>\n",
       "      <td>6b1bfa9f343a48cbe6dc97ddd16cc7eaae1a43fe71f631...</td>\n",
       "      <td>9606</td>\n",
       "      <td>10317</td>\n",
       "      <td>Stool</td>\n",
       "      <td>human gut metagenome</td>\n",
       "      <td>408170</td>\n",
       "    </tr>\n",
       "    <tr>\n",
       "      <th>25501_10317.000036948</th>\n",
       "      <td>10317.000036948.25501</td>\n",
       "      <td>000036948</td>\n",
       "      <td>UBERON:feces</td>\n",
       "      <td>UBERON:feces</td>\n",
       "      <td>UBERON:feces</td>\n",
       "      <td>American Gut Project Stool Sample</td>\n",
       "      <td>true</td>\n",
       "      <td>dense settlement biome</td>\n",
       "      <td>human-associated habitat</td>\n",
       "      <td>feces</td>\n",
       "      <td>human-gut</td>\n",
       "      <td>human</td>\n",
       "      <td>2205f639ad8ca153aba08cb17391752160c615f56fe92f...</td>\n",
       "      <td>9606</td>\n",
       "      <td>10317</td>\n",
       "      <td>Stool</td>\n",
       "      <td>human gut metagenome</td>\n",
       "      <td>408170</td>\n",
       "    </tr>\n",
       "    <tr>\n",
       "      <th>25501_10317.000042695</th>\n",
       "      <td>10317.000042695.25501</td>\n",
       "      <td>000042695</td>\n",
       "      <td>UBERON:feces</td>\n",
       "      <td>UBERON:feces</td>\n",
       "      <td>UBERON:feces</td>\n",
       "      <td>American Gut Project Stool Sample</td>\n",
       "      <td>true</td>\n",
       "      <td>dense settlement biome</td>\n",
       "      <td>human-associated habitat</td>\n",
       "      <td>feces</td>\n",
       "      <td>human-gut</td>\n",
       "      <td>human</td>\n",
       "      <td>ae96c6187c3fb3766257cbf931012d063c5c999e3d36d6...</td>\n",
       "      <td>9606</td>\n",
       "      <td>10317</td>\n",
       "      <td>Stool</td>\n",
       "      <td>human gut metagenome</td>\n",
       "      <td>408170</td>\n",
       "    </tr>\n",
       "  </tbody>\n",
       "</table>\n",
       "</div>"
      ],
      "text/plain": [
       "                                   #SampleID anonymized_name  body_habitat  \\\n",
       "25370_10317.000030028  10317.000030028.25370       000030028  UBERON:feces   \n",
       "25370_10317.000054127  10317.000054127.25370       000054127  UBERON:feces   \n",
       "25501_10317.000031007  10317.000031007.25501       000031007  UBERON:feces   \n",
       "25501_10317.000036948  10317.000036948.25501       000036948  UBERON:feces   \n",
       "25501_10317.000042695  10317.000042695.25501       000042695  UBERON:feces   \n",
       "\n",
       "                       body_product     body_site  \\\n",
       "25370_10317.000030028  UBERON:feces  UBERON:feces   \n",
       "25370_10317.000054127  UBERON:feces  UBERON:feces   \n",
       "25501_10317.000031007  UBERON:feces  UBERON:feces   \n",
       "25501_10317.000036948  UBERON:feces  UBERON:feces   \n",
       "25501_10317.000042695  UBERON:feces  UBERON:feces   \n",
       "\n",
       "                                             description dna_extracted  \\\n",
       "25370_10317.000030028  American Gut Project Stool Sample          true   \n",
       "25370_10317.000054127  American Gut Project Stool Sample          true   \n",
       "25501_10317.000031007  American Gut Project Stool Sample          true   \n",
       "25501_10317.000036948  American Gut Project Stool Sample          true   \n",
       "25501_10317.000042695  American Gut Project Stool Sample          true   \n",
       "\n",
       "                                    env_biome               env_feature  \\\n",
       "25370_10317.000030028  dense settlement biome  human-associated habitat   \n",
       "25370_10317.000054127  dense settlement biome  human-associated habitat   \n",
       "25501_10317.000031007  dense settlement biome  human-associated habitat   \n",
       "25501_10317.000036948  dense settlement biome  human-associated habitat   \n",
       "25501_10317.000042695  dense settlement biome  human-associated habitat   \n",
       "\n",
       "                      env_material env_package host_common_name  \\\n",
       "25370_10317.000030028        feces   human-gut            human   \n",
       "25370_10317.000054127        feces   human-gut            human   \n",
       "25501_10317.000031007        feces   human-gut            human   \n",
       "25501_10317.000036948        feces   human-gut            human   \n",
       "25501_10317.000042695        feces   human-gut            human   \n",
       "\n",
       "                                                         host_subject_id  \\\n",
       "25370_10317.000030028  d43a43a39a32200b0141edde91b6ddc0aca0a8a11a7c3a...   \n",
       "25370_10317.000054127  8b872a357655894fe9f5708f91e513772ac88cdb7d4300...   \n",
       "25501_10317.000031007  6b1bfa9f343a48cbe6dc97ddd16cc7eaae1a43fe71f631...   \n",
       "25501_10317.000036948  2205f639ad8ca153aba08cb17391752160c615f56fe92f...   \n",
       "25501_10317.000042695  ae96c6187c3fb3766257cbf931012d063c5c999e3d36d6...   \n",
       "\n",
       "                      host_taxid qiita_study_id sample_type  \\\n",
       "25370_10317.000030028       9606          10317       Stool   \n",
       "25370_10317.000054127       9606          10317       Stool   \n",
       "25501_10317.000031007       9606          10317       Stool   \n",
       "25501_10317.000036948       9606          10317       Stool   \n",
       "25501_10317.000042695       9606          10317       Stool   \n",
       "\n",
       "                            scientific_name taxon_id  \n",
       "25370_10317.000030028  human gut metagenome   408170  \n",
       "25370_10317.000054127  human gut metagenome   408170  \n",
       "25501_10317.000031007  human gut metagenome   408170  \n",
       "25501_10317.000036948  human gut metagenome   408170  \n",
       "25501_10317.000042695  human gut metagenome   408170  "
      ]
     },
     "execution_count": 16,
     "metadata": {},
     "output_type": "execute_result"
    }
   ],
   "source": [
    "md.head()"
   ]
  },
  {
   "cell_type": "code",
   "execution_count": 17,
   "metadata": {},
   "outputs": [
    {
     "data": {
      "text/plain": [
       "Stool         99\n",
       "Mouth         98\n",
       "Forehead      46\n",
       "Right Hand    29\n",
       "Left Hand     14\n",
       "Skin           8\n",
       "Torso          6\n",
       "Left leg       3\n",
       "Right leg      1\n",
       "Hair           1\n",
       "Name: sample_type, dtype: int64"
      ]
     },
     "execution_count": 17,
     "metadata": {},
     "output_type": "execute_result"
    }
   ],
   "source": [
    "md.sample_type.value_counts()"
   ]
  },
  {
   "cell_type": "markdown",
   "metadata": {},
   "source": [
    "Great! So we have a bunch of sample data, and some study variables! Now for the QIIMEing. What we'll need to do is pacakge these data into types that QIIME 2 understands. And in particular, we need to use the semantic type system. This is well documented on the QIIME 2 website, and I recommend reviewing there."
   ]
  },
  {
   "cell_type": "code",
   "execution_count": 18,
   "metadata": {},
   "outputs": [],
   "source": [
    "table_ar = qiime2.Artifact.import_data('FeatureTable[Frequency]', biom_table)\n",
    "md_ar = qiime2.Metadata(md.set_index('#SampleID'))"
   ]
  },
  {
   "cell_type": "markdown",
   "metadata": {},
   "source": [
    "Ah! We need a tree! Since we're using Greengenes, we can just rely on the existing prebuilt tree from the reference. Let's get that."
   ]
  },
  {
   "cell_type": "code",
   "execution_count": 83,
   "metadata": {},
   "outputs": [
    {
     "name": "stdout",
     "output_type": "stream",
     "text": [
      "--2019-04-08 20:48:41--  ftp://ftp.microbio.me/greengenes_release/gg_13_8_otus/\n",
      "           => '.listing'\n",
      "Resolving ftp.microbio.me... 169.228.46.98\n",
      "Connecting to ftp.microbio.me|169.228.46.98|:21... connected.\n",
      "Logging in as anonymous ... Logged in!\n",
      "==> SYST ... done.    ==> PWD ... done.\n",
      "==> TYPE I ... done.  ==> CWD (1) /greengenes_release/gg_13_8_otus ... done.\n",
      "==> PASV ... done.    ==> LIST ... done.\n",
      "\n",
      ".listing                [ <=>                ]     511  --.-KB/s    in 0s      \n",
      "\n",
      "2019-04-08 20:48:41 (1.75 MB/s) - '.listing' saved [511]\n",
      "\n",
      "Removed '.listing'.\n",
      "Wrote HTML-ized index to 'index.html' [1018].\n"
     ]
    }
   ],
   "source": [
    "!wget ftp://ftp.microbio.me/greengenes_release/gg_13_8_otus/"
   ]
  },
  {
   "cell_type": "code",
   "execution_count": 86,
   "metadata": {},
   "outputs": [
    {
     "name": "stdout",
     "output_type": "stream",
     "text": [
      "--2019-04-08 21:17:40--  ftp://ftp.microbio.me/greengenes_release/gg_13_8_otus/trees/99_otus.tree\n",
      "           => '99_otus.tree'\n",
      "Resolving ftp.microbio.me... 169.228.46.98\n",
      "Connecting to ftp.microbio.me|169.228.46.98|:21... connected.\n",
      "Logging in as anonymous ... Logged in!\n",
      "==> SYST ... done.    ==> PWD ... done.\n",
      "==> TYPE I ... done.  ==> CWD (1) /greengenes_release/gg_13_8_otus/trees ... done.\n",
      "==> SIZE 99_otus.tree ... 5171002\n",
      "==> PASV ... done.    ==> RETR 99_otus.tree ... done.\n",
      "Length: 5171002 (4.9M) (unauthoritative)\n",
      "\n",
      "99_otus.tree        100%[===================>]   4.93M  4.15MB/s    in 1.2s    \n",
      "\n",
      "2019-04-08 21:17:43 (4.15 MB/s) - '99_otus.tree' saved [5171002]\n",
      "\n"
     ]
    }
   ],
   "source": [
    "!wget ftp://ftp.microbio.me/greengenes_release/gg_13_8_otus/trees/99_otus.tree"
   ]
  },
  {
   "cell_type": "code",
   "execution_count": 87,
   "metadata": {},
   "outputs": [],
   "source": [
    "tree_ar = qiime2.Artifact.import_data('Phylogeny[Rooted]', '99_otus.tree')"
   ]
  },
  {
   "cell_type": "markdown",
   "metadata": {},
   "source": [
    "Excellent. So next up, we need to rarefy these data. Rarefaction is a just randomly subsampling the samples without replacement in order to normalize for sequencing effort. There are a lot of ways to do this type of normalization. Rarefaction is dirty as you through out data, but it's pragmatic and tends to work pretty well. The issue rarefaction helps to ameliorate is that, the more you sequence the more life you'll observe. So if you don't do something to normalize sequencing effort across samples, you'll have a bad time.\n",
    "\n",
    "Let's import all the plugins we'll be using."
   ]
  },
  {
   "cell_type": "code",
   "execution_count": 88,
   "metadata": {},
   "outputs": [],
   "source": [
    "from qiime2.plugins import feature_table, diversity, emperor"
   ]
  },
  {
   "cell_type": "code",
   "execution_count": 89,
   "metadata": {},
   "outputs": [],
   "source": [
    "# rarefy to 1000 sequences per sample (yes, it's arbitrary)\n",
    "rare_ar, = feature_table.actions.rarefy(table=table_ar, sampling_depth=1000)"
   ]
  },
  {
   "cell_type": "markdown",
   "metadata": {},
   "source": [
    "save as biomtable"
   ]
  },
  {
   "cell_type": "code",
   "execution_count": 90,
   "metadata": {},
   "outputs": [],
   "source": [
    "table_ar.export_data('full_otus')"
   ]
  },
  {
   "cell_type": "code",
   "execution_count": 91,
   "metadata": {},
   "outputs": [
    {
     "name": "stdout",
     "output_type": "stream",
     "text": [
      "feature-table.biom\r\n"
     ]
    }
   ],
   "source": [
    "!ls full_otus"
   ]
  },
  {
   "cell_type": "code",
   "execution_count": 92,
   "metadata": {},
   "outputs": [],
   "source": [
    "import biom"
   ]
  },
  {
   "cell_type": "code",
   "execution_count": 93,
   "metadata": {},
   "outputs": [],
   "source": [
    "btable = biom.load_table('full_otus/feature-table.biom')"
   ]
  },
  {
   "cell_type": "markdown",
   "metadata": {},
   "source": [
    "## Skbio Grenegenes tree load"
   ]
  },
  {
   "cell_type": "markdown",
   "metadata": {},
   "source": [
    "fix tree issue - https://forum.qiime2.org/t/greengenes-tree-download-with-branch-lengths/3329/5"
   ]
  },
  {
   "cell_type": "code",
   "execution_count": 94,
   "metadata": {},
   "outputs": [],
   "source": [
    "import skbio\n",
    "\n",
    "t = skbio.TreeNode.read('99_otus.tree')\n",
    "\n",
    "for n in t.traverse():\n",
    "    if n.length is None:\n",
    "        n.length = 0.0\n",
    "\n",
    "\n",
    "# import qiime2\n",
    "# ar = qiime2.Artifact.import_data('Phylogeny[Rooted]', t)\n",
    "# ar.save('97_otus.qza')"
   ]
  },
  {
   "cell_type": "markdown",
   "metadata": {},
   "source": [
    "visualize tree - note this tree is huge so cannot output in notebook, so instead save to .txt file. Since the tree is so big its not worth visualizing"
   ]
  },
  {
   "cell_type": "code",
   "execution_count": 95,
   "metadata": {},
   "outputs": [],
   "source": [
    "s = t.ascii_art()\n",
    "\n",
    "text_file = open(\"greengene_tree.txt\", \"w\")\n",
    "text_file.write(s)\n",
    "text_file.close()"
   ]
  },
  {
   "cell_type": "markdown",
   "metadata": {},
   "source": [
    "calculate alpha diversity with qiime library"
   ]
  },
  {
   "cell_type": "code",
   "execution_count": 96,
   "metadata": {},
   "outputs": [],
   "source": [
    "alpha_div = diversity.actions.alpha_phylogenetic(table=rare_ar, phylogeny=ar, metric='faith_pd')"
   ]
  },
  {
   "cell_type": "code",
   "execution_count": 97,
   "metadata": {},
   "outputs": [],
   "source": [
    "alpha_div.alpha_diversity.export_data('alpha_div')"
   ]
  },
  {
   "cell_type": "markdown",
   "metadata": {},
   "source": [
    "directly calculate alpha_div with skbio instead (I dont like biomTable structure, its confusing)"
   ]
  },
  {
   "cell_type": "code",
   "execution_count": 98,
   "metadata": {},
   "outputs": [],
   "source": [
    "counts = btable.matrix_data.toarray().astype(int).T"
   ]
  },
  {
   "cell_type": "code",
   "execution_count": 99,
   "metadata": {},
   "outputs": [],
   "source": [
    "sample_ids = btable.ids(axis='sample')\n",
    "feature_ids = btable.ids(axis='observation')"
   ]
  },
  {
   "cell_type": "code",
   "execution_count": 100,
   "metadata": {},
   "outputs": [],
   "source": [
    "result = skbio.diversity.alpha_diversity(metric='faith_pd',\n",
    "                                         counts=counts,\n",
    "                                         ids=sample_ids,\n",
    "                                         otu_ids=feature_ids,\n",
    "                                         tree=t)\n"
   ]
  },
  {
   "cell_type": "code",
   "execution_count": 102,
   "metadata": {},
   "outputs": [
    {
     "name": "stdout",
     "output_type": "stream",
     "text": [
      "305\n"
     ]
    },
    {
     "data": {
      "text/plain": [
       "10317.000013687.2926     16.14610\n",
       "10317.000063464.33800    33.90194\n",
       "10317.000050729.46739    25.02934\n",
       "10317.000050928.46739    52.32478\n",
       "10317.000052477.26481    26.05148\n",
       "dtype: float64"
      ]
     },
     "execution_count": 102,
     "metadata": {},
     "output_type": "execute_result"
    }
   ],
   "source": [
    "print(len(result))\n",
    "result[:5]"
   ]
  },
  {
   "cell_type": "markdown",
   "metadata": {},
   "source": [
    "calculate beta diversity"
   ]
  },
  {
   "cell_type": "code",
   "execution_count": 103,
   "metadata": {},
   "outputs": [],
   "source": [
    "unweighted_unifrac_ar, = diversity.actions.beta_phylogenetic(table=rare_ar, \n",
    "                                                             phylogeny=tree_ar, \n",
    "                                                             metric='unweighted_unifrac')"
   ]
  },
  {
   "cell_type": "markdown",
   "metadata": {},
   "source": [
    "So before we move on, we should discuss what this voodoo just did. Beta diversity is what ecologists call comparing how similar (or dissimilar) two samples are. For example, how similar is a forest in the Pacific Northwest to a forest in Maine? (i.e., beta diversity is a function which takes two vectors and returns a scaler). We perform this calculation over all pairs of samples though so that we can examine all of the sample relationships. This distance matrix gets large quick: in our case, it's already 244 by 244. \n",
    "\n",
    "Visualizing that matrix would suck. So, one thing we often do is principal *coordinates* analysis. It's very similar to principal *components* analysis, except that we can pass in our distance matrix."
   ]
  },
  {
   "cell_type": "code",
   "execution_count": 104,
   "metadata": {},
   "outputs": [
    {
     "name": "stderr",
     "output_type": "stream",
     "text": [
      "//anaconda/envs/qiime2-2018.11/lib/python3.5/site-packages/skbio/stats/ordination/_principal_coordinate_analysis.py:152: RuntimeWarning: The result contains negative eigenvalues. Please compare their magnitude with the magnitude of some of the largest positive eigenvalues. If the negative ones are smaller, it's probably safe to ignore them, but if they are large in magnitude, the results won't be useful. See the Notes section for more details. The smallest eigenvalue is -0.034632117913480066 and the largest is 16.846116422891065.\n",
      "  RuntimeWarning\n"
     ]
    }
   ],
   "source": [
    "unweighted_unifrac_pcoa_ar, = diversity.actions.pcoa(unweighted_unifrac_ar)"
   ]
  },
  {
   "cell_type": "markdown",
   "metadata": {},
   "source": [
    "Finally, let's actually view the coordinates. It's much more interesting to use the metadata as well :) Hint: color by body site."
   ]
  },
  {
   "cell_type": "code",
   "execution_count": 105,
   "metadata": {},
   "outputs": [],
   "source": [
    "viz, = emperor.actions.plot(unweighted_unifrac_pcoa_ar, md_ar)"
   ]
  },
  {
   "cell_type": "code",
   "execution_count": 106,
   "metadata": {},
   "outputs": [
    {
     "data": {
      "text/html": [
       "<div><img onload=\"(function(div, url){\n",
       "if (typeof require !== 'undefined') {\n",
       "    var baseURL = require.toUrl('').split('/').slice(0, -2).join('/');\n",
       "} else {\n",
       "    var baseURL = JSON.parse(\n",
       "        document.getElementById('jupyter-config-data').innerHTML\n",
       "    ).baseUrl.slice(0, -1);\n",
       "}\n",
       "url = baseURL + url;\n",
       "fetch(url).then(function(res) {\n",
       "    if (res.status === 404) {\n",
       "        div.innerHTML = 'Install QIIME 2 Jupyter extension with:<br />' +\n",
       "                        '<code>jupyter serverextension enable --py qiime2' +\n",
       "                        ' --sys-prefix</code><br />then restart your server.' +\n",
       "                        '<br /><br />(Interactive output not available on ' +\n",
       "                        'static notebook viewer services like nbviewer.)';\n",
       "    } else if (res.status === 409) {\n",
       "        div.innerHTML = 'Visualization no longer in scope. Re-run this cell' +\n",
       "                        ' to see the visualization.';\n",
       "    } else if (res.ok) {\n",
       "        url = res.url;\n",
       "        div.innerHTML = '<iframe src=\\'' + url + '\\' style=\\'' +\n",
       "                        'width: 100%; height: 700px; border: 0;\\'>' +\n",
       "                        '</iframe><hr />Open in a: <a href=\\'' + url + '\\'' +\n",
       "                        ' target=\\'_blank\\'>new window</a>'\n",
       "    } else {\n",
       "        div.innerHTML = 'Something has gone wrong. Check notebook server for' +\n",
       "                        ' errors.';\n",
       "    }\n",
       "});\n",
       "})(this.parentElement, '/qiime2/redirect?location=/var/folders/1s/mm64xwmj1gd_w2r3_9qt1kc80000gn/T/qiime2-archive-x0d1m0ah')\" src=\"data:image/gif;base64,R0lGODlhAQABAIAAAP///wAAACH5BAEAAAAALAAAAAABAAEAAAICRAEAOw==\" /></div>"
      ],
      "text/plain": [
       "<visualization: Visualization uuid: f9378991-94d7-4752-9b14-ae13b8f4aa6a>"
      ]
     },
     "execution_count": 106,
     "metadata": {},
     "output_type": "execute_result"
    }
   ],
   "source": [
    "viz"
   ]
  },
  {
   "cell_type": "code",
   "execution_count": null,
   "metadata": {},
   "outputs": [],
   "source": []
  }
 ],
 "metadata": {
  "kernelspec": {
   "display_name": "qiim2-2018.11",
   "language": "python",
   "name": "qiim2-2018.11"
  },
  "language_info": {
   "codemirror_mode": {
    "name": "ipython",
    "version": 3
   },
   "file_extension": ".py",
   "mimetype": "text/x-python",
   "name": "python",
   "nbconvert_exporter": "python",
   "pygments_lexer": "ipython3",
   "version": "3.5.5"
  }
 },
 "nbformat": 4,
 "nbformat_minor": 2
}
