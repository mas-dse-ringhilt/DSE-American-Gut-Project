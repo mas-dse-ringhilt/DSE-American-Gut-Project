{
 "cells": [
  {
   "cell_type": "markdown",
   "metadata": {
    "hideCode": false,
    "hidePrompt": false
   },
   "source": [
    "This notebook contains an example of using `redbiom` through it's Python API to extract a subset of American Gut Project samples. These data are then loaded into QIIME 2 for a mini beta-diversity analysis using UniFrac. This assumes we're using a QIIME 2 2018.11 environment that additionally has `redbiom` 0.3.0 installed. The exact commands I ran to install it are:\n",
    "\n",
    "```\n",
    "$ conda install nltk\n",
    "$ pip install https://github.com/biocore/redbiom/archive/0.3.0.zip\n",
    "```"
   ]
  },
  {
   "cell_type": "code",
   "execution_count": 1,
   "metadata": {
    "hideCode": false,
    "hidePrompt": false
   },
   "outputs": [],
   "source": [
    "import redbiom.summarize\n",
    "import redbiom.search\n",
    "import redbiom.fetch\n",
    "import qiime2\n",
    "import pandas as pd\n",
    "pd.options.display.max_colwidth = 1000"
   ]
  },
  {
   "cell_type": "markdown",
   "metadata": {
    "hideCode": false,
    "hidePrompt": false
   },
   "source": [
    "The first thing we're going to do is gather the `redbiom` contexts. A context is roughly a set of consistent technical parameters. For example, the specific sequenced gene, the variable region within the gene, the length of the read, and how the operational taxonomic units were assessed.\n",
    "\n",
    "The reason `redbiom` partitions data into contexts is because these technical details can lead to massive technical bias. The intention is to facilitate comparing \"apples\" to \"apples\". \n",
    "\n",
    "The context summarization returns a pandas `DataFrame` so it should be pretty friendly to manipulate."
   ]
  },
  {
   "cell_type": "code",
   "execution_count": 2,
   "metadata": {
    "hideCode": false,
    "hidePrompt": false
   },
   "outputs": [],
   "source": [
    "contexts = redbiom.summarize.contexts()"
   ]
  },
  {
   "cell_type": "code",
   "execution_count": 3,
   "metadata": {
    "hideCode": false,
    "hidePrompt": false
   },
   "outputs": [
    {
     "data": {
      "text/plain": [
       "(104, 4)"
      ]
     },
     "execution_count": 3,
     "metadata": {},
     "output_type": "execute_result"
    }
   ],
   "source": [
    "contexts.shape"
   ]
  },
  {
   "cell_type": "code",
   "execution_count": 7,
   "metadata": {
    "hideCode": false,
    "hidePrompt": false
   },
   "outputs": [
    {
     "data": {
      "text/html": [
       "<div>\n",
       "<style scoped>\n",
       "    .dataframe tbody tr th:only-of-type {\n",
       "        vertical-align: middle;\n",
       "    }\n",
       "\n",
       "    .dataframe tbody tr th {\n",
       "        vertical-align: top;\n",
       "    }\n",
       "\n",
       "    .dataframe thead th {\n",
       "        text-align: right;\n",
       "    }\n",
       "</style>\n",
       "<table border=\"1\" class=\"dataframe\">\n",
       "  <thead>\n",
       "    <tr style=\"text-align: right;\">\n",
       "      <th></th>\n",
       "      <th>ContextName</th>\n",
       "      <th>SamplesWithData</th>\n",
       "      <th>FeaturesWithData</th>\n",
       "      <th>Description</th>\n",
       "    </tr>\n",
       "  </thead>\n",
       "  <tbody>\n",
       "    <tr>\n",
       "      <th>0</th>\n",
       "      <td>Pick_closed-reference_OTUs-Greengenes-ls454-16S-v6-150nt-bd7d4d</td>\n",
       "      <td>114</td>\n",
       "      <td>3115</td>\n",
       "      <td>Qiita context</td>\n",
       "    </tr>\n",
       "    <tr>\n",
       "      <th>1</th>\n",
       "      <td>Pick_closed-reference_OTUs-Greengenes-flx-16S-v4-100nt-a243a1</td>\n",
       "      <td>116</td>\n",
       "      <td>3306</td>\n",
       "      <td>Qiita context</td>\n",
       "    </tr>\n",
       "  </tbody>\n",
       "</table>\n",
       "</div>"
      ],
      "text/plain": [
       "                                                       ContextName  \\\n",
       "0  Pick_closed-reference_OTUs-Greengenes-ls454-16S-v6-150nt-bd7d4d   \n",
       "1    Pick_closed-reference_OTUs-Greengenes-flx-16S-v4-100nt-a243a1   \n",
       "\n",
       "   SamplesWithData  FeaturesWithData    Description  \n",
       "0              114              3115  Qiita context  \n",
       "1              116              3306  Qiita context  "
      ]
     },
     "execution_count": 7,
     "metadata": {},
     "output_type": "execute_result"
    }
   ],
   "source": [
    "contexts.head(2)"
   ]
  },
  {
   "cell_type": "markdown",
   "metadata": {
    "hideCode": false,
    "hidePrompt": false
   },
   "source": [
    "At the present time, determining the context to use is a bit manual and requires some strung munging. Additional development is needed.\n",
    "\n",
    "Let's take a look at the larger contexts."
   ]
  },
  {
   "cell_type": "code",
   "execution_count": 8,
   "metadata": {
    "hideCode": false,
    "hidePrompt": false
   },
   "outputs": [
    {
     "data": {
      "text/html": [
       "<div>\n",
       "<style scoped>\n",
       "    .dataframe tbody tr th:only-of-type {\n",
       "        vertical-align: middle;\n",
       "    }\n",
       "\n",
       "    .dataframe tbody tr th {\n",
       "        vertical-align: top;\n",
       "    }\n",
       "\n",
       "    .dataframe thead th {\n",
       "        text-align: right;\n",
       "    }\n",
       "</style>\n",
       "<table border=\"1\" class=\"dataframe\">\n",
       "  <thead>\n",
       "    <tr style=\"text-align: right;\">\n",
       "      <th></th>\n",
       "      <th>ContextName</th>\n",
       "      <th>SamplesWithData</th>\n",
       "      <th>FeaturesWithData</th>\n",
       "      <th>Description</th>\n",
       "    </tr>\n",
       "  </thead>\n",
       "  <tbody>\n",
       "    <tr>\n",
       "      <th>49</th>\n",
       "      <td>Pick_closed-reference_OTUs-Greengenes-illumina-16S-v4-100nt-a243a1</td>\n",
       "      <td>129596</td>\n",
       "      <td>74983</td>\n",
       "      <td>Qiita context</td>\n",
       "    </tr>\n",
       "    <tr>\n",
       "      <th>65</th>\n",
       "      <td>Pick_closed-reference_OTUs-Greengenes-illumina-16S-v4-5c6506</td>\n",
       "      <td>128222</td>\n",
       "      <td>82492</td>\n",
       "      <td>Qiita context</td>\n",
       "    </tr>\n",
       "    <tr>\n",
       "      <th>39</th>\n",
       "      <td>Pick_closed-reference_OTUs-Greengenes-illumina-16S-v4-90nt-44feac</td>\n",
       "      <td>125354</td>\n",
       "      <td>73083</td>\n",
       "      <td>Qiita context</td>\n",
       "    </tr>\n",
       "    <tr>\n",
       "      <th>69</th>\n",
       "      <td>Deblur-NA-illumina-16S-v4-100nt-fbc5b2</td>\n",
       "      <td>123127</td>\n",
       "      <td>5587560</td>\n",
       "      <td>Qiita context</td>\n",
       "    </tr>\n",
       "    <tr>\n",
       "      <th>93</th>\n",
       "      <td>Deblur-NA-illumina-16S-v4-90nt-99d1d8</td>\n",
       "      <td>119538</td>\n",
       "      <td>4460311</td>\n",
       "      <td>Qiita context</td>\n",
       "    </tr>\n",
       "  </tbody>\n",
       "</table>\n",
       "</div>"
      ],
      "text/plain": [
       "                                                           ContextName  \\\n",
       "49  Pick_closed-reference_OTUs-Greengenes-illumina-16S-v4-100nt-a243a1   \n",
       "65        Pick_closed-reference_OTUs-Greengenes-illumina-16S-v4-5c6506   \n",
       "39   Pick_closed-reference_OTUs-Greengenes-illumina-16S-v4-90nt-44feac   \n",
       "69                              Deblur-NA-illumina-16S-v4-100nt-fbc5b2   \n",
       "93                               Deblur-NA-illumina-16S-v4-90nt-99d1d8   \n",
       "\n",
       "    SamplesWithData  FeaturesWithData    Description  \n",
       "49           129596             74983  Qiita context  \n",
       "65           128222             82492  Qiita context  \n",
       "39           125354             73083  Qiita context  \n",
       "69           123127           5587560  Qiita context  \n",
       "93           119538           4460311  Qiita context  "
      ]
     },
     "execution_count": 8,
     "metadata": {},
     "output_type": "execute_result"
    }
   ],
   "source": [
    "contexts.sort_values('SamplesWithData', ascending=False).head()"
   ]
  },
  {
   "cell_type": "markdown",
   "metadata": {
    "hideCode": false,
    "hidePrompt": false
   },
   "source": [
    "For simplicity sake, let's take the first context. It's large, and the phylogeny associated with the operational taxonomic units is easy to get. We'll break down the meaning of the context name in a moment. In practice, you will _most likely_ want to use the Deblur data, however producing a reasonable tree from those data requies a slightly computationally expensive step, and I'm on my laptop right now with limited battery quite literally in the middle of nowhere on a bus in the Czech Republic."
   ]
  },
  {
   "cell_type": "markdown",
   "metadata": {},
   "source": [
    "## Using Deblur Context"
   ]
  },
  {
   "cell_type": "code",
   "execution_count": 9,
   "metadata": {
    "hideCode": false,
    "hidePrompt": false
   },
   "outputs": [],
   "source": [
    "ctx = contexts.sort_values('SamplesWithData', ascending=False).iloc[3]['ContextName']"
   ]
  },
  {
   "cell_type": "code",
   "execution_count": 10,
   "metadata": {
    "hideCode": false,
    "hidePrompt": false
   },
   "outputs": [
    {
     "data": {
      "text/plain": [
       "'Deblur-NA-illumina-16S-v4-100nt-fbc5b2'"
      ]
     },
     "execution_count": 10,
     "metadata": {},
     "output_type": "execute_result"
    }
   ],
   "source": [
    "ctx"
   ]
  },
  {
   "cell_type": "markdown",
   "metadata": {},
   "source": [
    "**for Daniel Notes below talks about Greengenes but we are using deblur as he recommends instaed**"
   ]
  },
  {
   "cell_type": "markdown",
   "metadata": {
    "hideCode": false,
    "hidePrompt": false
   },
   "source": [
    "Breaking this name into its constiuent pieces, this is a closed reference context meaning that operational taxonomic units were assessed against a reference database and sequences which did not recruit to the reference were discarded. The reference used is Greengenes, a common 16S reference database. The gene represented by the data is the 16S SSU rRNA gene, and specifically the V4 region of the gene. Finally, the fragments represented are truncated to 100 nucleotides. (Don't worry if this is all a lot of jargon. It is a lot of jargon. Please ask questions :)\n",
    "\n",
    "So cool, we have a \"context\". What can we do now? Let's search for some sample identifiers based off of the metadata (i.e., variables) associated with the samples. Specifically, let's get some skin, oral and fecal samples. Be forewarned, the metadata search uses Python's `ast` module behind the scenes, so malformed queries at present produce tracebacks."
   ]
  },
  {
   "cell_type": "code",
   "execution_count": 11,
   "metadata": {
    "hideCode": false,
    "hidePrompt": false
   },
   "outputs": [],
   "source": [
    "study_id = 10317  # the Qiita study ID of the American Gut Project is 10317\n",
    "\n",
    "query = \"where qiita_study_id==%d\" % (study_id)\n",
    "results = redbiom.search.metadata_full(query)"
   ]
  },
  {
   "cell_type": "code",
   "execution_count": 12,
   "metadata": {
    "hideCode": false,
    "hidePrompt": false
   },
   "outputs": [
    {
     "data": {
      "text/plain": [
       "21506"
      ]
     },
     "execution_count": 12,
     "metadata": {},
     "output_type": "execute_result"
    }
   ],
   "source": [
    "len(results)"
   ]
  },
  {
   "cell_type": "code",
   "execution_count": 15,
   "metadata": {
    "hideCode": false,
    "hidePrompt": false
   },
   "outputs": [],
   "source": [
    "study_id = 10317  # the Qiita study ID of the American Gut Project is 10317\n",
    "results = {}\n",
    "for site in ['sebum', 'saliva', 'feces']:\n",
    "    query = \"where qiita_study_id==%d and env_material=='%s'\" % (study_id, site)\n",
    "    results[site] = redbiom.search.metadata_full(query)"
   ]
  },
  {
   "cell_type": "code",
   "execution_count": 16,
   "metadata": {
    "hideCode": false,
    "hidePrompt": false
   },
   "outputs": [
    {
     "name": "stdout",
     "output_type": "stream",
     "text": [
      "feces 16207\n",
      "saliva 1257\n",
      "sebum 1136\n"
     ]
    }
   ],
   "source": [
    "for k, v in results.items():\n",
    "    print(k, len(v))"
   ]
  },
  {
   "cell_type": "markdown",
   "metadata": {
    "hideCode": false,
    "hidePrompt": false
   },
   "source": [
    "## Want to get metadata for all samples and then export to csv"
   ]
  },
  {
   "cell_type": "code",
   "execution_count": 51,
   "metadata": {
    "hideCode": false,
    "hidePrompt": false
   },
   "outputs": [],
   "source": [
    "to_keep_all = []\n",
    "for k, v in results.items():\n",
    "    to_keep_all.extend(list(v))"
   ]
  },
  {
   "cell_type": "code",
   "execution_count": 52,
   "metadata": {
    "hideCode": false,
    "hidePrompt": false
   },
   "outputs": [],
   "source": [
    "to_keep_all\n",
    "md_all, _ = redbiom.fetch.sample_metadata(to_keep_all, context=ctx)"
   ]
  },
  {
   "cell_type": "code",
   "execution_count": 53,
   "metadata": {
    "hideCode": false,
    "hidePrompt": false
   },
   "outputs": [
    {
     "data": {
      "text/plain": [
       "(14657, 52)"
      ]
     },
     "execution_count": 53,
     "metadata": {},
     "output_type": "execute_result"
    }
   ],
   "source": [
    "md_all.shape"
   ]
  },
  {
   "cell_type": "code",
   "execution_count": 56,
   "metadata": {
    "hideCode": false,
    "hidePrompt": false
   },
   "outputs": [
    {
     "data": {
      "text/html": [
       "<div>\n",
       "<style scoped>\n",
       "    .dataframe tbody tr th:only-of-type {\n",
       "        vertical-align: middle;\n",
       "    }\n",
       "\n",
       "    .dataframe tbody tr th {\n",
       "        vertical-align: top;\n",
       "    }\n",
       "\n",
       "    .dataframe thead th {\n",
       "        text-align: right;\n",
       "    }\n",
       "</style>\n",
       "<table border=\"1\" class=\"dataframe\">\n",
       "  <thead>\n",
       "    <tr style=\"text-align: right;\">\n",
       "      <th></th>\n",
       "      <th>#SampleID</th>\n",
       "      <th>alcohol_types_beercider</th>\n",
       "      <th>alcohol_types_red_wine</th>\n",
       "      <th>alcohol_types_sour_beers</th>\n",
       "      <th>alcohol_types_spiritshard_alcohol</th>\n",
       "      <th>alcohol_types_unspecified</th>\n",
       "      <th>alcohol_types_white_wine</th>\n",
       "      <th>allergic_to_i_have_no_food_allergies_that_i_know_of</th>\n",
       "      <th>allergic_to_other</th>\n",
       "      <th>allergic_to_peanuts</th>\n",
       "      <th>...</th>\n",
       "      <th>subset_age</th>\n",
       "      <th>subset_antibiotic_history</th>\n",
       "      <th>subset_bmi</th>\n",
       "      <th>subset_diabetes</th>\n",
       "      <th>subset_healthy</th>\n",
       "      <th>subset_ibd</th>\n",
       "      <th>survey_id</th>\n",
       "      <th>taxon_id</th>\n",
       "      <th>title</th>\n",
       "      <th>weight_units</th>\n",
       "    </tr>\n",
       "  </thead>\n",
       "  <tbody>\n",
       "    <tr>\n",
       "      <th>26674_10317.000001247</th>\n",
       "      <td>10317.000001247.26674</td>\n",
       "      <td>false</td>\n",
       "      <td>false</td>\n",
       "      <td>false</td>\n",
       "      <td>false</td>\n",
       "      <td>true</td>\n",
       "      <td>false</td>\n",
       "      <td>false</td>\n",
       "      <td>false</td>\n",
       "      <td>false</td>\n",
       "      <td>...</td>\n",
       "      <td>true</td>\n",
       "      <td>false</td>\n",
       "      <td>false</td>\n",
       "      <td>true</td>\n",
       "      <td>false</td>\n",
       "      <td>true</td>\n",
       "      <td>0fc2b33cc12ffa57</td>\n",
       "      <td>408170</td>\n",
       "      <td>American Gut Project</td>\n",
       "      <td>kilograms</td>\n",
       "    </tr>\n",
       "    <tr>\n",
       "      <th>26674_10317.000001820</th>\n",
       "      <td>10317.000001820.26674</td>\n",
       "      <td>true</td>\n",
       "      <td>false</td>\n",
       "      <td>false</td>\n",
       "      <td>true</td>\n",
       "      <td>false</td>\n",
       "      <td>false</td>\n",
       "      <td>true</td>\n",
       "      <td>false</td>\n",
       "      <td>false</td>\n",
       "      <td>...</td>\n",
       "      <td>true</td>\n",
       "      <td>true</td>\n",
       "      <td>true</td>\n",
       "      <td>true</td>\n",
       "      <td>true</td>\n",
       "      <td>true</td>\n",
       "      <td>744dfbc2b20daa5d</td>\n",
       "      <td>408170</td>\n",
       "      <td>American Gut Project</td>\n",
       "      <td>kilograms</td>\n",
       "    </tr>\n",
       "  </tbody>\n",
       "</table>\n",
       "<p>2 rows × 52 columns</p>\n",
       "</div>"
      ],
      "text/plain": [
       "                                   #SampleID alcohol_types_beercider  \\\n",
       "26674_10317.000001247  10317.000001247.26674                   false   \n",
       "26674_10317.000001820  10317.000001820.26674                    true   \n",
       "\n",
       "                      alcohol_types_red_wine alcohol_types_sour_beers  \\\n",
       "26674_10317.000001247                  false                    false   \n",
       "26674_10317.000001820                  false                    false   \n",
       "\n",
       "                      alcohol_types_spiritshard_alcohol  \\\n",
       "26674_10317.000001247                             false   \n",
       "26674_10317.000001820                              true   \n",
       "\n",
       "                      alcohol_types_unspecified alcohol_types_white_wine  \\\n",
       "26674_10317.000001247                      true                    false   \n",
       "26674_10317.000001820                     false                    false   \n",
       "\n",
       "                      allergic_to_i_have_no_food_allergies_that_i_know_of  \\\n",
       "26674_10317.000001247                                               false   \n",
       "26674_10317.000001820                                                true   \n",
       "\n",
       "                      allergic_to_other allergic_to_peanuts     ...       \\\n",
       "26674_10317.000001247             false               false     ...        \n",
       "26674_10317.000001820             false               false     ...        \n",
       "\n",
       "                      subset_age subset_antibiotic_history subset_bmi  \\\n",
       "26674_10317.000001247       true                     false      false   \n",
       "26674_10317.000001820       true                      true       true   \n",
       "\n",
       "                      subset_diabetes subset_healthy subset_ibd  \\\n",
       "26674_10317.000001247            true          false       true   \n",
       "26674_10317.000001820            true           true       true   \n",
       "\n",
       "                              survey_id taxon_id                 title  \\\n",
       "26674_10317.000001247  0fc2b33cc12ffa57   408170  American Gut Project   \n",
       "26674_10317.000001820  744dfbc2b20daa5d   408170  American Gut Project   \n",
       "\n",
       "                      weight_units  \n",
       "26674_10317.000001247    kilograms  \n",
       "26674_10317.000001820    kilograms  \n",
       "\n",
       "[2 rows x 52 columns]"
      ]
     },
     "execution_count": 56,
     "metadata": {},
     "output_type": "execute_result"
    }
   ],
   "source": [
    "md_all.head(2)"
   ]
  },
  {
   "cell_type": "markdown",
   "metadata": {},
   "source": [
    "**exporting metadata to .csv, (14657 rows and 52 columns)**"
   ]
  },
  {
   "cell_type": "code",
   "execution_count": 57,
   "metadata": {},
   "outputs": [],
   "source": [
    "md_all.to_csv('AGP_metdata.csv')"
   ]
  },
  {
   "cell_type": "markdown",
   "metadata": {
    "hideCode": false,
    "hidePrompt": false
   },
   "source": [
    "The last output cell shows what these IDs look like. These are Qiita sample IDs.\n",
    "\n",
    "Now that we have some samples, let's get some data! What we're going to do is ask `redbiom` to obtain the sample data, for our `to_keep` samples, from the context we previously selected. What's happening behind the scenes is that the API is pulling out sparse vectors corresponding to the number of individual sequences observed for each operational taxonomic unit per sample, and additionally unmunging the names (as `redbiom` normalizes sample and feature identifiers). The output is then aggregated into what's called a BIOM `Table`, which is really just a rich object wrapped around a `scipy.sparse` matrix. \n",
    "\n",
    "You may noice two outputs on the return. The one we're ignoring represents \"ambiguous\" samples. Some sample identifiers are associated with multiple sequenced samples. This is because some samples may \"fail\" sequencing, where they didn't yield sufficient sequence data, and were rerun. These \"failures\" are still represented in Qiita, but are differentiated by the actual sequencing run they were on. This doesn't matter for the moment though."
   ]
  },
  {
   "cell_type": "markdown",
   "metadata": {},
   "source": [
    "## Get the biom_table (OTU data) from deblur context"
   ]
  },
  {
   "cell_type": "markdown",
   "metadata": {},
   "source": [
    "the following takes a while to run (!30 minutes)"
   ]
  },
  {
   "cell_type": "code",
   "execution_count": 58,
   "metadata": {
    "hideCode": false,
    "hidePrompt": false
   },
   "outputs": [],
   "source": [
    "biom_table, _ = redbiom.fetch.data_from_samples(ctx, to_keep_all)"
   ]
  },
  {
   "cell_type": "code",
   "execution_count": 74,
   "metadata": {
    "hideCode": false,
    "hidePrompt": false
   },
   "outputs": [
    {
     "data": {
      "text/plain": [
       "376923 x 14657 <class 'biom.table.Table'> with 2808216 nonzero entries (0% dense)"
      ]
     },
     "execution_count": 74,
     "metadata": {},
     "output_type": "execute_result"
    }
   ],
   "source": [
    "biom_table"
   ]
  },
  {
   "cell_type": "markdown",
   "metadata": {},
   "source": [
    "wow 376923 different rows (each row is a different OTU)"
   ]
  },
  {
   "cell_type": "code",
   "execution_count": 62,
   "metadata": {
    "hideCode": false,
    "hidePrompt": false
   },
   "outputs": [],
   "source": [
    "# lookup for ITU ID's and what they mean - linking them to higher level?"
   ]
  },
  {
   "cell_type": "code",
   "execution_count": 63,
   "metadata": {
    "hideCode": false,
    "hidePrompt": false
   },
   "outputs": [
    {
     "name": "stdout",
     "output_type": "stream",
     "text": [
      "# Constructed from biom file\n",
      "#OTU ID\t10317.000066557.33038\t10317.000046467.33048\t10317.000084591.42561\t10317.000029998.27270\t10317.000009612.27865\n",
      "TACGTATGGTGCGAGCGTTGTCCGGAATTATTGGGCGTAAAGGGTACGTAGGCGGTTAAACAAGTCAGATGTAAAAACTTGAGGCTCAACCTTATGTAGC\t0.0\t0.0\t0.0\t0.0\t0.0\n",
      "AACGTAGGTCACAAGCGTTGTCCGGAATTACTGGGTGTAAAGGGTGCGTAGACGGGAGAGCAAGTTAGTTGTGAAATCCCTCGGCTTAACTGAGGAACTG\t0.0\t0.0\t0.0\t0.0\t0.0\n",
      "TACGTATGGAGCAAGCGTTATCCGGATTTACTGGGTGTAAAGGGTGCGTAGGTGGCAGTGCAAGTCAGACGTGAAATCCATGGGCTCAACCCATGAACTG\t0.0\t0.0\t0.0\t0.0\t0.0\n",
      "TACGGAGGGGGCAAGCGTTGTTCGGATTTACTGGGCGTAAAGGGCGCGTAGGCGGCGCAACGAGTCACTTGTGAAATCTCCGGGCTTAACTCGGAACTGC\t0.0\t0.0\t0.0\t0.0\t0.0\n",
      "TACGTATGGTGCAAGCGTTATCCGGATTTACTGGATGTAAAGGGAGCGCAGGCGGTCTGGCAAGTCTGATGTGAAAATCCGGGGCTCAACTTCGGAACTG\t0.0\t0.0\t0.0\t0.0\t0.0\n"
     ]
    }
   ],
   "source": [
    "print(biom_table.head())"
   ]
  },
  {
   "cell_type": "markdown",
   "metadata": {},
   "source": [
    "**create a pandas sparse dataframe from the results and export to pickle file**"
   ]
  },
  {
   "cell_type": "code",
   "execution_count": 67,
   "metadata": {},
   "outputs": [],
   "source": [
    "adf = pd.SparseDataFrame(biom_table.matrix_data)"
   ]
  },
  {
   "cell_type": "code",
   "execution_count": 69,
   "metadata": {},
   "outputs": [
    {
     "data": {
      "text/plain": [
       "(376923, 14657)"
      ]
     },
     "execution_count": 69,
     "metadata": {},
     "output_type": "execute_result"
    }
   ],
   "source": [
    "adf.shape"
   ]
  },
  {
   "cell_type": "code",
   "execution_count": 71,
   "metadata": {},
   "outputs": [],
   "source": [
    "adf.to_pickle('biom_table.pkl')"
   ]
  },
  {
   "cell_type": "code",
   "execution_count": null,
   "metadata": {
    "hideCode": false,
    "hidePrompt": false
   },
   "outputs": [],
   "source": []
  }
 ],
 "metadata": {
  "hide_code_all_hidden": false,
  "kernelspec": {
   "display_name": "qiim2-2018.11",
   "language": "python",
   "name": "qiim2-2018.11"
  },
  "language_info": {
   "codemirror_mode": {
    "name": "ipython",
    "version": 3
   },
   "file_extension": ".py",
   "mimetype": "text/x-python",
   "name": "python",
   "nbconvert_exporter": "python",
   "pygments_lexer": "ipython3",
   "version": "3.5.5"
  }
 },
 "nbformat": 4,
 "nbformat_minor": 2
}
