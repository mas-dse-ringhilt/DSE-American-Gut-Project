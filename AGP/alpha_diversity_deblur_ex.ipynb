{
 "cells": [
  {
   "cell_type": "markdown",
   "metadata": {
    "hideCode": false,
    "hidePrompt": false
   },
   "source": [
    "This notebook contains an example of using `redbiom` through it's Python API to extract a subset of American Gut Project samples. These data are then loaded into QIIME 2 for a mini beta-diversity analysis using UniFrac. This assumes we're using a QIIME 2 2018.11 environment that additionally has `redbiom` 0.3.0 installed. The exact commands I ran to install it are:\n",
    "\n",
    "```\n",
    "$ conda install nltk\n",
    "$ pip install https://github.com/biocore/redbiom/archive/0.3.0.zip\n",
    "```"
   ]
  },
  {
   "cell_type": "code",
   "execution_count": 1,
   "metadata": {
    "hideCode": false,
    "hidePrompt": false
   },
   "outputs": [],
   "source": [
    "import redbiom.summarize\n",
    "import redbiom.search\n",
    "import redbiom.fetch\n",
    "import qiime2\n",
    "import pandas as pd\n",
    "pd.options.display.max_colwidth = 1000"
   ]
  },
  {
   "cell_type": "markdown",
   "metadata": {
    "hideCode": false,
    "hidePrompt": false
   },
   "source": [
    "The first thing we're going to do is gather the `redbiom` contexts. A context is roughly a set of consistent technical parameters. For example, the specific sequenced gene, the variable region within the gene, the length of the read, and how the operational taxonomic units were assessed.\n",
    "\n",
    "The reason `redbiom` partitions data into contexts is because these technical details can lead to massive technical bias. The intention is to facilitate comparing \"apples\" to \"apples\". \n",
    "\n",
    "The context summarization returns a pandas `DataFrame` so it should be pretty friendly to manipulate."
   ]
  },
  {
   "cell_type": "code",
   "execution_count": 2,
   "metadata": {
    "hideCode": false,
    "hidePrompt": false
   },
   "outputs": [],
   "source": [
    "contexts = redbiom.summarize.contexts()"
   ]
  },
  {
   "cell_type": "code",
   "execution_count": 3,
   "metadata": {
    "hideCode": false,
    "hidePrompt": false
   },
   "outputs": [
    {
     "data": {
      "text/plain": [
       "(104, 4)"
      ]
     },
     "execution_count": 3,
     "metadata": {},
     "output_type": "execute_result"
    }
   ],
   "source": [
    "contexts.shape"
   ]
  },
  {
   "cell_type": "code",
   "execution_count": 4,
   "metadata": {
    "hideCode": false,
    "hidePrompt": false
   },
   "outputs": [
    {
     "data": {
      "text/html": [
       "<div>\n",
       "<style scoped>\n",
       "    .dataframe tbody tr th:only-of-type {\n",
       "        vertical-align: middle;\n",
       "    }\n",
       "\n",
       "    .dataframe tbody tr th {\n",
       "        vertical-align: top;\n",
       "    }\n",
       "\n",
       "    .dataframe thead th {\n",
       "        text-align: right;\n",
       "    }\n",
       "</style>\n",
       "<table border=\"1\" class=\"dataframe\">\n",
       "  <thead>\n",
       "    <tr style=\"text-align: right;\">\n",
       "      <th></th>\n",
       "      <th>ContextName</th>\n",
       "      <th>SamplesWithData</th>\n",
       "      <th>FeaturesWithData</th>\n",
       "      <th>Description</th>\n",
       "    </tr>\n",
       "  </thead>\n",
       "  <tbody>\n",
       "    <tr>\n",
       "      <th>0</th>\n",
       "      <td>Pick_closed-reference_OTUs-Greengenes-ls454-16S-v6-150nt-bd7d4d</td>\n",
       "      <td>114</td>\n",
       "      <td>3115</td>\n",
       "      <td>Qiita context</td>\n",
       "    </tr>\n",
       "    <tr>\n",
       "      <th>1</th>\n",
       "      <td>Pick_closed-reference_OTUs-Greengenes-flx-16S-v4-150nt-bd7d4d</td>\n",
       "      <td>116</td>\n",
       "      <td>4218</td>\n",
       "      <td>Qiita context</td>\n",
       "    </tr>\n",
       "  </tbody>\n",
       "</table>\n",
       "</div>"
      ],
      "text/plain": [
       "                                                       ContextName  \\\n",
       "0  Pick_closed-reference_OTUs-Greengenes-ls454-16S-v6-150nt-bd7d4d   \n",
       "1    Pick_closed-reference_OTUs-Greengenes-flx-16S-v4-150nt-bd7d4d   \n",
       "\n",
       "   SamplesWithData  FeaturesWithData    Description  \n",
       "0              114              3115  Qiita context  \n",
       "1              116              4218  Qiita context  "
      ]
     },
     "execution_count": 4,
     "metadata": {},
     "output_type": "execute_result"
    }
   ],
   "source": [
    "contexts.head(2)"
   ]
  },
  {
   "cell_type": "markdown",
   "metadata": {
    "hideCode": false,
    "hidePrompt": false
   },
   "source": [
    "At the present time, determining the context to use is a bit manual and requires some strung munging. Additional development is needed.\n",
    "\n",
    "Let's take a look at the larger contexts."
   ]
  },
  {
   "cell_type": "code",
   "execution_count": 5,
   "metadata": {
    "hideCode": false,
    "hidePrompt": false
   },
   "outputs": [
    {
     "data": {
      "text/html": [
       "<div>\n",
       "<style scoped>\n",
       "    .dataframe tbody tr th:only-of-type {\n",
       "        vertical-align: middle;\n",
       "    }\n",
       "\n",
       "    .dataframe tbody tr th {\n",
       "        vertical-align: top;\n",
       "    }\n",
       "\n",
       "    .dataframe thead th {\n",
       "        text-align: right;\n",
       "    }\n",
       "</style>\n",
       "<table border=\"1\" class=\"dataframe\">\n",
       "  <thead>\n",
       "    <tr style=\"text-align: right;\">\n",
       "      <th></th>\n",
       "      <th>ContextName</th>\n",
       "      <th>SamplesWithData</th>\n",
       "      <th>FeaturesWithData</th>\n",
       "      <th>Description</th>\n",
       "    </tr>\n",
       "  </thead>\n",
       "  <tbody>\n",
       "    <tr>\n",
       "      <th>38</th>\n",
       "      <td>Pick_closed-reference_OTUs-Greengenes-illumina-16S-v4-100nt-a243a1</td>\n",
       "      <td>129596</td>\n",
       "      <td>74983</td>\n",
       "      <td>Qiita context</td>\n",
       "    </tr>\n",
       "    <tr>\n",
       "      <th>6</th>\n",
       "      <td>Pick_closed-reference_OTUs-Greengenes-illumina-16S-v4-5c6506</td>\n",
       "      <td>128222</td>\n",
       "      <td>82492</td>\n",
       "      <td>Qiita context</td>\n",
       "    </tr>\n",
       "    <tr>\n",
       "      <th>84</th>\n",
       "      <td>Pick_closed-reference_OTUs-Greengenes-illumina-16S-v4-90nt-44feac</td>\n",
       "      <td>125354</td>\n",
       "      <td>73083</td>\n",
       "      <td>Qiita context</td>\n",
       "    </tr>\n",
       "    <tr>\n",
       "      <th>48</th>\n",
       "      <td>Deblur-NA-illumina-16S-v4-100nt-fbc5b2</td>\n",
       "      <td>123127</td>\n",
       "      <td>5587560</td>\n",
       "      <td>Qiita context</td>\n",
       "    </tr>\n",
       "    <tr>\n",
       "      <th>18</th>\n",
       "      <td>Deblur-NA-illumina-16S-v4-90nt-99d1d8</td>\n",
       "      <td>119538</td>\n",
       "      <td>4460311</td>\n",
       "      <td>Qiita context</td>\n",
       "    </tr>\n",
       "  </tbody>\n",
       "</table>\n",
       "</div>"
      ],
      "text/plain": [
       "                                                           ContextName  \\\n",
       "38  Pick_closed-reference_OTUs-Greengenes-illumina-16S-v4-100nt-a243a1   \n",
       "6         Pick_closed-reference_OTUs-Greengenes-illumina-16S-v4-5c6506   \n",
       "84   Pick_closed-reference_OTUs-Greengenes-illumina-16S-v4-90nt-44feac   \n",
       "48                              Deblur-NA-illumina-16S-v4-100nt-fbc5b2   \n",
       "18                               Deblur-NA-illumina-16S-v4-90nt-99d1d8   \n",
       "\n",
       "    SamplesWithData  FeaturesWithData    Description  \n",
       "38           129596             74983  Qiita context  \n",
       "6            128222             82492  Qiita context  \n",
       "84           125354             73083  Qiita context  \n",
       "48           123127           5587560  Qiita context  \n",
       "18           119538           4460311  Qiita context  "
      ]
     },
     "execution_count": 5,
     "metadata": {},
     "output_type": "execute_result"
    }
   ],
   "source": [
    "contexts.sort_values('SamplesWithData', ascending=False).head()"
   ]
  },
  {
   "cell_type": "markdown",
   "metadata": {
    "hideCode": false,
    "hidePrompt": false
   },
   "source": [
    "For simplicity sake, let's take the first context. It's large, and the phylogeny associated with the operational taxonomic units is easy to get. We'll break down the meaning of the context name in a moment. In practice, you will _most likely_ want to use the Deblur data, however producing a reasonable tree from those data requies a slightly computationally expensive step, and I'm on my laptop right now with limited battery quite literally in the middle of nowhere on a bus in the Czech Republic."
   ]
  },
  {
   "cell_type": "markdown",
   "metadata": {},
   "source": [
    "## Using Deblur Context"
   ]
  },
  {
   "cell_type": "code",
   "execution_count": 6,
   "metadata": {
    "hideCode": false,
    "hidePrompt": false
   },
   "outputs": [],
   "source": [
    "ctx = contexts.sort_values('SamplesWithData', ascending=False).iloc[3]['ContextName']"
   ]
  },
  {
   "cell_type": "code",
   "execution_count": 7,
   "metadata": {
    "hideCode": false,
    "hidePrompt": false
   },
   "outputs": [
    {
     "data": {
      "text/plain": [
       "'Deblur-NA-illumina-16S-v4-100nt-fbc5b2'"
      ]
     },
     "execution_count": 7,
     "metadata": {},
     "output_type": "execute_result"
    }
   ],
   "source": [
    "ctx"
   ]
  },
  {
   "cell_type": "markdown",
   "metadata": {},
   "source": [
    "**for Daniel Notes below talks about Greengenes but we are using deblur as he recommends instaed**"
   ]
  },
  {
   "cell_type": "markdown",
   "metadata": {
    "hideCode": false,
    "hidePrompt": false
   },
   "source": [
    "Breaking this name into its constiuent pieces, this is a closed reference context meaning that operational taxonomic units were assessed against a reference database and sequences which did not recruit to the reference were discarded. The reference used is Greengenes, a common 16S reference database. The gene represented by the data is the 16S SSU rRNA gene, and specifically the V4 region of the gene. Finally, the fragments represented are truncated to 100 nucleotides. (Don't worry if this is all a lot of jargon. It is a lot of jargon. Please ask questions :)\n",
    "\n",
    "So cool, we have a \"context\". What can we do now? Let's search for some sample identifiers based off of the metadata (i.e., variables) associated with the samples. Specifically, let's get some skin, oral and fecal samples. Be forewarned, the metadata search uses Python's `ast` module behind the scenes, so malformed queries at present produce tracebacks."
   ]
  },
  {
   "cell_type": "code",
   "execution_count": 8,
   "metadata": {
    "hideCode": false,
    "hidePrompt": false
   },
   "outputs": [],
   "source": [
    "study_id = 10317  # the Qiita study ID of the American Gut Project is 10317\n",
    "\n",
    "query = \"where qiita_study_id==%d\" % (study_id)\n",
    "results = redbiom.search.metadata_full(query)"
   ]
  },
  {
   "cell_type": "code",
   "execution_count": 9,
   "metadata": {
    "hideCode": false,
    "hidePrompt": false
   },
   "outputs": [
    {
     "data": {
      "text/plain": [
       "21506"
      ]
     },
     "execution_count": 9,
     "metadata": {},
     "output_type": "execute_result"
    }
   ],
   "source": [
    "len(results)"
   ]
  },
  {
   "cell_type": "code",
   "execution_count": 10,
   "metadata": {
    "hideCode": false,
    "hidePrompt": false
   },
   "outputs": [],
   "source": [
    "study_id = 10317  # the Qiita study ID of the American Gut Project is 10317\n",
    "results = {}\n",
    "for site in ['sebum', 'saliva', 'feces']:\n",
    "    query = \"where qiita_study_id==%d and env_material=='%s'\" % (study_id, site)\n",
    "    results[site] = redbiom.search.metadata_full(query)"
   ]
  },
  {
   "cell_type": "code",
   "execution_count": 11,
   "metadata": {
    "hideCode": false,
    "hidePrompt": false
   },
   "outputs": [
    {
     "name": "stdout",
     "output_type": "stream",
     "text": [
      "feces 16207\n",
      "saliva 1257\n",
      "sebum 1136\n"
     ]
    }
   ],
   "source": [
    "for k, v in results.items():\n",
    "    print(k, len(v))"
   ]
  },
  {
   "cell_type": "markdown",
   "metadata": {
    "hideCode": false,
    "hidePrompt": false
   },
   "source": [
    "## Want to get metadata for all samples and then export to csv"
   ]
  },
  {
   "cell_type": "code",
   "execution_count": 12,
   "metadata": {
    "hideCode": false,
    "hidePrompt": false
   },
   "outputs": [],
   "source": [
    "to_keep_all = []\n",
    "for k, v in results.items():\n",
    "    to_keep_all.extend(list(v))"
   ]
  },
  {
   "cell_type": "code",
   "execution_count": 13,
   "metadata": {},
   "outputs": [],
   "source": [
    "to_keep = to_keep_all[:5]"
   ]
  },
  {
   "cell_type": "code",
   "execution_count": 14,
   "metadata": {
    "hideCode": false,
    "hidePrompt": false
   },
   "outputs": [],
   "source": [
    "md_all, _ = redbiom.fetch.sample_metadata(to_keep, context=ctx)"
   ]
  },
  {
   "cell_type": "code",
   "execution_count": 15,
   "metadata": {},
   "outputs": [
    {
     "data": {
      "text/plain": [
       "(5, 424)"
      ]
     },
     "execution_count": 15,
     "metadata": {},
     "output_type": "execute_result"
    }
   ],
   "source": [
    "md_all.shape"
   ]
  },
  {
   "cell_type": "code",
   "execution_count": 16,
   "metadata": {},
   "outputs": [
    {
     "data": {
      "text/html": [
       "<div>\n",
       "<style scoped>\n",
       "    .dataframe tbody tr th:only-of-type {\n",
       "        vertical-align: middle;\n",
       "    }\n",
       "\n",
       "    .dataframe tbody tr th {\n",
       "        vertical-align: top;\n",
       "    }\n",
       "\n",
       "    .dataframe thead th {\n",
       "        text-align: right;\n",
       "    }\n",
       "</style>\n",
       "<table border=\"1\" class=\"dataframe\">\n",
       "  <thead>\n",
       "    <tr style=\"text-align: right;\">\n",
       "      <th></th>\n",
       "      <th>#SampleID</th>\n",
       "      <th>acid_reflux</th>\n",
       "      <th>acne_medication</th>\n",
       "      <th>acne_medication_otc</th>\n",
       "      <th>add_adhd</th>\n",
       "      <th>age_cat</th>\n",
       "      <th>age_corrected</th>\n",
       "      <th>age_years</th>\n",
       "      <th>alcohol_consumption</th>\n",
       "      <th>alcohol_types_beercider</th>\n",
       "      <th>...</th>\n",
       "      <th>vioscreen_wgrain</th>\n",
       "      <th>vioscreen_whole_grain_servings</th>\n",
       "      <th>vioscreen_xylitol</th>\n",
       "      <th>vioscreen_zinc</th>\n",
       "      <th>vitamin_b_supplement_frequency</th>\n",
       "      <th>vitamin_d_supplement_frequency</th>\n",
       "      <th>vivid_dreams</th>\n",
       "      <th>weight_change</th>\n",
       "      <th>weight_kg</th>\n",
       "      <th>weight_units</th>\n",
       "    </tr>\n",
       "  </thead>\n",
       "  <tbody>\n",
       "    <tr>\n",
       "      <th>26674_10317.000015596</th>\n",
       "      <td>10317.000015596.26674</td>\n",
       "      <td>Not provided</td>\n",
       "      <td>false</td>\n",
       "      <td>false</td>\n",
       "      <td>Not provided</td>\n",
       "      <td>Not provided</td>\n",
       "      <td>Not provided</td>\n",
       "      <td>Not provided</td>\n",
       "      <td>false</td>\n",
       "      <td>false</td>\n",
       "      <td>...</td>\n",
       "      <td>Not provided</td>\n",
       "      <td>Not provided</td>\n",
       "      <td>Not provided</td>\n",
       "      <td>Not provided</td>\n",
       "      <td>Not provided</td>\n",
       "      <td>Not provided</td>\n",
       "      <td>Not provided</td>\n",
       "      <td>Remained stable</td>\n",
       "      <td>77.0</td>\n",
       "      <td>kilograms</td>\n",
       "    </tr>\n",
       "    <tr>\n",
       "      <th>26924_10317.000013965</th>\n",
       "      <td>10317.000013965.26924</td>\n",
       "      <td>Not provided</td>\n",
       "      <td>false</td>\n",
       "      <td>false</td>\n",
       "      <td>Not provided</td>\n",
       "      <td>30s</td>\n",
       "      <td>39.0</td>\n",
       "      <td>39.0</td>\n",
       "      <td>true</td>\n",
       "      <td>false</td>\n",
       "      <td>...</td>\n",
       "      <td>Not provided</td>\n",
       "      <td>Not provided</td>\n",
       "      <td>Not provided</td>\n",
       "      <td>Not provided</td>\n",
       "      <td>Not provided</td>\n",
       "      <td>Not provided</td>\n",
       "      <td>Not provided</td>\n",
       "      <td>Remained stable</td>\n",
       "      <td>58.0</td>\n",
       "      <td>kilograms</td>\n",
       "    </tr>\n",
       "    <tr>\n",
       "      <th>27978_10317.000007729</th>\n",
       "      <td>10317.000007729.27978</td>\n",
       "      <td>Not provided</td>\n",
       "      <td>false</td>\n",
       "      <td>false</td>\n",
       "      <td>Not provided</td>\n",
       "      <td>40s</td>\n",
       "      <td>40.0</td>\n",
       "      <td>40.0</td>\n",
       "      <td>true</td>\n",
       "      <td>false</td>\n",
       "      <td>...</td>\n",
       "      <td>Not provided</td>\n",
       "      <td>Not provided</td>\n",
       "      <td>Not provided</td>\n",
       "      <td>Not provided</td>\n",
       "      <td>Not provided</td>\n",
       "      <td>Not provided</td>\n",
       "      <td>Not provided</td>\n",
       "      <td>Remained stable</td>\n",
       "      <td>77.0</td>\n",
       "      <td>kilograms</td>\n",
       "    </tr>\n",
       "    <tr>\n",
       "      <th>28264_10317.000029493</th>\n",
       "      <td>10317.000029493.28264</td>\n",
       "      <td>Not provided</td>\n",
       "      <td>false</td>\n",
       "      <td>false</td>\n",
       "      <td>I do not have this condition</td>\n",
       "      <td>60s</td>\n",
       "      <td>66.0</td>\n",
       "      <td>66.0</td>\n",
       "      <td>true</td>\n",
       "      <td>false</td>\n",
       "      <td>...</td>\n",
       "      <td>Not provided</td>\n",
       "      <td>Not provided</td>\n",
       "      <td>Not provided</td>\n",
       "      <td>Not provided</td>\n",
       "      <td>Never</td>\n",
       "      <td>Never</td>\n",
       "      <td>Not provided</td>\n",
       "      <td>Increased more than 10 pounds</td>\n",
       "      <td>76.0</td>\n",
       "      <td>kilograms</td>\n",
       "    </tr>\n",
       "    <tr>\n",
       "      <th>33048_10317.000041786</th>\n",
       "      <td>10317.000041786.33048</td>\n",
       "      <td>I do not have this condition</td>\n",
       "      <td>false</td>\n",
       "      <td>false</td>\n",
       "      <td>I do not have this condition</td>\n",
       "      <td>30s</td>\n",
       "      <td>34.0</td>\n",
       "      <td>34</td>\n",
       "      <td>true</td>\n",
       "      <td>true</td>\n",
       "      <td>...</td>\n",
       "      <td>Not provided</td>\n",
       "      <td>Not provided</td>\n",
       "      <td>Not provided</td>\n",
       "      <td>Not provided</td>\n",
       "      <td>Never</td>\n",
       "      <td>Never</td>\n",
       "      <td>Never</td>\n",
       "      <td>Remained stable</td>\n",
       "      <td>74</td>\n",
       "      <td>kilograms</td>\n",
       "    </tr>\n",
       "  </tbody>\n",
       "</table>\n",
       "<p>5 rows × 424 columns</p>\n",
       "</div>"
      ],
      "text/plain": [
       "                                   #SampleID                   acid_reflux  \\\n",
       "26674_10317.000015596  10317.000015596.26674                  Not provided   \n",
       "26924_10317.000013965  10317.000013965.26924                  Not provided   \n",
       "27978_10317.000007729  10317.000007729.27978                  Not provided   \n",
       "28264_10317.000029493  10317.000029493.28264                  Not provided   \n",
       "33048_10317.000041786  10317.000041786.33048  I do not have this condition   \n",
       "\n",
       "                      acne_medication acne_medication_otc  \\\n",
       "26674_10317.000015596           false               false   \n",
       "26924_10317.000013965           false               false   \n",
       "27978_10317.000007729           false               false   \n",
       "28264_10317.000029493           false               false   \n",
       "33048_10317.000041786           false               false   \n",
       "\n",
       "                                           add_adhd       age_cat  \\\n",
       "26674_10317.000015596                  Not provided  Not provided   \n",
       "26924_10317.000013965                  Not provided           30s   \n",
       "27978_10317.000007729                  Not provided           40s   \n",
       "28264_10317.000029493  I do not have this condition           60s   \n",
       "33048_10317.000041786  I do not have this condition           30s   \n",
       "\n",
       "                      age_corrected     age_years alcohol_consumption  \\\n",
       "26674_10317.000015596  Not provided  Not provided               false   \n",
       "26924_10317.000013965          39.0          39.0                true   \n",
       "27978_10317.000007729          40.0          40.0                true   \n",
       "28264_10317.000029493          66.0          66.0                true   \n",
       "33048_10317.000041786          34.0            34                true   \n",
       "\n",
       "                      alcohol_types_beercider     ...      vioscreen_wgrain  \\\n",
       "26674_10317.000015596                   false     ...          Not provided   \n",
       "26924_10317.000013965                   false     ...          Not provided   \n",
       "27978_10317.000007729                   false     ...          Not provided   \n",
       "28264_10317.000029493                   false     ...          Not provided   \n",
       "33048_10317.000041786                    true     ...          Not provided   \n",
       "\n",
       "                      vioscreen_whole_grain_servings vioscreen_xylitol  \\\n",
       "26674_10317.000015596                   Not provided      Not provided   \n",
       "26924_10317.000013965                   Not provided      Not provided   \n",
       "27978_10317.000007729                   Not provided      Not provided   \n",
       "28264_10317.000029493                   Not provided      Not provided   \n",
       "33048_10317.000041786                   Not provided      Not provided   \n",
       "\n",
       "                      vioscreen_zinc vitamin_b_supplement_frequency  \\\n",
       "26674_10317.000015596   Not provided                   Not provided   \n",
       "26924_10317.000013965   Not provided                   Not provided   \n",
       "27978_10317.000007729   Not provided                   Not provided   \n",
       "28264_10317.000029493   Not provided                          Never   \n",
       "33048_10317.000041786   Not provided                          Never   \n",
       "\n",
       "                      vitamin_d_supplement_frequency  vivid_dreams  \\\n",
       "26674_10317.000015596                   Not provided  Not provided   \n",
       "26924_10317.000013965                   Not provided  Not provided   \n",
       "27978_10317.000007729                   Not provided  Not provided   \n",
       "28264_10317.000029493                          Never  Not provided   \n",
       "33048_10317.000041786                          Never         Never   \n",
       "\n",
       "                                       weight_change weight_kg weight_units  \n",
       "26674_10317.000015596                Remained stable      77.0    kilograms  \n",
       "26924_10317.000013965                Remained stable      58.0    kilograms  \n",
       "27978_10317.000007729                Remained stable      77.0    kilograms  \n",
       "28264_10317.000029493  Increased more than 10 pounds      76.0    kilograms  \n",
       "33048_10317.000041786                Remained stable        74    kilograms  \n",
       "\n",
       "[5 rows x 424 columns]"
      ]
     },
     "execution_count": 16,
     "metadata": {},
     "output_type": "execute_result"
    }
   ],
   "source": [
    "md_all"
   ]
  },
  {
   "cell_type": "markdown",
   "metadata": {
    "hideCode": false,
    "hidePrompt": false
   },
   "source": [
    "The last output cell shows what these IDs look like. These are Qiita sample IDs.\n",
    "\n",
    "Now that we have some samples, let's get some data! What we're going to do is ask `redbiom` to obtain the sample data, for our `to_keep` samples, from the context we previously selected. What's happening behind the scenes is that the API is pulling out sparse vectors corresponding to the number of individual sequences observed for each operational taxonomic unit per sample, and additionally unmunging the names (as `redbiom` normalizes sample and feature identifiers). The output is then aggregated into what's called a BIOM `Table`, which is really just a rich object wrapped around a `scipy.sparse` matrix. \n",
    "\n",
    "You may noice two outputs on the return. The one we're ignoring represents \"ambiguous\" samples. Some sample identifiers are associated with multiple sequenced samples. This is because some samples may \"fail\" sequencing, where they didn't yield sufficient sequence data, and were rerun. These \"failures\" are still represented in Qiita, but are differentiated by the actual sequencing run they were on. This doesn't matter for the moment though."
   ]
  },
  {
   "cell_type": "markdown",
   "metadata": {},
   "source": [
    "## Get the biom_table (OTU data) from deblur context"
   ]
  },
  {
   "cell_type": "markdown",
   "metadata": {},
   "source": [
    "the following takes a while to run (!30 minutes)"
   ]
  },
  {
   "cell_type": "code",
   "execution_count": 18,
   "metadata": {
    "hideCode": false,
    "hidePrompt": false
   },
   "outputs": [],
   "source": [
    "biom_table, _ = redbiom.fetch.data_from_samples(ctx, to_keep)"
   ]
  },
  {
   "cell_type": "code",
   "execution_count": 19,
   "metadata": {},
   "outputs": [
    {
     "data": {
      "text/plain": [
       "590 x 5 <class 'biom.table.Table'> with 850 nonzero entries (28% dense)"
      ]
     },
     "execution_count": 19,
     "metadata": {},
     "output_type": "execute_result"
    }
   ],
   "source": [
    "biom_table"
   ]
  },
  {
   "cell_type": "code",
   "execution_count": 20,
   "metadata": {},
   "outputs": [
    {
     "name": "stdout",
     "output_type": "stream",
     "text": [
      "# Constructed from biom file\n",
      "#OTU ID\t10317.000029493.28264\t10317.000007729.27978\t10317.000015596.26674\t10317.000013965.26924\t10317.000041786.33048\n",
      "TACGGAGGATCCGAGCGTTATCCGGATTTATTGGGTTTAAAGGGTGCGTAGGCGGCCTTTTAAGTCAGCGGTGAAAGTCTGTGGCTCAACCATAGAATTG\t193.0\t79.0\t162.0\t250.0\t24.0\n",
      "AACGTAGGGTGCAAGCGTTGTCCGGAATTACTGGGTGTAAAGGGAGCGCAGGCGGACCGGCAAGTTGGAAGTGAAAACTATGGGCTCAACCTGGGAACTG\t0.0\t2.0\t0.0\t0.0\t0.0\n",
      "TACGTAGGGGGCAAGCGTTATCCGGATTTACTGGGTGTAAAGGAGCGTAGACGGCAAGGCAAGTCTGAAGTGGAAGCCCGGTGCTTAACGCCGGGACTGC\t0.0\t0.0\t0.0\t2.0\t0.0\n",
      "TACGTAGGGAGCAAGCGTTATCCGGAATCATTGGGTTTAAAGGGAGCGTAGACGGCATCACAAGTCAGAAGTGAAAATCCGGGGCTCAACCCCGGAACTG\t0.0\t2.0\t0.0\t0.0\t0.0\n",
      "TACGTAGGGGGCGAGCGTTGTCCGGAATTACTGGGCGTAAAGGGTGCGTAGGCGGTTAATTAAGTTGGATGTGAAATTCCCGGGCTTAACTTGGGAGCTG\t1.0\t0.0\t0.0\t0.0\t0.0\n"
     ]
    }
   ],
   "source": [
    "print(biom_table.head(5))"
   ]
  },
  {
   "cell_type": "code",
   "execution_count": 21,
   "metadata": {},
   "outputs": [
    {
     "data": {
      "text/plain": [
       "array([ 'TACGGAGGATCCGAGCGTTATCCGGATTTATTGGGTTTAAAGGGTGCGTAGGCGGCCTTTTAAGTCAGCGGTGAAAGTCTGTGGCTCAACCATAGAATTG',\n",
       "       'AACGTAGGGTGCAAGCGTTGTCCGGAATTACTGGGTGTAAAGGGAGCGCAGGCGGACCGGCAAGTTGGAAGTGAAAACTATGGGCTCAACCTGGGAACTG'], dtype=object)"
      ]
     },
     "execution_count": 21,
     "metadata": {},
     "output_type": "execute_result"
    }
   ],
   "source": [
    "biom_table.ids(axis='observation')[:2]"
   ]
  },
  {
   "cell_type": "markdown",
   "metadata": {},
   "source": [
    "**ALPHA DIVERSITY OTU COUNT EXAMPLE**"
   ]
  },
  {
   "cell_type": "code",
   "execution_count": 22,
   "metadata": {},
   "outputs": [],
   "source": [
    "from qiime2.plugins import feature_table, diversity, emperor"
   ]
  },
  {
   "cell_type": "code",
   "execution_count": 23,
   "metadata": {},
   "outputs": [],
   "source": [
    "table_ar = qiime2.Artifact.import_data('FeatureTable[Frequency]', biom_table)"
   ]
  },
  {
   "cell_type": "code",
   "execution_count": 24,
   "metadata": {},
   "outputs": [],
   "source": [
    "alpha = diversity.actions.alpha(table_ar, 'observed_otus')"
   ]
  },
  {
   "cell_type": "code",
   "execution_count": 30,
   "metadata": {},
   "outputs": [],
   "source": [
    "diversity.actions.alpha?"
   ]
  },
  {
   "cell_type": "code",
   "execution_count": 39,
   "metadata": {},
   "outputs": [],
   "source": [
    "alpha.alpha_diversity.export_data('alpha_dir')"
   ]
  },
  {
   "cell_type": "code",
   "execution_count": 40,
   "metadata": {},
   "outputs": [],
   "source": [
    "alpha = pd.read_csv('alpha_dir/alpha-diversity.tsv', delimiter='\\t')"
   ]
  },
  {
   "cell_type": "code",
   "execution_count": 41,
   "metadata": {},
   "outputs": [
    {
     "data": {
      "text/html": [
       "<div>\n",
       "<style scoped>\n",
       "    .dataframe tbody tr th:only-of-type {\n",
       "        vertical-align: middle;\n",
       "    }\n",
       "\n",
       "    .dataframe tbody tr th {\n",
       "        vertical-align: top;\n",
       "    }\n",
       "\n",
       "    .dataframe thead th {\n",
       "        text-align: right;\n",
       "    }\n",
       "</style>\n",
       "<table border=\"1\" class=\"dataframe\">\n",
       "  <thead>\n",
       "    <tr style=\"text-align: right;\">\n",
       "      <th></th>\n",
       "      <th>Unnamed: 0</th>\n",
       "      <th>observed_otus</th>\n",
       "    </tr>\n",
       "  </thead>\n",
       "  <tbody>\n",
       "    <tr>\n",
       "      <th>0</th>\n",
       "      <td>10317.000029493.28264</td>\n",
       "      <td>178</td>\n",
       "    </tr>\n",
       "    <tr>\n",
       "      <th>1</th>\n",
       "      <td>10317.000007729.27978</td>\n",
       "      <td>218</td>\n",
       "    </tr>\n",
       "    <tr>\n",
       "      <th>2</th>\n",
       "      <td>10317.000015596.26674</td>\n",
       "      <td>150</td>\n",
       "    </tr>\n",
       "    <tr>\n",
       "      <th>3</th>\n",
       "      <td>10317.000013965.26924</td>\n",
       "      <td>176</td>\n",
       "    </tr>\n",
       "    <tr>\n",
       "      <th>4</th>\n",
       "      <td>10317.000041786.33048</td>\n",
       "      <td>128</td>\n",
       "    </tr>\n",
       "  </tbody>\n",
       "</table>\n",
       "</div>"
      ],
      "text/plain": [
       "              Unnamed: 0  observed_otus\n",
       "0  10317.000029493.28264            178\n",
       "1  10317.000007729.27978            218\n",
       "2  10317.000015596.26674            150\n",
       "3  10317.000013965.26924            176\n",
       "4  10317.000041786.33048            128"
      ]
     },
     "execution_count": 41,
     "metadata": {},
     "output_type": "execute_result"
    }
   ],
   "source": [
    "alpha"
   ]
  },
  {
   "cell_type": "code",
   "execution_count": null,
   "metadata": {},
   "outputs": [],
   "source": []
  }
 ],
 "metadata": {
  "hide_code_all_hidden": false,
  "kernelspec": {
   "display_name": "qiim2-2018.11",
   "language": "python",
   "name": "qiim2-2018.11"
  },
  "language_info": {
   "codemirror_mode": {
    "name": "ipython",
    "version": 3
   },
   "file_extension": ".py",
   "mimetype": "text/x-python",
   "name": "python",
   "nbconvert_exporter": "python",
   "pygments_lexer": "ipython3",
   "version": "3.5.5"
  }
 },
 "nbformat": 4,
 "nbformat_minor": 2
}
