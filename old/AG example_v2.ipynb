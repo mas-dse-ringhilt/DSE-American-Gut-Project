{
 "cells": [
  {
   "cell_type": "markdown",
   "metadata": {
    "hideCode": false,
    "hidePrompt": false
   },
   "source": [
    "This notebook contains an example of using `redbiom` through it's Python API to extract a subset of American Gut Project samples. These data are then loaded into QIIME 2 for a mini beta-diversity analysis using UniFrac. This assumes we're using a QIIME 2 2018.11 environment that additionally has `redbiom` 0.3.0 installed. The exact commands I ran to install it are:\n",
    "\n",
    "```\n",
    "$ conda install nltk\n",
    "$ pip install https://github.com/biocore/redbiom/archive/0.3.0.zip\n",
    "```"
   ]
  },
  {
   "cell_type": "code",
   "execution_count": 1,
   "metadata": {
    "hideCode": false,
    "hidePrompt": false
   },
   "outputs": [],
   "source": [
    "import redbiom.summarize\n",
    "import redbiom.search\n",
    "import redbiom.fetch\n",
    "import qiime2\n",
    "import pandas as pd\n",
    "pd.options.display.max_colwidth = 1000"
   ]
  },
  {
   "cell_type": "markdown",
   "metadata": {
    "hideCode": false,
    "hidePrompt": false
   },
   "source": [
    "The first thing we're going to do is gather the `redbiom` contexts. A context is roughly a set of consistent technical parameters. For example, the specific sequenced gene, the variable region within the gene, the length of the read, and how the operational taxonomic units were assessed.\n",
    "\n",
    "The reason `redbiom` partitions data into contexts is because these technical details can lead to massive technical bias. The intention is to facilitate comparing \"apples\" to \"apples\". \n",
    "\n",
    "The context summarization returns a pandas `DataFrame` so it should be pretty friendly to manipulate."
   ]
  },
  {
   "cell_type": "code",
   "execution_count": 2,
   "metadata": {
    "hideCode": false,
    "hidePrompt": false
   },
   "outputs": [],
   "source": [
    "contexts = redbiom.summarize.contexts()"
   ]
  },
  {
   "cell_type": "code",
   "execution_count": 3,
   "metadata": {
    "hideCode": false,
    "hidePrompt": false
   },
   "outputs": [
    {
     "data": {
      "text/plain": [
       "(104, 4)"
      ]
     },
     "execution_count": 3,
     "metadata": {},
     "output_type": "execute_result"
    }
   ],
   "source": [
    "contexts.shape"
   ]
  },
  {
   "cell_type": "code",
   "execution_count": 4,
   "metadata": {
    "hideCode": false,
    "hidePrompt": false
   },
   "outputs": [
    {
     "data": {
      "text/html": [
       "<div>\n",
       "<style scoped>\n",
       "    .dataframe tbody tr th:only-of-type {\n",
       "        vertical-align: middle;\n",
       "    }\n",
       "\n",
       "    .dataframe tbody tr th {\n",
       "        vertical-align: top;\n",
       "    }\n",
       "\n",
       "    .dataframe thead th {\n",
       "        text-align: right;\n",
       "    }\n",
       "</style>\n",
       "<table border=\"1\" class=\"dataframe\">\n",
       "  <thead>\n",
       "    <tr style=\"text-align: right;\">\n",
       "      <th></th>\n",
       "      <th>ContextName</th>\n",
       "      <th>SamplesWithData</th>\n",
       "      <th>FeaturesWithData</th>\n",
       "      <th>Description</th>\n",
       "    </tr>\n",
       "  </thead>\n",
       "  <tbody>\n",
       "    <tr>\n",
       "      <th>0</th>\n",
       "      <td>Pick_closed-reference_OTUs-Greengenes-ls454-16S-v35-90nt-44feac</td>\n",
       "      <td>6067</td>\n",
       "      <td>7081</td>\n",
       "      <td>Qiita context</td>\n",
       "    </tr>\n",
       "    <tr>\n",
       "      <th>1</th>\n",
       "      <td>Pick_closed-reference_OTUs-Greengenes-flx-16S-v6-100nt-a243a1</td>\n",
       "      <td>107</td>\n",
       "      <td>4543</td>\n",
       "      <td>Qiita context</td>\n",
       "    </tr>\n",
       "    <tr>\n",
       "      <th>2</th>\n",
       "      <td>Pick_closed-reference_OTUs-Greengenes-iontorrent-16S-v3-150nt-bd7d4d</td>\n",
       "      <td>32</td>\n",
       "      <td>1008</td>\n",
       "      <td>Qiita context</td>\n",
       "    </tr>\n",
       "    <tr>\n",
       "      <th>3</th>\n",
       "      <td>Pick_closed-reference_OTUs-Greengenes-illumina-18S-v9-5c6506</td>\n",
       "      <td>206</td>\n",
       "      <td>309</td>\n",
       "      <td>Qiita context</td>\n",
       "    </tr>\n",
       "    <tr>\n",
       "      <th>4</th>\n",
       "      <td>Pick_closed-reference_OTUs-Greengenes-titanium-16S-v34-90nt-44feac</td>\n",
       "      <td>57</td>\n",
       "      <td>818</td>\n",
       "      <td>Qiita context</td>\n",
       "    </tr>\n",
       "  </tbody>\n",
       "</table>\n",
       "</div>"
      ],
      "text/plain": [
       "                                                            ContextName  \\\n",
       "0       Pick_closed-reference_OTUs-Greengenes-ls454-16S-v35-90nt-44feac   \n",
       "1         Pick_closed-reference_OTUs-Greengenes-flx-16S-v6-100nt-a243a1   \n",
       "2  Pick_closed-reference_OTUs-Greengenes-iontorrent-16S-v3-150nt-bd7d4d   \n",
       "3          Pick_closed-reference_OTUs-Greengenes-illumina-18S-v9-5c6506   \n",
       "4    Pick_closed-reference_OTUs-Greengenes-titanium-16S-v34-90nt-44feac   \n",
       "\n",
       "   SamplesWithData  FeaturesWithData    Description  \n",
       "0             6067              7081  Qiita context  \n",
       "1              107              4543  Qiita context  \n",
       "2               32              1008  Qiita context  \n",
       "3              206               309  Qiita context  \n",
       "4               57               818  Qiita context  "
      ]
     },
     "execution_count": 4,
     "metadata": {},
     "output_type": "execute_result"
    }
   ],
   "source": [
    "contexts.head()"
   ]
  },
  {
   "cell_type": "markdown",
   "metadata": {
    "hideCode": false,
    "hidePrompt": false
   },
   "source": [
    "At the present time, determining the context to use is a bit manual and requires some strung munging. Additional development is needed.\n",
    "\n",
    "Let's take a look at the larger contexts."
   ]
  },
  {
   "cell_type": "code",
   "execution_count": 5,
   "metadata": {
    "hideCode": false,
    "hidePrompt": false
   },
   "outputs": [
    {
     "data": {
      "text/html": [
       "<div>\n",
       "<style scoped>\n",
       "    .dataframe tbody tr th:only-of-type {\n",
       "        vertical-align: middle;\n",
       "    }\n",
       "\n",
       "    .dataframe tbody tr th {\n",
       "        vertical-align: top;\n",
       "    }\n",
       "\n",
       "    .dataframe thead th {\n",
       "        text-align: right;\n",
       "    }\n",
       "</style>\n",
       "<table border=\"1\" class=\"dataframe\">\n",
       "  <thead>\n",
       "    <tr style=\"text-align: right;\">\n",
       "      <th></th>\n",
       "      <th>ContextName</th>\n",
       "      <th>SamplesWithData</th>\n",
       "      <th>FeaturesWithData</th>\n",
       "      <th>Description</th>\n",
       "    </tr>\n",
       "  </thead>\n",
       "  <tbody>\n",
       "    <tr>\n",
       "      <th>77</th>\n",
       "      <td>Pick_closed-reference_OTUs-Greengenes-illumina-16S-v4-100nt-a243a1</td>\n",
       "      <td>129596</td>\n",
       "      <td>74983</td>\n",
       "      <td>Qiita context</td>\n",
       "    </tr>\n",
       "    <tr>\n",
       "      <th>85</th>\n",
       "      <td>Pick_closed-reference_OTUs-Greengenes-illumina-16S-v4-5c6506</td>\n",
       "      <td>128222</td>\n",
       "      <td>82492</td>\n",
       "      <td>Qiita context</td>\n",
       "    </tr>\n",
       "    <tr>\n",
       "      <th>16</th>\n",
       "      <td>Pick_closed-reference_OTUs-Greengenes-illumina-16S-v4-90nt-44feac</td>\n",
       "      <td>125354</td>\n",
       "      <td>73083</td>\n",
       "      <td>Qiita context</td>\n",
       "    </tr>\n",
       "    <tr>\n",
       "      <th>19</th>\n",
       "      <td>Deblur-NA-illumina-16S-v4-100nt-fbc5b2</td>\n",
       "      <td>123127</td>\n",
       "      <td>5587560</td>\n",
       "      <td>Qiita context</td>\n",
       "    </tr>\n",
       "    <tr>\n",
       "      <th>90</th>\n",
       "      <td>Deblur-NA-illumina-16S-v4-90nt-99d1d8</td>\n",
       "      <td>119538</td>\n",
       "      <td>4460311</td>\n",
       "      <td>Qiita context</td>\n",
       "    </tr>\n",
       "  </tbody>\n",
       "</table>\n",
       "</div>"
      ],
      "text/plain": [
       "                                                           ContextName  \\\n",
       "77  Pick_closed-reference_OTUs-Greengenes-illumina-16S-v4-100nt-a243a1   \n",
       "85        Pick_closed-reference_OTUs-Greengenes-illumina-16S-v4-5c6506   \n",
       "16   Pick_closed-reference_OTUs-Greengenes-illumina-16S-v4-90nt-44feac   \n",
       "19                              Deblur-NA-illumina-16S-v4-100nt-fbc5b2   \n",
       "90                               Deblur-NA-illumina-16S-v4-90nt-99d1d8   \n",
       "\n",
       "    SamplesWithData  FeaturesWithData    Description  \n",
       "77           129596             74983  Qiita context  \n",
       "85           128222             82492  Qiita context  \n",
       "16           125354             73083  Qiita context  \n",
       "19           123127           5587560  Qiita context  \n",
       "90           119538           4460311  Qiita context  "
      ]
     },
     "execution_count": 5,
     "metadata": {},
     "output_type": "execute_result"
    }
   ],
   "source": [
    "contexts.sort_values('SamplesWithData', ascending=False).head()"
   ]
  },
  {
   "cell_type": "markdown",
   "metadata": {
    "hideCode": false,
    "hidePrompt": false
   },
   "source": [
    "For simplicity sake, let's take the first context. It's large, and the phylogeny associated with the operational taxonomic units is easy to get. We'll break down the meaning of the context name in a moment. In practice, you will _most likely_ want to use the Deblur data, however producing a reasonable tree from those data requies a slightly computationally expensive step, and I'm on my laptop right now with limited battery quite literally in the middle of nowhere on a bus in the Czech Republic."
   ]
  },
  {
   "cell_type": "code",
   "execution_count": 6,
   "metadata": {
    "hideCode": false,
    "hidePrompt": false
   },
   "outputs": [],
   "source": [
    "ctx = contexts.sort_values('SamplesWithData', ascending=False).iloc[0]['ContextName']"
   ]
  },
  {
   "cell_type": "code",
   "execution_count": 7,
   "metadata": {
    "hideCode": false,
    "hidePrompt": false
   },
   "outputs": [
    {
     "data": {
      "text/plain": [
       "'Pick_closed-reference_OTUs-Greengenes-illumina-16S-v4-100nt-a243a1'"
      ]
     },
     "execution_count": 7,
     "metadata": {},
     "output_type": "execute_result"
    }
   ],
   "source": [
    "ctx"
   ]
  },
  {
   "cell_type": "markdown",
   "metadata": {
    "hideCode": false,
    "hidePrompt": false
   },
   "source": [
    "Breaking this name into its constiuent pieces, this is a closed reference context meaning that operational taxonomic units were assessed against a reference database and sequences which did not recruit to the reference were discarded. The reference used is Greengenes, a common 16S reference database. The gene represented by the data is the 16S SSU rRNA gene, and specifically the V4 region of the gene. Finally, the fragments represented are truncated to 100 nucleotides. (Don't worry if this is all a lot of jargon. It is a lot of jargon. Please ask questions :)\n",
    "\n",
    "So cool, we have a \"context\". What can we do now? Let's search for some sample identifiers based off of the metadata (i.e., variables) associated with the samples. Specifically, let's get some skin, oral and fecal samples. Be forewarned, the metadata search uses Python's `ast` module behind the scenes, so malformed queries at present produce tracebacks."
   ]
  },
  {
   "cell_type": "code",
   "execution_count": 8,
   "metadata": {
    "hideCode": false,
    "hidePrompt": false
   },
   "outputs": [],
   "source": [
    "study_id = 10317  # the Qiita study ID of the American Gut Project is 10317\n",
    "\n",
    "query = \"where qiita_study_id==%d\" % (study_id)\n",
    "results = redbiom.search.metadata_full(query)"
   ]
  },
  {
   "cell_type": "code",
   "execution_count": 9,
   "metadata": {
    "hideCode": false,
    "hidePrompt": false
   },
   "outputs": [
    {
     "data": {
      "text/plain": [
       "21506"
      ]
     },
     "execution_count": 9,
     "metadata": {},
     "output_type": "execute_result"
    }
   ],
   "source": [
    "len(results)"
   ]
  },
  {
   "cell_type": "code",
   "execution_count": 32,
   "metadata": {},
   "outputs": [
    {
     "data": {
      "text/plain": [
       "dict_keys(['saliva', 'sebum', 'feces'])"
      ]
     },
     "execution_count": 32,
     "metadata": {},
     "output_type": "execute_result"
    }
   ],
   "source": [
    "results.keys()"
   ]
  },
  {
   "cell_type": "code",
   "execution_count": 33,
   "metadata": {
    "hideCode": false,
    "hidePrompt": false
   },
   "outputs": [],
   "source": [
    "study_id = 10317  # the Qiita study ID of the American Gut Project is 10317\n",
    "results = {}\n",
    "for site in ['sebum', 'saliva', 'feces']:\n",
    "    query = \"where qiita_study_id==%d and env_material=='%s'\" % (study_id, site)\n",
    "    results[site] = redbiom.search.metadata_full(query)"
   ]
  },
  {
   "cell_type": "code",
   "execution_count": 34,
   "metadata": {
    "hideCode": false,
    "hidePrompt": false
   },
   "outputs": [
    {
     "name": "stdout",
     "output_type": "stream",
     "text": [
      "saliva 1257\n",
      "sebum 1136\n",
      "feces 16207\n"
     ]
    }
   ],
   "source": [
    "for k, v in results.items():\n",
    "    print(k, len(v))"
   ]
  },
  {
   "cell_type": "markdown",
   "metadata": {},
   "source": [
    "## Insert Ryan - Want to get metadata for all samples and export"
   ]
  },
  {
   "cell_type": "code",
   "execution_count": 38,
   "metadata": {},
   "outputs": [],
   "source": [
    "to_keep_all = []\n",
    "for k, v in results.items():\n",
    "    to_keep_all.extend(list(v))"
   ]
  },
  {
   "cell_type": "code",
   "execution_count": 39,
   "metadata": {},
   "outputs": [],
   "source": [
    "to_keep_all\n",
    "md_all, _ = redbiom.fetch.sample_metadata(to_keep_all, context=ctx)"
   ]
  },
  {
   "cell_type": "code",
   "execution_count": 40,
   "metadata": {},
   "outputs": [
    {
     "data": {
      "text/html": [
       "<div>\n",
       "<style scoped>\n",
       "    .dataframe tbody tr th:only-of-type {\n",
       "        vertical-align: middle;\n",
       "    }\n",
       "\n",
       "    .dataframe tbody tr th {\n",
       "        vertical-align: top;\n",
       "    }\n",
       "\n",
       "    .dataframe thead th {\n",
       "        text-align: right;\n",
       "    }\n",
       "</style>\n",
       "<table border=\"1\" class=\"dataframe\">\n",
       "  <thead>\n",
       "    <tr style=\"text-align: right;\">\n",
       "      <th></th>\n",
       "      <th>#SampleID</th>\n",
       "      <th>alcohol_types_beercider</th>\n",
       "      <th>alcohol_types_red_wine</th>\n",
       "      <th>alcohol_types_sour_beers</th>\n",
       "      <th>alcohol_types_spiritshard_alcohol</th>\n",
       "      <th>alcohol_types_unspecified</th>\n",
       "      <th>alcohol_types_white_wine</th>\n",
       "      <th>allergic_to_i_have_no_food_allergies_that_i_know_of</th>\n",
       "      <th>allergic_to_other</th>\n",
       "      <th>allergic_to_peanuts</th>\n",
       "      <th>...</th>\n",
       "      <th>subset_age</th>\n",
       "      <th>subset_antibiotic_history</th>\n",
       "      <th>subset_bmi</th>\n",
       "      <th>subset_diabetes</th>\n",
       "      <th>subset_healthy</th>\n",
       "      <th>subset_ibd</th>\n",
       "      <th>survey_id</th>\n",
       "      <th>taxon_id</th>\n",
       "      <th>title</th>\n",
       "      <th>weight_units</th>\n",
       "    </tr>\n",
       "  </thead>\n",
       "  <tbody>\n",
       "    <tr>\n",
       "      <th>47968_10317.000001299</th>\n",
       "      <td>10317.000001299.47968</td>\n",
       "      <td>false</td>\n",
       "      <td>false</td>\n",
       "      <td>false</td>\n",
       "      <td>false</td>\n",
       "      <td>true</td>\n",
       "      <td>false</td>\n",
       "      <td>false</td>\n",
       "      <td>false</td>\n",
       "      <td>false</td>\n",
       "      <td>...</td>\n",
       "      <td>true</td>\n",
       "      <td>true</td>\n",
       "      <td>true</td>\n",
       "      <td>true</td>\n",
       "      <td>true</td>\n",
       "      <td>true</td>\n",
       "      <td>2a5fe0c2374071d6</td>\n",
       "      <td>408170</td>\n",
       "      <td>American Gut Project</td>\n",
       "      <td>kilograms</td>\n",
       "    </tr>\n",
       "    <tr>\n",
       "      <th>47968_10317.000001400</th>\n",
       "      <td>10317.000001400.47968</td>\n",
       "      <td>false</td>\n",
       "      <td>false</td>\n",
       "      <td>false</td>\n",
       "      <td>false</td>\n",
       "      <td>true</td>\n",
       "      <td>false</td>\n",
       "      <td>false</td>\n",
       "      <td>false</td>\n",
       "      <td>false</td>\n",
       "      <td>...</td>\n",
       "      <td>false</td>\n",
       "      <td>true</td>\n",
       "      <td>true</td>\n",
       "      <td>true</td>\n",
       "      <td>false</td>\n",
       "      <td>true</td>\n",
       "      <td>830667d87acfb31a</td>\n",
       "      <td>408170</td>\n",
       "      <td>American Gut Project</td>\n",
       "      <td>kilograms</td>\n",
       "    </tr>\n",
       "  </tbody>\n",
       "</table>\n",
       "<p>2 rows × 52 columns</p>\n",
       "</div>"
      ],
      "text/plain": [
       "                                   #SampleID alcohol_types_beercider  \\\n",
       "47968_10317.000001299  10317.000001299.47968                   false   \n",
       "47968_10317.000001400  10317.000001400.47968                   false   \n",
       "\n",
       "                      alcohol_types_red_wine alcohol_types_sour_beers  \\\n",
       "47968_10317.000001299                  false                    false   \n",
       "47968_10317.000001400                  false                    false   \n",
       "\n",
       "                      alcohol_types_spiritshard_alcohol  \\\n",
       "47968_10317.000001299                             false   \n",
       "47968_10317.000001400                             false   \n",
       "\n",
       "                      alcohol_types_unspecified alcohol_types_white_wine  \\\n",
       "47968_10317.000001299                      true                    false   \n",
       "47968_10317.000001400                      true                    false   \n",
       "\n",
       "                      allergic_to_i_have_no_food_allergies_that_i_know_of  \\\n",
       "47968_10317.000001299                                               false   \n",
       "47968_10317.000001400                                               false   \n",
       "\n",
       "                      allergic_to_other allergic_to_peanuts     ...       \\\n",
       "47968_10317.000001299             false               false     ...        \n",
       "47968_10317.000001400             false               false     ...        \n",
       "\n",
       "                      subset_age subset_antibiotic_history subset_bmi  \\\n",
       "47968_10317.000001299       true                      true       true   \n",
       "47968_10317.000001400      false                      true       true   \n",
       "\n",
       "                      subset_diabetes subset_healthy subset_ibd  \\\n",
       "47968_10317.000001299            true           true       true   \n",
       "47968_10317.000001400            true          false       true   \n",
       "\n",
       "                              survey_id taxon_id                 title  \\\n",
       "47968_10317.000001299  2a5fe0c2374071d6   408170  American Gut Project   \n",
       "47968_10317.000001400  830667d87acfb31a   408170  American Gut Project   \n",
       "\n",
       "                      weight_units  \n",
       "47968_10317.000001299    kilograms  \n",
       "47968_10317.000001400    kilograms  \n",
       "\n",
       "[2 rows x 52 columns]"
      ]
     },
     "execution_count": 40,
     "metadata": {},
     "output_type": "execute_result"
    }
   ],
   "source": [
    "md_all.head(2)"
   ]
  },
  {
   "cell_type": "code",
   "execution_count": 42,
   "metadata": {},
   "outputs": [
    {
     "name": "stdout",
     "output_type": "stream",
     "text": [
      "(15364, 52)\n"
     ]
    }
   ],
   "source": [
    "print(md_all.shape)"
   ]
  },
  {
   "cell_type": "markdown",
   "metadata": {
    "hideCode": false,
    "hidePrompt": false
   },
   "source": [
    "As you can see, the sample sets are not very balanced. For the purposes of the mini-analysis, let's just grab the first 100 from each sample type."
   ]
  },
  {
   "cell_type": "code",
   "execution_count": 12,
   "metadata": {
    "hideCode": false,
    "hidePrompt": false
   },
   "outputs": [],
   "source": [
    "to_keep = []\n",
    "for k, v in results.items():\n",
    "    to_keep.extend(list(v)[:100])"
   ]
  },
  {
   "cell_type": "code",
   "execution_count": 13,
   "metadata": {
    "hideCode": false,
    "hidePrompt": false
   },
   "outputs": [
    {
     "data": {
      "text/plain": [
       "['10317.000027335',\n",
       " '10317.000007428',\n",
       " '10317.000035471',\n",
       " '10317.000038436',\n",
       " '10317.000007312']"
      ]
     },
     "execution_count": 13,
     "metadata": {},
     "output_type": "execute_result"
    }
   ],
   "source": [
    "to_keep[:5]"
   ]
  },
  {
   "cell_type": "markdown",
   "metadata": {
    "hideCode": false,
    "hidePrompt": false
   },
   "source": [
    "The last output cell shows what these IDs look like. These are Qiita sample IDs.\n",
    "\n",
    "Now that we have some samples, let's get some data! What we're going to do is ask `redbiom` to obtain the sample data, for our `to_keep` samples, from the context we previously selected. What's happening behind the scenes is that the API is pulling out sparse vectors corresponding to the number of individual sequences observed for each operational taxonomic unit per sample, and additionally unmunging the names (as `redbiom` normalizes sample and feature identifiers). The output is then aggregated into what's called a BIOM `Table`, which is really just a rich object wrapped around a `scipy.sparse` matrix. \n",
    "\n",
    "You may noice two outputs on the return. The one we're ignoring represents \"ambiguous\" samples. Some sample identifiers are associated with multiple sequenced samples. This is because some samples may \"fail\" sequencing, where they didn't yield sufficient sequence data, and were rerun. These \"failures\" are still represented in Qiita, but are differentiated by the actual sequencing run they were on. This doesn't matter for the moment though."
   ]
  },
  {
   "cell_type": "code",
   "execution_count": 14,
   "metadata": {
    "hideCode": false,
    "hidePrompt": false
   },
   "outputs": [],
   "source": [
    "biom_table, _ = redbiom.fetch.data_from_samples(ctx, to_keep)"
   ]
  },
  {
   "cell_type": "code",
   "execution_count": 15,
   "metadata": {
    "hideCode": false,
    "hidePrompt": false
   },
   "outputs": [
    {
     "data": {
      "text/plain": [
       "13713 x 234 <class 'biom.table.Table'> with 106154 nonzero entries (3% dense)"
      ]
     },
     "execution_count": 15,
     "metadata": {},
     "output_type": "execute_result"
    }
   ],
   "source": [
    "biom_table"
   ]
  },
  {
   "cell_type": "markdown",
   "metadata": {
    "hideCode": false,
    "hidePrompt": false
   },
   "source": [
    "The `repr` output shows that we have roughly 13k OTUs (operational taxonomic units), and only 244 samples. What gives? We were supposed to get 300! Just because a sample has metadata does not mean it has sequence data. It is also possible that some of the samples haven't been run through the same bioinformatic processing (e.g., closed reference at 100nt).\n",
    "\n",
    "More information on `biom` can be found [here](http://biom-format.org/). \n",
    "\n",
    "Let's play with the object for just a moment for familiarity."
   ]
  },
  {
   "cell_type": "code",
   "execution_count": 16,
   "metadata": {
    "hideCode": false,
    "hidePrompt": false
   },
   "outputs": [
    {
     "name": "stdout",
     "output_type": "stream",
     "text": [
      "# Constructed from biom file\n",
      "#OTU ID\t10317.000043162.47998\t10317.000013418.47970\t10317.000036442.47991\t10317.000033321.48017\t10317.000069010.48072\n",
      "4477479\t0.0\t0.0\t0.0\t0.0\t0.0\n",
      "190365\t0.0\t0.0\t0.0\t0.0\t0.0\n",
      "303448\t0.0\t0.0\t0.0\t0.0\t0.0\n",
      "92535\t0.0\t25.0\t1.0\t28.0\t0.0\n",
      "339015\t0.0\t0.0\t0.0\t0.0\t0.0\n",
      "332574\t0.0\t0.0\t0.0\t0.0\t0.0\n",
      "338553\t0.0\t0.0\t0.0\t0.0\t0.0\n",
      "4303475\t0.0\t0.0\t0.0\t0.0\t0.0\n",
      "513586\t0.0\t0.0\t0.0\t0.0\t0.0\n",
      "317385\t0.0\t0.0\t0.0\t0.0\t0.0\n",
      "4419621\t0.0\t0.0\t0.0\t0.0\t0.0\n",
      "4479286\t0.0\t0.0\t0.0\t0.0\t0.0\n",
      "3407050\t0.0\t0.0\t0.0\t0.0\t0.0\n",
      "113309\t0.0\t0.0\t0.0\t0.0\t0.0\n",
      "91721\t0.0\t0.0\t0.0\t0.0\t0.0\n",
      "4419004\t0.0\t0.0\t0.0\t0.0\t0.0\n",
      "748462\t0.0\t0.0\t0.0\t0.0\t0.0\n",
      "1870447\t0.0\t0.0\t0.0\t0.0\t0.0\n",
      "189548\t0.0\t0.0\t0.0\t0.0\t0.0\n",
      "811516\t0.0\t0.0\t0.0\t0.0\t0.0\n",
      "1136276\t0.0\t0.0\t0.0\t0.0\t0.0\n",
      "4437525\t0.0\t0.0\t0.0\t0.0\t0.0\n",
      "614380\t0.0\t0.0\t0.0\t0.0\t0.0\n",
      "338438\t0.0\t0.0\t0.0\t0.0\t0.0\n",
      "2867955\t0.0\t0.0\t0.0\t0.0\t0.0\n",
      "73559\t0.0\t0.0\t0.0\t0.0\t0.0\n",
      "1053979\t0.0\t0.0\t0.0\t0.0\t0.0\n",
      "2388088\t0.0\t0.0\t0.0\t0.0\t0.0\n",
      "1084983\t0.0\t0.0\t0.0\t0.0\t0.0\n",
      "2978122\t1.0\t0.0\t0.0\t0.0\t0.0\n",
      "749837\t0.0\t71.0\t0.0\t6.0\t0.0\n",
      "526323\t0.0\t0.0\t0.0\t0.0\t0.0\n",
      "823937\t0.0\t0.0\t0.0\t0.0\t0.0\n",
      "346474\t0.0\t0.0\t0.0\t0.0\t0.0\n",
      "1060549\t0.0\t0.0\t0.0\t0.0\t0.0\n",
      "324630\t0.0\t0.0\t0.0\t0.0\t0.0\n",
      "960871\t0.0\t0.0\t0.0\t2.0\t0.0\n",
      "4454586\t0.0\t0.0\t0.0\t0.0\t0.0\n",
      "316910\t0.0\t0.0\t0.0\t0.0\t0.0\n",
      "133568\t0.0\t0.0\t0.0\t0.0\t0.0\n",
      "346253\t1.0\t0.0\t0.0\t0.0\t0.0\n",
      "143418\t0.0\t0.0\t0.0\t0.0\t0.0\n",
      "4403854\t0.0\t0.0\t0.0\t6.0\t0.0\n",
      "42381\t0.0\t0.0\t0.0\t0.0\t0.0\n",
      "175438\t1.0\t0.0\t0.0\t0.0\t0.0\n",
      "236949\t0.0\t0.0\t0.0\t0.0\t0.0\n",
      "4425150\t0.0\t0.0\t0.0\t0.0\t0.0\n",
      "541511\t0.0\t0.0\t0.0\t0.0\t0.0\n",
      "199403\t0.0\t0.0\t0.0\t0.0\t0.0\n",
      "871956\t0.0\t0.0\t0.0\t0.0\t0.0\n"
     ]
    }
   ],
   "source": [
    "print(biom_table.head(50)) # u"
   ]
  },
  {
   "cell_type": "code",
   "execution_count": 17,
   "metadata": {
    "hideCode": false,
    "hidePrompt": false
   },
   "outputs": [
    {
     "data": {
      "text/plain": [
       "5 x 5 <class 'biom.table.Table'> with 3 nonzero entries (12% dense)"
      ]
     },
     "execution_count": 17,
     "metadata": {},
     "output_type": "execute_result"
    }
   ],
   "source": [
    "biom_table.head()"
   ]
  },
  {
   "cell_type": "code",
   "execution_count": 18,
   "metadata": {
    "hideCode": false,
    "hidePrompt": false
   },
   "outputs": [],
   "source": [
    "# lookup for ITU ID's and what they mean - linking them to higher level?"
   ]
  },
  {
   "cell_type": "code",
   "execution_count": 19,
   "metadata": {
    "hideCode": false,
    "hidePrompt": false
   },
   "outputs": [
    {
     "name": "stdout",
     "output_type": "stream",
     "text": [
      "# Constructed from biom file\n",
      "#OTU ID\t10317.000043162.47998\t10317.000013418.47970\t10317.000036442.47991\t10317.000033321.48017\t10317.000069010.48072\n",
      "4477479\t0.0\t0.0\t0.0\t0.0\t0.0\n",
      "190365\t0.0\t0.0\t0.0\t0.0\t0.0\n",
      "303448\t0.0\t0.0\t0.0\t0.0\t0.0\n",
      "92535\t0.0\t25.0\t1.0\t28.0\t0.0\n",
      "339015\t0.0\t0.0\t0.0\t0.0\t0.0\n"
     ]
    }
   ],
   "source": [
    "print(biom_table.head())"
   ]
  },
  {
   "cell_type": "code",
   "execution_count": 20,
   "metadata": {
    "hideCode": false,
    "hidePrompt": false
   },
   "outputs": [],
   "source": [
    "df_biom = biom_table.to_dataframe()"
   ]
  },
  {
   "cell_type": "code",
   "execution_count": 21,
   "metadata": {
    "hideCode": false,
    "hidePrompt": false
   },
   "outputs": [
    {
     "data": {
      "text/plain": [
       "(13713, 234)"
      ]
     },
     "execution_count": 21,
     "metadata": {},
     "output_type": "execute_result"
    }
   ],
   "source": [
    "df_biom.shape"
   ]
  },
  {
   "cell_type": "code",
   "execution_count": 22,
   "metadata": {
    "hideCode": false,
    "hidePrompt": false
   },
   "outputs": [
    {
     "data": {
      "text/html": [
       "<div>\n",
       "<style scoped>\n",
       "    .dataframe tbody tr th:only-of-type {\n",
       "        vertical-align: middle;\n",
       "    }\n",
       "\n",
       "    .dataframe tbody tr th {\n",
       "        vertical-align: top;\n",
       "    }\n",
       "\n",
       "    .dataframe thead th {\n",
       "        text-align: right;\n",
       "    }\n",
       "</style>\n",
       "<table border=\"1\" class=\"dataframe\">\n",
       "  <thead>\n",
       "    <tr style=\"text-align: right;\">\n",
       "      <th></th>\n",
       "      <th>10317.000043162.47998</th>\n",
       "      <th>10317.000013418.47970</th>\n",
       "      <th>10317.000036442.47991</th>\n",
       "      <th>10317.000033321.48017</th>\n",
       "      <th>10317.000069010.48072</th>\n",
       "      <th>10317.000001590.47990</th>\n",
       "      <th>10317.000069158.48069</th>\n",
       "      <th>10317.000003174.47986</th>\n",
       "      <th>10317.000014523.48033</th>\n",
       "      <th>10317.000015151.47982</th>\n",
       "      <th>...</th>\n",
       "      <th>10317.000017778.48104</th>\n",
       "      <th>10317.000006974.47989</th>\n",
       "      <th>10317.000047757.48066</th>\n",
       "      <th>10317.000021819.48031</th>\n",
       "      <th>10317.000023383.48047</th>\n",
       "      <th>10317.000033374.47998</th>\n",
       "      <th>10317.000016447.47970</th>\n",
       "      <th>10317.000063464.48105</th>\n",
       "      <th>10317.000002253.47986</th>\n",
       "      <th>10317.000016359.47982</th>\n",
       "    </tr>\n",
       "  </thead>\n",
       "  <tbody>\n",
       "    <tr>\n",
       "      <th>4477479</th>\n",
       "      <td>0.0</td>\n",
       "      <td>0.0</td>\n",
       "      <td>0.0</td>\n",
       "      <td>0.0</td>\n",
       "      <td>0.0</td>\n",
       "      <td>0.0</td>\n",
       "      <td>0.0</td>\n",
       "      <td>0.0</td>\n",
       "      <td>0.0</td>\n",
       "      <td>0.0</td>\n",
       "      <td>...</td>\n",
       "      <td>0.0</td>\n",
       "      <td>0.0</td>\n",
       "      <td>0.0</td>\n",
       "      <td>0.0</td>\n",
       "      <td>0.0</td>\n",
       "      <td>0.0</td>\n",
       "      <td>0.0</td>\n",
       "      <td>0.0</td>\n",
       "      <td>1.0</td>\n",
       "      <td>0.0</td>\n",
       "    </tr>\n",
       "    <tr>\n",
       "      <th>190365</th>\n",
       "      <td>0.0</td>\n",
       "      <td>0.0</td>\n",
       "      <td>0.0</td>\n",
       "      <td>0.0</td>\n",
       "      <td>0.0</td>\n",
       "      <td>0.0</td>\n",
       "      <td>0.0</td>\n",
       "      <td>0.0</td>\n",
       "      <td>0.0</td>\n",
       "      <td>0.0</td>\n",
       "      <td>...</td>\n",
       "      <td>0.0</td>\n",
       "      <td>0.0</td>\n",
       "      <td>0.0</td>\n",
       "      <td>0.0</td>\n",
       "      <td>0.0</td>\n",
       "      <td>0.0</td>\n",
       "      <td>0.0</td>\n",
       "      <td>0.0</td>\n",
       "      <td>0.0</td>\n",
       "      <td>0.0</td>\n",
       "    </tr>\n",
       "    <tr>\n",
       "      <th>303448</th>\n",
       "      <td>0.0</td>\n",
       "      <td>0.0</td>\n",
       "      <td>0.0</td>\n",
       "      <td>0.0</td>\n",
       "      <td>0.0</td>\n",
       "      <td>0.0</td>\n",
       "      <td>0.0</td>\n",
       "      <td>0.0</td>\n",
       "      <td>0.0</td>\n",
       "      <td>0.0</td>\n",
       "      <td>...</td>\n",
       "      <td>0.0</td>\n",
       "      <td>0.0</td>\n",
       "      <td>0.0</td>\n",
       "      <td>0.0</td>\n",
       "      <td>0.0</td>\n",
       "      <td>0.0</td>\n",
       "      <td>0.0</td>\n",
       "      <td>0.0</td>\n",
       "      <td>0.0</td>\n",
       "      <td>1.0</td>\n",
       "    </tr>\n",
       "    <tr>\n",
       "      <th>92535</th>\n",
       "      <td>0.0</td>\n",
       "      <td>25.0</td>\n",
       "      <td>1.0</td>\n",
       "      <td>28.0</td>\n",
       "      <td>0.0</td>\n",
       "      <td>0.0</td>\n",
       "      <td>12.0</td>\n",
       "      <td>2.0</td>\n",
       "      <td>0.0</td>\n",
       "      <td>0.0</td>\n",
       "      <td>...</td>\n",
       "      <td>6.0</td>\n",
       "      <td>25.0</td>\n",
       "      <td>39.0</td>\n",
       "      <td>0.0</td>\n",
       "      <td>0.0</td>\n",
       "      <td>0.0</td>\n",
       "      <td>6.0</td>\n",
       "      <td>0.0</td>\n",
       "      <td>0.0</td>\n",
       "      <td>1.0</td>\n",
       "    </tr>\n",
       "    <tr>\n",
       "      <th>339015</th>\n",
       "      <td>0.0</td>\n",
       "      <td>0.0</td>\n",
       "      <td>0.0</td>\n",
       "      <td>0.0</td>\n",
       "      <td>0.0</td>\n",
       "      <td>0.0</td>\n",
       "      <td>0.0</td>\n",
       "      <td>0.0</td>\n",
       "      <td>0.0</td>\n",
       "      <td>0.0</td>\n",
       "      <td>...</td>\n",
       "      <td>0.0</td>\n",
       "      <td>0.0</td>\n",
       "      <td>0.0</td>\n",
       "      <td>0.0</td>\n",
       "      <td>0.0</td>\n",
       "      <td>0.0</td>\n",
       "      <td>0.0</td>\n",
       "      <td>0.0</td>\n",
       "      <td>0.0</td>\n",
       "      <td>0.0</td>\n",
       "    </tr>\n",
       "  </tbody>\n",
       "</table>\n",
       "<p>5 rows × 234 columns</p>\n",
       "</div>"
      ],
      "text/plain": [
       "         10317.000043162.47998  10317.000013418.47970  10317.000036442.47991  \\\n",
       "4477479                    0.0                    0.0                    0.0   \n",
       "190365                     0.0                    0.0                    0.0   \n",
       "303448                     0.0                    0.0                    0.0   \n",
       "92535                      0.0                   25.0                    1.0   \n",
       "339015                     0.0                    0.0                    0.0   \n",
       "\n",
       "         10317.000033321.48017  10317.000069010.48072  10317.000001590.47990  \\\n",
       "4477479                    0.0                    0.0                    0.0   \n",
       "190365                     0.0                    0.0                    0.0   \n",
       "303448                     0.0                    0.0                    0.0   \n",
       "92535                     28.0                    0.0                    0.0   \n",
       "339015                     0.0                    0.0                    0.0   \n",
       "\n",
       "         10317.000069158.48069  10317.000003174.47986  10317.000014523.48033  \\\n",
       "4477479                    0.0                    0.0                    0.0   \n",
       "190365                     0.0                    0.0                    0.0   \n",
       "303448                     0.0                    0.0                    0.0   \n",
       "92535                     12.0                    2.0                    0.0   \n",
       "339015                     0.0                    0.0                    0.0   \n",
       "\n",
       "         10317.000015151.47982          ...            10317.000017778.48104  \\\n",
       "4477479                    0.0          ...                              0.0   \n",
       "190365                     0.0          ...                              0.0   \n",
       "303448                     0.0          ...                              0.0   \n",
       "92535                      0.0          ...                              6.0   \n",
       "339015                     0.0          ...                              0.0   \n",
       "\n",
       "         10317.000006974.47989  10317.000047757.48066  10317.000021819.48031  \\\n",
       "4477479                    0.0                    0.0                    0.0   \n",
       "190365                     0.0                    0.0                    0.0   \n",
       "303448                     0.0                    0.0                    0.0   \n",
       "92535                     25.0                   39.0                    0.0   \n",
       "339015                     0.0                    0.0                    0.0   \n",
       "\n",
       "         10317.000023383.48047  10317.000033374.47998  10317.000016447.47970  \\\n",
       "4477479                    0.0                    0.0                    0.0   \n",
       "190365                     0.0                    0.0                    0.0   \n",
       "303448                     0.0                    0.0                    0.0   \n",
       "92535                      0.0                    0.0                    6.0   \n",
       "339015                     0.0                    0.0                    0.0   \n",
       "\n",
       "         10317.000063464.48105  10317.000002253.47986  10317.000016359.47982  \n",
       "4477479                    0.0                    1.0                    0.0  \n",
       "190365                     0.0                    0.0                    0.0  \n",
       "303448                     0.0                    0.0                    1.0  \n",
       "92535                      0.0                    0.0                    1.0  \n",
       "339015                     0.0                    0.0                    0.0  \n",
       "\n",
       "[5 rows x 234 columns]"
      ]
     },
     "execution_count": 22,
     "metadata": {},
     "output_type": "execute_result"
    }
   ],
   "source": [
    "df_biom.head()"
   ]
  },
  {
   "cell_type": "markdown",
   "metadata": {
    "hideCode": false,
    "hidePrompt": false
   },
   "source": [
    "When we print the table, it implicitly casts it to a dense matrix representation. One thing to note: the sample IDs look different than before, right? The way that the individual sequencing runs are denoted is the last number -- the sample ID is represented by \"qiita_study_id.the_actual_id.the_sequencing_run_id\". This is to ensure the identifier is \"globally\" unique.\n",
    "\n",
    "The identifiers on the rows are the \"Greengenes\" IDs. Also called OTU IDs. Or Feature IDs."
   ]
  },
  {
   "cell_type": "markdown",
   "metadata": {
    "hideCode": false,
    "hidePrompt": false
   },
   "source": [
    "So we have a table. Now let's get the sample metadata. This will come down as a pandas `DataFrame`."
   ]
  },
  {
   "cell_type": "code",
   "execution_count": 23,
   "metadata": {
    "hideCode": false,
    "hidePrompt": false
   },
   "outputs": [],
   "source": [
    "md, _ = redbiom.fetch.sample_metadata(to_keep, context=ctx)"
   ]
  },
  {
   "cell_type": "code",
   "execution_count": 24,
   "metadata": {
    "hideCode": false,
    "hidePrompt": false
   },
   "outputs": [
    {
     "data": {
      "text/html": [
       "<div>\n",
       "<style scoped>\n",
       "    .dataframe tbody tr th:only-of-type {\n",
       "        vertical-align: middle;\n",
       "    }\n",
       "\n",
       "    .dataframe tbody tr th {\n",
       "        vertical-align: top;\n",
       "    }\n",
       "\n",
       "    .dataframe thead th {\n",
       "        text-align: right;\n",
       "    }\n",
       "</style>\n",
       "<table border=\"1\" class=\"dataframe\">\n",
       "  <thead>\n",
       "    <tr style=\"text-align: right;\">\n",
       "      <th></th>\n",
       "      <th>#SampleID</th>\n",
       "      <th>acne_medication</th>\n",
       "      <th>acne_medication_otc</th>\n",
       "      <th>age_cat</th>\n",
       "      <th>age_corrected</th>\n",
       "      <th>age_years</th>\n",
       "      <th>alcohol_consumption</th>\n",
       "      <th>alcohol_types_beercider</th>\n",
       "      <th>alcohol_types_red_wine</th>\n",
       "      <th>alcohol_types_sour_beers</th>\n",
       "      <th>...</th>\n",
       "      <th>subset_healthy</th>\n",
       "      <th>subset_ibd</th>\n",
       "      <th>survey_id</th>\n",
       "      <th>taxon_id</th>\n",
       "      <th>thyroid</th>\n",
       "      <th>title</th>\n",
       "      <th>tonsils_removed</th>\n",
       "      <th>types_of_plants</th>\n",
       "      <th>weight_kg</th>\n",
       "      <th>weight_units</th>\n",
       "    </tr>\n",
       "  </thead>\n",
       "  <tbody>\n",
       "    <tr>\n",
       "      <th>47969_10317.000004764</th>\n",
       "      <td>10317.000004764.47969</td>\n",
       "      <td>false</td>\n",
       "      <td>false</td>\n",
       "      <td>30s</td>\n",
       "      <td>36.0</td>\n",
       "      <td>36.0</td>\n",
       "      <td>true</td>\n",
       "      <td>false</td>\n",
       "      <td>false</td>\n",
       "      <td>false</td>\n",
       "      <td>...</td>\n",
       "      <td>true</td>\n",
       "      <td>true</td>\n",
       "      <td>63432d56c9957700</td>\n",
       "      <td>539655</td>\n",
       "      <td>Not provided</td>\n",
       "      <td>American Gut Project</td>\n",
       "      <td>Not provided</td>\n",
       "      <td>6 to 10</td>\n",
       "      <td>76.0</td>\n",
       "      <td>kilograms</td>\n",
       "    </tr>\n",
       "    <tr>\n",
       "      <th>47969_10317.000010977</th>\n",
       "      <td>10317.000010977.47969</td>\n",
       "      <td>false</td>\n",
       "      <td>false</td>\n",
       "      <td>60s</td>\n",
       "      <td>60.0</td>\n",
       "      <td>60.0</td>\n",
       "      <td>true</td>\n",
       "      <td>false</td>\n",
       "      <td>false</td>\n",
       "      <td>false</td>\n",
       "      <td>...</td>\n",
       "      <td>true</td>\n",
       "      <td>true</td>\n",
       "      <td>1c3a0c28db095253</td>\n",
       "      <td>447426</td>\n",
       "      <td>Not provided</td>\n",
       "      <td>American Gut Project</td>\n",
       "      <td>true</td>\n",
       "      <td>11 to 20</td>\n",
       "      <td>56.0</td>\n",
       "      <td>kilograms</td>\n",
       "    </tr>\n",
       "    <tr>\n",
       "      <th>47970_10317.000007780</th>\n",
       "      <td>10317.000007780.47970</td>\n",
       "      <td>false</td>\n",
       "      <td>true</td>\n",
       "      <td>30s</td>\n",
       "      <td>38.0</td>\n",
       "      <td>38.0</td>\n",
       "      <td>true</td>\n",
       "      <td>false</td>\n",
       "      <td>false</td>\n",
       "      <td>false</td>\n",
       "      <td>...</td>\n",
       "      <td>true</td>\n",
       "      <td>true</td>\n",
       "      <td>3409f245b0d580bd</td>\n",
       "      <td>539655</td>\n",
       "      <td>Not provided</td>\n",
       "      <td>American Gut Project</td>\n",
       "      <td>true</td>\n",
       "      <td>6 to 10</td>\n",
       "      <td>72.0</td>\n",
       "      <td>kilograms</td>\n",
       "    </tr>\n",
       "    <tr>\n",
       "      <th>47970_10317.000007785</th>\n",
       "      <td>10317.000007785.47970</td>\n",
       "      <td>false</td>\n",
       "      <td>false</td>\n",
       "      <td>child</td>\n",
       "      <td>9.0</td>\n",
       "      <td>9.0</td>\n",
       "      <td>false</td>\n",
       "      <td>false</td>\n",
       "      <td>false</td>\n",
       "      <td>false</td>\n",
       "      <td>...</td>\n",
       "      <td>false</td>\n",
       "      <td>true</td>\n",
       "      <td>63858372b3359691</td>\n",
       "      <td>539655</td>\n",
       "      <td>Not provided</td>\n",
       "      <td>American Gut Project</td>\n",
       "      <td>false</td>\n",
       "      <td>6 to 10</td>\n",
       "      <td>18.0</td>\n",
       "      <td>kilograms</td>\n",
       "    </tr>\n",
       "    <tr>\n",
       "      <th>47970_10317.000007797</th>\n",
       "      <td>10317.000007797.47970</td>\n",
       "      <td>false</td>\n",
       "      <td>false</td>\n",
       "      <td>child</td>\n",
       "      <td>5.0</td>\n",
       "      <td>5.0</td>\n",
       "      <td>false</td>\n",
       "      <td>false</td>\n",
       "      <td>false</td>\n",
       "      <td>false</td>\n",
       "      <td>...</td>\n",
       "      <td>false</td>\n",
       "      <td>true</td>\n",
       "      <td>338e3bbc86c88f5f</td>\n",
       "      <td>539655</td>\n",
       "      <td>Not provided</td>\n",
       "      <td>American Gut Project</td>\n",
       "      <td>false</td>\n",
       "      <td>6 to 10</td>\n",
       "      <td>15.0</td>\n",
       "      <td>kilograms</td>\n",
       "    </tr>\n",
       "  </tbody>\n",
       "</table>\n",
       "<p>5 rows × 130 columns</p>\n",
       "</div>"
      ],
      "text/plain": [
       "                                   #SampleID acne_medication  \\\n",
       "47969_10317.000004764  10317.000004764.47969           false   \n",
       "47969_10317.000010977  10317.000010977.47969           false   \n",
       "47970_10317.000007780  10317.000007780.47970           false   \n",
       "47970_10317.000007785  10317.000007785.47970           false   \n",
       "47970_10317.000007797  10317.000007797.47970           false   \n",
       "\n",
       "                      acne_medication_otc age_cat age_corrected age_years  \\\n",
       "47969_10317.000004764               false     30s          36.0      36.0   \n",
       "47969_10317.000010977               false     60s          60.0      60.0   \n",
       "47970_10317.000007780                true     30s          38.0      38.0   \n",
       "47970_10317.000007785               false   child           9.0       9.0   \n",
       "47970_10317.000007797               false   child           5.0       5.0   \n",
       "\n",
       "                      alcohol_consumption alcohol_types_beercider  \\\n",
       "47969_10317.000004764                true                   false   \n",
       "47969_10317.000010977                true                   false   \n",
       "47970_10317.000007780                true                   false   \n",
       "47970_10317.000007785               false                   false   \n",
       "47970_10317.000007797               false                   false   \n",
       "\n",
       "                      alcohol_types_red_wine alcohol_types_sour_beers  \\\n",
       "47969_10317.000004764                  false                    false   \n",
       "47969_10317.000010977                  false                    false   \n",
       "47970_10317.000007780                  false                    false   \n",
       "47970_10317.000007785                  false                    false   \n",
       "47970_10317.000007797                  false                    false   \n",
       "\n",
       "                          ...      subset_healthy subset_ibd  \\\n",
       "47969_10317.000004764     ...                true       true   \n",
       "47969_10317.000010977     ...                true       true   \n",
       "47970_10317.000007780     ...                true       true   \n",
       "47970_10317.000007785     ...               false       true   \n",
       "47970_10317.000007797     ...               false       true   \n",
       "\n",
       "                              survey_id taxon_id       thyroid  \\\n",
       "47969_10317.000004764  63432d56c9957700   539655  Not provided   \n",
       "47969_10317.000010977  1c3a0c28db095253   447426  Not provided   \n",
       "47970_10317.000007780  3409f245b0d580bd   539655  Not provided   \n",
       "47970_10317.000007785  63858372b3359691   539655  Not provided   \n",
       "47970_10317.000007797  338e3bbc86c88f5f   539655  Not provided   \n",
       "\n",
       "                                      title tonsils_removed types_of_plants  \\\n",
       "47969_10317.000004764  American Gut Project    Not provided         6 to 10   \n",
       "47969_10317.000010977  American Gut Project            true        11 to 20   \n",
       "47970_10317.000007780  American Gut Project            true         6 to 10   \n",
       "47970_10317.000007785  American Gut Project           false         6 to 10   \n",
       "47970_10317.000007797  American Gut Project           false         6 to 10   \n",
       "\n",
       "                      weight_kg weight_units  \n",
       "47969_10317.000004764      76.0    kilograms  \n",
       "47969_10317.000010977      56.0    kilograms  \n",
       "47970_10317.000007780      72.0    kilograms  \n",
       "47970_10317.000007785      18.0    kilograms  \n",
       "47970_10317.000007797      15.0    kilograms  \n",
       "\n",
       "[5 rows x 130 columns]"
      ]
     },
     "execution_count": 24,
     "metadata": {},
     "output_type": "execute_result"
    }
   ],
   "source": [
    "md.head()"
   ]
  },
  {
   "cell_type": "code",
   "execution_count": 25,
   "metadata": {
    "hideCode": false,
    "hidePrompt": false
   },
   "outputs": [
    {
     "data": {
      "text/plain": [
       "Index(['#SampleID', 'acne_medication', 'acne_medication_otc', 'age_cat',\n",
       "       'age_corrected', 'age_years', 'alcohol_consumption',\n",
       "       'alcohol_types_beercider', 'alcohol_types_red_wine',\n",
       "       'alcohol_types_sour_beers',\n",
       "       ...\n",
       "       'subset_healthy', 'subset_ibd', 'survey_id', 'taxon_id', 'thyroid',\n",
       "       'title', 'tonsils_removed', 'types_of_plants', 'weight_kg',\n",
       "       'weight_units'],\n",
       "      dtype='object', length=130)"
      ]
     },
     "execution_count": 25,
     "metadata": {},
     "output_type": "execute_result"
    }
   ],
   "source": [
    "md.columns"
   ]
  },
  {
   "cell_type": "code",
   "execution_count": 26,
   "metadata": {
    "hideCode": false,
    "hidePrompt": false
   },
   "outputs": [
    {
     "data": {
      "text/plain": [
       "#SampleID                                                                                   10317.000004764.47969\n",
       "acne_medication                                                                                             false\n",
       "acne_medication_otc                                                                                         false\n",
       "age_cat                                                                                                       30s\n",
       "age_corrected                                                                                                36.0\n",
       "age_years                                                                                                    36.0\n",
       "alcohol_consumption                                                                                          true\n",
       "alcohol_types_beercider                                                                                     false\n",
       "alcohol_types_red_wine                                                                                      false\n",
       "alcohol_types_sour_beers                                                                                    false\n",
       "alcohol_types_spiritshard_alcohol                                                                           false\n",
       "alcohol_types_unspecified                                                                                    true\n",
       "alcohol_types_white_wine                                                                                    false\n",
       "allergic_to_i_have_no_food_allergies_that_i_know_of                                                         false\n",
       "allergic_to_other                                                                                           false\n",
       "allergic_to_peanuts                                                                                         false\n",
       "allergic_to_shellfish                                                                                       false\n",
       "allergic_to_tree_nuts                                                                                       false\n",
       "allergic_to_unspecified                                                                                      true\n",
       "alzheimers                                                                                           Not provided\n",
       "anonymized_name                                                                                         000004764\n",
       "antibiotic_history                                                 I have not taken antibiotics in the past year.\n",
       "appendix_removed                                                                                     Not provided\n",
       "asd                                                                                                  Not provided\n",
       "autoimmune                                                                                           Not provided\n",
       "birth_year                                                                                                 1979.0\n",
       "bmi                                                                                                         21.05\n",
       "bmi_cat                                                                                                    Normal\n",
       "bmi_corrected                                                                                        Not provided\n",
       "body_habitat                                                                                          UBERON:skin\n",
       "                                                                                        ...                      \n",
       "sex                                                                                                          male\n",
       "skin_condition                                                                                       Not provided\n",
       "sleep_duration                                                                                          7-8 hours\n",
       "specialized_diet_exclude_dairy                                                                       Not provided\n",
       "specialized_diet_exclude_nightshades                                                                 Not provided\n",
       "specialized_diet_exclude_refined_sugars                                                              Not provided\n",
       "specialized_diet_fodmap                                                                              Not provided\n",
       "specialized_diet_halaal                                                                              Not provided\n",
       "specialized_diet_i_do_not_eat_a_specialized_diet                                                     Not provided\n",
       "specialized_diet_kosher                                                                              Not provided\n",
       "specialized_diet_modified_paleo_diet                                                                 Not provided\n",
       "specialized_diet_other_restrictions_not_described_here                                               Not provided\n",
       "specialized_diet_paleodiet_or_primal_diet                                                            Not provided\n",
       "specialized_diet_raw_food_diet                                                                       Not provided\n",
       "specialized_diet_unspecified                                                                         Not provided\n",
       "specialized_diet_westenprice_or_other_lowgrain_low_processed_fo                                      Not provided\n",
       "subset_age                                                                                                   true\n",
       "subset_antibiotic_history                                                                                    true\n",
       "subset_bmi                                                                                                   true\n",
       "subset_diabetes                                                                                              true\n",
       "subset_healthy                                                                                               true\n",
       "subset_ibd                                                                                                   true\n",
       "survey_id                                                                                        63432d56c9957700\n",
       "taxon_id                                                                                                   539655\n",
       "thyroid                                                                                              Not provided\n",
       "title                                                                                        American Gut Project\n",
       "tonsils_removed                                                                                      Not provided\n",
       "types_of_plants                                                                                           6 to 10\n",
       "weight_kg                                                                                                    76.0\n",
       "weight_units                                                                                            kilograms\n",
       "Name: 47969_10317.000004764, Length: 130, dtype: object"
      ]
     },
     "execution_count": 26,
     "metadata": {},
     "output_type": "execute_result"
    }
   ],
   "source": [
    "md.iloc[0]"
   ]
  },
  {
   "cell_type": "code",
   "execution_count": 27,
   "metadata": {
    "hideCode": false,
    "hidePrompt": false
   },
   "outputs": [
    {
     "data": {
      "text/plain": [
       "Stool         78\n",
       "Mouth         73\n",
       "Right Hand    31\n",
       "Forehead      28\n",
       "Left Hand     12\n",
       "Torso          6\n",
       "Left leg       5\n",
       "Hair           1\n",
       "Name: sample_type, dtype: int64"
      ]
     },
     "execution_count": 27,
     "metadata": {},
     "output_type": "execute_result"
    }
   ],
   "source": [
    "md.sample_type.value_counts()"
   ]
  },
  {
   "cell_type": "markdown",
   "metadata": {
    "hideCode": false,
    "hidePrompt": false
   },
   "source": [
    "Great! So we have a bunch of sample data, and some study variables! Now for the QIIMEing. What we'll need to do is pacakge these data into types that QIIME 2 understands. And in particular, we need to use the semantic type system. This is well documented on the QIIME 2 website, and I recommend reviewing there."
   ]
  },
  {
   "cell_type": "code",
   "execution_count": 44,
   "metadata": {
    "hideCode": false,
    "hidePrompt": false
   },
   "outputs": [],
   "source": [
    "table_ar = qiime2.Artifact.import_data('FeatureTable[Frequency]', biom_table)\n",
    "md['age_cat'] = md['age_cat'].str.strip()\n",
    "md['drinks_per_session'] = md['drinks_per_session'].str.strip()\n",
    "md_ar = qiime2.Metadata(md.set_index('#SampleID'))"
   ]
  },
  {
   "cell_type": "markdown",
   "metadata": {
    "hideCode": false,
    "hidePrompt": false
   },
   "source": [
    "Ah! We need a tree! Since we're using Greengenes, we can just rely on the existing prebuilt tree from the reference. Let's get that."
   ]
  },
  {
   "cell_type": "code",
   "execution_count": 45,
   "metadata": {
    "hideCode": false,
    "hidePrompt": false
   },
   "outputs": [
    {
     "name": "stdout",
     "output_type": "stream",
     "text": [
      "--2019-01-24 22:06:39--  ftp://ftp.microbio.me/greengenes_release/gg_13_8_otus/trees/97_otus.tree\n",
      "           => '97_otus.tree.7'\n",
      "Resolving ftp.microbio.me... 169.228.46.98\n",
      "Connecting to ftp.microbio.me|169.228.46.98|:21... connected.\n",
      "Logging in as anonymous ... Logged in!\n",
      "==> SYST ... done.    ==> PWD ... done.\n",
      "==> TYPE I ... done.  ==> CWD (1) /greengenes_release/gg_13_8_otus/trees ... done.\n",
      "==> SIZE 97_otus.tree ... 2542738\n",
      "==> PASV ... done.    ==> RETR 97_otus.tree ... done.\n",
      "Length: 2542738 (2.4M) (unauthoritative)\n",
      "\n",
      "97_otus.tree.7      100%[===================>]   2.42M  1.82MB/s    in 1.3s    \n",
      "\n",
      "2019-01-24 22:06:44 (1.82 MB/s) - '97_otus.tree.7' saved [2542738]\n",
      "\n"
     ]
    }
   ],
   "source": [
    "!wget ftp://ftp.microbio.me/greengenes_release/gg_13_8_otus/trees/97_otus.tree"
   ]
  },
  {
   "cell_type": "code",
   "execution_count": 46,
   "metadata": {
    "hideCode": false,
    "hidePrompt": false
   },
   "outputs": [],
   "source": [
    "tree_ar = qiime2.Artifact.import_data('Phylogeny[Rooted]', '97_otus.tree')"
   ]
  },
  {
   "cell_type": "markdown",
   "metadata": {
    "hideCode": false,
    "hidePrompt": false
   },
   "source": [
    "Excellent. So next up, we need to rarefy these data. Rarefaction is a just randomly subsampling the samples without replacement in order to normalize for sequencing effort. There are a lot of ways to do this type of normalization. Rarefaction is dirty as you through out data, but it's pragmatic and tends to work pretty well. The issue rarefaction helps to ameliorate is that, the more you sequence the more life you'll observe. So if you don't do something to normalize sequencing effort across samples, you'll have a bad time.\n",
    "\n",
    "Let's import all the plugins we'll be using."
   ]
  },
  {
   "cell_type": "code",
   "execution_count": null,
   "metadata": {},
   "outputs": [],
   "source": []
  },
  {
   "cell_type": "code",
   "execution_count": 47,
   "metadata": {
    "hideCode": false,
    "hidePrompt": false
   },
   "outputs": [],
   "source": [
    "from qiime2.plugins import feature_table, diversity, emperor"
   ]
  },
  {
   "cell_type": "code",
   "execution_count": 48,
   "metadata": {
    "hideCode": false,
    "hidePrompt": false
   },
   "outputs": [],
   "source": [
    "# rarefy to 1000 sequences per sample (yes, it's arbitrary)\n",
    "rare_ar, = feature_table.actions.rarefy(table=table_ar, sampling_depth=1000)"
   ]
  },
  {
   "cell_type": "code",
   "execution_count": 49,
   "metadata": {
    "hideCode": false,
    "hidePrompt": false
   },
   "outputs": [],
   "source": [
    "unweighted_unifrac_ar, = diversity.actions.beta_phylogenetic(table=rare_ar, \n",
    "                                                             phylogeny=tree_ar, \n",
    "                                                             metric='unweighted_unifrac')"
   ]
  },
  {
   "cell_type": "code",
   "execution_count": 50,
   "metadata": {
    "hideCode": false,
    "hidePrompt": false
   },
   "outputs": [
    {
     "data": {
      "text/plain": [
       "<artifact: FeatureTable[Frequency] uuid: 7a9bd9c6-8ed2-4261-bb13-80ca652a6cf8>"
      ]
     },
     "execution_count": 50,
     "metadata": {},
     "output_type": "execute_result"
    }
   ],
   "source": [
    "rare_ar"
   ]
  },
  {
   "cell_type": "markdown",
   "metadata": {
    "hideCode": false,
    "hidePrompt": false
   },
   "source": [
    "So before we move on, we should discuss what this voodoo just did. Beta diversity is what ecologists call comparing how similar (or dissimilar) two samples are. For example, how similar is a forest in the Pacific Northwest to a forest in Maine? (i.e., beta diversity is a function which takes two vectors and returns a scaler). We perform this calculation over all pairs of samples though so that we can examine all of the sample relationships. This distance matrix gets large quick: in our case, it's already 244 by 244. \n",
    "\n",
    "Visualizing that matrix would suck. So, one thing we often do is principal *coordinates* analysis. It's very similar to principal *components* analysis, except that we can pass in our distance matrix."
   ]
  },
  {
   "cell_type": "code",
   "execution_count": 51,
   "metadata": {
    "hideCode": false,
    "hidePrompt": false
   },
   "outputs": [
    {
     "name": "stderr",
     "output_type": "stream",
     "text": [
      "//anaconda/envs/qiime2-2018.11/lib/python3.5/site-packages/skbio/stats/ordination/_principal_coordinate_analysis.py:152: RuntimeWarning: The result contains negative eigenvalues. Please compare their magnitude with the magnitude of some of the largest positive eigenvalues. If the negative ones are smaller, it's probably safe to ignore them, but if they are large in magnitude, the results won't be useful. See the Notes section for more details. The smallest eigenvalue is -0.020043480978383574 and the largest is 13.74605277592779.\n",
      "  RuntimeWarning\n"
     ]
    }
   ],
   "source": [
    "unweighted_unifrac_pcoa_ar, = diversity.actions.pcoa(unweighted_unifrac_ar)"
   ]
  },
  {
   "cell_type": "markdown",
   "metadata": {
    "hideCode": false,
    "hidePrompt": false
   },
   "source": [
    "Finally, let's actually view the coordinates. It's much more interesting to use the metadata as well :) Hint: color by body site."
   ]
  },
  {
   "cell_type": "code",
   "execution_count": 52,
   "metadata": {
    "hideCode": false,
    "hidePrompt": false
   },
   "outputs": [],
   "source": [
    "viz, = emperor.actions.plot(unweighted_unifrac_pcoa_ar, md_ar)"
   ]
  },
  {
   "cell_type": "code",
   "execution_count": 53,
   "metadata": {
    "hideCode": false,
    "hidePrompt": false
   },
   "outputs": [
    {
     "data": {
      "text/html": [
       "<div><img onload=\"(function(div, url){\n",
       "if (typeof require !== 'undefined') {\n",
       "    var baseURL = require.toUrl('').split('/').slice(0, -2).join('/');\n",
       "} else {\n",
       "    var baseURL = JSON.parse(\n",
       "        document.getElementById('jupyter-config-data').innerHTML\n",
       "    ).baseUrl.slice(0, -1);\n",
       "}\n",
       "url = baseURL + url;\n",
       "fetch(url).then(function(res) {\n",
       "    if (res.status === 404) {\n",
       "        div.innerHTML = 'Install QIIME 2 Jupyter extension with:<br />' +\n",
       "                        '<code>jupyter serverextension enable --py qiime2' +\n",
       "                        ' --sys-prefix</code><br />then restart your server.' +\n",
       "                        '<br /><br />(Interactive output not available on ' +\n",
       "                        'static notebook viewer services like nbviewer.)';\n",
       "    } else if (res.status === 409) {\n",
       "        div.innerHTML = 'Visualization no longer in scope. Re-run this cell' +\n",
       "                        ' to see the visualization.';\n",
       "    } else if (res.ok) {\n",
       "        url = res.url;\n",
       "        div.innerHTML = '<iframe src=\\'' + url + '\\' style=\\'' +\n",
       "                        'width: 100%; height: 700px; border: 0;\\'>' +\n",
       "                        '</iframe><hr />Open in a: <a href=\\'' + url + '\\'' +\n",
       "                        ' target=\\'_blank\\'>new window</a>'\n",
       "    } else {\n",
       "        div.innerHTML = 'Something has gone wrong. Check notebook server for' +\n",
       "                        ' errors.';\n",
       "    }\n",
       "});\n",
       "})(this.parentElement, '/qiime2/redirect?location=/var/folders/1s/mm64xwmj1gd_w2r3_9qt1kc80000gn/T/qiime2-archive-968zbuz7')\" src=\"data:image/gif;base64,R0lGODlhAQABAIAAAP///wAAACH5BAEAAAAALAAAAAABAAEAAAICRAEAOw==\" /></div>"
      ],
      "text/plain": [
       "<visualization: Visualization uuid: f3ef5c38-d0c8-4b07-b6b7-8864e16ea6f6>"
      ]
     },
     "execution_count": 53,
     "metadata": {},
     "output_type": "execute_result"
    }
   ],
   "source": [
    "viz"
   ]
  },
  {
   "cell_type": "code",
   "execution_count": null,
   "metadata": {
    "hideCode": false,
    "hidePrompt": false
   },
   "outputs": [],
   "source": []
  }
 ],
 "metadata": {
  "hide_code_all_hidden": false,
  "kernelspec": {
   "display_name": "qiim2-2018.11",
   "language": "python",
   "name": "qiim2-2018.11"
  },
  "language_info": {
   "codemirror_mode": {
    "name": "ipython",
    "version": 3
   },
   "file_extension": ".py",
   "mimetype": "text/x-python",
   "name": "python",
   "nbconvert_exporter": "python",
   "pygments_lexer": "ipython3",
   "version": "3.5.5"
  }
 },
 "nbformat": 4,
 "nbformat_minor": 2
}
