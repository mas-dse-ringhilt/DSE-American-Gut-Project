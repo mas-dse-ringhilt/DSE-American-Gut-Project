{
 "cells": [
  {
   "cell_type": "markdown",
   "metadata": {
    "hideCode": false,
    "hidePrompt": false
   },
   "source": [
    "This notebook contains an example of using `redbiom` through it's Python API to extract a subset of American Gut Project samples. These data are then loaded into QIIME 2 for a mini beta-diversity analysis using UniFrac. This assumes we're using a QIIME 2 2018.11 environment that additionally has `redbiom` 0.3.0 installed. The exact commands I ran to install it are:\n",
    "\n",
    "```\n",
    "$ conda install nltk\n",
    "$ pip install https://github.com/biocore/redbiom/archive/0.3.0.zip\n",
    "```"
   ]
  },
  {
   "cell_type": "code",
   "execution_count": 3,
   "metadata": {
    "hideCode": false,
    "hidePrompt": false
   },
   "outputs": [],
   "source": [
    "import redbiom.summarize\n",
    "import redbiom.search\n",
    "import redbiom.fetch\n",
    "import qiime2\n",
    "import pandas as pd\n",
    "import skbio\n",
    "from biom import load_table\n",
    "import argparse\n",
    "import sys\n",
    "from qiime2.plugins import feature_table, diversity, emperor\n",
    "pd.options.display.max_colwidth = 1000"
   ]
  },
  {
   "cell_type": "markdown",
   "metadata": {},
   "source": [
    "**DIRECTORY WHERE TO EXPORT ALL CLEANED UP DATA**"
   ]
  },
  {
   "cell_type": "code",
   "execution_count": 4,
   "metadata": {},
   "outputs": [],
   "source": [
    "output_dir = 'deblur_biom_wflow_output_data/'"
   ]
  },
  {
   "cell_type": "markdown",
   "metadata": {
    "hideCode": false,
    "hidePrompt": false
   },
   "source": [
    "The first thing we're going to do is gather the `redbiom` contexts. A context is roughly a set of consistent technical parameters. For example, the specific sequenced gene, the variable region within the gene, the length of the read, and how the operational taxonomic units were assessed.\n",
    "\n",
    "The reason `redbiom` partitions data into contexts is because these technical details can lead to massive technical bias. The intention is to facilitate comparing \"apples\" to \"apples\". \n",
    "\n",
    "The context summarization returns a pandas `DataFrame` so it should be pretty friendly to manipulate."
   ]
  },
  {
   "cell_type": "code",
   "execution_count": 2,
   "metadata": {
    "hideCode": false,
    "hidePrompt": false
   },
   "outputs": [],
   "source": [
    "contexts = redbiom.summarize.contexts()"
   ]
  },
  {
   "cell_type": "code",
   "execution_count": 3,
   "metadata": {
    "hideCode": false,
    "hidePrompt": false
   },
   "outputs": [
    {
     "data": {
      "text/plain": [
       "(126, 4)"
      ]
     },
     "execution_count": 3,
     "metadata": {},
     "output_type": "execute_result"
    }
   ],
   "source": [
    "contexts.shape"
   ]
  },
  {
   "cell_type": "markdown",
   "metadata": {
    "hideCode": false,
    "hidePrompt": false
   },
   "source": [
    "At the present time, determining the context to use is a bit manual and requires some strung munging. Additional development is needed.\n",
    "\n",
    "Let's take a look at the larger contexts."
   ]
  },
  {
   "cell_type": "code",
   "execution_count": 4,
   "metadata": {
    "hideCode": false,
    "hidePrompt": false
   },
   "outputs": [
    {
     "data": {
      "text/html": [
       "<div>\n",
       "<style scoped>\n",
       "    .dataframe tbody tr th:only-of-type {\n",
       "        vertical-align: middle;\n",
       "    }\n",
       "\n",
       "    .dataframe tbody tr th {\n",
       "        vertical-align: top;\n",
       "    }\n",
       "\n",
       "    .dataframe thead th {\n",
       "        text-align: right;\n",
       "    }\n",
       "</style>\n",
       "<table border=\"1\" class=\"dataframe\">\n",
       "  <thead>\n",
       "    <tr style=\"text-align: right;\">\n",
       "      <th></th>\n",
       "      <th>ContextName</th>\n",
       "      <th>SamplesWithData</th>\n",
       "      <th>FeaturesWithData</th>\n",
       "      <th>Description</th>\n",
       "    </tr>\n",
       "  </thead>\n",
       "  <tbody>\n",
       "    <tr>\n",
       "      <th>106</th>\n",
       "      <td>Pick_closed-reference_OTUs-Greengenes-Illumina-16S-V4-5c6506</td>\n",
       "      <td>156761</td>\n",
       "      <td>83309</td>\n",
       "      <td>Qiita context</td>\n",
       "    </tr>\n",
       "    <tr>\n",
       "      <th>19</th>\n",
       "      <td>Pick_closed-reference_OTUs-Greengenes-Illumina-16S-V4-100nt-a243a1</td>\n",
       "      <td>145669</td>\n",
       "      <td>74959</td>\n",
       "      <td>Qiita context</td>\n",
       "    </tr>\n",
       "    <tr>\n",
       "      <th>82</th>\n",
       "      <td>Deblur-Illumina-16S-V4-100nt-fbc5b2</td>\n",
       "      <td>141809</td>\n",
       "      <td>5698310</td>\n",
       "      <td>Qiita context</td>\n",
       "    </tr>\n",
       "    <tr>\n",
       "      <th>2</th>\n",
       "      <td>Pick_closed-reference_OTUs-Greengenes-Illumina-16S-V4-90nt-44feac</td>\n",
       "      <td>141380</td>\n",
       "      <td>72999</td>\n",
       "      <td>Qiita context</td>\n",
       "    </tr>\n",
       "    <tr>\n",
       "      <th>124</th>\n",
       "      <td>Deblur-Illumina-16S-V4-90nt-99d1d8</td>\n",
       "      <td>137678</td>\n",
       "      <td>4576516</td>\n",
       "      <td>Qiita context</td>\n",
       "    </tr>\n",
       "  </tbody>\n",
       "</table>\n",
       "</div>"
      ],
      "text/plain": [
       "                                                            ContextName  \\\n",
       "106        Pick_closed-reference_OTUs-Greengenes-Illumina-16S-V4-5c6506   \n",
       "19   Pick_closed-reference_OTUs-Greengenes-Illumina-16S-V4-100nt-a243a1   \n",
       "82                                  Deblur-Illumina-16S-V4-100nt-fbc5b2   \n",
       "2     Pick_closed-reference_OTUs-Greengenes-Illumina-16S-V4-90nt-44feac   \n",
       "124                                  Deblur-Illumina-16S-V4-90nt-99d1d8   \n",
       "\n",
       "     SamplesWithData  FeaturesWithData    Description  \n",
       "106           156761             83309  Qiita context  \n",
       "19            145669             74959  Qiita context  \n",
       "82            141809           5698310  Qiita context  \n",
       "2             141380             72999  Qiita context  \n",
       "124           137678           4576516  Qiita context  "
      ]
     },
     "execution_count": 4,
     "metadata": {},
     "output_type": "execute_result"
    }
   ],
   "source": [
    "contexts.sort_values('SamplesWithData', ascending=False).head()"
   ]
  },
  {
   "cell_type": "markdown",
   "metadata": {},
   "source": [
    "## Using Deblur Context"
   ]
  },
  {
   "cell_type": "code",
   "execution_count": 8,
   "metadata": {
    "hideCode": false,
    "hidePrompt": false
   },
   "outputs": [],
   "source": [
    "ctx = contexts[contexts['ContextName'] == 'Deblur-Illumina-16S-V4-100nt-fbc5b2']['ContextName'].iloc[0]"
   ]
  },
  {
   "cell_type": "code",
   "execution_count": 9,
   "metadata": {
    "hideCode": false,
    "hidePrompt": false
   },
   "outputs": [
    {
     "data": {
      "text/plain": [
       "'Deblur-Illumina-16S-V4-100nt-fbc5b2'"
      ]
     },
     "execution_count": 9,
     "metadata": {},
     "output_type": "execute_result"
    }
   ],
   "source": [
    "ctx"
   ]
  },
  {
   "cell_type": "markdown",
   "metadata": {},
   "source": [
    "**for Daniel Notes below talks about Greengenes but we are using deblur as he recommends instaed**"
   ]
  },
  {
   "cell_type": "markdown",
   "metadata": {
    "hideCode": false,
    "hidePrompt": false
   },
   "source": [
    "Breaking this name into its constiuent pieces, this is a closed reference context meaning that operational taxonomic units were assessed against a reference database and sequences which did not recruit to the reference were discarded. The reference used is Greengenes, a common 16S reference database. The gene represented by the data is the 16S SSU rRNA gene, and specifically the V4 region of the gene. Finally, the fragments represented are truncated to 100 nucleotides. (Don't worry if this is all a lot of jargon. It is a lot of jargon. Please ask questions :)\n",
    "\n",
    "So cool, we have a \"context\". What can we do now? Let's search for some sample identifiers based off of the metadata (i.e., variables) associated with the samples. Specifically, let's get some skin, oral and fecal samples. Be forewarned, the metadata search uses Python's `ast` module behind the scenes, so malformed queries at present produce tracebacks."
   ]
  },
  {
   "cell_type": "code",
   "execution_count": 10,
   "metadata": {
    "hideCode": false,
    "hidePrompt": false
   },
   "outputs": [],
   "source": [
    "study_id = 10317  # the Qiita study ID of the American Gut Project is 10317\n",
    "\n",
    "query = \"where qiita_study_id==%d\" % (study_id)\n",
    "results = redbiom.search.metadata_full(query)"
   ]
  },
  {
   "cell_type": "code",
   "execution_count": 11,
   "metadata": {
    "hideCode": false,
    "hidePrompt": false
   },
   "outputs": [
    {
     "data": {
      "text/plain": [
       "24897"
      ]
     },
     "execution_count": 11,
     "metadata": {},
     "output_type": "execute_result"
    }
   ],
   "source": [
    "len(results)"
   ]
  },
  {
   "cell_type": "code",
   "execution_count": 12,
   "metadata": {
    "hideCode": false,
    "hidePrompt": false
   },
   "outputs": [],
   "source": [
    "study_id = 10317  # the Qiita study ID of the American Gut Project is 10317\n",
    "results = {}\n",
    "for site in ['sebum', 'saliva', 'feces']:\n",
    "    query = \"where qiita_study_id==%d and env_material=='%s'\" % (study_id, site)\n",
    "    results[site] = redbiom.search.metadata_full(query)"
   ]
  },
  {
   "cell_type": "code",
   "execution_count": 13,
   "metadata": {
    "hideCode": false,
    "hidePrompt": false
   },
   "outputs": [
    {
     "name": "stdout",
     "output_type": "stream",
     "text": [
      "sebum 1289\n",
      "saliva 1406\n",
      "feces 18659\n"
     ]
    }
   ],
   "source": [
    "for k, v in results.items():\n",
    "    print(k, len(v))"
   ]
  },
  {
   "cell_type": "markdown",
   "metadata": {
    "hideCode": false,
    "hidePrompt": false
   },
   "source": [
    "## Want to get metadata for all samples and then export to csv"
   ]
  },
  {
   "cell_type": "code",
   "execution_count": 15,
   "metadata": {
    "hideCode": false,
    "hidePrompt": false
   },
   "outputs": [],
   "source": [
    "to_keep_all = []\n",
    "for k, v in results.items():\n",
    "    to_keep_all.extend(list(v))"
   ]
  },
  {
   "cell_type": "code",
   "execution_count": 16,
   "metadata": {
    "hideCode": false,
    "hidePrompt": false
   },
   "outputs": [],
   "source": [
    "md_all, _ = redbiom.fetch.sample_metadata(to_keep_all, context=ctx)"
   ]
  },
  {
   "cell_type": "code",
   "execution_count": 26,
   "metadata": {},
   "outputs": [],
   "source": [
    "redbiom.fetch.sample_metadata?"
   ]
  },
  {
   "cell_type": "code",
   "execution_count": 17,
   "metadata": {},
   "outputs": [
    {
     "data": {
      "text/plain": [
       "(19231, 17)"
      ]
     },
     "execution_count": 17,
     "metadata": {},
     "output_type": "execute_result"
    }
   ],
   "source": [
    "md_all.shape"
   ]
  },
  {
   "cell_type": "code",
   "execution_count": 27,
   "metadata": {},
   "outputs": [],
   "source": [
    "redbiom.fetch.metadata?"
   ]
  },
  {
   "cell_type": "code",
   "execution_count": 18,
   "metadata": {},
   "outputs": [
    {
     "data": {
      "text/html": [
       "<div>\n",
       "<style scoped>\n",
       "    .dataframe tbody tr th:only-of-type {\n",
       "        vertical-align: middle;\n",
       "    }\n",
       "\n",
       "    .dataframe tbody tr th {\n",
       "        vertical-align: top;\n",
       "    }\n",
       "\n",
       "    .dataframe thead th {\n",
       "        text-align: right;\n",
       "    }\n",
       "</style>\n",
       "<table border=\"1\" class=\"dataframe\">\n",
       "  <thead>\n",
       "    <tr style=\"text-align: right;\">\n",
       "      <th></th>\n",
       "      <th>#SampleID</th>\n",
       "      <th>anonymized_name</th>\n",
       "      <th>body_habitat</th>\n",
       "      <th>body_product</th>\n",
       "      <th>body_site</th>\n",
       "      <th>description</th>\n",
       "      <th>dna_extracted</th>\n",
       "      <th>env_biome</th>\n",
       "      <th>env_feature</th>\n",
       "      <th>env_material</th>\n",
       "      <th>env_package</th>\n",
       "      <th>host_common_name</th>\n",
       "      <th>host_taxid</th>\n",
       "      <th>qiita_study_id</th>\n",
       "      <th>sample_type</th>\n",
       "      <th>scientific_name</th>\n",
       "      <th>taxon_id</th>\n",
       "    </tr>\n",
       "  </thead>\n",
       "  <tbody>\n",
       "    <tr>\n",
       "      <th>56974_10317.000047251</th>\n",
       "      <td>10317.000047251.56974</td>\n",
       "      <td>47251</td>\n",
       "      <td>UBERON:feces</td>\n",
       "      <td>UBERON:feces</td>\n",
       "      <td>UBERON:feces</td>\n",
       "      <td>American Gut Project Stool sample</td>\n",
       "      <td>Yes</td>\n",
       "      <td>dense settlement biome</td>\n",
       "      <td>human-associated habitat</td>\n",
       "      <td>feces</td>\n",
       "      <td>human-gut</td>\n",
       "      <td>human</td>\n",
       "      <td>9606</td>\n",
       "      <td>10317</td>\n",
       "      <td>Stool</td>\n",
       "      <td>human gut metagenome</td>\n",
       "      <td>408170</td>\n",
       "    </tr>\n",
       "    <tr>\n",
       "      <th>56974_10317.000047252</th>\n",
       "      <td>10317.000047252.56974</td>\n",
       "      <td>47252</td>\n",
       "      <td>UBERON:feces</td>\n",
       "      <td>UBERON:feces</td>\n",
       "      <td>UBERON:feces</td>\n",
       "      <td>American Gut Project Stool sample</td>\n",
       "      <td>Yes</td>\n",
       "      <td>dense settlement biome</td>\n",
       "      <td>human-associated habitat</td>\n",
       "      <td>feces</td>\n",
       "      <td>human-gut</td>\n",
       "      <td>human</td>\n",
       "      <td>9606</td>\n",
       "      <td>10317</td>\n",
       "      <td>Stool</td>\n",
       "      <td>human gut metagenome</td>\n",
       "      <td>408170</td>\n",
       "    </tr>\n",
       "    <tr>\n",
       "      <th>56974_10317.000047257</th>\n",
       "      <td>10317.000047257.56974</td>\n",
       "      <td>47257</td>\n",
       "      <td>UBERON:feces</td>\n",
       "      <td>UBERON:feces</td>\n",
       "      <td>UBERON:feces</td>\n",
       "      <td>American Gut Project Stool sample</td>\n",
       "      <td>Yes</td>\n",
       "      <td>dense settlement biome</td>\n",
       "      <td>human-associated habitat</td>\n",
       "      <td>feces</td>\n",
       "      <td>human-gut</td>\n",
       "      <td>human</td>\n",
       "      <td>9606</td>\n",
       "      <td>10317</td>\n",
       "      <td>Stool</td>\n",
       "      <td>human gut metagenome</td>\n",
       "      <td>408170</td>\n",
       "    </tr>\n",
       "    <tr>\n",
       "      <th>56974_10317.000047270</th>\n",
       "      <td>10317.000047270.56974</td>\n",
       "      <td>47270</td>\n",
       "      <td>UBERON:feces</td>\n",
       "      <td>UBERON:feces</td>\n",
       "      <td>UBERON:feces</td>\n",
       "      <td>American Gut Project Stool sample</td>\n",
       "      <td>Yes</td>\n",
       "      <td>dense settlement biome</td>\n",
       "      <td>human-associated habitat</td>\n",
       "      <td>feces</td>\n",
       "      <td>human-gut</td>\n",
       "      <td>human</td>\n",
       "      <td>9606</td>\n",
       "      <td>10317</td>\n",
       "      <td>Stool</td>\n",
       "      <td>human gut metagenome</td>\n",
       "      <td>408170</td>\n",
       "    </tr>\n",
       "    <tr>\n",
       "      <th>56974_10317.000047278</th>\n",
       "      <td>10317.000047278.56974</td>\n",
       "      <td>47278</td>\n",
       "      <td>UBERON:feces</td>\n",
       "      <td>UBERON:feces</td>\n",
       "      <td>UBERON:feces</td>\n",
       "      <td>American Gut Project Stool sample</td>\n",
       "      <td>Yes</td>\n",
       "      <td>dense settlement biome</td>\n",
       "      <td>human-associated habitat</td>\n",
       "      <td>feces</td>\n",
       "      <td>human-gut</td>\n",
       "      <td>human</td>\n",
       "      <td>9606</td>\n",
       "      <td>10317</td>\n",
       "      <td>Stool</td>\n",
       "      <td>human gut metagenome</td>\n",
       "      <td>408170</td>\n",
       "    </tr>\n",
       "  </tbody>\n",
       "</table>\n",
       "</div>"
      ],
      "text/plain": [
       "                                   #SampleID anonymized_name  body_habitat  \\\n",
       "56974_10317.000047251  10317.000047251.56974           47251  UBERON:feces   \n",
       "56974_10317.000047252  10317.000047252.56974           47252  UBERON:feces   \n",
       "56974_10317.000047257  10317.000047257.56974           47257  UBERON:feces   \n",
       "56974_10317.000047270  10317.000047270.56974           47270  UBERON:feces   \n",
       "56974_10317.000047278  10317.000047278.56974           47278  UBERON:feces   \n",
       "\n",
       "                       body_product     body_site  \\\n",
       "56974_10317.000047251  UBERON:feces  UBERON:feces   \n",
       "56974_10317.000047252  UBERON:feces  UBERON:feces   \n",
       "56974_10317.000047257  UBERON:feces  UBERON:feces   \n",
       "56974_10317.000047270  UBERON:feces  UBERON:feces   \n",
       "56974_10317.000047278  UBERON:feces  UBERON:feces   \n",
       "\n",
       "                                             description dna_extracted  \\\n",
       "56974_10317.000047251  American Gut Project Stool sample           Yes   \n",
       "56974_10317.000047252  American Gut Project Stool sample           Yes   \n",
       "56974_10317.000047257  American Gut Project Stool sample           Yes   \n",
       "56974_10317.000047270  American Gut Project Stool sample           Yes   \n",
       "56974_10317.000047278  American Gut Project Stool sample           Yes   \n",
       "\n",
       "                                    env_biome               env_feature  \\\n",
       "56974_10317.000047251  dense settlement biome  human-associated habitat   \n",
       "56974_10317.000047252  dense settlement biome  human-associated habitat   \n",
       "56974_10317.000047257  dense settlement biome  human-associated habitat   \n",
       "56974_10317.000047270  dense settlement biome  human-associated habitat   \n",
       "56974_10317.000047278  dense settlement biome  human-associated habitat   \n",
       "\n",
       "                      env_material env_package host_common_name host_taxid  \\\n",
       "56974_10317.000047251        feces   human-gut            human       9606   \n",
       "56974_10317.000047252        feces   human-gut            human       9606   \n",
       "56974_10317.000047257        feces   human-gut            human       9606   \n",
       "56974_10317.000047270        feces   human-gut            human       9606   \n",
       "56974_10317.000047278        feces   human-gut            human       9606   \n",
       "\n",
       "                      qiita_study_id sample_type       scientific_name  \\\n",
       "56974_10317.000047251          10317       Stool  human gut metagenome   \n",
       "56974_10317.000047252          10317       Stool  human gut metagenome   \n",
       "56974_10317.000047257          10317       Stool  human gut metagenome   \n",
       "56974_10317.000047270          10317       Stool  human gut metagenome   \n",
       "56974_10317.000047278          10317       Stool  human gut metagenome   \n",
       "\n",
       "                      taxon_id  \n",
       "56974_10317.000047251   408170  \n",
       "56974_10317.000047252   408170  \n",
       "56974_10317.000047257   408170  \n",
       "56974_10317.000047270   408170  \n",
       "56974_10317.000047278   408170  "
      ]
     },
     "execution_count": 18,
     "metadata": {},
     "output_type": "execute_result"
    }
   ],
   "source": [
    "md_all.head()"
   ]
  },
  {
   "cell_type": "markdown",
   "metadata": {},
   "source": [
    "**exporting metadata to .csv**"
   ]
  },
  {
   "cell_type": "markdown",
   "metadata": {},
   "source": [
    "#### NOTE - right now dont know how to get all metdata cols from rebiom so we will just download from qiita site"
   ]
  },
  {
   "cell_type": "code",
   "execution_count": 28,
   "metadata": {},
   "outputs": [],
   "source": [
    "#md_all.to_csv('2.21.agp_metdata.csv')"
   ]
  },
  {
   "cell_type": "markdown",
   "metadata": {
    "hideCode": false,
    "hidePrompt": false
   },
   "source": [
    "The last output cell shows what these IDs look like. These are Qiita sample IDs.\n",
    "\n",
    "Now that we have some samples, let's get some data! What we're going to do is ask `redbiom` to obtain the sample data, for our `to_keep` samples, from the context we previously selected. What's happening behind the scenes is that the API is pulling out sparse vectors corresponding to the number of individual sequences observed for each operational taxonomic unit per sample, and additionally unmunging the names (as `redbiom` normalizes sample and feature identifiers). The output is then aggregated into what's called a BIOM `Table`, which is really just a rich object wrapped around a `scipy.sparse` matrix. \n",
    "\n",
    "You may noice two outputs on the return. The one we're ignoring represents \"ambiguous\" samples. Some sample identifiers are associated with multiple sequenced samples. This is because some samples may \"fail\" sequencing, where they didn't yield sufficient sequence data, and were rerun. These \"failures\" are still represented in Qiita, but are differentiated by the actual sequencing run they were on. This doesn't matter for the moment though."
   ]
  },
  {
   "cell_type": "markdown",
   "metadata": {},
   "source": [
    "## Get the biom_table (OTU data) from deblur context"
   ]
  },
  {
   "cell_type": "markdown",
   "metadata": {},
   "source": [
    "the following takes a while to run (!30 minutes)"
   ]
  },
  {
   "cell_type": "code",
   "execution_count": 66,
   "metadata": {
    "hideCode": false,
    "hidePrompt": false
   },
   "outputs": [],
   "source": [
    "biom_table, _ = redbiom.fetch.data_from_samples(ctx, to_keep_all)"
   ]
  },
  {
   "cell_type": "code",
   "execution_count": 67,
   "metadata": {},
   "outputs": [
    {
     "data": {
      "text/plain": [
       "426648 x 19231 <class 'biom.table.Table'> with 3606467 nonzero entries (0% dense)"
      ]
     },
     "execution_count": 67,
     "metadata": {},
     "output_type": "execute_result"
    }
   ],
   "source": [
    "biom_table"
   ]
  },
  {
   "cell_type": "code",
   "execution_count": 68,
   "metadata": {},
   "outputs": [
    {
     "name": "stdout",
     "output_type": "stream",
     "text": [
      "# Constructed from biom file\n",
      "#OTU ID\t10317.000067572.58428\t10317.000035170.60177\t10317.000097270.60853\t10317.000041721.59400\t10317.000093557.57381\n",
      "TACGTAGGTGGCGAGCGTTATCCGGAATTATTGGGCGTAAAGGGTGCGTAGGCGGCTAGGCAAGTCAGACGTGAAAACCATGGGCTCAACCTGTGGACTG\t0.0\t0.0\t0.0\t0.0\t0.0\n",
      "TACGTAGGGTGCAAGCGTTAATCGGAATTACTGGGCGTAAAGCGCGCGCAGGTGGTTTAATAAGTCTGACGTGAAAGCCCACGGCTCAACCGTGGAGGGT\t0.0\t0.0\t0.0\t0.0\t0.0\n",
      "TACGTAGGGTGCGAGCGTTGTCCGGAATTATTGGGCGTAAAGGGCTCGTAGGCGGTCTGTCACGTCAGGAGTGAAAACTCGGGGCCCAACCCCGAGCCTG\t0.0\t0.0\t0.0\t0.0\t0.0\n",
      "TACGTAGGTGGCAAGCGTTGTCCGGATTTAAAGGGTGTAAAGGGCGCGTAGGCGGGATGGCAAGTCAGATGTGAAATCCATGGGCTCAACCCATGAACTG\t0.0\t0.0\t0.0\t0.0\t0.0\n",
      "TACGTAGGGGGCGAGCATTGTCCGGAATCACTGGGCGTAAGGGTTCGCAGGCGGATAAACAAGTCAAGAGTAAAAGGCATGGGCTTAACCCATGTAAGCT\t0.0\t0.0\t0.0\t0.0\t0.0\n"
     ]
    }
   ],
   "source": [
    "print(biom_table.head(5))"
   ]
  },
  {
   "cell_type": "code",
   "execution_count": 19,
   "metadata": {},
   "outputs": [],
   "source": [
    "from qiime2.plugins import feature_table, diversity, emperor"
   ]
  },
  {
   "cell_type": "code",
   "execution_count": 77,
   "metadata": {},
   "outputs": [],
   "source": [
    "table_ar = qiime2.Artifact.import_data('FeatureTable[Frequency]', biom_table)"
   ]
  },
  {
   "cell_type": "code",
   "execution_count": 78,
   "metadata": {},
   "outputs": [
    {
     "data": {
      "text/plain": [
       "<artifact: FeatureTable[Frequency] uuid: feb32668-46fc-488e-a507-a0670b63727d>"
      ]
     },
     "execution_count": 78,
     "metadata": {},
     "output_type": "execute_result"
    }
   ],
   "source": [
    "table_ar"
   ]
  },
  {
   "cell_type": "markdown",
   "metadata": {},
   "source": [
    "## Export full_otu table so dont have to reload everything later"
   ]
  },
  {
   "cell_type": "code",
   "execution_count": 79,
   "metadata": {},
   "outputs": [],
   "source": [
    "from biom import load_table"
   ]
  },
  {
   "cell_type": "code",
   "execution_count": 80,
   "metadata": {},
   "outputs": [],
   "source": [
    "table_ar.export_data('full_otus')"
   ]
  },
  {
   "cell_type": "code",
   "execution_count": 81,
   "metadata": {},
   "outputs": [
    {
     "name": "stdout",
     "output_type": "stream",
     "text": [
      "feature-table.biom\r\n"
     ]
    }
   ],
   "source": [
    "!ls full_otus"
   ]
  },
  {
   "cell_type": "code",
   "execution_count": 15,
   "metadata": {},
   "outputs": [],
   "source": [
    "btable = load_table('full_otus/feature-table.biom')"
   ]
  },
  {
   "cell_type": "code",
   "execution_count": 16,
   "metadata": {},
   "outputs": [
    {
     "data": {
      "text/plain": [
       "426648 x 19231 <class 'biom.table.Table'> with 3606467 nonzero entries (0% dense)"
      ]
     },
     "execution_count": 16,
     "metadata": {},
     "output_type": "execute_result"
    }
   ],
   "source": [
    "btable"
   ]
  },
  {
   "cell_type": "code",
   "execution_count": 17,
   "metadata": {},
   "outputs": [],
   "source": [
    "#table_ar = qiime2.Artifact.import_data('FeatureTable[Frequency]', btable)"
   ]
  },
  {
   "cell_type": "markdown",
   "metadata": {},
   "source": [
    "## Before rarification we want to remove blooms"
   ]
  },
  {
   "cell_type": "code",
   "execution_count": 73,
   "metadata": {},
   "outputs": [],
   "source": [
    "import skbio\n",
    "import biom\n",
    "import argparse\n",
    "import sys\n",
    "\n",
    "__version__='1.0'\n",
    "\n",
    "\n",
    "def trim_seqs(seqs, seqlength=100):\n",
    "    \"\"\"\n",
    "    Trims the sequences to a given length\n",
    "\n",
    "    Parameters\n",
    "    ----------\n",
    "    seqs: generator of skbio.Sequence objects\n",
    "\n",
    "    Returns\n",
    "    -------\n",
    "    generator of skbio.Sequence objects\n",
    "        trimmed sequences\n",
    "    \"\"\"\n",
    "\n",
    "    for seq in seqs:\n",
    "\n",
    "        if len(seq) < seqlength:\n",
    "            raise ValueError('sequence length is shorter than %d' % seqlength)\n",
    "\n",
    "        yield seq[:seqlength]\n",
    "\n",
    "\n",
    "def remove_seqs(table, seqs):\n",
    "    \"\"\"\n",
    "    Parameters\n",
    "    ----------\n",
    "    table : biom.Table\n",
    "       Input biom table\n",
    "    seqs : generator, skbio.Sequence\n",
    "       Iterator of sequence objects to be removed from the biom table.\n",
    "\n",
    "    Return\n",
    "    ------\n",
    "    biom.Table\n",
    "    \"\"\"\n",
    "    filter_seqs = {str(s) for s in seqs}\n",
    "    _filter = lambda v, i, m: i not in filter_seqs\n",
    "    return table.filter(_filter, axis='observation', inplace=False)"
   ]
  },
  {
   "cell_type": "code",
   "execution_count": 74,
   "metadata": {},
   "outputs": [],
   "source": [
    "table = load_table('full_otus/feature-table.biom')\n",
    "seqs_file = 'bloom/newbloom.all.fna'"
   ]
  },
  {
   "cell_type": "code",
   "execution_count": 79,
   "metadata": {},
   "outputs": [
    {
     "data": {
      "text/plain": [
       "426648 x 19231 <class 'biom.table.Table'> with 3606467 nonzero entries (0% dense)"
      ]
     },
     "execution_count": 79,
     "metadata": {},
     "output_type": "execute_result"
    }
   ],
   "source": [
    "table"
   ]
  },
  {
   "cell_type": "code",
   "execution_count": 75,
   "metadata": {},
   "outputs": [],
   "source": [
    "seqs = skbio.read(seqs_file, format='fasta')"
   ]
  },
  {
   "cell_type": "code",
   "execution_count": 76,
   "metadata": {},
   "outputs": [],
   "source": [
    "length = min(map(len, table.ids(axis='observation')))\n",
    "seqs = trim_seqs(seqs, seqlength=length)"
   ]
  },
  {
   "cell_type": "code",
   "execution_count": 77,
   "metadata": {},
   "outputs": [],
   "source": [
    "outtable = remove_seqs(table, seqs)"
   ]
  },
  {
   "cell_type": "code",
   "execution_count": 78,
   "metadata": {},
   "outputs": [
    {
     "data": {
      "text/plain": [
       "426633 x 19231 <class 'biom.table.Table'> with 3540437 nonzero entries (0% dense)"
      ]
     },
     "execution_count": 78,
     "metadata": {},
     "output_type": "execute_result"
    }
   ],
   "source": [
    "outtable"
   ]
  },
  {
   "cell_type": "markdown",
   "metadata": {},
   "source": [
    "(15 sOTUs matched bloom filter and removed)"
   ]
  },
  {
   "cell_type": "code",
   "execution_count": 80,
   "metadata": {},
   "outputs": [],
   "source": [
    "table_ar = qiime2.Artifact.import_data('FeatureTable[Frequency]', outtable)"
   ]
  },
  {
   "cell_type": "markdown",
   "metadata": {},
   "source": [
    "## Rarification"
   ]
  },
  {
   "cell_type": "code",
   "execution_count": 81,
   "metadata": {},
   "outputs": [],
   "source": [
    "sampling_depth=1000"
   ]
  },
  {
   "cell_type": "code",
   "execution_count": 82,
   "metadata": {},
   "outputs": [],
   "source": [
    "# rarefy to 1000 sequences per sample (yes, it's arbitrary)\n",
    "rare_ar, = feature_table.actions.rarefy(table=table_ar, sampling_depth=sampling_depth)"
   ]
  },
  {
   "cell_type": "code",
   "execution_count": 83,
   "metadata": {},
   "outputs": [],
   "source": [
    "biom_table_rar = rare_ar.view(biom.Table)"
   ]
  },
  {
   "cell_type": "code",
   "execution_count": 84,
   "metadata": {},
   "outputs": [
    {
     "data": {
      "text/plain": [
       "111507 x 18305 <class 'biom.table.Table'> with 1755714 nonzero entries (0% dense)"
      ]
     },
     "execution_count": 84,
     "metadata": {},
     "output_type": "execute_result"
    }
   ],
   "source": [
    "biom_table_rar"
   ]
  },
  {
   "cell_type": "code",
   "execution_count": 85,
   "metadata": {},
   "outputs": [
    {
     "name": "stdout",
     "output_type": "stream",
     "text": [
      "# Constructed from biom file\n",
      "#OTU ID\t10317.000067572.58428\t10317.000035170.60177\t10317.000097270.60853\t10317.000041721.59400\t10317.000093557.57381\n",
      "TACGTATGGTGCAAGCGTTATCCGGATTTACTGGGTGTAAAGGGAGCGCAGGCGGTTTGGCAAGTCTGATGTGAAAATCCGGGGCTCAACTGAGGAACTG\t0.0\t0.0\t0.0\t0.0\t0.0\n",
      "TACGGAGGGTGCAAGCGTTAATCGGAATTACTGGGCGTAAAGCGCGCGCAGGTGGTTCCTTAAGTCTGATGTGAAAGCCCACGGCTTAACCGTGGAGGGT\t0.0\t0.0\t0.0\t0.0\t0.0\n",
      "TACGAAGGGGGCGAGCGTTGTTCGGAATTACTGGGCGTAAAGGGCGCGTAGGCGGCGCACCAAGTCAGGCGTGAAAGCCCTGGGCTTAACCCAGGAATTG\t0.0\t0.0\t0.0\t0.0\t0.0\n"
     ]
    }
   ],
   "source": [
    "print(biom_table_rar.head(3))"
   ]
  },
  {
   "cell_type": "markdown",
   "metadata": {},
   "source": [
    "## converting to sparse dataframe format"
   ]
  },
  {
   "cell_type": "code",
   "execution_count": 86,
   "metadata": {},
   "outputs": [],
   "source": [
    "c = biom_table_rar.matrix_data"
   ]
  },
  {
   "cell_type": "code",
   "execution_count": 87,
   "metadata": {},
   "outputs": [],
   "source": [
    "c = c.transpose()"
   ]
  },
  {
   "cell_type": "code",
   "execution_count": 88,
   "metadata": {},
   "outputs": [
    {
     "data": {
      "text/plain": [
       "<18305x111507 sparse matrix of type '<class 'numpy.float64'>'\n",
       "\twith 1755714 stored elements in Compressed Sparse Column format>"
      ]
     },
     "execution_count": 88,
     "metadata": {},
     "output_type": "execute_result"
    }
   ],
   "source": [
    "c"
   ]
  },
  {
   "cell_type": "code",
   "execution_count": 89,
   "metadata": {},
   "outputs": [],
   "source": [
    "cdf = pd.SparseDataFrame(c)"
   ]
  },
  {
   "cell_type": "code",
   "execution_count": 90,
   "metadata": {},
   "outputs": [
    {
     "name": "stdout",
     "output_type": "stream",
     "text": [
      "(18305, 111507)\n"
     ]
    }
   ],
   "source": [
    "print(cdf.shape)"
   ]
  },
  {
   "cell_type": "code",
   "execution_count": 91,
   "metadata": {},
   "outputs": [],
   "source": [
    "cdf['sample_name'] = biom_table_rar.ids()"
   ]
  },
  {
   "cell_type": "code",
   "execution_count": 92,
   "metadata": {},
   "outputs": [
    {
     "data": {
      "text/html": [
       "<div>\n",
       "<style scoped>\n",
       "    .dataframe tbody tr th:only-of-type {\n",
       "        vertical-align: middle;\n",
       "    }\n",
       "\n",
       "    .dataframe tbody tr th {\n",
       "        vertical-align: top;\n",
       "    }\n",
       "\n",
       "    .dataframe thead th {\n",
       "        text-align: right;\n",
       "    }\n",
       "</style>\n",
       "<table border=\"1\" class=\"dataframe\">\n",
       "  <thead>\n",
       "    <tr style=\"text-align: right;\">\n",
       "      <th></th>\n",
       "      <th>0</th>\n",
       "      <th>1</th>\n",
       "      <th>2</th>\n",
       "      <th>3</th>\n",
       "      <th>4</th>\n",
       "      <th>5</th>\n",
       "      <th>6</th>\n",
       "      <th>7</th>\n",
       "      <th>8</th>\n",
       "      <th>9</th>\n",
       "      <th>...</th>\n",
       "      <th>111498</th>\n",
       "      <th>111499</th>\n",
       "      <th>111500</th>\n",
       "      <th>111501</th>\n",
       "      <th>111502</th>\n",
       "      <th>111503</th>\n",
       "      <th>111504</th>\n",
       "      <th>111505</th>\n",
       "      <th>111506</th>\n",
       "      <th>sample_name</th>\n",
       "    </tr>\n",
       "  </thead>\n",
       "  <tbody>\n",
       "    <tr>\n",
       "      <th>0</th>\n",
       "      <td>NaN</td>\n",
       "      <td>NaN</td>\n",
       "      <td>NaN</td>\n",
       "      <td>NaN</td>\n",
       "      <td>NaN</td>\n",
       "      <td>NaN</td>\n",
       "      <td>NaN</td>\n",
       "      <td>NaN</td>\n",
       "      <td>NaN</td>\n",
       "      <td>NaN</td>\n",
       "      <td>...</td>\n",
       "      <td>NaN</td>\n",
       "      <td>NaN</td>\n",
       "      <td>NaN</td>\n",
       "      <td>NaN</td>\n",
       "      <td>NaN</td>\n",
       "      <td>NaN</td>\n",
       "      <td>NaN</td>\n",
       "      <td>NaN</td>\n",
       "      <td>NaN</td>\n",
       "      <td>10317.000067572.58428</td>\n",
       "    </tr>\n",
       "    <tr>\n",
       "      <th>1</th>\n",
       "      <td>NaN</td>\n",
       "      <td>NaN</td>\n",
       "      <td>NaN</td>\n",
       "      <td>NaN</td>\n",
       "      <td>NaN</td>\n",
       "      <td>NaN</td>\n",
       "      <td>NaN</td>\n",
       "      <td>NaN</td>\n",
       "      <td>NaN</td>\n",
       "      <td>NaN</td>\n",
       "      <td>...</td>\n",
       "      <td>NaN</td>\n",
       "      <td>NaN</td>\n",
       "      <td>NaN</td>\n",
       "      <td>NaN</td>\n",
       "      <td>NaN</td>\n",
       "      <td>NaN</td>\n",
       "      <td>NaN</td>\n",
       "      <td>NaN</td>\n",
       "      <td>NaN</td>\n",
       "      <td>10317.000035170.60177</td>\n",
       "    </tr>\n",
       "    <tr>\n",
       "      <th>2</th>\n",
       "      <td>NaN</td>\n",
       "      <td>NaN</td>\n",
       "      <td>NaN</td>\n",
       "      <td>NaN</td>\n",
       "      <td>NaN</td>\n",
       "      <td>NaN</td>\n",
       "      <td>NaN</td>\n",
       "      <td>NaN</td>\n",
       "      <td>NaN</td>\n",
       "      <td>NaN</td>\n",
       "      <td>...</td>\n",
       "      <td>NaN</td>\n",
       "      <td>NaN</td>\n",
       "      <td>NaN</td>\n",
       "      <td>NaN</td>\n",
       "      <td>NaN</td>\n",
       "      <td>NaN</td>\n",
       "      <td>NaN</td>\n",
       "      <td>NaN</td>\n",
       "      <td>NaN</td>\n",
       "      <td>10317.000097270.60853</td>\n",
       "    </tr>\n",
       "  </tbody>\n",
       "</table>\n",
       "<p>3 rows × 111508 columns</p>\n",
       "</div>"
      ],
      "text/plain": [
       "    0   1   2   3   4   5   6   7   8   9          ...            111498  \\\n",
       "0 NaN NaN NaN NaN NaN NaN NaN NaN NaN NaN          ...               NaN   \n",
       "1 NaN NaN NaN NaN NaN NaN NaN NaN NaN NaN          ...               NaN   \n",
       "2 NaN NaN NaN NaN NaN NaN NaN NaN NaN NaN          ...               NaN   \n",
       "\n",
       "   111499  111500  111501  111502  111503  111504  111505  111506  \\\n",
       "0     NaN     NaN     NaN     NaN     NaN     NaN     NaN     NaN   \n",
       "1     NaN     NaN     NaN     NaN     NaN     NaN     NaN     NaN   \n",
       "2     NaN     NaN     NaN     NaN     NaN     NaN     NaN     NaN   \n",
       "\n",
       "             sample_name  \n",
       "0  10317.000067572.58428  \n",
       "1  10317.000035170.60177  \n",
       "2  10317.000097270.60853  \n",
       "\n",
       "[3 rows x 111508 columns]"
      ]
     },
     "execution_count": 92,
     "metadata": {},
     "output_type": "execute_result"
    }
   ],
   "source": [
    "cdf.head(3)"
   ]
  },
  {
   "cell_type": "markdown",
   "metadata": {},
   "source": [
    "**write biom sparse dataframe to pickle file**"
   ]
  },
  {
   "cell_type": "code",
   "execution_count": 93,
   "metadata": {},
   "outputs": [],
   "source": [
    "cdf.to_pickle(output_dir + '2.21.rar1000.biom_data.pkl')"
   ]
  },
  {
   "cell_type": "markdown",
   "metadata": {},
   "source": [
    "## create dna_seq lookup_id which matches the column in cdf"
   ]
  },
  {
   "cell_type": "code",
   "execution_count": 94,
   "metadata": {},
   "outputs": [],
   "source": [
    "otu_ids =   biom_table_rar.ids(axis='observation')"
   ]
  },
  {
   "cell_type": "code",
   "execution_count": 95,
   "metadata": {},
   "outputs": [],
   "source": [
    "otu_id_df = pd.DataFrame(otu_ids, columns=['dna_seq'])"
   ]
  },
  {
   "cell_type": "code",
   "execution_count": 96,
   "metadata": {},
   "outputs": [],
   "source": [
    "otu_id_df['lookup_id'] = range(len(otu_id_df)) "
   ]
  },
  {
   "cell_type": "code",
   "execution_count": 97,
   "metadata": {},
   "outputs": [
    {
     "data": {
      "text/html": [
       "<div>\n",
       "<style scoped>\n",
       "    .dataframe tbody tr th:only-of-type {\n",
       "        vertical-align: middle;\n",
       "    }\n",
       "\n",
       "    .dataframe tbody tr th {\n",
       "        vertical-align: top;\n",
       "    }\n",
       "\n",
       "    .dataframe thead th {\n",
       "        text-align: right;\n",
       "    }\n",
       "</style>\n",
       "<table border=\"1\" class=\"dataframe\">\n",
       "  <thead>\n",
       "    <tr style=\"text-align: right;\">\n",
       "      <th></th>\n",
       "      <th>dna_seq</th>\n",
       "      <th>lookup_id</th>\n",
       "    </tr>\n",
       "  </thead>\n",
       "  <tbody>\n",
       "    <tr>\n",
       "      <th>0</th>\n",
       "      <td>TACGTATGGTGCAAGCGTTATCCGGATTTACTGGGTGTAAAGGGAGCGCAGGCGGTTTGGCAAGTCTGATGTGAAAATCCGGGGCTCAACTGAGGAACTG</td>\n",
       "      <td>0</td>\n",
       "    </tr>\n",
       "    <tr>\n",
       "      <th>1</th>\n",
       "      <td>TACGGAGGGTGCAAGCGTTAATCGGAATTACTGGGCGTAAAGCGCGCGCAGGTGGTTCCTTAAGTCTGATGTGAAAGCCCACGGCTTAACCGTGGAGGGT</td>\n",
       "      <td>1</td>\n",
       "    </tr>\n",
       "    <tr>\n",
       "      <th>2</th>\n",
       "      <td>TACGAAGGGGGCGAGCGTTGTTCGGAATTACTGGGCGTAAAGGGCGCGTAGGCGGCGCACCAAGTCAGGCGTGAAAGCCCTGGGCTTAACCCAGGAATTG</td>\n",
       "      <td>2</td>\n",
       "    </tr>\n",
       "    <tr>\n",
       "      <th>3</th>\n",
       "      <td>TACGTAGGGTGCGAGCGTTATCCGGAATTATTGGGCGTAAAGAGCTCGTAGGCGGTTTGTCGCGTCTGTCGTGAAAGCCCGGGGCTTAACCCCGGATCTG</td>\n",
       "      <td>3</td>\n",
       "    </tr>\n",
       "    <tr>\n",
       "      <th>4</th>\n",
       "      <td>TACGTATGGAGCAAGCGTTATCCGGATTTACTGGGTGTAAAGGGAGCGTAGACGGACTGGCAAGTCTGATGTGAAAGGCGGGGGCTCAACCCCTGGACTG</td>\n",
       "      <td>4</td>\n",
       "    </tr>\n",
       "  </tbody>\n",
       "</table>\n",
       "</div>"
      ],
      "text/plain": [
       "                                                                                                dna_seq  \\\n",
       "0  TACGTATGGTGCAAGCGTTATCCGGATTTACTGGGTGTAAAGGGAGCGCAGGCGGTTTGGCAAGTCTGATGTGAAAATCCGGGGCTCAACTGAGGAACTG   \n",
       "1  TACGGAGGGTGCAAGCGTTAATCGGAATTACTGGGCGTAAAGCGCGCGCAGGTGGTTCCTTAAGTCTGATGTGAAAGCCCACGGCTTAACCGTGGAGGGT   \n",
       "2  TACGAAGGGGGCGAGCGTTGTTCGGAATTACTGGGCGTAAAGGGCGCGTAGGCGGCGCACCAAGTCAGGCGTGAAAGCCCTGGGCTTAACCCAGGAATTG   \n",
       "3  TACGTAGGGTGCGAGCGTTATCCGGAATTATTGGGCGTAAAGAGCTCGTAGGCGGTTTGTCGCGTCTGTCGTGAAAGCCCGGGGCTTAACCCCGGATCTG   \n",
       "4  TACGTATGGAGCAAGCGTTATCCGGATTTACTGGGTGTAAAGGGAGCGTAGACGGACTGGCAAGTCTGATGTGAAAGGCGGGGGCTCAACCCCTGGACTG   \n",
       "\n",
       "   lookup_id  \n",
       "0          0  \n",
       "1          1  \n",
       "2          2  \n",
       "3          3  \n",
       "4          4  "
      ]
     },
     "execution_count": 97,
     "metadata": {},
     "output_type": "execute_result"
    }
   ],
   "source": [
    "otu_id_df.head()"
   ]
  },
  {
   "cell_type": "markdown",
   "metadata": {},
   "source": [
    "**write id lookup to csv file**"
   ]
  },
  {
   "cell_type": "code",
   "execution_count": 98,
   "metadata": {},
   "outputs": [],
   "source": [
    "otu_id_df.to_csv(output_dir + '2.21.rar1000.biom_ids.csv', index=False)"
   ]
  }
 ],
 "metadata": {
  "hide_code_all_hidden": false,
  "kernelspec": {
   "display_name": "qiim2-2018.11",
   "language": "python",
   "name": "qiim2-2018.11"
  },
  "language_info": {
   "codemirror_mode": {
    "name": "ipython",
    "version": 3
   },
   "file_extension": ".py",
   "mimetype": "text/x-python",
   "name": "python",
   "nbconvert_exporter": "python",
   "pygments_lexer": "ipython3",
   "version": "3.5.5"
  }
 },
 "nbformat": 4,
 "nbformat_minor": 2
}
