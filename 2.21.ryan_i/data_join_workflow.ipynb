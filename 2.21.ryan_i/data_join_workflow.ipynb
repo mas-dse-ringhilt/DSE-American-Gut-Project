{
 "cells": [
  {
   "cell_type": "markdown",
   "metadata": {},
   "source": [
    "## author: Ryan Inghilterra"
   ]
  },
  {
   "cell_type": "markdown",
   "metadata": {},
   "source": [
    "want to be able to easily join all datasets on id, so have all info per sample_id"
   ]
  },
  {
   "cell_type": "code",
   "execution_count": 2,
   "metadata": {},
   "outputs": [],
   "source": [
    "import pandas as pd\n",
    "import numpy as np\n",
    "pd.set_option('display.height', 1000)\n",
    "pd.set_option('display.max_rows', 500)\n",
    "pd.set_option('display.max_columns', 100)\n",
    "pd.set_option('display.width', 200)\n",
    "pd.options.display.max_seq_items = 200"
   ]
  },
  {
   "cell_type": "markdown",
   "metadata": {},
   "source": [
    "**DIRECTORY WHERE TO EXPORT ALL CLEANED UP DATA**"
   ]
  },
  {
   "cell_type": "code",
   "execution_count": 3,
   "metadata": {},
   "outputs": [],
   "source": [
    "output_dir = 'join_wflow_output_data/'"
   ]
  },
  {
   "cell_type": "markdown",
   "metadata": {},
   "source": [
    "### read in metadata"
   ]
  },
  {
   "cell_type": "code",
   "execution_count": 4,
   "metadata": {},
   "outputs": [],
   "source": [
    "meta_df = pd.read_csv('raw.2.21.agp_metadata.txt',sep='\\t', low_memory=False)"
   ]
  },
  {
   "cell_type": "code",
   "execution_count": 5,
   "metadata": {},
   "outputs": [
    {
     "data": {
      "text/plain": [
       "(26009, 597)"
      ]
     },
     "execution_count": 5,
     "metadata": {},
     "output_type": "execute_result"
    }
   ],
   "source": [
    "meta_df.shape"
   ]
  },
  {
   "cell_type": "code",
   "execution_count": 6,
   "metadata": {},
   "outputs": [
    {
     "data": {
      "text/html": [
       "<div>\n",
       "<style scoped>\n",
       "    .dataframe tbody tr th:only-of-type {\n",
       "        vertical-align: middle;\n",
       "    }\n",
       "\n",
       "    .dataframe tbody tr th {\n",
       "        vertical-align: top;\n",
       "    }\n",
       "\n",
       "    .dataframe thead th {\n",
       "        text-align: right;\n",
       "    }\n",
       "</style>\n",
       "<table border=\"1\" class=\"dataframe\">\n",
       "  <thead>\n",
       "    <tr style=\"text-align: right;\">\n",
       "      <th></th>\n",
       "      <th>sample_name</th>\n",
       "      <th>acid_reflux</th>\n",
       "      <th>acne_medication</th>\n",
       "      <th>acne_medication_otc</th>\n",
       "      <th>add_adhd</th>\n",
       "      <th>age_cat</th>\n",
       "      <th>age_corrected</th>\n",
       "      <th>age_years</th>\n",
       "      <th>alcohol_consumption</th>\n",
       "      <th>alcohol_frequency</th>\n",
       "      <th>alcohol_types</th>\n",
       "      <th>alcohol_types_beercider</th>\n",
       "      <th>alcohol_types_red_wine</th>\n",
       "      <th>alcohol_types_sour_beers</th>\n",
       "      <th>alcohol_types_spiritshard_alcohol</th>\n",
       "      <th>alcohol_types_unspecified</th>\n",
       "      <th>alcohol_types_white_wine</th>\n",
       "      <th>allergic_to</th>\n",
       "      <th>allergic_to_i_have_no_food_allergies_that_i_know_of</th>\n",
       "      <th>allergic_to_other</th>\n",
       "      <th>allergic_to_peanuts</th>\n",
       "      <th>allergic_to_shellfish</th>\n",
       "      <th>allergic_to_tree_nuts</th>\n",
       "      <th>allergic_to_unspecified</th>\n",
       "      <th>altitude</th>\n",
       "      <th>alzheimers</th>\n",
       "      <th>animal_age</th>\n",
       "      <th>animal_free_text</th>\n",
       "      <th>animal_gender</th>\n",
       "      <th>animal_origin</th>\n",
       "      <th>animal_type</th>\n",
       "      <th>anonymized_name</th>\n",
       "      <th>antibiotic_history</th>\n",
       "      <th>appendix_removed</th>\n",
       "      <th>artificial_sweeteners</th>\n",
       "      <th>asd</th>\n",
       "      <th>assigned_from_geo</th>\n",
       "      <th>autoimmune</th>\n",
       "      <th>birth_year</th>\n",
       "      <th>bmi</th>\n",
       "      <th>bmi_cat</th>\n",
       "      <th>bmi_corrected</th>\n",
       "      <th>body_habitat</th>\n",
       "      <th>body_product</th>\n",
       "      <th>body_site</th>\n",
       "      <th>bowel_movement_frequency</th>\n",
       "      <th>bowel_movement_quality</th>\n",
       "      <th>breastmilk_formula_ensure</th>\n",
       "      <th>cancer</th>\n",
       "      <th>cancer_treatment</th>\n",
       "      <th>...</th>\n",
       "      <th>vioscreen_tgrain</th>\n",
       "      <th>vioscreen_thiamin</th>\n",
       "      <th>vioscreen_threonin</th>\n",
       "      <th>vioscreen_time</th>\n",
       "      <th>vioscreen_totaltfa</th>\n",
       "      <th>vioscreen_totcla</th>\n",
       "      <th>vioscreen_totfolat</th>\n",
       "      <th>vioscreen_totsugar</th>\n",
       "      <th>vioscreen_tryptoph</th>\n",
       "      <th>vioscreen_tyrosine</th>\n",
       "      <th>vioscreen_user_id</th>\n",
       "      <th>vioscreen_v_drkgr</th>\n",
       "      <th>vioscreen_v_orange</th>\n",
       "      <th>vioscreen_v_other</th>\n",
       "      <th>vioscreen_v_potato</th>\n",
       "      <th>vioscreen_v_starcy</th>\n",
       "      <th>vioscreen_v_tomato</th>\n",
       "      <th>vioscreen_v_total</th>\n",
       "      <th>vioscreen_valine</th>\n",
       "      <th>vioscreen_veg5_day</th>\n",
       "      <th>vioscreen_vegetable_servings</th>\n",
       "      <th>vioscreen_vegsumm</th>\n",
       "      <th>vioscreen_visit</th>\n",
       "      <th>vioscreen_vita_iu</th>\n",
       "      <th>vioscreen_vita_rae</th>\n",
       "      <th>vioscreen_vita_re</th>\n",
       "      <th>vioscreen_vitb12</th>\n",
       "      <th>vioscreen_vitb6</th>\n",
       "      <th>vioscreen_vitc</th>\n",
       "      <th>vioscreen_vitd</th>\n",
       "      <th>vioscreen_vitd2</th>\n",
       "      <th>vioscreen_vitd3</th>\n",
       "      <th>vioscreen_vitd_iu</th>\n",
       "      <th>vioscreen_vite_iu</th>\n",
       "      <th>vioscreen_vitk</th>\n",
       "      <th>vioscreen_water</th>\n",
       "      <th>vioscreen_weight</th>\n",
       "      <th>vioscreen_wgrain</th>\n",
       "      <th>vioscreen_whole_grain_servings</th>\n",
       "      <th>vioscreen_xylitol</th>\n",
       "      <th>vioscreen_zinc</th>\n",
       "      <th>vitamin_b_supplement_frequency</th>\n",
       "      <th>vitamin_d_supplement_frequency</th>\n",
       "      <th>vivid_dreams</th>\n",
       "      <th>weight_cat</th>\n",
       "      <th>weight_change</th>\n",
       "      <th>weight_kg</th>\n",
       "      <th>weight_units</th>\n",
       "      <th>whole_eggs</th>\n",
       "      <th>whole_grain_frequency</th>\n",
       "    </tr>\n",
       "  </thead>\n",
       "  <tbody>\n",
       "    <tr>\n",
       "      <th>0</th>\n",
       "      <td>10317.000001000</td>\n",
       "      <td>Not provided</td>\n",
       "      <td>false</td>\n",
       "      <td>false</td>\n",
       "      <td>Diagnosed by a medical professional (doctor, p...</td>\n",
       "      <td>60s</td>\n",
       "      <td>64.0</td>\n",
       "      <td>64</td>\n",
       "      <td>true</td>\n",
       "      <td>Daily</td>\n",
       "      <td>NaN</td>\n",
       "      <td>true</td>\n",
       "      <td>false</td>\n",
       "      <td>false</td>\n",
       "      <td>true</td>\n",
       "      <td>false</td>\n",
       "      <td>false</td>\n",
       "      <td>NaN</td>\n",
       "      <td>false</td>\n",
       "      <td>true</td>\n",
       "      <td>false</td>\n",
       "      <td>false</td>\n",
       "      <td>false</td>\n",
       "      <td>false</td>\n",
       "      <td>Not applicable</td>\n",
       "      <td>I do not have this condition</td>\n",
       "      <td>NaN</td>\n",
       "      <td>NaN</td>\n",
       "      <td>NaN</td>\n",
       "      <td>NaN</td>\n",
       "      <td>NaN</td>\n",
       "      <td>000001000</td>\n",
       "      <td>6 months</td>\n",
       "      <td>true</td>\n",
       "      <td>Not provided</td>\n",
       "      <td>I do not have this condition</td>\n",
       "      <td>Not applicable</td>\n",
       "      <td>I do not have this condition</td>\n",
       "      <td>1952</td>\n",
       "      <td>21.92</td>\n",
       "      <td>Normal</td>\n",
       "      <td>21.92</td>\n",
       "      <td>UBERON:feces</td>\n",
       "      <td>UBERON:feces</td>\n",
       "      <td>UBERON:feces</td>\n",
       "      <td>Two</td>\n",
       "      <td>Not provided</td>\n",
       "      <td>Not provided</td>\n",
       "      <td>Not provided</td>\n",
       "      <td>Not provided</td>\n",
       "      <td>...</td>\n",
       "      <td>Not provided</td>\n",
       "      <td>Not provided</td>\n",
       "      <td>Not provided</td>\n",
       "      <td>NaN</td>\n",
       "      <td>Not provided</td>\n",
       "      <td>Not provided</td>\n",
       "      <td>Not provided</td>\n",
       "      <td>Not provided</td>\n",
       "      <td>Not provided</td>\n",
       "      <td>Not provided</td>\n",
       "      <td>NaN</td>\n",
       "      <td>Not provided</td>\n",
       "      <td>Not provided</td>\n",
       "      <td>Not provided</td>\n",
       "      <td>Not provided</td>\n",
       "      <td>Not provided</td>\n",
       "      <td>Not provided</td>\n",
       "      <td>Not provided</td>\n",
       "      <td>Not provided</td>\n",
       "      <td>Not provided</td>\n",
       "      <td>Not provided</td>\n",
       "      <td>Not provided</td>\n",
       "      <td>NaN</td>\n",
       "      <td>Not provided</td>\n",
       "      <td>Not provided</td>\n",
       "      <td>Not provided</td>\n",
       "      <td>Not provided</td>\n",
       "      <td>Not provided</td>\n",
       "      <td>Not provided</td>\n",
       "      <td>Not provided</td>\n",
       "      <td>Not provided</td>\n",
       "      <td>Not provided</td>\n",
       "      <td>Not provided</td>\n",
       "      <td>Not provided</td>\n",
       "      <td>Not provided</td>\n",
       "      <td>Not provided</td>\n",
       "      <td>NaN</td>\n",
       "      <td>Not provided</td>\n",
       "      <td>Not provided</td>\n",
       "      <td>Not provided</td>\n",
       "      <td>Not provided</td>\n",
       "      <td>Never</td>\n",
       "      <td>Regularly (3-5 times/week)</td>\n",
       "      <td>Not provided</td>\n",
       "      <td>NaN</td>\n",
       "      <td>Remained stable</td>\n",
       "      <td>52</td>\n",
       "      <td>kilograms</td>\n",
       "      <td>Never</td>\n",
       "      <td>Occasionally (1-2 times/week)</td>\n",
       "    </tr>\n",
       "    <tr>\n",
       "      <th>1</th>\n",
       "      <td>10317.000001001</td>\n",
       "      <td>Not provided</td>\n",
       "      <td>false</td>\n",
       "      <td>false</td>\n",
       "      <td>Not provided</td>\n",
       "      <td>50s</td>\n",
       "      <td>53.0</td>\n",
       "      <td>53.0</td>\n",
       "      <td>true</td>\n",
       "      <td>Rarely (a few times/month)</td>\n",
       "      <td>NaN</td>\n",
       "      <td>false</td>\n",
       "      <td>false</td>\n",
       "      <td>false</td>\n",
       "      <td>false</td>\n",
       "      <td>true</td>\n",
       "      <td>false</td>\n",
       "      <td>NaN</td>\n",
       "      <td>false</td>\n",
       "      <td>false</td>\n",
       "      <td>false</td>\n",
       "      <td>false</td>\n",
       "      <td>false</td>\n",
       "      <td>true</td>\n",
       "      <td>Not applicable</td>\n",
       "      <td>Not provided</td>\n",
       "      <td>NaN</td>\n",
       "      <td>NaN</td>\n",
       "      <td>NaN</td>\n",
       "      <td>NaN</td>\n",
       "      <td>NaN</td>\n",
       "      <td>000001001</td>\n",
       "      <td>I have not taken antibiotics in the past year.</td>\n",
       "      <td>false</td>\n",
       "      <td>Not provided</td>\n",
       "      <td>Not provided</td>\n",
       "      <td>Not applicable</td>\n",
       "      <td>Not provided</td>\n",
       "      <td>1962.0</td>\n",
       "      <td>35.92</td>\n",
       "      <td>Obese</td>\n",
       "      <td>Not provided</td>\n",
       "      <td>UBERON:feces</td>\n",
       "      <td>UBERON:feces</td>\n",
       "      <td>UBERON:feces</td>\n",
       "      <td>Not provided</td>\n",
       "      <td>Not provided</td>\n",
       "      <td>Not provided</td>\n",
       "      <td>Not provided</td>\n",
       "      <td>Not provided</td>\n",
       "      <td>...</td>\n",
       "      <td>Not provided</td>\n",
       "      <td>Not provided</td>\n",
       "      <td>Not provided</td>\n",
       "      <td>NaN</td>\n",
       "      <td>Not provided</td>\n",
       "      <td>Not provided</td>\n",
       "      <td>Not provided</td>\n",
       "      <td>Not provided</td>\n",
       "      <td>Not provided</td>\n",
       "      <td>Not provided</td>\n",
       "      <td>NaN</td>\n",
       "      <td>Not provided</td>\n",
       "      <td>Not provided</td>\n",
       "      <td>Not provided</td>\n",
       "      <td>Not provided</td>\n",
       "      <td>Not provided</td>\n",
       "      <td>Not provided</td>\n",
       "      <td>Not provided</td>\n",
       "      <td>Not provided</td>\n",
       "      <td>Not provided</td>\n",
       "      <td>Not provided</td>\n",
       "      <td>Not provided</td>\n",
       "      <td>NaN</td>\n",
       "      <td>Not provided</td>\n",
       "      <td>Not provided</td>\n",
       "      <td>Not provided</td>\n",
       "      <td>Not provided</td>\n",
       "      <td>Not provided</td>\n",
       "      <td>Not provided</td>\n",
       "      <td>Not provided</td>\n",
       "      <td>Not provided</td>\n",
       "      <td>Not provided</td>\n",
       "      <td>Not provided</td>\n",
       "      <td>Not provided</td>\n",
       "      <td>Not provided</td>\n",
       "      <td>Not provided</td>\n",
       "      <td>NaN</td>\n",
       "      <td>Not provided</td>\n",
       "      <td>Not provided</td>\n",
       "      <td>Not provided</td>\n",
       "      <td>Not provided</td>\n",
       "      <td>Not provided</td>\n",
       "      <td>Not provided</td>\n",
       "      <td>Not provided</td>\n",
       "      <td>NaN</td>\n",
       "      <td>Remained stable</td>\n",
       "      <td>110.0</td>\n",
       "      <td>kilograms</td>\n",
       "      <td>Not provided</td>\n",
       "      <td>Not provided</td>\n",
       "    </tr>\n",
       "    <tr>\n",
       "      <th>2</th>\n",
       "      <td>10317.000001002</td>\n",
       "      <td>Not provided</td>\n",
       "      <td>false</td>\n",
       "      <td>false</td>\n",
       "      <td>Not provided</td>\n",
       "      <td>50s</td>\n",
       "      <td>53.0</td>\n",
       "      <td>53.0</td>\n",
       "      <td>true</td>\n",
       "      <td>Regularly (3-5 times/week)</td>\n",
       "      <td>NaN</td>\n",
       "      <td>false</td>\n",
       "      <td>false</td>\n",
       "      <td>false</td>\n",
       "      <td>false</td>\n",
       "      <td>true</td>\n",
       "      <td>false</td>\n",
       "      <td>NaN</td>\n",
       "      <td>false</td>\n",
       "      <td>false</td>\n",
       "      <td>false</td>\n",
       "      <td>false</td>\n",
       "      <td>false</td>\n",
       "      <td>true</td>\n",
       "      <td>Not applicable</td>\n",
       "      <td>Not provided</td>\n",
       "      <td>NaN</td>\n",
       "      <td>NaN</td>\n",
       "      <td>NaN</td>\n",
       "      <td>NaN</td>\n",
       "      <td>NaN</td>\n",
       "      <td>000001002</td>\n",
       "      <td>Not provided</td>\n",
       "      <td>false</td>\n",
       "      <td>Not provided</td>\n",
       "      <td>Not provided</td>\n",
       "      <td>Not applicable</td>\n",
       "      <td>Not provided</td>\n",
       "      <td>1962.0</td>\n",
       "      <td>19.84</td>\n",
       "      <td>Normal</td>\n",
       "      <td>Not provided</td>\n",
       "      <td>UBERON:feces</td>\n",
       "      <td>UBERON:feces</td>\n",
       "      <td>UBERON:feces</td>\n",
       "      <td>Not provided</td>\n",
       "      <td>Not provided</td>\n",
       "      <td>Not provided</td>\n",
       "      <td>Not provided</td>\n",
       "      <td>Not provided</td>\n",
       "      <td>...</td>\n",
       "      <td>Not provided</td>\n",
       "      <td>Not provided</td>\n",
       "      <td>Not provided</td>\n",
       "      <td>NaN</td>\n",
       "      <td>Not provided</td>\n",
       "      <td>Not provided</td>\n",
       "      <td>Not provided</td>\n",
       "      <td>Not provided</td>\n",
       "      <td>Not provided</td>\n",
       "      <td>Not provided</td>\n",
       "      <td>NaN</td>\n",
       "      <td>Not provided</td>\n",
       "      <td>Not provided</td>\n",
       "      <td>Not provided</td>\n",
       "      <td>Not provided</td>\n",
       "      <td>Not provided</td>\n",
       "      <td>Not provided</td>\n",
       "      <td>Not provided</td>\n",
       "      <td>Not provided</td>\n",
       "      <td>Not provided</td>\n",
       "      <td>Not provided</td>\n",
       "      <td>Not provided</td>\n",
       "      <td>NaN</td>\n",
       "      <td>Not provided</td>\n",
       "      <td>Not provided</td>\n",
       "      <td>Not provided</td>\n",
       "      <td>Not provided</td>\n",
       "      <td>Not provided</td>\n",
       "      <td>Not provided</td>\n",
       "      <td>Not provided</td>\n",
       "      <td>Not provided</td>\n",
       "      <td>Not provided</td>\n",
       "      <td>Not provided</td>\n",
       "      <td>Not provided</td>\n",
       "      <td>Not provided</td>\n",
       "      <td>Not provided</td>\n",
       "      <td>NaN</td>\n",
       "      <td>Not provided</td>\n",
       "      <td>Not provided</td>\n",
       "      <td>Not provided</td>\n",
       "      <td>Not provided</td>\n",
       "      <td>Not provided</td>\n",
       "      <td>Not provided</td>\n",
       "      <td>Not provided</td>\n",
       "      <td>NaN</td>\n",
       "      <td>Not provided</td>\n",
       "      <td>56.0</td>\n",
       "      <td>kilograms</td>\n",
       "      <td>Not provided</td>\n",
       "      <td>Not provided</td>\n",
       "    </tr>\n",
       "  </tbody>\n",
       "</table>\n",
       "<p>3 rows × 597 columns</p>\n",
       "</div>"
      ],
      "text/plain": [
       "       sample_name   acid_reflux acne_medication acne_medication_otc                                           add_adhd age_cat age_corrected age_years alcohol_consumption  \\\n",
       "0  10317.000001000  Not provided           false               false  Diagnosed by a medical professional (doctor, p...     60s          64.0        64                true   \n",
       "1  10317.000001001  Not provided           false               false                                       Not provided     50s          53.0      53.0                true   \n",
       "2  10317.000001002  Not provided           false               false                                       Not provided     50s          53.0      53.0                true   \n",
       "\n",
       "            alcohol_frequency alcohol_types alcohol_types_beercider alcohol_types_red_wine alcohol_types_sour_beers alcohol_types_spiritshard_alcohol alcohol_types_unspecified  \\\n",
       "0                       Daily           NaN                    true                  false                    false                              true                     false   \n",
       "1  Rarely (a few times/month)           NaN                   false                  false                    false                             false                      true   \n",
       "2  Regularly (3-5 times/week)           NaN                   false                  false                    false                             false                      true   \n",
       "\n",
       "  alcohol_types_white_wine allergic_to allergic_to_i_have_no_food_allergies_that_i_know_of allergic_to_other allergic_to_peanuts allergic_to_shellfish allergic_to_tree_nuts allergic_to_unspecified  \\\n",
       "0                    false         NaN                                              false               true               false                 false                 false                   false   \n",
       "1                    false         NaN                                              false              false               false                 false                 false                    true   \n",
       "2                    false         NaN                                              false              false               false                 false                 false                    true   \n",
       "\n",
       "         altitude                    alzheimers  animal_age animal_free_text animal_gender animal_origin animal_type anonymized_name                              antibiotic_history appendix_removed  \\\n",
       "0  Not applicable  I do not have this condition         NaN              NaN           NaN           NaN         NaN       000001000                                        6 months             true   \n",
       "1  Not applicable                  Not provided         NaN              NaN           NaN           NaN         NaN       000001001  I have not taken antibiotics in the past year.            false   \n",
       "2  Not applicable                  Not provided         NaN              NaN           NaN           NaN         NaN       000001002                                    Not provided            false   \n",
       "\n",
       "  artificial_sweeteners                           asd assigned_from_geo                    autoimmune birth_year    bmi bmi_cat bmi_corrected  body_habitat  body_product     body_site  \\\n",
       "0          Not provided  I do not have this condition    Not applicable  I do not have this condition       1952  21.92  Normal         21.92  UBERON:feces  UBERON:feces  UBERON:feces   \n",
       "1          Not provided                  Not provided    Not applicable                  Not provided     1962.0  35.92   Obese  Not provided  UBERON:feces  UBERON:feces  UBERON:feces   \n",
       "2          Not provided                  Not provided    Not applicable                  Not provided     1962.0  19.84  Normal  Not provided  UBERON:feces  UBERON:feces  UBERON:feces   \n",
       "\n",
       "  bowel_movement_frequency bowel_movement_quality breastmilk_formula_ensure        cancer cancer_treatment              ...               vioscreen_tgrain vioscreen_thiamin vioscreen_threonin  \\\n",
       "0                      Two           Not provided              Not provided  Not provided     Not provided              ...                   Not provided      Not provided       Not provided   \n",
       "1             Not provided           Not provided              Not provided  Not provided     Not provided              ...                   Not provided      Not provided       Not provided   \n",
       "2             Not provided           Not provided              Not provided  Not provided     Not provided              ...                   Not provided      Not provided       Not provided   \n",
       "\n",
       "  vioscreen_time vioscreen_totaltfa vioscreen_totcla vioscreen_totfolat vioscreen_totsugar vioscreen_tryptoph vioscreen_tyrosine vioscreen_user_id vioscreen_v_drkgr vioscreen_v_orange  \\\n",
       "0            NaN       Not provided     Not provided       Not provided       Not provided       Not provided       Not provided               NaN      Not provided       Not provided   \n",
       "1            NaN       Not provided     Not provided       Not provided       Not provided       Not provided       Not provided               NaN      Not provided       Not provided   \n",
       "2            NaN       Not provided     Not provided       Not provided       Not provided       Not provided       Not provided               NaN      Not provided       Not provided   \n",
       "\n",
       "  vioscreen_v_other vioscreen_v_potato vioscreen_v_starcy vioscreen_v_tomato vioscreen_v_total vioscreen_valine vioscreen_veg5_day vioscreen_vegetable_servings vioscreen_vegsumm vioscreen_visit  \\\n",
       "0      Not provided       Not provided       Not provided       Not provided      Not provided     Not provided       Not provided                 Not provided      Not provided             NaN   \n",
       "1      Not provided       Not provided       Not provided       Not provided      Not provided     Not provided       Not provided                 Not provided      Not provided             NaN   \n",
       "2      Not provided       Not provided       Not provided       Not provided      Not provided     Not provided       Not provided                 Not provided      Not provided             NaN   \n",
       "\n",
       "  vioscreen_vita_iu vioscreen_vita_rae vioscreen_vita_re vioscreen_vitb12 vioscreen_vitb6 vioscreen_vitc vioscreen_vitd vioscreen_vitd2 vioscreen_vitd3 vioscreen_vitd_iu vioscreen_vite_iu  \\\n",
       "0      Not provided       Not provided      Not provided     Not provided    Not provided   Not provided   Not provided    Not provided    Not provided      Not provided      Not provided   \n",
       "1      Not provided       Not provided      Not provided     Not provided    Not provided   Not provided   Not provided    Not provided    Not provided      Not provided      Not provided   \n",
       "2      Not provided       Not provided      Not provided     Not provided    Not provided   Not provided   Not provided    Not provided    Not provided      Not provided      Not provided   \n",
       "\n",
       "  vioscreen_vitk vioscreen_water vioscreen_weight vioscreen_wgrain vioscreen_whole_grain_servings vioscreen_xylitol vioscreen_zinc vitamin_b_supplement_frequency vitamin_d_supplement_frequency  \\\n",
       "0   Not provided    Not provided              NaN     Not provided                   Not provided      Not provided   Not provided                          Never     Regularly (3-5 times/week)   \n",
       "1   Not provided    Not provided              NaN     Not provided                   Not provided      Not provided   Not provided                   Not provided                   Not provided   \n",
       "2   Not provided    Not provided              NaN     Not provided                   Not provided      Not provided   Not provided                   Not provided                   Not provided   \n",
       "\n",
       "   vivid_dreams weight_cat    weight_change weight_kg weight_units    whole_eggs          whole_grain_frequency  \n",
       "0  Not provided        NaN  Remained stable        52    kilograms         Never  Occasionally (1-2 times/week)  \n",
       "1  Not provided        NaN  Remained stable     110.0    kilograms  Not provided                   Not provided  \n",
       "2  Not provided        NaN     Not provided      56.0    kilograms  Not provided                   Not provided  \n",
       "\n",
       "[3 rows x 597 columns]"
      ]
     },
     "execution_count": 6,
     "metadata": {},
     "output_type": "execute_result"
    }
   ],
   "source": [
    "meta_df.head(3)"
   ]
  },
  {
   "cell_type": "markdown",
   "metadata": {},
   "source": [
    "### filter on only body_site = FECES"
   ]
  },
  {
   "cell_type": "code",
   "execution_count": 7,
   "metadata": {},
   "outputs": [
    {
     "name": "stdout",
     "output_type": "stream",
     "text": [
      "(19604, 597)\n"
     ]
    }
   ],
   "source": [
    "meta_df = meta_df[meta_df.body_site == 'UBERON:feces']\n",
    "print(meta_df.shape)"
   ]
  },
  {
   "cell_type": "code",
   "execution_count": 8,
   "metadata": {},
   "outputs": [],
   "source": [
    "#meta_df.columns"
   ]
  },
  {
   "cell_type": "code",
   "execution_count": 9,
   "metadata": {},
   "outputs": [
    {
     "data": {
      "text/html": [
       "<div>\n",
       "<style scoped>\n",
       "    .dataframe tbody tr th:only-of-type {\n",
       "        vertical-align: middle;\n",
       "    }\n",
       "\n",
       "    .dataframe tbody tr th {\n",
       "        vertical-align: top;\n",
       "    }\n",
       "\n",
       "    .dataframe thead th {\n",
       "        text-align: right;\n",
       "    }\n",
       "</style>\n",
       "<table border=\"1\" class=\"dataframe\">\n",
       "  <thead>\n",
       "    <tr style=\"text-align: right;\">\n",
       "      <th></th>\n",
       "      <th>sample_name</th>\n",
       "      <th>survey_id</th>\n",
       "      <th>qiita_study_id</th>\n",
       "    </tr>\n",
       "  </thead>\n",
       "  <tbody>\n",
       "    <tr>\n",
       "      <th>0</th>\n",
       "      <td>10317.000001000</td>\n",
       "      <td>48c83b76031b7580</td>\n",
       "      <td>10317</td>\n",
       "    </tr>\n",
       "    <tr>\n",
       "      <th>1</th>\n",
       "      <td>10317.000001001</td>\n",
       "      <td>0b0832aafb76068d</td>\n",
       "      <td>10317</td>\n",
       "    </tr>\n",
       "  </tbody>\n",
       "</table>\n",
       "</div>"
      ],
      "text/plain": [
       "       sample_name         survey_id  qiita_study_id\n",
       "0  10317.000001000  48c83b76031b7580           10317\n",
       "1  10317.000001001  0b0832aafb76068d           10317"
      ]
     },
     "execution_count": 9,
     "metadata": {},
     "output_type": "execute_result"
    }
   ],
   "source": [
    "meta_df[['sample_name', 'survey_id', 'qiita_study_id']].head(2)"
   ]
  },
  {
   "cell_type": "code",
   "execution_count": 10,
   "metadata": {
    "scrolled": false
   },
   "outputs": [
    {
     "data": {
      "text/html": [
       "<div>\n",
       "<style scoped>\n",
       "    .dataframe tbody tr th:only-of-type {\n",
       "        vertical-align: middle;\n",
       "    }\n",
       "\n",
       "    .dataframe tbody tr th {\n",
       "        vertical-align: top;\n",
       "    }\n",
       "\n",
       "    .dataframe thead th {\n",
       "        text-align: right;\n",
       "    }\n",
       "</style>\n",
       "<table border=\"1\" class=\"dataframe\">\n",
       "  <thead>\n",
       "    <tr style=\"text-align: right;\">\n",
       "      <th></th>\n",
       "      <th>sample_name</th>\n",
       "      <th>survey_id</th>\n",
       "    </tr>\n",
       "  </thead>\n",
       "  <tbody>\n",
       "    <tr>\n",
       "      <th>0</th>\n",
       "      <td>10317.000001000</td>\n",
       "      <td>48c83b76031b7580</td>\n",
       "    </tr>\n",
       "    <tr>\n",
       "      <th>1</th>\n",
       "      <td>10317.000001001</td>\n",
       "      <td>0b0832aafb76068d</td>\n",
       "    </tr>\n",
       "  </tbody>\n",
       "</table>\n",
       "</div>"
      ],
      "text/plain": [
       "       sample_name         survey_id\n",
       "0  10317.000001000  48c83b76031b7580\n",
       "1  10317.000001001  0b0832aafb76068d"
      ]
     },
     "execution_count": 10,
     "metadata": {},
     "output_type": "execute_result"
    }
   ],
   "source": [
    "meta_df[['sample_name', 'survey_id']].sort_values('sample_name').head(2)"
   ]
  },
  {
   "cell_type": "code",
   "execution_count": 11,
   "metadata": {},
   "outputs": [
    {
     "data": {
      "text/plain": [
       "(0, 597)"
      ]
     },
     "execution_count": 11,
     "metadata": {},
     "output_type": "execute_result"
    }
   ],
   "source": [
    "meta_df[meta_df['sample_name'].str.contains('Blank')].shape"
   ]
  },
  {
   "cell_type": "markdown",
   "metadata": {},
   "source": [
    "### read in drug data dense"
   ]
  },
  {
   "cell_type": "code",
   "execution_count": 12,
   "metadata": {},
   "outputs": [
    {
     "name": "stdout",
     "output_type": "stream",
     "text": [
      "(53271, 11)\n"
     ]
    }
   ],
   "source": [
    "drug_df = pd.read_csv('../drug_data/drugbank_drug_data.csv')\n",
    "print(drug_df.shape)"
   ]
  },
  {
   "cell_type": "code",
   "execution_count": 13,
   "metadata": {},
   "outputs": [
    {
     "data": {
      "text/html": [
       "<div>\n",
       "<style scoped>\n",
       "    .dataframe tbody tr th:only-of-type {\n",
       "        vertical-align: middle;\n",
       "    }\n",
       "\n",
       "    .dataframe tbody tr th {\n",
       "        vertical-align: top;\n",
       "    }\n",
       "\n",
       "    .dataframe thead th {\n",
       "        text-align: right;\n",
       "    }\n",
       "</style>\n",
       "<table border=\"1\" class=\"dataframe\">\n",
       "  <thead>\n",
       "    <tr style=\"text-align: right;\">\n",
       "      <th></th>\n",
       "      <th>Unnamed: 0</th>\n",
       "      <th>sample_name</th>\n",
       "      <th>survey_id</th>\n",
       "      <th>question_shortname</th>\n",
       "      <th>response</th>\n",
       "      <th>match_col_count</th>\n",
       "      <th>drug_matches</th>\n",
       "      <th>ATC1</th>\n",
       "      <th>Description</th>\n",
       "      <th>Name</th>\n",
       "      <th>Fecal</th>\n",
       "    </tr>\n",
       "  </thead>\n",
       "  <tbody>\n",
       "    <tr>\n",
       "      <th>0</th>\n",
       "      <td>0</td>\n",
       "      <td>72291</td>\n",
       "      <td>0000904d9779a86c</td>\n",
       "      <td>MEDICATION_LIST</td>\n",
       "      <td>Pravastatin, CoQ10</td>\n",
       "      <td>2</td>\n",
       "      <td>C10AA03</td>\n",
       "      <td>C</td>\n",
       "      <td>Cardiovascular system</td>\n",
       "      <td>Pravastatin</td>\n",
       "      <td>False</td>\n",
       "    </tr>\n",
       "    <tr>\n",
       "      <th>1</th>\n",
       "      <td>1</td>\n",
       "      <td>12914</td>\n",
       "      <td>000a1da7d9d7e35b</td>\n",
       "      <td>ANTIBIOTIC_MED</td>\n",
       "      <td>Zymar (gatifloxacin) eye drop (NOT ORAL)</td>\n",
       "      <td>1</td>\n",
       "      <td>J01MA16</td>\n",
       "      <td>J</td>\n",
       "      <td>Antiinfectives for systemic use</td>\n",
       "      <td>Gatifloxacin</td>\n",
       "      <td>NaN</td>\n",
       "    </tr>\n",
       "  </tbody>\n",
       "</table>\n",
       "</div>"
      ],
      "text/plain": [
       "   Unnamed: 0  sample_name         survey_id question_shortname                                  response  match_col_count drug_matches ATC1                      Description          Name  Fecal\n",
       "0           0        72291  0000904d9779a86c    MEDICATION_LIST                        Pravastatin, CoQ10                2      C10AA03    C            Cardiovascular system   Pravastatin  False\n",
       "1           1        12914  000a1da7d9d7e35b     ANTIBIOTIC_MED  Zymar (gatifloxacin) eye drop (NOT ORAL)                1      J01MA16    J  Antiinfectives for systemic use  Gatifloxacin    NaN"
      ]
     },
     "execution_count": 13,
     "metadata": {},
     "output_type": "execute_result"
    }
   ],
   "source": [
    "drug_df.head(2)"
   ]
  },
  {
   "cell_type": "code",
   "execution_count": 14,
   "metadata": {},
   "outputs": [
    {
     "data": {
      "text/html": [
       "<div>\n",
       "<style scoped>\n",
       "    .dataframe tbody tr th:only-of-type {\n",
       "        vertical-align: middle;\n",
       "    }\n",
       "\n",
       "    .dataframe tbody tr th {\n",
       "        vertical-align: top;\n",
       "    }\n",
       "\n",
       "    .dataframe thead th {\n",
       "        text-align: right;\n",
       "    }\n",
       "</style>\n",
       "<table border=\"1\" class=\"dataframe\">\n",
       "  <thead>\n",
       "    <tr style=\"text-align: right;\">\n",
       "      <th></th>\n",
       "      <th>Unnamed: 0</th>\n",
       "      <th>sample_name</th>\n",
       "      <th>survey_id</th>\n",
       "      <th>question_shortname</th>\n",
       "      <th>response</th>\n",
       "      <th>match_col_count</th>\n",
       "      <th>drug_matches</th>\n",
       "      <th>ATC1</th>\n",
       "      <th>Description</th>\n",
       "      <th>Name</th>\n",
       "      <th>Fecal</th>\n",
       "    </tr>\n",
       "  </thead>\n",
       "  <tbody>\n",
       "    <tr>\n",
       "      <th>12666</th>\n",
       "      <td>12666</td>\n",
       "      <td>1000</td>\n",
       "      <td>48c83b76031b7580</td>\n",
       "      <td>MEDICATION_LIST</td>\n",
       "      <td>lexapro amitriptoline welbutrin</td>\n",
       "      <td>3</td>\n",
       "      <td>N06AB10</td>\n",
       "      <td>N</td>\n",
       "      <td>Nervous system</td>\n",
       "      <td>Escitalopram</td>\n",
       "      <td>False</td>\n",
       "    </tr>\n",
       "    <tr>\n",
       "      <th>12668</th>\n",
       "      <td>12668</td>\n",
       "      <td>1000</td>\n",
       "      <td>48c83b76031b7580</td>\n",
       "      <td>MEDICATION_LIST</td>\n",
       "      <td>lexapro amitriptoline welbutrin</td>\n",
       "      <td>3</td>\n",
       "      <td>N06AX12</td>\n",
       "      <td>N</td>\n",
       "      <td>Nervous system</td>\n",
       "      <td>Bupropion</td>\n",
       "      <td>False</td>\n",
       "    </tr>\n",
       "  </tbody>\n",
       "</table>\n",
       "</div>"
      ],
      "text/plain": [
       "       Unnamed: 0  sample_name         survey_id question_shortname                         response  match_col_count drug_matches ATC1     Description          Name  Fecal\n",
       "12666       12666         1000  48c83b76031b7580    MEDICATION_LIST  lexapro amitriptoline welbutrin                3      N06AB10    N  Nervous system  Escitalopram  False\n",
       "12668       12668         1000  48c83b76031b7580    MEDICATION_LIST  lexapro amitriptoline welbutrin                3      N06AX12    N  Nervous system     Bupropion  False"
      ]
     },
     "execution_count": 14,
     "metadata": {},
     "output_type": "execute_result"
    }
   ],
   "source": [
    "drug_df.sort_values('sample_name').head(2)"
   ]
  },
  {
   "cell_type": "markdown",
   "metadata": {},
   "source": [
    "### create dataframes with joinable ids"
   ]
  },
  {
   "cell_type": "code",
   "execution_count": 15,
   "metadata": {},
   "outputs": [],
   "source": [
    "def meta_df_id_clean(meta_df):\n",
    "    meta_df['sample_id'] = meta_df['sample_name'].apply(lambda x: x.split('.')[1]) \n",
    "    meta_df['sample_id'] = pd.to_numeric(meta_df['sample_id'], errors='coerce', downcast='integer')\n",
    "    meta_df_clean = meta_df.dropna(subset=['sample_id']).reset_index()\n",
    "    meta_df_clean['sample_id'] = meta_df_clean['sample_id'].apply(lambda x: int(x))\n",
    "    return meta_df_clean"
   ]
  },
  {
   "cell_type": "code",
   "execution_count": 16,
   "metadata": {},
   "outputs": [],
   "source": [
    "def drug_df_id_clean(drug_df):\n",
    "    drug_df['sample_id'] = drug_df['sample_name'].apply(lambda x: str(x).split('.')[0])\n",
    "    drug_df['sample_id'] = drug_df['sample_id'].astype('int')\n",
    "    return drug_df"
   ]
  },
  {
   "cell_type": "markdown",
   "metadata": {},
   "source": [
    "clean metadata sample_id that will match with drug_id"
   ]
  },
  {
   "cell_type": "code",
   "execution_count": 17,
   "metadata": {},
   "outputs": [],
   "source": [
    "meta_clean_id_df = meta_df_id_clean(meta_df)"
   ]
  },
  {
   "cell_type": "code",
   "execution_count": 18,
   "metadata": {},
   "outputs": [
    {
     "name": "stdout",
     "output_type": "stream",
     "text": [
      "(19571, 599)\n"
     ]
    },
    {
     "data": {
      "text/html": [
       "<div>\n",
       "<style scoped>\n",
       "    .dataframe tbody tr th:only-of-type {\n",
       "        vertical-align: middle;\n",
       "    }\n",
       "\n",
       "    .dataframe tbody tr th {\n",
       "        vertical-align: top;\n",
       "    }\n",
       "\n",
       "    .dataframe thead th {\n",
       "        text-align: right;\n",
       "    }\n",
       "</style>\n",
       "<table border=\"1\" class=\"dataframe\">\n",
       "  <thead>\n",
       "    <tr style=\"text-align: right;\">\n",
       "      <th></th>\n",
       "      <th>sample_id</th>\n",
       "      <th>sample_name</th>\n",
       "    </tr>\n",
       "  </thead>\n",
       "  <tbody>\n",
       "    <tr>\n",
       "      <th>0</th>\n",
       "      <td>1000</td>\n",
       "      <td>10317.000001000</td>\n",
       "    </tr>\n",
       "    <tr>\n",
       "      <th>1</th>\n",
       "      <td>1001</td>\n",
       "      <td>10317.000001001</td>\n",
       "    </tr>\n",
       "  </tbody>\n",
       "</table>\n",
       "</div>"
      ],
      "text/plain": [
       "   sample_id      sample_name\n",
       "0       1000  10317.000001000\n",
       "1       1001  10317.000001001"
      ]
     },
     "execution_count": 18,
     "metadata": {},
     "output_type": "execute_result"
    }
   ],
   "source": [
    "print(meta_clean_id_df.shape)\n",
    "meta_clean_id_df[['sample_id', 'sample_name']].head(2)"
   ]
  },
  {
   "cell_type": "markdown",
   "metadata": {},
   "source": [
    "clean drug_df"
   ]
  },
  {
   "cell_type": "code",
   "execution_count": 19,
   "metadata": {},
   "outputs": [],
   "source": [
    "drug_clean_id_df = drug_df_id_clean(drug_df)"
   ]
  },
  {
   "cell_type": "code",
   "execution_count": 20,
   "metadata": {},
   "outputs": [
    {
     "name": "stdout",
     "output_type": "stream",
     "text": [
      "(53271, 12)\n"
     ]
    },
    {
     "data": {
      "text/html": [
       "<div>\n",
       "<style scoped>\n",
       "    .dataframe tbody tr th:only-of-type {\n",
       "        vertical-align: middle;\n",
       "    }\n",
       "\n",
       "    .dataframe tbody tr th {\n",
       "        vertical-align: top;\n",
       "    }\n",
       "\n",
       "    .dataframe thead th {\n",
       "        text-align: right;\n",
       "    }\n",
       "</style>\n",
       "<table border=\"1\" class=\"dataframe\">\n",
       "  <thead>\n",
       "    <tr style=\"text-align: right;\">\n",
       "      <th></th>\n",
       "      <th>Unnamed: 0</th>\n",
       "      <th>sample_name</th>\n",
       "      <th>survey_id</th>\n",
       "      <th>question_shortname</th>\n",
       "      <th>response</th>\n",
       "      <th>match_col_count</th>\n",
       "      <th>drug_matches</th>\n",
       "      <th>ATC1</th>\n",
       "      <th>Description</th>\n",
       "      <th>Name</th>\n",
       "      <th>Fecal</th>\n",
       "      <th>sample_id</th>\n",
       "    </tr>\n",
       "  </thead>\n",
       "  <tbody>\n",
       "    <tr>\n",
       "      <th>0</th>\n",
       "      <td>0</td>\n",
       "      <td>72291</td>\n",
       "      <td>0000904d9779a86c</td>\n",
       "      <td>MEDICATION_LIST</td>\n",
       "      <td>Pravastatin, CoQ10</td>\n",
       "      <td>2</td>\n",
       "      <td>C10AA03</td>\n",
       "      <td>C</td>\n",
       "      <td>Cardiovascular system</td>\n",
       "      <td>Pravastatin</td>\n",
       "      <td>False</td>\n",
       "      <td>72291</td>\n",
       "    </tr>\n",
       "    <tr>\n",
       "      <th>1</th>\n",
       "      <td>1</td>\n",
       "      <td>12914</td>\n",
       "      <td>000a1da7d9d7e35b</td>\n",
       "      <td>ANTIBIOTIC_MED</td>\n",
       "      <td>Zymar (gatifloxacin) eye drop (NOT ORAL)</td>\n",
       "      <td>1</td>\n",
       "      <td>J01MA16</td>\n",
       "      <td>J</td>\n",
       "      <td>Antiinfectives for systemic use</td>\n",
       "      <td>Gatifloxacin</td>\n",
       "      <td>NaN</td>\n",
       "      <td>12914</td>\n",
       "    </tr>\n",
       "  </tbody>\n",
       "</table>\n",
       "</div>"
      ],
      "text/plain": [
       "   Unnamed: 0  sample_name         survey_id question_shortname                                  response  match_col_count drug_matches ATC1                      Description          Name  Fecal  \\\n",
       "0           0        72291  0000904d9779a86c    MEDICATION_LIST                        Pravastatin, CoQ10                2      C10AA03    C            Cardiovascular system   Pravastatin  False   \n",
       "1           1        12914  000a1da7d9d7e35b     ANTIBIOTIC_MED  Zymar (gatifloxacin) eye drop (NOT ORAL)                1      J01MA16    J  Antiinfectives for systemic use  Gatifloxacin    NaN   \n",
       "\n",
       "   sample_id  \n",
       "0      72291  \n",
       "1      12914  "
      ]
     },
     "execution_count": 20,
     "metadata": {},
     "output_type": "execute_result"
    }
   ],
   "source": [
    "print(drug_clean_id_df.shape)\n",
    "drug_clean_id_df.head(2)"
   ]
  },
  {
   "cell_type": "markdown",
   "metadata": {},
   "source": [
    "try joing drug_data and metadata on id"
   ]
  },
  {
   "cell_type": "code",
   "execution_count": 21,
   "metadata": {},
   "outputs": [],
   "source": [
    "merge_df = pd.merge(meta_clean_id_df[['sample_name', 'sample_id']], drug_clean_id_df, how='left', on='sample_id')"
   ]
  },
  {
   "cell_type": "code",
   "execution_count": 22,
   "metadata": {},
   "outputs": [
    {
     "data": {
      "text/plain": [
       "(50519, 13)"
      ]
     },
     "execution_count": 22,
     "metadata": {},
     "output_type": "execute_result"
    }
   ],
   "source": [
    "merge_df.shape"
   ]
  },
  {
   "cell_type": "code",
   "execution_count": 23,
   "metadata": {},
   "outputs": [
    {
     "data": {
      "text/html": [
       "<div>\n",
       "<style scoped>\n",
       "    .dataframe tbody tr th:only-of-type {\n",
       "        vertical-align: middle;\n",
       "    }\n",
       "\n",
       "    .dataframe tbody tr th {\n",
       "        vertical-align: top;\n",
       "    }\n",
       "\n",
       "    .dataframe thead th {\n",
       "        text-align: right;\n",
       "    }\n",
       "</style>\n",
       "<table border=\"1\" class=\"dataframe\">\n",
       "  <thead>\n",
       "    <tr style=\"text-align: right;\">\n",
       "      <th></th>\n",
       "      <th>sample_name_x</th>\n",
       "      <th>sample_id</th>\n",
       "      <th>Unnamed: 0</th>\n",
       "      <th>sample_name_y</th>\n",
       "      <th>survey_id</th>\n",
       "      <th>question_shortname</th>\n",
       "      <th>response</th>\n",
       "      <th>match_col_count</th>\n",
       "      <th>drug_matches</th>\n",
       "      <th>ATC1</th>\n",
       "      <th>Description</th>\n",
       "      <th>Name</th>\n",
       "      <th>Fecal</th>\n",
       "    </tr>\n",
       "  </thead>\n",
       "  <tbody>\n",
       "    <tr>\n",
       "      <th>0</th>\n",
       "      <td>10317.000001000</td>\n",
       "      <td>1000</td>\n",
       "      <td>12666.0</td>\n",
       "      <td>1000.0</td>\n",
       "      <td>48c83b76031b7580</td>\n",
       "      <td>MEDICATION_LIST</td>\n",
       "      <td>lexapro amitriptoline welbutrin</td>\n",
       "      <td>3.0</td>\n",
       "      <td>N06AB10</td>\n",
       "      <td>N</td>\n",
       "      <td>Nervous system</td>\n",
       "      <td>Escitalopram</td>\n",
       "      <td>False</td>\n",
       "    </tr>\n",
       "    <tr>\n",
       "      <th>1</th>\n",
       "      <td>10317.000001000</td>\n",
       "      <td>1000</td>\n",
       "      <td>12667.0</td>\n",
       "      <td>1000.0</td>\n",
       "      <td>48c83b76031b7580</td>\n",
       "      <td>MEDICATION_LIST</td>\n",
       "      <td>lexapro amitriptoline welbutrin</td>\n",
       "      <td>3.0</td>\n",
       "      <td>N06AA09</td>\n",
       "      <td>N</td>\n",
       "      <td>Nervous system</td>\n",
       "      <td>Amitriptyline</td>\n",
       "      <td>True</td>\n",
       "    </tr>\n",
       "    <tr>\n",
       "      <th>2</th>\n",
       "      <td>10317.000001000</td>\n",
       "      <td>1000</td>\n",
       "      <td>12668.0</td>\n",
       "      <td>1000.0</td>\n",
       "      <td>48c83b76031b7580</td>\n",
       "      <td>MEDICATION_LIST</td>\n",
       "      <td>lexapro amitriptoline welbutrin</td>\n",
       "      <td>3.0</td>\n",
       "      <td>N06AX12</td>\n",
       "      <td>N</td>\n",
       "      <td>Nervous system</td>\n",
       "      <td>Bupropion</td>\n",
       "      <td>False</td>\n",
       "    </tr>\n",
       "    <tr>\n",
       "      <th>3</th>\n",
       "      <td>10317.000001001</td>\n",
       "      <td>1001</td>\n",
       "      <td>NaN</td>\n",
       "      <td>NaN</td>\n",
       "      <td>NaN</td>\n",
       "      <td>NaN</td>\n",
       "      <td>NaN</td>\n",
       "      <td>NaN</td>\n",
       "      <td>NaN</td>\n",
       "      <td>NaN</td>\n",
       "      <td>NaN</td>\n",
       "      <td>NaN</td>\n",
       "      <td>NaN</td>\n",
       "    </tr>\n",
       "    <tr>\n",
       "      <th>4</th>\n",
       "      <td>10317.000001002</td>\n",
       "      <td>1002</td>\n",
       "      <td>NaN</td>\n",
       "      <td>NaN</td>\n",
       "      <td>NaN</td>\n",
       "      <td>NaN</td>\n",
       "      <td>NaN</td>\n",
       "      <td>NaN</td>\n",
       "      <td>NaN</td>\n",
       "      <td>NaN</td>\n",
       "      <td>NaN</td>\n",
       "      <td>NaN</td>\n",
       "      <td>NaN</td>\n",
       "    </tr>\n",
       "  </tbody>\n",
       "</table>\n",
       "</div>"
      ],
      "text/plain": [
       "     sample_name_x  sample_id  Unnamed: 0  sample_name_y         survey_id question_shortname                         response  match_col_count drug_matches ATC1     Description           Name  \\\n",
       "0  10317.000001000       1000     12666.0         1000.0  48c83b76031b7580    MEDICATION_LIST  lexapro amitriptoline welbutrin              3.0      N06AB10    N  Nervous system   Escitalopram   \n",
       "1  10317.000001000       1000     12667.0         1000.0  48c83b76031b7580    MEDICATION_LIST  lexapro amitriptoline welbutrin              3.0      N06AA09    N  Nervous system  Amitriptyline   \n",
       "2  10317.000001000       1000     12668.0         1000.0  48c83b76031b7580    MEDICATION_LIST  lexapro amitriptoline welbutrin              3.0      N06AX12    N  Nervous system      Bupropion   \n",
       "3  10317.000001001       1001         NaN            NaN               NaN                NaN                              NaN              NaN          NaN  NaN             NaN            NaN   \n",
       "4  10317.000001002       1002         NaN            NaN               NaN                NaN                              NaN              NaN          NaN  NaN             NaN            NaN   \n",
       "\n",
       "   Fecal  \n",
       "0  False  \n",
       "1   True  \n",
       "2  False  \n",
       "3    NaN  \n",
       "4    NaN  "
      ]
     },
     "execution_count": 23,
     "metadata": {},
     "output_type": "execute_result"
    }
   ],
   "source": [
    "merge_df.head()"
   ]
  },
  {
   "cell_type": "markdown",
   "metadata": {},
   "source": [
    "lets split vioscreen and metadata columns"
   ]
  },
  {
   "cell_type": "code",
   "execution_count": 24,
   "metadata": {},
   "outputs": [],
   "source": [
    "col_names = pd.Series(meta_clean_id_df.columns)\n",
    "meta_col_names = list(col_names[~col_names.str.contains('vioscreen')])\n",
    "vio_col_names = list(col_names[col_names.str.contains('vioscreen')])\n",
    "vio_col_names = vio_col_names + ['sample_name', 'sample_id', 'survey_id']"
   ]
  },
  {
   "cell_type": "code",
   "execution_count": 25,
   "metadata": {},
   "outputs": [
    {
     "name": "stdout",
     "output_type": "stream",
     "text": [
      "326\n",
      "276\n"
     ]
    }
   ],
   "source": [
    "print(len(meta_col_names))\n",
    "print(len(vio_col_names))"
   ]
  },
  {
   "cell_type": "code",
   "execution_count": 26,
   "metadata": {},
   "outputs": [
    {
     "name": "stdout",
     "output_type": "stream",
     "text": [
      "(19571, 326)\n"
     ]
    },
    {
     "data": {
      "text/html": [
       "<div>\n",
       "<style scoped>\n",
       "    .dataframe tbody tr th:only-of-type {\n",
       "        vertical-align: middle;\n",
       "    }\n",
       "\n",
       "    .dataframe tbody tr th {\n",
       "        vertical-align: top;\n",
       "    }\n",
       "\n",
       "    .dataframe thead th {\n",
       "        text-align: right;\n",
       "    }\n",
       "</style>\n",
       "<table border=\"1\" class=\"dataframe\">\n",
       "  <thead>\n",
       "    <tr style=\"text-align: right;\">\n",
       "      <th></th>\n",
       "      <th>sample_id</th>\n",
       "    </tr>\n",
       "  </thead>\n",
       "  <tbody>\n",
       "    <tr>\n",
       "      <th>0</th>\n",
       "      <td>1000</td>\n",
       "    </tr>\n",
       "    <tr>\n",
       "      <th>1</th>\n",
       "      <td>1001</td>\n",
       "    </tr>\n",
       "  </tbody>\n",
       "</table>\n",
       "</div>"
      ],
      "text/plain": [
       "   sample_id\n",
       "0       1000\n",
       "1       1001"
      ]
     },
     "execution_count": 26,
     "metadata": {},
     "output_type": "execute_result"
    }
   ],
   "source": [
    "meta_agp_df = meta_clean_id_df[meta_col_names]\n",
    "print(meta_agp_df.shape)\n",
    "meta_agp_df[['sample_id']].head(2)"
   ]
  },
  {
   "cell_type": "code",
   "execution_count": 27,
   "metadata": {},
   "outputs": [
    {
     "name": "stdout",
     "output_type": "stream",
     "text": [
      "(19571, 276)\n"
     ]
    },
    {
     "data": {
      "text/html": [
       "<div>\n",
       "<style scoped>\n",
       "    .dataframe tbody tr th:only-of-type {\n",
       "        vertical-align: middle;\n",
       "    }\n",
       "\n",
       "    .dataframe tbody tr th {\n",
       "        vertical-align: top;\n",
       "    }\n",
       "\n",
       "    .dataframe thead th {\n",
       "        text-align: right;\n",
       "    }\n",
       "</style>\n",
       "<table border=\"1\" class=\"dataframe\">\n",
       "  <thead>\n",
       "    <tr style=\"text-align: right;\">\n",
       "      <th></th>\n",
       "      <th>vioscreen_a_bev</th>\n",
       "      <th>vioscreen_a_cal</th>\n",
       "      <th>vioscreen_acesupot</th>\n",
       "      <th>vioscreen_activity_level</th>\n",
       "      <th>vioscreen_add_sug</th>\n",
       "      <th>vioscreen_addsugar</th>\n",
       "      <th>vioscreen_adsugtot</th>\n",
       "      <th>vioscreen_age</th>\n",
       "      <th>vioscreen_alanine</th>\n",
       "      <th>vioscreen_alcohol</th>\n",
       "      <th>vioscreen_alcohol_servings</th>\n",
       "      <th>vioscreen_alphacar</th>\n",
       "      <th>vioscreen_alphtoce</th>\n",
       "      <th>vioscreen_alphtoco</th>\n",
       "      <th>vioscreen_arginine</th>\n",
       "      <th>vioscreen_ash</th>\n",
       "      <th>vioscreen_aspartam</th>\n",
       "      <th>vioscreen_aspartic</th>\n",
       "      <th>vioscreen_avcarb</th>\n",
       "      <th>vioscreen_bcodeid</th>\n",
       "      <th>vioscreen_betacar</th>\n",
       "      <th>vioscreen_betacryp</th>\n",
       "      <th>vioscreen_betaine</th>\n",
       "      <th>vioscreen_betatoco</th>\n",
       "      <th>vioscreen_biochana</th>\n",
       "      <th>vioscreen_bmi</th>\n",
       "      <th>vioscreen_caffeine</th>\n",
       "      <th>vioscreen_calcium</th>\n",
       "      <th>vioscreen_calcium_avg</th>\n",
       "      <th>vioscreen_calcium_dose</th>\n",
       "      <th>vioscreen_calcium_freq</th>\n",
       "      <th>vioscreen_calcium_from_dairy_servings</th>\n",
       "      <th>vioscreen_calcium_servings</th>\n",
       "      <th>vioscreen_calories</th>\n",
       "      <th>vioscreen_carbo</th>\n",
       "      <th>vioscreen_cholest</th>\n",
       "      <th>vioscreen_choline</th>\n",
       "      <th>vioscreen_clac9t11</th>\n",
       "      <th>vioscreen_clat10c12</th>\n",
       "      <th>vioscreen_copper</th>\n",
       "      <th>vioscreen_coumest</th>\n",
       "      <th>vioscreen_cystine</th>\n",
       "      <th>vioscreen_d_cheese</th>\n",
       "      <th>vioscreen_d_milk</th>\n",
       "      <th>vioscreen_d_tot_soym</th>\n",
       "      <th>vioscreen_d_total</th>\n",
       "      <th>vioscreen_d_yogurt</th>\n",
       "      <th>vioscreen_daidzein</th>\n",
       "      <th>vioscreen_database</th>\n",
       "      <th>vioscreen_delttoco</th>\n",
       "      <th>...</th>\n",
       "      <th>vioscreen_sucrose</th>\n",
       "      <th>vioscreen_sweet_servings</th>\n",
       "      <th>vioscreen_tagatose</th>\n",
       "      <th>vioscreen_tfa161t</th>\n",
       "      <th>vioscreen_tfa181t</th>\n",
       "      <th>vioscreen_tfa182t</th>\n",
       "      <th>vioscreen_tgrain</th>\n",
       "      <th>vioscreen_thiamin</th>\n",
       "      <th>vioscreen_threonin</th>\n",
       "      <th>vioscreen_time</th>\n",
       "      <th>vioscreen_totaltfa</th>\n",
       "      <th>vioscreen_totcla</th>\n",
       "      <th>vioscreen_totfolat</th>\n",
       "      <th>vioscreen_totsugar</th>\n",
       "      <th>vioscreen_tryptoph</th>\n",
       "      <th>vioscreen_tyrosine</th>\n",
       "      <th>vioscreen_user_id</th>\n",
       "      <th>vioscreen_v_drkgr</th>\n",
       "      <th>vioscreen_v_orange</th>\n",
       "      <th>vioscreen_v_other</th>\n",
       "      <th>vioscreen_v_potato</th>\n",
       "      <th>vioscreen_v_starcy</th>\n",
       "      <th>vioscreen_v_tomato</th>\n",
       "      <th>vioscreen_v_total</th>\n",
       "      <th>vioscreen_valine</th>\n",
       "      <th>vioscreen_veg5_day</th>\n",
       "      <th>vioscreen_vegetable_servings</th>\n",
       "      <th>vioscreen_vegsumm</th>\n",
       "      <th>vioscreen_visit</th>\n",
       "      <th>vioscreen_vita_iu</th>\n",
       "      <th>vioscreen_vita_rae</th>\n",
       "      <th>vioscreen_vita_re</th>\n",
       "      <th>vioscreen_vitb12</th>\n",
       "      <th>vioscreen_vitb6</th>\n",
       "      <th>vioscreen_vitc</th>\n",
       "      <th>vioscreen_vitd</th>\n",
       "      <th>vioscreen_vitd2</th>\n",
       "      <th>vioscreen_vitd3</th>\n",
       "      <th>vioscreen_vitd_iu</th>\n",
       "      <th>vioscreen_vite_iu</th>\n",
       "      <th>vioscreen_vitk</th>\n",
       "      <th>vioscreen_water</th>\n",
       "      <th>vioscreen_weight</th>\n",
       "      <th>vioscreen_wgrain</th>\n",
       "      <th>vioscreen_whole_grain_servings</th>\n",
       "      <th>vioscreen_xylitol</th>\n",
       "      <th>vioscreen_zinc</th>\n",
       "      <th>sample_name</th>\n",
       "      <th>sample_id</th>\n",
       "      <th>survey_id</th>\n",
       "    </tr>\n",
       "  </thead>\n",
       "  <tbody>\n",
       "    <tr>\n",
       "      <th>0</th>\n",
       "      <td>Not provided</td>\n",
       "      <td>Not provided</td>\n",
       "      <td>Not provided</td>\n",
       "      <td>NaN</td>\n",
       "      <td>Not provided</td>\n",
       "      <td>Not provided</td>\n",
       "      <td>Not provided</td>\n",
       "      <td>NaN</td>\n",
       "      <td>Not provided</td>\n",
       "      <td>Not provided</td>\n",
       "      <td>Not provided</td>\n",
       "      <td>Not provided</td>\n",
       "      <td>Not provided</td>\n",
       "      <td>Not provided</td>\n",
       "      <td>Not provided</td>\n",
       "      <td>Not provided</td>\n",
       "      <td>Not provided</td>\n",
       "      <td>Not provided</td>\n",
       "      <td>Not provided</td>\n",
       "      <td>NaN</td>\n",
       "      <td>Not provided</td>\n",
       "      <td>Not provided</td>\n",
       "      <td>Not provided</td>\n",
       "      <td>Not provided</td>\n",
       "      <td>Not provided</td>\n",
       "      <td>NaN</td>\n",
       "      <td>Not provided</td>\n",
       "      <td>Not provided</td>\n",
       "      <td>Not provided</td>\n",
       "      <td>Not provided</td>\n",
       "      <td>Not provided</td>\n",
       "      <td>Not provided</td>\n",
       "      <td>Not provided</td>\n",
       "      <td>Not provided</td>\n",
       "      <td>Not provided</td>\n",
       "      <td>Not provided</td>\n",
       "      <td>Not provided</td>\n",
       "      <td>Not provided</td>\n",
       "      <td>Not provided</td>\n",
       "      <td>Not provided</td>\n",
       "      <td>Not provided</td>\n",
       "      <td>Not provided</td>\n",
       "      <td>Not provided</td>\n",
       "      <td>Not provided</td>\n",
       "      <td>Not provided</td>\n",
       "      <td>Not provided</td>\n",
       "      <td>Not provided</td>\n",
       "      <td>Not provided</td>\n",
       "      <td>Not provided</td>\n",
       "      <td>Not provided</td>\n",
       "      <td>...</td>\n",
       "      <td>Not provided</td>\n",
       "      <td>Not provided</td>\n",
       "      <td>Not provided</td>\n",
       "      <td>Not provided</td>\n",
       "      <td>Not provided</td>\n",
       "      <td>Not provided</td>\n",
       "      <td>Not provided</td>\n",
       "      <td>Not provided</td>\n",
       "      <td>Not provided</td>\n",
       "      <td>NaN</td>\n",
       "      <td>Not provided</td>\n",
       "      <td>Not provided</td>\n",
       "      <td>Not provided</td>\n",
       "      <td>Not provided</td>\n",
       "      <td>Not provided</td>\n",
       "      <td>Not provided</td>\n",
       "      <td>NaN</td>\n",
       "      <td>Not provided</td>\n",
       "      <td>Not provided</td>\n",
       "      <td>Not provided</td>\n",
       "      <td>Not provided</td>\n",
       "      <td>Not provided</td>\n",
       "      <td>Not provided</td>\n",
       "      <td>Not provided</td>\n",
       "      <td>Not provided</td>\n",
       "      <td>Not provided</td>\n",
       "      <td>Not provided</td>\n",
       "      <td>Not provided</td>\n",
       "      <td>NaN</td>\n",
       "      <td>Not provided</td>\n",
       "      <td>Not provided</td>\n",
       "      <td>Not provided</td>\n",
       "      <td>Not provided</td>\n",
       "      <td>Not provided</td>\n",
       "      <td>Not provided</td>\n",
       "      <td>Not provided</td>\n",
       "      <td>Not provided</td>\n",
       "      <td>Not provided</td>\n",
       "      <td>Not provided</td>\n",
       "      <td>Not provided</td>\n",
       "      <td>Not provided</td>\n",
       "      <td>Not provided</td>\n",
       "      <td>NaN</td>\n",
       "      <td>Not provided</td>\n",
       "      <td>Not provided</td>\n",
       "      <td>Not provided</td>\n",
       "      <td>Not provided</td>\n",
       "      <td>10317.000001000</td>\n",
       "      <td>1000</td>\n",
       "      <td>48c83b76031b7580</td>\n",
       "    </tr>\n",
       "    <tr>\n",
       "      <th>1</th>\n",
       "      <td>Not provided</td>\n",
       "      <td>Not provided</td>\n",
       "      <td>Not provided</td>\n",
       "      <td>NaN</td>\n",
       "      <td>Not provided</td>\n",
       "      <td>Not provided</td>\n",
       "      <td>Not provided</td>\n",
       "      <td>NaN</td>\n",
       "      <td>Not provided</td>\n",
       "      <td>Not provided</td>\n",
       "      <td>Not provided</td>\n",
       "      <td>Not provided</td>\n",
       "      <td>Not provided</td>\n",
       "      <td>Not provided</td>\n",
       "      <td>Not provided</td>\n",
       "      <td>Not provided</td>\n",
       "      <td>Not provided</td>\n",
       "      <td>Not provided</td>\n",
       "      <td>Not provided</td>\n",
       "      <td>NaN</td>\n",
       "      <td>Not provided</td>\n",
       "      <td>Not provided</td>\n",
       "      <td>Not provided</td>\n",
       "      <td>Not provided</td>\n",
       "      <td>Not provided</td>\n",
       "      <td>NaN</td>\n",
       "      <td>Not provided</td>\n",
       "      <td>Not provided</td>\n",
       "      <td>Not provided</td>\n",
       "      <td>Not provided</td>\n",
       "      <td>Not provided</td>\n",
       "      <td>Not provided</td>\n",
       "      <td>Not provided</td>\n",
       "      <td>Not provided</td>\n",
       "      <td>Not provided</td>\n",
       "      <td>Not provided</td>\n",
       "      <td>Not provided</td>\n",
       "      <td>Not provided</td>\n",
       "      <td>Not provided</td>\n",
       "      <td>Not provided</td>\n",
       "      <td>Not provided</td>\n",
       "      <td>Not provided</td>\n",
       "      <td>Not provided</td>\n",
       "      <td>Not provided</td>\n",
       "      <td>Not provided</td>\n",
       "      <td>Not provided</td>\n",
       "      <td>Not provided</td>\n",
       "      <td>Not provided</td>\n",
       "      <td>Not provided</td>\n",
       "      <td>Not provided</td>\n",
       "      <td>...</td>\n",
       "      <td>Not provided</td>\n",
       "      <td>Not provided</td>\n",
       "      <td>Not provided</td>\n",
       "      <td>Not provided</td>\n",
       "      <td>Not provided</td>\n",
       "      <td>Not provided</td>\n",
       "      <td>Not provided</td>\n",
       "      <td>Not provided</td>\n",
       "      <td>Not provided</td>\n",
       "      <td>NaN</td>\n",
       "      <td>Not provided</td>\n",
       "      <td>Not provided</td>\n",
       "      <td>Not provided</td>\n",
       "      <td>Not provided</td>\n",
       "      <td>Not provided</td>\n",
       "      <td>Not provided</td>\n",
       "      <td>NaN</td>\n",
       "      <td>Not provided</td>\n",
       "      <td>Not provided</td>\n",
       "      <td>Not provided</td>\n",
       "      <td>Not provided</td>\n",
       "      <td>Not provided</td>\n",
       "      <td>Not provided</td>\n",
       "      <td>Not provided</td>\n",
       "      <td>Not provided</td>\n",
       "      <td>Not provided</td>\n",
       "      <td>Not provided</td>\n",
       "      <td>Not provided</td>\n",
       "      <td>NaN</td>\n",
       "      <td>Not provided</td>\n",
       "      <td>Not provided</td>\n",
       "      <td>Not provided</td>\n",
       "      <td>Not provided</td>\n",
       "      <td>Not provided</td>\n",
       "      <td>Not provided</td>\n",
       "      <td>Not provided</td>\n",
       "      <td>Not provided</td>\n",
       "      <td>Not provided</td>\n",
       "      <td>Not provided</td>\n",
       "      <td>Not provided</td>\n",
       "      <td>Not provided</td>\n",
       "      <td>Not provided</td>\n",
       "      <td>NaN</td>\n",
       "      <td>Not provided</td>\n",
       "      <td>Not provided</td>\n",
       "      <td>Not provided</td>\n",
       "      <td>Not provided</td>\n",
       "      <td>10317.000001001</td>\n",
       "      <td>1001</td>\n",
       "      <td>0b0832aafb76068d</td>\n",
       "    </tr>\n",
       "  </tbody>\n",
       "</table>\n",
       "<p>2 rows × 276 columns</p>\n",
       "</div>"
      ],
      "text/plain": [
       "  vioscreen_a_bev vioscreen_a_cal vioscreen_acesupot vioscreen_activity_level vioscreen_add_sug vioscreen_addsugar vioscreen_adsugtot vioscreen_age vioscreen_alanine vioscreen_alcohol  \\\n",
       "0    Not provided    Not provided       Not provided                      NaN      Not provided       Not provided       Not provided           NaN      Not provided      Not provided   \n",
       "1    Not provided    Not provided       Not provided                      NaN      Not provided       Not provided       Not provided           NaN      Not provided      Not provided   \n",
       "\n",
       "  vioscreen_alcohol_servings vioscreen_alphacar vioscreen_alphtoce vioscreen_alphtoco vioscreen_arginine vioscreen_ash vioscreen_aspartam vioscreen_aspartic vioscreen_avcarb vioscreen_bcodeid  \\\n",
       "0               Not provided       Not provided       Not provided       Not provided       Not provided  Not provided       Not provided       Not provided     Not provided               NaN   \n",
       "1               Not provided       Not provided       Not provided       Not provided       Not provided  Not provided       Not provided       Not provided     Not provided               NaN   \n",
       "\n",
       "  vioscreen_betacar vioscreen_betacryp vioscreen_betaine vioscreen_betatoco vioscreen_biochana vioscreen_bmi vioscreen_caffeine vioscreen_calcium vioscreen_calcium_avg vioscreen_calcium_dose  \\\n",
       "0      Not provided       Not provided      Not provided       Not provided       Not provided           NaN       Not provided      Not provided          Not provided           Not provided   \n",
       "1      Not provided       Not provided      Not provided       Not provided       Not provided           NaN       Not provided      Not provided          Not provided           Not provided   \n",
       "\n",
       "  vioscreen_calcium_freq vioscreen_calcium_from_dairy_servings vioscreen_calcium_servings vioscreen_calories vioscreen_carbo vioscreen_cholest vioscreen_choline vioscreen_clac9t11  \\\n",
       "0           Not provided                          Not provided               Not provided       Not provided    Not provided      Not provided      Not provided       Not provided   \n",
       "1           Not provided                          Not provided               Not provided       Not provided    Not provided      Not provided      Not provided       Not provided   \n",
       "\n",
       "  vioscreen_clat10c12 vioscreen_copper vioscreen_coumest vioscreen_cystine vioscreen_d_cheese vioscreen_d_milk vioscreen_d_tot_soym vioscreen_d_total vioscreen_d_yogurt vioscreen_daidzein  \\\n",
       "0        Not provided     Not provided      Not provided      Not provided       Not provided     Not provided         Not provided      Not provided       Not provided       Not provided   \n",
       "1        Not provided     Not provided      Not provided      Not provided       Not provided     Not provided         Not provided      Not provided       Not provided       Not provided   \n",
       "\n",
       "  vioscreen_database vioscreen_delttoco        ...        vioscreen_sucrose vioscreen_sweet_servings vioscreen_tagatose vioscreen_tfa161t vioscreen_tfa181t vioscreen_tfa182t vioscreen_tgrain  \\\n",
       "0       Not provided       Not provided        ...             Not provided             Not provided       Not provided      Not provided      Not provided      Not provided     Not provided   \n",
       "1       Not provided       Not provided        ...             Not provided             Not provided       Not provided      Not provided      Not provided      Not provided     Not provided   \n",
       "\n",
       "  vioscreen_thiamin vioscreen_threonin vioscreen_time vioscreen_totaltfa vioscreen_totcla vioscreen_totfolat vioscreen_totsugar vioscreen_tryptoph vioscreen_tyrosine vioscreen_user_id  \\\n",
       "0      Not provided       Not provided            NaN       Not provided     Not provided       Not provided       Not provided       Not provided       Not provided               NaN   \n",
       "1      Not provided       Not provided            NaN       Not provided     Not provided       Not provided       Not provided       Not provided       Not provided               NaN   \n",
       "\n",
       "  vioscreen_v_drkgr vioscreen_v_orange vioscreen_v_other vioscreen_v_potato vioscreen_v_starcy vioscreen_v_tomato vioscreen_v_total vioscreen_valine vioscreen_veg5_day vioscreen_vegetable_servings  \\\n",
       "0      Not provided       Not provided      Not provided       Not provided       Not provided       Not provided      Not provided     Not provided       Not provided                 Not provided   \n",
       "1      Not provided       Not provided      Not provided       Not provided       Not provided       Not provided      Not provided     Not provided       Not provided                 Not provided   \n",
       "\n",
       "  vioscreen_vegsumm vioscreen_visit vioscreen_vita_iu vioscreen_vita_rae vioscreen_vita_re vioscreen_vitb12 vioscreen_vitb6 vioscreen_vitc vioscreen_vitd vioscreen_vitd2 vioscreen_vitd3  \\\n",
       "0      Not provided             NaN      Not provided       Not provided      Not provided     Not provided    Not provided   Not provided   Not provided    Not provided    Not provided   \n",
       "1      Not provided             NaN      Not provided       Not provided      Not provided     Not provided    Not provided   Not provided   Not provided    Not provided    Not provided   \n",
       "\n",
       "  vioscreen_vitd_iu vioscreen_vite_iu vioscreen_vitk vioscreen_water vioscreen_weight vioscreen_wgrain vioscreen_whole_grain_servings vioscreen_xylitol vioscreen_zinc      sample_name sample_id  \\\n",
       "0      Not provided      Not provided   Not provided    Not provided              NaN     Not provided                   Not provided      Not provided   Not provided  10317.000001000      1000   \n",
       "1      Not provided      Not provided   Not provided    Not provided              NaN     Not provided                   Not provided      Not provided   Not provided  10317.000001001      1001   \n",
       "\n",
       "          survey_id  \n",
       "0  48c83b76031b7580  \n",
       "1  0b0832aafb76068d  \n",
       "\n",
       "[2 rows x 276 columns]"
      ]
     },
     "execution_count": 27,
     "metadata": {},
     "output_type": "execute_result"
    }
   ],
   "source": [
    "vio_df = meta_clean_id_df[vio_col_names]\n",
    "print(vio_df.shape)\n",
    "vio_df.head(2)"
   ]
  },
  {
   "cell_type": "markdown",
   "metadata": {},
   "source": [
    "test merges to make sure works before exporting datasets to csv"
   ]
  },
  {
   "cell_type": "code",
   "execution_count": 28,
   "metadata": {},
   "outputs": [
    {
     "data": {
      "text/html": [
       "<div>\n",
       "<style scoped>\n",
       "    .dataframe tbody tr th:only-of-type {\n",
       "        vertical-align: middle;\n",
       "    }\n",
       "\n",
       "    .dataframe tbody tr th {\n",
       "        vertical-align: top;\n",
       "    }\n",
       "\n",
       "    .dataframe thead th {\n",
       "        text-align: right;\n",
       "    }\n",
       "</style>\n",
       "<table border=\"1\" class=\"dataframe\">\n",
       "  <thead>\n",
       "    <tr style=\"text-align: right;\">\n",
       "      <th></th>\n",
       "      <th>sample_name_x</th>\n",
       "      <th>sample_id</th>\n",
       "      <th>Unnamed: 0</th>\n",
       "      <th>sample_name_y</th>\n",
       "      <th>survey_id</th>\n",
       "      <th>question_shortname</th>\n",
       "      <th>response</th>\n",
       "      <th>match_col_count</th>\n",
       "      <th>drug_matches</th>\n",
       "      <th>ATC1</th>\n",
       "      <th>Description</th>\n",
       "      <th>Name</th>\n",
       "      <th>Fecal</th>\n",
       "    </tr>\n",
       "  </thead>\n",
       "  <tbody>\n",
       "    <tr>\n",
       "      <th>0</th>\n",
       "      <td>10317.000001000</td>\n",
       "      <td>1000</td>\n",
       "      <td>12666.0</td>\n",
       "      <td>1000.0</td>\n",
       "      <td>48c83b76031b7580</td>\n",
       "      <td>MEDICATION_LIST</td>\n",
       "      <td>lexapro amitriptoline welbutrin</td>\n",
       "      <td>3.0</td>\n",
       "      <td>N06AB10</td>\n",
       "      <td>N</td>\n",
       "      <td>Nervous system</td>\n",
       "      <td>Escitalopram</td>\n",
       "      <td>False</td>\n",
       "    </tr>\n",
       "    <tr>\n",
       "      <th>1</th>\n",
       "      <td>10317.000001000</td>\n",
       "      <td>1000</td>\n",
       "      <td>12667.0</td>\n",
       "      <td>1000.0</td>\n",
       "      <td>48c83b76031b7580</td>\n",
       "      <td>MEDICATION_LIST</td>\n",
       "      <td>lexapro amitriptoline welbutrin</td>\n",
       "      <td>3.0</td>\n",
       "      <td>N06AA09</td>\n",
       "      <td>N</td>\n",
       "      <td>Nervous system</td>\n",
       "      <td>Amitriptyline</td>\n",
       "      <td>True</td>\n",
       "    </tr>\n",
       "  </tbody>\n",
       "</table>\n",
       "</div>"
      ],
      "text/plain": [
       "     sample_name_x  sample_id  Unnamed: 0  sample_name_y         survey_id question_shortname                         response  match_col_count drug_matches ATC1     Description           Name  \\\n",
       "0  10317.000001000       1000     12666.0         1000.0  48c83b76031b7580    MEDICATION_LIST  lexapro amitriptoline welbutrin              3.0      N06AB10    N  Nervous system   Escitalopram   \n",
       "1  10317.000001000       1000     12667.0         1000.0  48c83b76031b7580    MEDICATION_LIST  lexapro amitriptoline welbutrin              3.0      N06AA09    N  Nervous system  Amitriptyline   \n",
       "\n",
       "   Fecal  \n",
       "0  False  \n",
       "1   True  "
      ]
     },
     "execution_count": 28,
     "metadata": {},
     "output_type": "execute_result"
    }
   ],
   "source": [
    "merge_df2 = pd.merge(meta_agp_df[['sample_name', 'sample_id']], drug_clean_id_df, how='left', on='sample_id')\n",
    "merge_df2.shape\n",
    "merge_df2.head(2)"
   ]
  },
  {
   "cell_type": "code",
   "execution_count": 29,
   "metadata": {},
   "outputs": [
    {
     "data": {
      "text/html": [
       "<div>\n",
       "<style scoped>\n",
       "    .dataframe tbody tr th:only-of-type {\n",
       "        vertical-align: middle;\n",
       "    }\n",
       "\n",
       "    .dataframe tbody tr th {\n",
       "        vertical-align: top;\n",
       "    }\n",
       "\n",
       "    .dataframe thead th {\n",
       "        text-align: right;\n",
       "    }\n",
       "</style>\n",
       "<table border=\"1\" class=\"dataframe\">\n",
       "  <thead>\n",
       "    <tr style=\"text-align: right;\">\n",
       "      <th></th>\n",
       "      <th>sample_name_x</th>\n",
       "      <th>sample_id</th>\n",
       "      <th>Unnamed: 0</th>\n",
       "      <th>sample_name_y</th>\n",
       "      <th>survey_id</th>\n",
       "      <th>question_shortname</th>\n",
       "      <th>response</th>\n",
       "      <th>match_col_count</th>\n",
       "      <th>drug_matches</th>\n",
       "      <th>ATC1</th>\n",
       "      <th>Description</th>\n",
       "      <th>Name</th>\n",
       "      <th>Fecal</th>\n",
       "    </tr>\n",
       "  </thead>\n",
       "  <tbody>\n",
       "    <tr>\n",
       "      <th>0</th>\n",
       "      <td>10317.000001000</td>\n",
       "      <td>1000</td>\n",
       "      <td>12666.0</td>\n",
       "      <td>1000.0</td>\n",
       "      <td>48c83b76031b7580</td>\n",
       "      <td>MEDICATION_LIST</td>\n",
       "      <td>lexapro amitriptoline welbutrin</td>\n",
       "      <td>3.0</td>\n",
       "      <td>N06AB10</td>\n",
       "      <td>N</td>\n",
       "      <td>Nervous system</td>\n",
       "      <td>Escitalopram</td>\n",
       "      <td>False</td>\n",
       "    </tr>\n",
       "    <tr>\n",
       "      <th>1</th>\n",
       "      <td>10317.000001000</td>\n",
       "      <td>1000</td>\n",
       "      <td>12667.0</td>\n",
       "      <td>1000.0</td>\n",
       "      <td>48c83b76031b7580</td>\n",
       "      <td>MEDICATION_LIST</td>\n",
       "      <td>lexapro amitriptoline welbutrin</td>\n",
       "      <td>3.0</td>\n",
       "      <td>N06AA09</td>\n",
       "      <td>N</td>\n",
       "      <td>Nervous system</td>\n",
       "      <td>Amitriptyline</td>\n",
       "      <td>True</td>\n",
       "    </tr>\n",
       "  </tbody>\n",
       "</table>\n",
       "</div>"
      ],
      "text/plain": [
       "     sample_name_x  sample_id  Unnamed: 0  sample_name_y         survey_id question_shortname                         response  match_col_count drug_matches ATC1     Description           Name  \\\n",
       "0  10317.000001000       1000     12666.0         1000.0  48c83b76031b7580    MEDICATION_LIST  lexapro amitriptoline welbutrin              3.0      N06AB10    N  Nervous system   Escitalopram   \n",
       "1  10317.000001000       1000     12667.0         1000.0  48c83b76031b7580    MEDICATION_LIST  lexapro amitriptoline welbutrin              3.0      N06AA09    N  Nervous system  Amitriptyline   \n",
       "\n",
       "   Fecal  \n",
       "0  False  \n",
       "1   True  "
      ]
     },
     "execution_count": 29,
     "metadata": {},
     "output_type": "execute_result"
    }
   ],
   "source": [
    "merge_df3 = pd.merge(vio_df[['sample_name', 'sample_id']], drug_clean_id_df, how='left', on='sample_id')\n",
    "merge_df3.shape\n",
    "merge_df3.head(2)"
   ]
  },
  {
   "cell_type": "markdown",
   "metadata": {},
   "source": [
    "export to .csv"
   ]
  },
  {
   "cell_type": "code",
   "execution_count": 228,
   "metadata": {},
   "outputs": [],
   "source": [
    "meta_agp_df.to_csv(output_dir + '2.21.agp_only_meta.csv', index=False)"
   ]
  },
  {
   "cell_type": "code",
   "execution_count": 229,
   "metadata": {},
   "outputs": [],
   "source": [
    "vio_df.to_csv(output_dir + '2.21.vio_only.csv', index=False)"
   ]
  },
  {
   "cell_type": "markdown",
   "metadata": {},
   "source": [
    "export versions of drug data to .csv"
   ]
  },
  {
   "cell_type": "code",
   "execution_count": 230,
   "metadata": {},
   "outputs": [
    {
     "name": "stdout",
     "output_type": "stream",
     "text": [
      "(53271, 12)\n"
     ]
    }
   ],
   "source": [
    "drug_df = pd.read_csv('../drug_data/drugbank_drug_data.csv')\n",
    "drug_clean_id_df = drug_df_id_clean(drug_df)\n",
    "print(drug_clean_id_df.shape)"
   ]
  },
  {
   "cell_type": "code",
   "execution_count": 231,
   "metadata": {},
   "outputs": [
    {
     "data": {
      "text/html": [
       "<div>\n",
       "<style scoped>\n",
       "    .dataframe tbody tr th:only-of-type {\n",
       "        vertical-align: middle;\n",
       "    }\n",
       "\n",
       "    .dataframe tbody tr th {\n",
       "        vertical-align: top;\n",
       "    }\n",
       "\n",
       "    .dataframe thead th {\n",
       "        text-align: right;\n",
       "    }\n",
       "</style>\n",
       "<table border=\"1\" class=\"dataframe\">\n",
       "  <thead>\n",
       "    <tr style=\"text-align: right;\">\n",
       "      <th></th>\n",
       "      <th>sample_id</th>\n",
       "    </tr>\n",
       "  </thead>\n",
       "  <tbody>\n",
       "    <tr>\n",
       "      <th>0</th>\n",
       "      <td>72291</td>\n",
       "    </tr>\n",
       "    <tr>\n",
       "      <th>1</th>\n",
       "      <td>12914</td>\n",
       "    </tr>\n",
       "  </tbody>\n",
       "</table>\n",
       "</div>"
      ],
      "text/plain": [
       "   sample_id\n",
       "0      72291\n",
       "1      12914"
      ]
     },
     "execution_count": 231,
     "metadata": {},
     "output_type": "execute_result"
    }
   ],
   "source": [
    "drug_clean_id_df[['sample_id']].head(2)"
   ]
  },
  {
   "cell_type": "code",
   "execution_count": 232,
   "metadata": {},
   "outputs": [],
   "source": [
    "drug_clean_id_df.to_csv(output_dir + '2.21.drugbank_drug_data.csv', index=False)"
   ]
  },
  {
   "cell_type": "code",
   "execution_count": 233,
   "metadata": {},
   "outputs": [
    {
     "name": "stdout",
     "output_type": "stream",
     "text": [
      "(23491, 7)\n"
     ]
    }
   ],
   "source": [
    "drug_df = pd.read_csv('../drug_data/drug_data_dense.csv')\n",
    "drug_clean_id_df = drug_df_id_clean(drug_df)\n",
    "print(drug_clean_id_df.shape)"
   ]
  },
  {
   "cell_type": "code",
   "execution_count": 234,
   "metadata": {},
   "outputs": [
    {
     "data": {
      "text/html": [
       "<div>\n",
       "<style scoped>\n",
       "    .dataframe tbody tr th:only-of-type {\n",
       "        vertical-align: middle;\n",
       "    }\n",
       "\n",
       "    .dataframe tbody tr th {\n",
       "        vertical-align: top;\n",
       "    }\n",
       "\n",
       "    .dataframe thead th {\n",
       "        text-align: right;\n",
       "    }\n",
       "</style>\n",
       "<table border=\"1\" class=\"dataframe\">\n",
       "  <thead>\n",
       "    <tr style=\"text-align: right;\">\n",
       "      <th></th>\n",
       "      <th>sample_id</th>\n",
       "    </tr>\n",
       "  </thead>\n",
       "  <tbody>\n",
       "    <tr>\n",
       "      <th>0</th>\n",
       "      <td>72291</td>\n",
       "    </tr>\n",
       "    <tr>\n",
       "      <th>1</th>\n",
       "      <td>43062</td>\n",
       "    </tr>\n",
       "  </tbody>\n",
       "</table>\n",
       "</div>"
      ],
      "text/plain": [
       "   sample_id\n",
       "0      72291\n",
       "1      43062"
      ]
     },
     "execution_count": 234,
     "metadata": {},
     "output_type": "execute_result"
    }
   ],
   "source": [
    "drug_clean_id_df[['sample_id']].head(2)"
   ]
  },
  {
   "cell_type": "code",
   "execution_count": 235,
   "metadata": {},
   "outputs": [],
   "source": [
    "drug_clean_id_df.to_csv(output_dir + '2.21.drug_data_dense.csv', index=False)"
   ]
  },
  {
   "cell_type": "markdown",
   "metadata": {},
   "source": [
    "## biom table data join"
   ]
  },
  {
   "cell_type": "code",
   "execution_count": 30,
   "metadata": {},
   "outputs": [],
   "source": [
    "biom_df = pd.read_pickle('deblur_biom_wflow_output_data/2.21.rar1000.biom_data.pkl')"
   ]
  },
  {
   "cell_type": "code",
   "execution_count": 31,
   "metadata": {},
   "outputs": [
    {
     "name": "stdout",
     "output_type": "stream",
     "text": [
      "<class 'pandas.core.sparse.frame.SparseDataFrame'>\n"
     ]
    },
    {
     "data": {
      "text/plain": [
       "(18305, 111508)"
      ]
     },
     "execution_count": 31,
     "metadata": {},
     "output_type": "execute_result"
    }
   ],
   "source": [
    "print(type(biom_df))\n",
    "biom_df.shape"
   ]
  },
  {
   "cell_type": "code",
   "execution_count": 32,
   "metadata": {},
   "outputs": [],
   "source": [
    "#biom_df.head(3)"
   ]
  },
  {
   "cell_type": "code",
   "execution_count": 33,
   "metadata": {},
   "outputs": [
    {
     "name": "stderr",
     "output_type": "stream",
     "text": [
      "//anaconda/envs/qiime2-2018.11/lib/python3.5/site-packages/ipykernel_launcher.py:7: SettingWithCopyWarning: \n",
      "A value is trying to be set on a copy of a slice from a DataFrame.\n",
      "Try using .loc[row_indexer,col_indexer] = value instead\n",
      "\n",
      "See the caveats in the documentation: http://pandas.pydata.org/pandas-docs/stable/indexing.html#indexing-view-versus-copy\n",
      "  import sys\n"
     ]
    }
   ],
   "source": [
    "biom_df['sample_id'] = biom_df['sample_name'].apply(lambda x: x.split('.')[1]) \n",
    "\n",
    "biom_df['sample_id'] = pd.to_numeric(biom_df['sample_id'], errors='coerce', downcast='integer')\n",
    "\n",
    "biom_join_df = biom_df.dropna(subset=['sample_id'])\n",
    "\n",
    "biom_join_df['sample_id'] = biom_join_df['sample_id'].apply(lambda x: int(x))"
   ]
  },
  {
   "cell_type": "code",
   "execution_count": 34,
   "metadata": {},
   "outputs": [
    {
     "name": "stdout",
     "output_type": "stream",
     "text": [
      "(18273, 111509)\n"
     ]
    }
   ],
   "source": [
    "print(biom_join_df.shape)"
   ]
  },
  {
   "cell_type": "code",
   "execution_count": 35,
   "metadata": {},
   "outputs": [],
   "source": [
    "#biom_join_df.head()"
   ]
  },
  {
   "cell_type": "markdown",
   "metadata": {},
   "source": [
    "#### test merge between biom data and metadata where we do left join from metadata"
   ]
  },
  {
   "cell_type": "code",
   "execution_count": 36,
   "metadata": {},
   "outputs": [
    {
     "name": "stdout",
     "output_type": "stream",
     "text": [
      "(20731, 3)\n"
     ]
    },
    {
     "data": {
      "text/html": [
       "<div>\n",
       "<style scoped>\n",
       "    .dataframe tbody tr th:only-of-type {\n",
       "        vertical-align: middle;\n",
       "    }\n",
       "\n",
       "    .dataframe tbody tr th {\n",
       "        vertical-align: top;\n",
       "    }\n",
       "\n",
       "    .dataframe thead th {\n",
       "        text-align: right;\n",
       "    }\n",
       "</style>\n",
       "<table border=\"1\" class=\"dataframe\">\n",
       "  <thead>\n",
       "    <tr style=\"text-align: right;\">\n",
       "      <th></th>\n",
       "      <th>sample_name_x</th>\n",
       "      <th>sample_id</th>\n",
       "      <th>sample_name_y</th>\n",
       "    </tr>\n",
       "  </thead>\n",
       "  <tbody>\n",
       "    <tr>\n",
       "      <th>0</th>\n",
       "      <td>10317.000001000</td>\n",
       "      <td>1000</td>\n",
       "      <td>10317.000001000.60809</td>\n",
       "    </tr>\n",
       "    <tr>\n",
       "      <th>1</th>\n",
       "      <td>10317.000001001</td>\n",
       "      <td>1001</td>\n",
       "      <td>10317.000001001.59277</td>\n",
       "    </tr>\n",
       "  </tbody>\n",
       "</table>\n",
       "</div>"
      ],
      "text/plain": [
       "     sample_name_x  sample_id          sample_name_y\n",
       "0  10317.000001000       1000  10317.000001000.60809\n",
       "1  10317.000001001       1001  10317.000001001.59277"
      ]
     },
     "execution_count": 36,
     "metadata": {},
     "output_type": "execute_result"
    }
   ],
   "source": [
    "merge_df4 = pd.merge(meta_agp_df[['sample_name', 'sample_id']], \n",
    "                     biom_join_df[['sample_name', 'sample_id']], how='left', on='sample_id')\n",
    "print(merge_df4.shape)\n",
    "merge_df4.head(2)"
   ]
  },
  {
   "cell_type": "code",
   "execution_count": 37,
   "metadata": {},
   "outputs": [
    {
     "data": {
      "text/plain": [
       "sample_name_x       0\n",
       "sample_id           0\n",
       "sample_name_y    4613\n",
       "dtype: int64"
      ]
     },
     "execution_count": 37,
     "metadata": {},
     "output_type": "execute_result"
    }
   ],
   "source": [
    "merge_df4.isna().sum()"
   ]
  },
  {
   "cell_type": "markdown",
   "metadata": {},
   "source": [
    "any nulls above in sample_name_y are the number of missing sample_ids in biom OTU df from samples in the metadata, it is expected there are some since the biom df is not filtered on feces only"
   ]
  },
  {
   "cell_type": "code",
   "execution_count": 39,
   "metadata": {},
   "outputs": [
    {
     "name": "stdout",
     "output_type": "stream",
     "text": [
      "(16118, 3)\n"
     ]
    }
   ],
   "source": [
    "merge4_df = merge_df4.dropna()\n",
    "print(merge4_df.shape)"
   ]
  },
  {
   "cell_type": "markdown",
   "metadata": {},
   "source": [
    "we want to filter the biom dataframe on sample_ids only found in our cleaned up metadata df"
   ]
  },
  {
   "cell_type": "code",
   "execution_count": 44,
   "metadata": {},
   "outputs": [],
   "source": [
    "final_biom_df = biom_join_df[biom_join_df['sample_id'].isin(merge4_df['sample_id'])]"
   ]
  },
  {
   "cell_type": "code",
   "execution_count": 45,
   "metadata": {},
   "outputs": [
    {
     "name": "stdout",
     "output_type": "stream",
     "text": [
      "(16118, 111509)\n"
     ]
    }
   ],
   "source": [
    "print(final_biom_df.shape)"
   ]
  },
  {
   "cell_type": "code",
   "execution_count": 244,
   "metadata": {},
   "outputs": [],
   "source": [
    "#biom_join_df.head()"
   ]
  },
  {
   "cell_type": "markdown",
   "metadata": {},
   "source": [
    "#### looking good!"
   ]
  },
  {
   "cell_type": "markdown",
   "metadata": {},
   "source": [
    "change name of pkl file depending on date and rar sample level"
   ]
  },
  {
   "cell_type": "code",
   "execution_count": 46,
   "metadata": {},
   "outputs": [],
   "source": [
    "final_biom_df.to_pickle(output_dir + '2.21.rar1000_clean_biom.pkl')"
   ]
  },
  {
   "cell_type": "code",
   "execution_count": 47,
   "metadata": {},
   "outputs": [],
   "source": [
    "bdf = pd.read_pickle(output_dir + '2.21.rar1000_clean_biom.pkl')"
   ]
  },
  {
   "cell_type": "code",
   "execution_count": 48,
   "metadata": {},
   "outputs": [
    {
     "name": "stdout",
     "output_type": "stream",
     "text": [
      "(16118, 111509)\n"
     ]
    }
   ],
   "source": [
    "print(bdf.shape)"
   ]
  },
  {
   "cell_type": "code",
   "execution_count": 248,
   "metadata": {},
   "outputs": [],
   "source": [
    "#bdf.head(1)"
   ]
  },
  {
   "cell_type": "code",
   "execution_count": 249,
   "metadata": {},
   "outputs": [
    {
     "name": "stdout",
     "output_type": "stream",
     "text": [
      "(18273, 111509)\n"
     ]
    }
   ],
   "source": [
    "print(bdf.shape)"
   ]
  },
  {
   "cell_type": "markdown",
   "metadata": {},
   "source": [
    "**small sample to test alpha div**"
   ]
  },
  {
   "cell_type": "code",
   "execution_count": 250,
   "metadata": {},
   "outputs": [],
   "source": [
    "sample1 = bdf.head(5)"
   ]
  },
  {
   "cell_type": "code",
   "execution_count": 251,
   "metadata": {},
   "outputs": [],
   "source": [
    "sample1 = sample1.set_index('sample_id')"
   ]
  },
  {
   "cell_type": "code",
   "execution_count": 252,
   "metadata": {},
   "outputs": [],
   "source": [
    "del sample1['sample_name']"
   ]
  },
  {
   "cell_type": "code",
   "execution_count": 253,
   "metadata": {},
   "outputs": [
    {
     "data": {
      "text/plain": [
       "sample_id\n",
       "67572    604\n",
       "35170    585\n",
       "97270    616\n",
       "41721    705\n",
       "93557    643\n",
       "dtype: int64"
      ]
     },
     "execution_count": 253,
     "metadata": {},
     "output_type": "execute_result"
    }
   ],
   "source": [
    "112015 - sample1.isna().sum(axis=1)"
   ]
  },
  {
   "cell_type": "markdown",
   "metadata": {},
   "source": [
    "number of unique OTUs in these 5 samples. (Non null cols)"
   ]
  }
 ],
 "metadata": {
  "kernelspec": {
   "display_name": "qiim2-2018.11",
   "language": "python",
   "name": "qiim2-2018.11"
  },
  "language_info": {
   "codemirror_mode": {
    "name": "ipython",
    "version": 3
   },
   "file_extension": ".py",
   "mimetype": "text/x-python",
   "name": "python",
   "nbconvert_exporter": "python",
   "pygments_lexer": "ipython3",
   "version": "3.5.5"
  }
 },
 "nbformat": 4,
 "nbformat_minor": 2
}
